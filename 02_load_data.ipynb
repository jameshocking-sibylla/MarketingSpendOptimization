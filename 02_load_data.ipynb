{
 "cells": [
  {
   "cell_type": "markdown",
   "metadata": {
    "application/vnd.databricks.v1+cell": {
     "cellMetadata": {},
     "inputWidgets": {},
     "nuid": "d6167d35-267e-4991-bc1e-790bd1fa61b3",
     "showTitle": false,
     "title": ""
    }
   },
   "source": [
    "## Overview\n",
    "\n",
    "* Consume the delta file created in the previous step and modified dataa\n",
    "* Save data as bronze back to the lake"
   ]
  },
  {
   "cell_type": "markdown",
   "metadata": {
    "application/vnd.databricks.v1+cell": {
     "cellMetadata": {},
     "inputWidgets": {},
     "nuid": "4f6a91ad-0a98-45d9-a797-41f69212049d",
     "showTitle": false,
     "title": ""
    }
   },
   "source": [
    "## Import libraries"
   ]
  },
  {
   "cell_type": "code",
   "execution_count": 0,
   "metadata": {
    "application/vnd.databricks.v1+cell": {
     "cellMetadata": {},
     "inputWidgets": {},
     "nuid": "55541464-4cfd-4d4d-8a64-a88909c2a029",
     "showTitle": false,
     "title": ""
    }
   },
   "outputs": [
    {
     "output_type": "display_data",
     "data": {
      "text/html": [
       "<style scoped>\n",
       "  .ansiout {\n",
       "    display: block;\n",
       "    unicode-bidi: embed;\n",
       "    white-space: pre-wrap;\n",
       "    word-wrap: break-word;\n",
       "    word-break: break-all;\n",
       "    font-family: \"Menlo\", \"Monaco\", \"Consolas\", \"Ubuntu Mono\", \"Source Code Pro\", monospace;\n",
       "    font-size: 13px;\n",
       "    color: #555;\n",
       "    margin-left: 4px;\n",
       "    line-height: 19px;\n",
       "  }\n",
       "</style>\n",
       "<div class=\"ansiout\"></div>"
      ]
     },
     "metadata": {
      "application/vnd.databricks.v1+output": {
       "addedWidgets": {},
       "arguments": {},
       "data": "<div class=\"ansiout\"></div>",
       "datasetInfos": [],
       "metadata": {},
       "removedWidgets": [],
       "type": "html"
      }
     },
     "output_type": "display_data"
    }
   ],
   "source": [
    "from pyspark.sql.functions import col, to_timestamp\n",
    "from pyspark.sql.types import *\n",
    "import time"
   ]
  },
  {
   "cell_type": "code",
   "execution_count": 0,
   "metadata": {
    "application/vnd.databricks.v1+cell": {
     "cellMetadata": {},
     "inputWidgets": {},
     "nuid": "b1b6a899-32a4-493c-9fa7-12a47b335bb5",
     "showTitle": false,
     "title": ""
    }
   },
   "outputs": [
    {
     "output_type": "display_data",
     "data": {
      "text/html": [
       "<style scoped>\n",
       "  .ansiout {\n",
       "    display: block;\n",
       "    unicode-bidi: embed;\n",
       "    white-space: pre-wrap;\n",
       "    word-wrap: break-word;\n",
       "    word-break: break-all;\n",
       "    font-family: \"Menlo\", \"Monaco\", \"Consolas\", \"Ubuntu Mono\", \"Source Code Pro\", monospace;\n",
       "    font-size: 13px;\n",
       "    color: #555;\n",
       "    margin-left: 4px;\n",
       "    line-height: 19px;\n",
       "  }\n",
       "</style>\n",
       "<div class=\"ansiout\"></div>"
      ]
     },
     "metadata": {
      "application/vnd.databricks.v1+output": {
       "addedWidgets": {},
       "arguments": {},
       "data": "<div class=\"ansiout\"></div>",
       "datasetInfos": [],
       "metadata": {},
       "removedWidgets": [],
       "type": "html"
      }
     },
     "output_type": "display_data"
    }
   ],
   "source": [
    "database_name = \"MultiTouch\"\n",
    "raw_data_path = \"/mnt/da-global-raw-box/POC/MultiTouch\"\n",
    "bronze_tbl_path = \"/mnt/da-global-raw-box/POC/MultiTouchBronze\""
   ]
  },
  {
   "cell_type": "markdown",
   "metadata": {
    "application/vnd.databricks.v1+cell": {
     "cellMetadata": {},
     "inputWidgets": {},
     "nuid": "97808a3b-057d-40e1-8659-3ef97f4cddd4",
     "showTitle": false,
     "title": ""
    }
   },
   "source": [
    "## Load Data \n",
    "\n",
    "  1. Read the synthetic data into a dataframe \n",
    "  3. Add two new columns to the dataframe"
   ]
  },
  {
   "cell_type": "code",
   "execution_count": 0,
   "metadata": {
    "application/vnd.databricks.v1+cell": {
     "cellMetadata": {},
     "inputWidgets": {},
     "nuid": "77e4ae2e-a7bc-4069-8839-4a556f902464",
     "showTitle": false,
     "title": ""
    }
   },
   "outputs": [
    {
     "output_type": "display_data",
     "data": {
      "text/html": [
       "<style scoped>\n",
       "  .ansiout {\n",
       "    display: block;\n",
       "    unicode-bidi: embed;\n",
       "    white-space: pre-wrap;\n",
       "    word-wrap: break-word;\n",
       "    word-break: break-all;\n",
       "    font-family: \"Menlo\", \"Monaco\", \"Consolas\", \"Ubuntu Mono\", \"Source Code Pro\", monospace;\n",
       "    font-size: 13px;\n",
       "    color: #555;\n",
       "    margin-left: 4px;\n",
       "    line-height: 19px;\n",
       "  }\n",
       "</style>\n",
       "<div class=\"ansiout\"></div>"
      ]
     },
     "metadata": {
      "application/vnd.databricks.v1+output": {
       "addedWidgets": {},
       "arguments": {},
       "data": "<div class=\"ansiout\"></div>",
       "datasetInfos": [
        {
         "name": "raw_data_df",
         "schema": {
          "fields": [
           {
            "metadata": {},
            "name": "uid",
            "nullable": true,
            "type": "string"
           },
           {
            "metadata": {},
            "name": "time",
            "nullable": true,
            "type": "string"
           },
           {
            "metadata": {},
            "name": "interaction",
            "nullable": true,
            "type": "string"
           },
           {
            "metadata": {},
            "name": "channel",
            "nullable": true,
            "type": "string"
           },
           {
            "metadata": {},
            "name": "conversion",
            "nullable": true,
            "type": "long"
           }
          ],
          "type": "struct"
         },
         "tableIdentifier": "dbfs:/mnt/da-global-raw-box/POC/MultiTouch",
         "typeStr": "pyspark.sql.dataframe.DataFrame"
        }
       ],
       "metadata": {},
       "removedWidgets": [],
       "type": "html"
      }
     },
     "output_type": "display_data"
    }
   ],
   "source": [
    "raw_data_df = spark.read \\\n",
    "            .format(\"delta\") \\\n",
    "            .load(raw_data_path) "
   ]
  },
  {
   "cell_type": "code",
   "execution_count": 0,
   "metadata": {
    "application/vnd.databricks.v1+cell": {
     "cellMetadata": {},
     "inputWidgets": {},
     "nuid": "0f11dd28-1819-438f-9a0d-3a4835f96f53",
     "showTitle": false,
     "title": ""
    }
   },
   "outputs": [
    {
     "output_type": "display_data",
     "data": {
      "text/html": [
       "<style scoped>\n",
       "  .ansiout {\n",
       "    display: block;\n",
       "    unicode-bidi: embed;\n",
       "    white-space: pre-wrap;\n",
       "    word-wrap: break-word;\n",
       "    word-break: break-all;\n",
       "    font-family: \"Menlo\", \"Monaco\", \"Consolas\", \"Ubuntu Mono\", \"Source Code Pro\", monospace;\n",
       "    font-size: 13px;\n",
       "    color: #555;\n",
       "    margin-left: 4px;\n",
       "    line-height: 19px;\n",
       "  }\n",
       "</style>\n",
       "<div class=\"ansiout\"></div>"
      ]
     },
     "metadata": {
      "application/vnd.databricks.v1+output": {
       "addedWidgets": {},
       "arguments": {},
       "data": "<div class=\"ansiout\"></div>",
       "datasetInfos": [
        {
         "name": "raw_data_df",
         "schema": {
          "fields": [
           {
            "metadata": {},
            "name": "uid",
            "nullable": true,
            "type": "string"
           },
           {
            "metadata": {},
            "name": "time",
            "nullable": true,
            "type": "timestamp"
           },
           {
            "metadata": {},
            "name": "interaction",
            "nullable": true,
            "type": "string"
           },
           {
            "metadata": {},
            "name": "channel",
            "nullable": true,
            "type": "string"
           },
           {
            "metadata": {},
            "name": "conversion",
            "nullable": true,
            "type": "integer"
           }
          ],
          "type": "struct"
         },
         "tableIdentifier": null,
         "typeStr": "pyspark.sql.dataframe.DataFrame"
        }
       ],
       "metadata": {},
       "removedWidgets": [],
       "type": "html"
      }
     },
     "output_type": "display_data"
    }
   ],
   "source": [
    "raw_data_df = raw_data_df \\\n",
    "              .withColumn(\"time\", to_timestamp(col(\"time\"),\"yyyy-MM-dd HH:mm:ss\")) \\\n",
    "              .withColumn(\"conversion\", col(\"conversion\").cast(\"int\"))"
   ]
  },
  {
   "cell_type": "markdown",
   "metadata": {
    "application/vnd.databricks.v1+cell": {
     "cellMetadata": {},
     "inputWidgets": {},
     "nuid": "b70f9ea6-10ea-47fd-8b6e-5f236d7f2bb5",
     "showTitle": false,
     "title": ""
    }
   },
   "source": [
    "## Write Data to Delta Lake\n",
    "  "
   ]
  },
  {
   "cell_type": "code",
   "execution_count": 0,
   "metadata": {
    "application/vnd.databricks.v1+cell": {
     "cellMetadata": {},
     "inputWidgets": {},
     "nuid": "852c087e-d9d6-4ab3-b424-7ff7cc59e106",
     "showTitle": false,
     "title": ""
    }
   },
   "outputs": [
    {
     "output_type": "display_data",
     "data": {
      "text/html": [
       "<style scoped>\n",
       "  .ansiout {\n",
       "    display: block;\n",
       "    unicode-bidi: embed;\n",
       "    white-space: pre-wrap;\n",
       "    word-wrap: break-word;\n",
       "    word-break: break-all;\n",
       "    font-family: \"Menlo\", \"Monaco\", \"Consolas\", \"Ubuntu Mono\", \"Source Code Pro\", monospace;\n",
       "    font-size: 13px;\n",
       "    color: #555;\n",
       "    margin-left: 4px;\n",
       "    line-height: 19px;\n",
       "  }\n",
       "</style>\n",
       "<div class=\"ansiout\"></div>"
      ]
     },
     "metadata": {
      "application/vnd.databricks.v1+output": {
       "addedWidgets": {},
       "arguments": {},
       "data": "<div class=\"ansiout\"></div>",
       "datasetInfos": [],
       "metadata": {},
       "removedWidgets": [],
       "type": "html"
      }
     },
     "output_type": "display_data"
    }
   ],
   "source": [
    "raw_data_df \\\n",
    "  .write \\\n",
    "  .format(\"delta\") \\\n",
    "  .save(bronze_tbl_path)"
   ]
  },
  {
   "cell_type": "markdown",
   "metadata": {
    "application/vnd.databricks.v1+cell": {
     "cellMetadata": {},
     "inputWidgets": {},
     "nuid": "7cfacb31-4654-4d4e-abb1-feaeab087bb1",
     "showTitle": false,
     "title": ""
    }
   },
   "source": [
    "## Create Database\n",
    "\n",
    "* This will simplify data access in other steps"
   ]
  },
  {
   "cell_type": "code",
   "execution_count": 0,
   "metadata": {
    "application/vnd.databricks.v1+cell": {
     "cellMetadata": {},
     "inputWidgets": {},
     "nuid": "e72b3070-c0ee-4e1e-908c-fd8ad16fad3d",
     "showTitle": false,
     "title": ""
    }
   },
   "outputs": [
    {
     "output_type": "display_data",
     "data": {
      "text/html": [
       "<style scoped>\n",
       "  .ansiout {\n",
       "    display: block;\n",
       "    unicode-bidi: embed;\n",
       "    white-space: pre-wrap;\n",
       "    word-wrap: break-word;\n",
       "    word-break: break-all;\n",
       "    font-family: \"Menlo\", \"Monaco\", \"Consolas\", \"Ubuntu Mono\", \"Source Code Pro\", monospace;\n",
       "    font-size: 13px;\n",
       "    color: #555;\n",
       "    margin-left: 4px;\n",
       "    line-height: 19px;\n",
       "  }\n",
       "</style>\n",
       "<div class=\"ansiout\"></div>"
      ]
     },
     "metadata": {
      "application/vnd.databricks.v1+output": {
       "addedWidgets": {},
       "arguments": {},
       "data": "<div class=\"ansiout\"></div>",
       "datasetInfos": [
        {
         "name": "_",
         "schema": {
          "fields": [],
          "type": "struct"
         },
         "tableIdentifier": null,
         "typeStr": "pyspark.sql.dataframe.DataFrame"
        }
       ],
       "metadata": {},
       "removedWidgets": [],
       "type": "html"
      }
     },
     "output_type": "display_data"
    }
   ],
   "source": [
    "# Delete the old database and tables if needed\n",
    "_ = spark.sql('DROP DATABASE IF EXISTS {} CASCADE'.format(database_name))\n",
    "\n",
    "# Create database to house tables\n",
    "_ = spark.sql('CREATE DATABASE {}'.format(database_name))"
   ]
  },
  {
   "cell_type": "markdown",
   "metadata": {
    "application/vnd.databricks.v1+cell": {
     "cellMetadata": {},
     "inputWidgets": {},
     "nuid": "fdbd2190-1fa2-4a2f-8618-4eee6eacb2fa",
     "showTitle": false,
     "title": ""
    }
   },
   "source": [
    "## Create bronze-level table in Delta format\n",
    "\n",
    "* The nomenclature of bronze, silver, and gold tables correspond with a commonly used data modeling approach known as multi-hop architecture. \n",
    "  * Additional information about this pattern can be found [here](https://databricks.com/blog/2019/08/14/productionizing-machine-learning-with-delta-lake.html)."
   ]
  },
  {
   "cell_type": "code",
   "execution_count": 0,
   "metadata": {
    "application/vnd.databricks.v1+cell": {
     "cellMetadata": {},
     "inputWidgets": {},
     "nuid": "5dc09468-55ca-430f-b491-d75f4c0e2ee4",
     "showTitle": false,
     "title": ""
    }
   },
   "outputs": [
    {
     "output_type": "display_data",
     "data": {
      "text/html": [
       "<style scoped>\n",
       "  .ansiout {\n",
       "    display: block;\n",
       "    unicode-bidi: embed;\n",
       "    white-space: pre-wrap;\n",
       "    word-wrap: break-word;\n",
       "    word-break: break-all;\n",
       "    font-family: \"Menlo\", \"Monaco\", \"Consolas\", \"Ubuntu Mono\", \"Source Code Pro\", monospace;\n",
       "    font-size: 13px;\n",
       "    color: #555;\n",
       "    margin-left: 4px;\n",
       "    line-height: 19px;\n",
       "  }\n",
       "</style>\n",
       "<div class=\"ansiout\"></div>"
      ]
     },
     "metadata": {
      "application/vnd.databricks.v1+output": {
       "addedWidgets": {},
       "arguments": {},
       "data": "<div class=\"ansiout\"></div>",
       "datasetInfos": [
        {
         "name": "_",
         "schema": {
          "fields": [],
          "type": "struct"
         },
         "tableIdentifier": null,
         "typeStr": "pyspark.sql.dataframe.DataFrame"
        }
       ],
       "metadata": {},
       "removedWidgets": [],
       "type": "html"
      }
     },
     "output_type": "display_data"
    }
   ],
   "source": [
    "# Create bronze table\n",
    "_ = spark.sql('''\n",
    "  CREATE TABLE `{}`.bronze\n",
    "  USING DELTA \n",
    "  LOCATION '{}'\n",
    "  '''.format(database_name,bronze_tbl_path))"
   ]
  },
  {
   "cell_type": "markdown",
   "metadata": {
    "application/vnd.databricks.v1+cell": {
     "cellMetadata": {},
     "inputWidgets": {},
     "nuid": "015d396f-6811-47e6-b7ca-bb22fc596cdb",
     "showTitle": false,
     "title": ""
    }
   },
   "source": [
    "## View the bronze table\n"
   ]
  },
  {
   "cell_type": "code",
   "execution_count": 0,
   "metadata": {
    "application/vnd.databricks.v1+cell": {
     "cellMetadata": {},
     "inputWidgets": {},
     "nuid": "8e16578e-e54f-4bf0-81dd-1e0c6ba2894f",
     "showTitle": false,
     "title": ""
    }
   },
   "outputs": [
    {
     "output_type": "display_data",
     "data": {
      "text/html": [
       "<style scoped>\n",
       "  .table-result-container {\n",
       "    max-height: 300px;\n",
       "    overflow: auto;\n",
       "  }\n",
       "  table, th, td {\n",
       "    border: 1px solid black;\n",
       "    border-collapse: collapse;\n",
       "  }\n",
       "  th, td {\n",
       "    padding: 5px;\n",
       "  }\n",
       "  th {\n",
       "    text-align: left;\n",
       "  }\n",
       "</style><div class='table-result-container'><table class='table-result'><thead style='background-color: white'><tr><th>uid</th><th>time</th><th>interaction</th><th>channel</th><th>conversion</th></tr></thead><tbody><tr><td>177ce51f7abf4f64a2066af7bde04f56</td><td>2020-06-07T22:07:01.000+0000</td><td>impression</td><td>Affiliates</td><td>0</td></tr><tr><td>bf59afcf0b7b4a65b53ae99fecf57e92</td><td>2020-05-28T08:53:15.000+0000</td><td>impression</td><td>Affiliates</td><td>0</td></tr><tr><td>bf59afcf0b7b4a65b53ae99fecf57e92</td><td>2020-06-08T04:51:37.000+0000</td><td>impression</td><td>Email</td><td>0</td></tr><tr><td>96fc92cc66a84997ab682afde2c667e8</td><td>2020-06-01T08:53:39.000+0000</td><td>impression</td><td>Google Display Network</td><td>0</td></tr><tr><td>96fc92cc66a84997ab682afde2c667e8</td><td>2020-06-05T10:21:48.000+0000</td><td>impression</td><td>Affiliates</td><td>0</td></tr><tr><td>bd0b9e0e622b4d03858cf2c69304b5cf</td><td>2020-05-23T00:25:59.000+0000</td><td>impression</td><td>Social Network</td><td>0</td></tr><tr><td>bd0b9e0e622b4d03858cf2c69304b5cf</td><td>2020-05-24T09:40:38.000+0000</td><td>impression</td><td>Google Display Network</td><td>0</td></tr><tr><td>bd0b9e0e622b4d03858cf2c69304b5cf</td><td>2020-05-24T10:40:54.000+0000</td><td>impression</td><td>Affiliates</td><td>0</td></tr><tr><td>bd0b9e0e622b4d03858cf2c69304b5cf</td><td>2020-05-30T16:55:50.000+0000</td><td>impression</td><td>Search Engine Marketing</td><td>0</td></tr><tr><td>4d6bfa53b9294347a69443f9f4bf5476</td><td>2020-05-30T15:36:07.000+0000</td><td>impression</td><td>Social Network</td><td>0</td></tr><tr><td>4d6bfa53b9294347a69443f9f4bf5476</td><td>2020-06-08T13:21:29.000+0000</td><td>impression</td><td>Affiliates</td><td>0</td></tr><tr><td>4d6bfa53b9294347a69443f9f4bf5476</td><td>2020-06-09T19:15:50.000+0000</td><td>impression</td><td>Social Network</td><td>0</td></tr><tr><td>4d6bfa53b9294347a69443f9f4bf5476</td><td>2020-06-10T04:18:25.000+0000</td><td>impression</td><td>Affiliates</td><td>0</td></tr><tr><td>4d6bfa53b9294347a69443f9f4bf5476</td><td>2020-06-10T04:30:09.000+0000</td><td>impression</td><td>Search Engine Marketing</td><td>0</td></tr><tr><td>4d6bfa53b9294347a69443f9f4bf5476</td><td>2020-06-10T04:45:50.000+0000</td><td>impression</td><td>Social Network</td><td>0</td></tr><tr><td>4d6bfa53b9294347a69443f9f4bf5476</td><td>2020-06-10T04:46:27.000+0000</td><td>impression</td><td>Search Engine Marketing</td><td>0</td></tr><tr><td>4d6bfa53b9294347a69443f9f4bf5476</td><td>2020-06-10T04:47:51.000+0000</td><td>impression</td><td>Affiliates</td><td>0</td></tr><tr><td>2df7a46d7d6d47b28b565fe19d9561ac</td><td>2020-06-09T07:59:33.000+0000</td><td>impression</td><td>Social Network</td><td>0</td></tr><tr><td>2df7a46d7d6d47b28b565fe19d9561ac</td><td>2020-06-09T18:37:31.000+0000</td><td>impression</td><td>Affiliates</td><td>0</td></tr><tr><td>2df7a46d7d6d47b28b565fe19d9561ac</td><td>2020-06-10T01:24:33.000+0000</td><td>impression</td><td>Social Network</td><td>0</td></tr><tr><td>2df7a46d7d6d47b28b565fe19d9561ac</td><td>2020-06-10T03:57:07.000+0000</td><td>impression</td><td>Social Network</td><td>0</td></tr><tr><td>2df7a46d7d6d47b28b565fe19d9561ac</td><td>2020-06-10T04:47:47.000+0000</td><td>impression</td><td>Google Display Network</td><td>0</td></tr><tr><td>2df7a46d7d6d47b28b565fe19d9561ac</td><td>2020-06-10T04:48:36.000+0000</td><td>impression</td><td>Search Engine Marketing</td><td>0</td></tr><tr><td>2df7a46d7d6d47b28b565fe19d9561ac</td><td>2020-06-10T04:49:40.000+0000</td><td>impression</td><td>Social Network</td><td>0</td></tr><tr><td>2df7a46d7d6d47b28b565fe19d9561ac</td><td>2020-06-10T04:49:50.000+0000</td><td>impression</td><td>Affiliates</td><td>0</td></tr><tr><td>3845b7b898a54b73ae0e751be62299eb</td><td>2020-06-03T09:36:39.000+0000</td><td>conversion</td><td>Affiliates</td><td>1</td></tr><tr><td>b6892615a268490388cb864f983f9ad4</td><td>2020-05-21T09:24:23.000+0000</td><td>impression</td><td>Social Network</td><td>0</td></tr><tr><td>b6892615a268490388cb864f983f9ad4</td><td>2020-05-24T01:04:28.000+0000</td><td>impression</td><td>Search Engine Marketing</td><td>0</td></tr><tr><td>b6892615a268490388cb864f983f9ad4</td><td>2020-05-29T21:54:22.000+0000</td><td>impression</td><td>Search Engine Marketing</td><td>0</td></tr><tr><td>b6892615a268490388cb864f983f9ad4</td><td>2020-05-30T10:04:46.000+0000</td><td>impression</td><td>Search Engine Marketing</td><td>0</td></tr><tr><td>b6892615a268490388cb864f983f9ad4</td><td>2020-06-04T02:34:00.000+0000</td><td>impression</td><td>Search Engine Marketing</td><td>0</td></tr><tr><td>beced4ca9b4c4e29a0d9c96893f4bb7d</td><td>2020-05-22T10:22:31.000+0000</td><td>impression</td><td>Social Network</td><td>0</td></tr><tr><td>beced4ca9b4c4e29a0d9c96893f4bb7d</td><td>2020-06-06T21:09:28.000+0000</td><td>impression</td><td>Google Display Network</td><td>0</td></tr><tr><td>7e7740cc999346f991d0d062eb052170</td><td>2020-06-08T02:28:48.000+0000</td><td>impression</td><td>Search Engine Marketing</td><td>0</td></tr><tr><td>7e7740cc999346f991d0d062eb052170</td><td>2020-06-09T19:49:05.000+0000</td><td>impression</td><td>Affiliates</td><td>0</td></tr><tr><td>7e7740cc999346f991d0d062eb052170</td><td>2020-06-10T02:30:51.000+0000</td><td>impression</td><td>Social Network</td><td>0</td></tr><tr><td>7e7740cc999346f991d0d062eb052170</td><td>2020-06-10T04:32:12.000+0000</td><td>impression</td><td>Affiliates</td><td>0</td></tr><tr><td>7e7740cc999346f991d0d062eb052170</td><td>2020-06-10T04:45:59.000+0000</td><td>impression</td><td>Affiliates</td><td>0</td></tr><tr><td>7e7740cc999346f991d0d062eb052170</td><td>2020-06-10T04:47:21.000+0000</td><td>impression</td><td>Affiliates</td><td>0</td></tr><tr><td>7e7740cc999346f991d0d062eb052170</td><td>2020-06-10T04:47:27.000+0000</td><td>impression</td><td>Search Engine Marketing</td><td>0</td></tr><tr><td>7e7740cc999346f991d0d062eb052170</td><td>2020-06-10T04:48:27.000+0000</td><td>conversion</td><td>Affiliates</td><td>1</td></tr><tr><td>c90723e49b98464f9fb9af9be8adfdf6</td><td>2020-05-22T12:26:55.000+0000</td><td>impression</td><td>Social Network</td><td>0</td></tr><tr><td>c90723e49b98464f9fb9af9be8adfdf6</td><td>2020-06-05T21:45:43.000+0000</td><td>impression</td><td>Social Network</td><td>0</td></tr><tr><td>c90723e49b98464f9fb9af9be8adfdf6</td><td>2020-06-07T03:10:05.000+0000</td><td>impression</td><td>Google Display Network</td><td>0</td></tr><tr><td>c90723e49b98464f9fb9af9be8adfdf6</td><td>2020-06-09T00:48:41.000+0000</td><td>impression</td><td>Search Engine Marketing</td><td>0</td></tr><tr><td>d4499dd5ed67444586ae17b899815482</td><td>2020-05-18T20:19:44.000+0000</td><td>impression</td><td>Search Engine Marketing</td><td>0</td></tr><tr><td>d4499dd5ed67444586ae17b899815482</td><td>2020-05-31T02:31:20.000+0000</td><td>impression</td><td>Social Network</td><td>0</td></tr><tr><td>d4499dd5ed67444586ae17b899815482</td><td>2020-06-05T07:01:01.000+0000</td><td>impression</td><td>Affiliates</td><td>0</td></tr><tr><td>d4499dd5ed67444586ae17b899815482</td><td>2020-06-08T16:30:05.000+0000</td><td>impression</td><td>Email</td><td>0</td></tr><tr><td>d4499dd5ed67444586ae17b899815482</td><td>2020-06-09T10:24:32.000+0000</td><td>impression</td><td>Email</td><td>0</td></tr><tr><td>d4499dd5ed67444586ae17b899815482</td><td>2020-06-09T17:45:28.000+0000</td><td>impression</td><td>Google Display Network</td><td>0</td></tr><tr><td>d4499dd5ed67444586ae17b899815482</td><td>2020-06-09T22:39:03.000+0000</td><td>impression</td><td>Google Display Network</td><td>0</td></tr><tr><td>522996aeb02647cead839ed3b6cda4e3</td><td>2020-05-24T02:29:04.000+0000</td><td>impression</td><td>Affiliates</td><td>0</td></tr><tr><td>522996aeb02647cead839ed3b6cda4e3</td><td>2020-05-28T17:16:38.000+0000</td><td>impression</td><td>Affiliates</td><td>0</td></tr><tr><td>522996aeb02647cead839ed3b6cda4e3</td><td>2020-05-31T06:24:02.000+0000</td><td>impression</td><td>Search Engine Marketing</td><td>0</td></tr><tr><td>522996aeb02647cead839ed3b6cda4e3</td><td>2020-06-02T17:36:48.000+0000</td><td>impression</td><td>Social Network</td><td>0</td></tr><tr><td>522996aeb02647cead839ed3b6cda4e3</td><td>2020-06-03T10:23:13.000+0000</td><td>conversion</td><td>Affiliates</td><td>1</td></tr><tr><td>7d4bf42f620c4c898789ff9f54bf4aa1</td><td>2020-06-07T13:01:01.000+0000</td><td>impression</td><td>Affiliates</td><td>0</td></tr><tr><td>7d4bf42f620c4c898789ff9f54bf4aa1</td><td>2020-06-08T23:38:55.000+0000</td><td>impression</td><td>Search Engine Marketing</td><td>0</td></tr><tr><td>7d4bf42f620c4c898789ff9f54bf4aa1</td><td>2020-06-09T01:44:20.000+0000</td><td>impression</td><td>Search Engine Marketing</td><td>0</td></tr><tr><td>5d9dcf73a4b84d0c89939200d8fa86a1</td><td>2020-06-04T10:53:26.000+0000</td><td>impression</td><td>Affiliates</td><td>0</td></tr><tr><td>5d9dcf73a4b84d0c89939200d8fa86a1</td><td>2020-06-06T06:20:22.000+0000</td><td>impression</td><td>Search Engine Marketing</td><td>0</td></tr><tr><td>5d9dcf73a4b84d0c89939200d8fa86a1</td><td>2020-06-08T09:00:31.000+0000</td><td>impression</td><td>Email</td><td>0</td></tr><tr><td>5d9dcf73a4b84d0c89939200d8fa86a1</td><td>2020-06-09T06:51:40.000+0000</td><td>impression</td><td>Affiliates</td><td>0</td></tr><tr><td>5d9dcf73a4b84d0c89939200d8fa86a1</td><td>2020-06-09T14:10:49.000+0000</td><td>impression</td><td>Search Engine Marketing</td><td>0</td></tr><tr><td>5d9dcf73a4b84d0c89939200d8fa86a1</td><td>2020-06-09T20:47:33.000+0000</td><td>impression</td><td>Affiliates</td><td>0</td></tr><tr><td>5d9dcf73a4b84d0c89939200d8fa86a1</td><td>2020-06-09T22:54:44.000+0000</td><td>impression</td><td>Social Network</td><td>0</td></tr><tr><td>5d9dcf73a4b84d0c89939200d8fa86a1</td><td>2020-06-10T03:00:46.000+0000</td><td>impression</td><td>Search Engine Marketing</td><td>0</td></tr><tr><td>5d9dcf73a4b84d0c89939200d8fa86a1</td><td>2020-06-10T04:25:33.000+0000</td><td>impression</td><td>Social Network</td><td>0</td></tr><tr><td>72ace3bc66bb40cebd58a76dd3948095</td><td>2020-05-18T16:47:06.000+0000</td><td>impression</td><td>Search Engine Marketing</td><td>0</td></tr><tr><td>72ace3bc66bb40cebd58a76dd3948095</td><td>2020-05-25T04:07:16.000+0000</td><td>impression</td><td>Affiliates</td><td>0</td></tr><tr><td>72ace3bc66bb40cebd58a76dd3948095</td><td>2020-05-30T18:21:18.000+0000</td><td>impression</td><td>Search Engine Marketing</td><td>0</td></tr><tr><td>72ace3bc66bb40cebd58a76dd3948095</td><td>2020-06-02T04:31:55.000+0000</td><td>impression</td><td>Search Engine Marketing</td><td>0</td></tr><tr><td>72ace3bc66bb40cebd58a76dd3948095</td><td>2020-06-07T03:39:52.000+0000</td><td>impression</td><td>Social Network</td><td>0</td></tr><tr><td>72ace3bc66bb40cebd58a76dd3948095</td><td>2020-06-09T19:09:28.000+0000</td><td>impression</td><td>Search Engine Marketing</td><td>0</td></tr><tr><td>72ace3bc66bb40cebd58a76dd3948095</td><td>2020-06-09T22:35:11.000+0000</td><td>impression</td><td>Social Network</td><td>0</td></tr><tr><td>6b1aac89254741f5932635fcdb47fbed</td><td>2020-05-23T05:38:29.000+0000</td><td>impression</td><td>Search Engine Marketing</td><td>0</td></tr><tr><td>608ce6dac8f34267bc5150b050ca483c</td><td>2020-05-28T05:12:48.000+0000</td><td>impression</td><td>Social Network</td><td>0</td></tr><tr><td>608ce6dac8f34267bc5150b050ca483c</td><td>2020-06-09T12:36:44.000+0000</td><td>impression</td><td>Google Display Network</td><td>0</td></tr><tr><td>608ce6dac8f34267bc5150b050ca483c</td><td>2020-06-09T14:23:24.000+0000</td><td>impression</td><td>Search Engine Marketing</td><td>0</td></tr><tr><td>608ce6dac8f34267bc5150b050ca483c</td><td>2020-06-10T01:23:09.000+0000</td><td>impression</td><td>Google Display Network</td><td>0</td></tr><tr><td>608ce6dac8f34267bc5150b050ca483c</td><td>2020-06-10T01:27:30.000+0000</td><td>impression</td><td>Google Display Network</td><td>0</td></tr><tr><td>608ce6dac8f34267bc5150b050ca483c</td><td>2020-06-10T03:31:21.000+0000</td><td>impression</td><td>Search Engine Marketing</td><td>0</td></tr><tr><td>ea535a7826ec4f25861cdeed1dbce277</td><td>2020-05-19T09:24:56.000+0000</td><td>impression</td><td>Search Engine Marketing</td><td>0</td></tr><tr><td>ea535a7826ec4f25861cdeed1dbce277</td><td>2020-05-19T23:43:31.000+0000</td><td>impression</td><td>Search Engine Marketing</td><td>0</td></tr><tr><td>cb1b1323c1024c039207a136b4c97d9b</td><td>2020-05-24T23:59:09.000+0000</td><td>impression</td><td>Search Engine Marketing</td><td>0</td></tr><tr><td>cb1b1323c1024c039207a136b4c97d9b</td><td>2020-05-31T09:25:28.000+0000</td><td>impression</td><td>Search Engine Marketing</td><td>0</td></tr><tr><td>3bebcf223f3b4bdf87ea6cfa00e19ed6</td><td>2020-05-21T10:11:37.000+0000</td><td>impression</td><td>Affiliates</td><td>0</td></tr><tr><td>3bebcf223f3b4bdf87ea6cfa00e19ed6</td><td>2020-05-21T10:24:01.000+0000</td><td>impression</td><td>Social Network</td><td>0</td></tr><tr><td>3bebcf223f3b4bdf87ea6cfa00e19ed6</td><td>2020-05-24T22:16:35.000+0000</td><td>impression</td><td>Google Display Network</td><td>0</td></tr><tr><td>9588d610f3ae4a65bd25441f2ef136b3</td><td>2020-06-07T12:33:22.000+0000</td><td>impression</td><td>Affiliates</td><td>0</td></tr><tr><td>9588d610f3ae4a65bd25441f2ef136b3</td><td>2020-06-07T13:20:21.000+0000</td><td>impression</td><td>Affiliates</td><td>0</td></tr><tr><td>9588d610f3ae4a65bd25441f2ef136b3</td><td>2020-06-09T21:02:01.000+0000</td><td>impression</td><td>Google Display Network</td><td>0</td></tr><tr><td>b4a481f0a4d14ff787c28d0c8c673417</td><td>2020-06-06T01:10:58.000+0000</td><td>impression</td><td>Search Engine Marketing</td><td>0</td></tr><tr><td>b4a481f0a4d14ff787c28d0c8c673417</td><td>2020-06-07T01:19:44.000+0000</td><td>impression</td><td>Search Engine Marketing</td><td>0</td></tr><tr><td>b4a481f0a4d14ff787c28d0c8c673417</td><td>2020-06-09T20:36:14.000+0000</td><td>impression</td><td>Social Network</td><td>0</td></tr><tr><td>b4a481f0a4d14ff787c28d0c8c673417</td><td>2020-06-10T04:04:49.000+0000</td><td>impression</td><td>Google Display Network</td><td>0</td></tr><tr><td>b4a481f0a4d14ff787c28d0c8c673417</td><td>2020-06-10T04:40:28.000+0000</td><td>impression</td><td>Affiliates</td><td>0</td></tr><tr><td>b4a481f0a4d14ff787c28d0c8c673417</td><td>2020-06-10T04:43:25.000+0000</td><td>impression</td><td>Social Network</td><td>0</td></tr><tr><td>b4a481f0a4d14ff787c28d0c8c673417</td><td>2020-06-10T04:48:51.000+0000</td><td>impression</td><td>Social Network</td><td>0</td></tr><tr><td>b4a481f0a4d14ff787c28d0c8c673417</td><td>2020-06-10T04:49:37.000+0000</td><td>impression</td><td>Social Network</td><td>0</td></tr><tr><td>3fd8e2d2df914f3699bd8d5c0039bcec</td><td>2020-05-28T11:14:23.000+0000</td><td>impression</td><td>Email</td><td>0</td></tr><tr><td>3fd8e2d2df914f3699bd8d5c0039bcec</td><td>2020-06-03T12:53:37.000+0000</td><td>impression</td><td>Affiliates</td><td>0</td></tr><tr><td>3fd8e2d2df914f3699bd8d5c0039bcec</td><td>2020-06-03T21:47:05.000+0000</td><td>impression</td><td>Google Display Network</td><td>0</td></tr><tr><td>3fd8e2d2df914f3699bd8d5c0039bcec</td><td>2020-06-04T21:43:22.000+0000</td><td>impression</td><td>Search Engine Marketing</td><td>0</td></tr><tr><td>3fd8e2d2df914f3699bd8d5c0039bcec</td><td>2020-06-05T12:15:00.000+0000</td><td>impression</td><td>Search Engine Marketing</td><td>0</td></tr><tr><td>3fd8e2d2df914f3699bd8d5c0039bcec</td><td>2020-06-08T07:23:52.000+0000</td><td>impression</td><td>Search Engine Marketing</td><td>0</td></tr><tr><td>3fd8e2d2df914f3699bd8d5c0039bcec</td><td>2020-06-08T21:05:12.000+0000</td><td>impression</td><td>Google Display Network</td><td>0</td></tr><tr><td>3fd8e2d2df914f3699bd8d5c0039bcec</td><td>2020-06-09T01:20:52.000+0000</td><td>impression</td><td>Email</td><td>0</td></tr><tr><td>3fd8e2d2df914f3699bd8d5c0039bcec</td><td>2020-06-09T04:43:14.000+0000</td><td>impression</td><td>Search Engine Marketing</td><td>0</td></tr><tr><td>36dde8d145af4e62a82bb33f8057f850</td><td>2020-05-20T23:59:06.000+0000</td><td>impression</td><td>Search Engine Marketing</td><td>0</td></tr><tr><td>36dde8d145af4e62a82bb33f8057f850</td><td>2020-05-28T18:06:52.000+0000</td><td>impression</td><td>Search Engine Marketing</td><td>0</td></tr><tr><td>36dde8d145af4e62a82bb33f8057f850</td><td>2020-05-31T22:04:28.000+0000</td><td>impression</td><td>Social Network</td><td>0</td></tr><tr><td>36dde8d145af4e62a82bb33f8057f850</td><td>2020-06-02T11:14:56.000+0000</td><td>impression</td><td>Search Engine Marketing</td><td>0</td></tr><tr><td>36dde8d145af4e62a82bb33f8057f850</td><td>2020-06-07T21:30:04.000+0000</td><td>impression</td><td>Google Display Network</td><td>0</td></tr><tr><td>36dde8d145af4e62a82bb33f8057f850</td><td>2020-06-08T03:42:57.000+0000</td><td>impression</td><td>Affiliates</td><td>0</td></tr><tr><td>ccc2d5bfcbd74e6d8f380495ac3d5c5d</td><td>2020-05-21T10:19:41.000+0000</td><td>impression</td><td>Social Network</td><td>0</td></tr><tr><td>ccc2d5bfcbd74e6d8f380495ac3d5c5d</td><td>2020-06-02T12:01:49.000+0000</td><td>impression</td><td>Search Engine Marketing</td><td>0</td></tr><tr><td>ccc2d5bfcbd74e6d8f380495ac3d5c5d</td><td>2020-06-06T01:50:33.000+0000</td><td>impression</td><td>Social Network</td><td>0</td></tr><tr><td>fa154cdb17db4132b032823fe22999fd</td><td>2020-05-21T11:30:56.000+0000</td><td>impression</td><td>Search Engine Marketing</td><td>0</td></tr><tr><td>fa154cdb17db4132b032823fe22999fd</td><td>2020-06-02T09:58:23.000+0000</td><td>impression</td><td>Email</td><td>0</td></tr><tr><td>fa154cdb17db4132b032823fe22999fd</td><td>2020-06-06T20:35:46.000+0000</td><td>impression</td><td>Affiliates</td><td>0</td></tr><tr><td>fa154cdb17db4132b032823fe22999fd</td><td>2020-06-07T04:11:12.000+0000</td><td>impression</td><td>Search Engine Marketing</td><td>0</td></tr><tr><td>fa154cdb17db4132b032823fe22999fd</td><td>2020-06-09T14:48:05.000+0000</td><td>impression</td><td>Search Engine Marketing</td><td>0</td></tr><tr><td>fa154cdb17db4132b032823fe22999fd</td><td>2020-06-09T20:09:18.000+0000</td><td>impression</td><td>Affiliates</td><td>0</td></tr><tr><td>3279f1d894aa4d979d35bb7d06f6765b</td><td>2020-05-30T03:35:40.000+0000</td><td>impression</td><td>Social Network</td><td>0</td></tr><tr><td>3279f1d894aa4d979d35bb7d06f6765b</td><td>2020-06-03T13:37:29.000+0000</td><td>impression</td><td>Search Engine Marketing</td><td>0</td></tr><tr><td>552c16d87ff14ec78199d21bcf12d8c3</td><td>2020-06-10T00:22:47.000+0000</td><td>impression</td><td>Google Display Network</td><td>0</td></tr><tr><td>552c16d87ff14ec78199d21bcf12d8c3</td><td>2020-06-10T00:25:51.000+0000</td><td>conversion</td><td>Search Engine Marketing</td><td>1</td></tr><tr><td>4229d570662f4702853c12711d5bab83</td><td>2020-05-17T17:17:10.000+0000</td><td>impression</td><td>Search Engine Marketing</td><td>0</td></tr><tr><td>cc3acc0fa8a4476e8ebadb42f6bff214</td><td>2020-05-18T16:37:14.000+0000</td><td>impression</td><td>Google Display Network</td><td>0</td></tr><tr><td>cc3acc0fa8a4476e8ebadb42f6bff214</td><td>2020-05-23T13:28:19.000+0000</td><td>impression</td><td>Affiliates</td><td>0</td></tr><tr><td>cc3acc0fa8a4476e8ebadb42f6bff214</td><td>2020-05-30T15:01:28.000+0000</td><td>impression</td><td>Google Display Network</td><td>0</td></tr><tr><td>cc3acc0fa8a4476e8ebadb42f6bff214</td><td>2020-06-06T12:02:29.000+0000</td><td>impression</td><td>Affiliates</td><td>0</td></tr><tr><td>cc3acc0fa8a4476e8ebadb42f6bff214</td><td>2020-06-07T05:33:56.000+0000</td><td>impression</td><td>Social Network</td><td>0</td></tr><tr><td>cc3acc0fa8a4476e8ebadb42f6bff214</td><td>2020-06-08T21:58:41.000+0000</td><td>impression</td><td>Search Engine Marketing</td><td>0</td></tr><tr><td>cc3acc0fa8a4476e8ebadb42f6bff214</td><td>2020-06-09T08:24:42.000+0000</td><td>impression</td><td>Social Network</td><td>0</td></tr><tr><td>cc3acc0fa8a4476e8ebadb42f6bff214</td><td>2020-06-10T01:11:01.000+0000</td><td>impression</td><td>Affiliates</td><td>0</td></tr><tr><td>3848b1991e324f90bd4418a6323d0d48</td><td>2020-06-04T21:25:42.000+0000</td><td>impression</td><td>Search Engine Marketing</td><td>0</td></tr><tr><td>3848b1991e324f90bd4418a6323d0d48</td><td>2020-06-07T23:01:02.000+0000</td><td>impression</td><td>Affiliates</td><td>0</td></tr><tr><td>3848b1991e324f90bd4418a6323d0d48</td><td>2020-06-08T21:28:52.000+0000</td><td>impression</td><td>Google Display Network</td><td>0</td></tr><tr><td>3848b1991e324f90bd4418a6323d0d48</td><td>2020-06-09T19:07:11.000+0000</td><td>impression</td><td>Affiliates</td><td>0</td></tr><tr><td>06ac43ce1a3c4f22b65025e3b4131aa0</td><td>2020-06-07T01:38:12.000+0000</td><td>impression</td><td>Affiliates</td><td>0</td></tr><tr><td>06ac43ce1a3c4f22b65025e3b4131aa0</td><td>2020-06-08T22:18:07.000+0000</td><td>impression</td><td>Affiliates</td><td>0</td></tr><tr><td>06ac43ce1a3c4f22b65025e3b4131aa0</td><td>2020-06-09T06:08:41.000+0000</td><td>impression</td><td>Search Engine Marketing</td><td>0</td></tr><tr><td>06ac43ce1a3c4f22b65025e3b4131aa0</td><td>2020-06-10T02:49:05.000+0000</td><td>impression</td><td>Affiliates</td><td>0</td></tr><tr><td>06ac43ce1a3c4f22b65025e3b4131aa0</td><td>2020-06-10T03:27:24.000+0000</td><td>impression</td><td>Email</td><td>0</td></tr><tr><td>91aedaeadba74d1584145e21f29a26aa</td><td>2020-05-27T17:02:25.000+0000</td><td>impression</td><td>Search Engine Marketing</td><td>0</td></tr><tr><td>91aedaeadba74d1584145e21f29a26aa</td><td>2020-06-02T19:41:58.000+0000</td><td>impression</td><td>Google Display Network</td><td>0</td></tr><tr><td>91aedaeadba74d1584145e21f29a26aa</td><td>2020-06-08T18:16:58.000+0000</td><td>impression</td><td>Search Engine Marketing</td><td>0</td></tr><tr><td>91aedaeadba74d1584145e21f29a26aa</td><td>2020-06-09T04:06:45.000+0000</td><td>impression</td><td>Google Display Network</td><td>0</td></tr><tr><td>91aedaeadba74d1584145e21f29a26aa</td><td>2020-06-10T01:52:45.000+0000</td><td>impression</td><td>Email</td><td>0</td></tr><tr><td>91aedaeadba74d1584145e21f29a26aa</td><td>2020-06-10T02:24:33.000+0000</td><td>impression</td><td>Search Engine Marketing</td><td>0</td></tr><tr><td>91aedaeadba74d1584145e21f29a26aa</td><td>2020-06-10T03:46:21.000+0000</td><td>impression</td><td>Search Engine Marketing</td><td>0</td></tr><tr><td>91aedaeadba74d1584145e21f29a26aa</td><td>2020-06-10T04:41:22.000+0000</td><td>impression</td><td>Google Display Network</td><td>0</td></tr><tr><td>91aedaeadba74d1584145e21f29a26aa</td><td>2020-06-10T04:49:58.000+0000</td><td>impression</td><td>Social Network</td><td>0</td></tr><tr><td>e60b1fe9cb804fb5a1d60877b57b3e28</td><td>2020-06-05T18:54:21.000+0000</td><td>impression</td><td>Google Display Network</td><td>0</td></tr><tr><td>e60b1fe9cb804fb5a1d60877b57b3e28</td><td>2020-06-09T12:44:47.000+0000</td><td>impression</td><td>Search Engine Marketing</td><td>0</td></tr><tr><td>e60b1fe9cb804fb5a1d60877b57b3e28</td><td>2020-06-09T23:25:21.000+0000</td><td>conversion</td><td>Affiliates</td><td>1</td></tr><tr><td>ea47574dca66415d9d4057f6a4767008</td><td>2020-05-17T15:01:19.000+0000</td><td>impression</td><td>Google Display Network</td><td>0</td></tr><tr><td>ea47574dca66415d9d4057f6a4767008</td><td>2020-06-06T01:22:20.000+0000</td><td>impression</td><td>Social Network</td><td>0</td></tr><tr><td>ea47574dca66415d9d4057f6a4767008</td><td>2020-06-08T17:23:10.000+0000</td><td>impression</td><td>Social Network</td><td>0</td></tr><tr><td>ea47574dca66415d9d4057f6a4767008</td><td>2020-06-08T21:19:46.000+0000</td><td>impression</td><td>Google Display Network</td><td>0</td></tr><tr><td>ea47574dca66415d9d4057f6a4767008</td><td>2020-06-09T15:21:28.000+0000</td><td>impression</td><td>Google Display Network</td><td>0</td></tr><tr><td>ea47574dca66415d9d4057f6a4767008</td><td>2020-06-09T16:39:35.000+0000</td><td>impression</td><td>Affiliates</td><td>0</td></tr><tr><td>ea47574dca66415d9d4057f6a4767008</td><td>2020-06-10T04:31:50.000+0000</td><td>impression</td><td>Search Engine Marketing</td><td>0</td></tr><tr><td>c4323bc7bb704af09f63cd86241ed7dc</td><td>2020-06-08T15:18:24.000+0000</td><td>impression</td><td>Affiliates</td><td>0</td></tr><tr><td>c4323bc7bb704af09f63cd86241ed7dc</td><td>2020-06-09T16:26:22.000+0000</td><td>impression</td><td>Social Network</td><td>0</td></tr><tr><td>c4323bc7bb704af09f63cd86241ed7dc</td><td>2020-06-10T02:06:38.000+0000</td><td>impression</td><td>Email</td><td>0</td></tr><tr><td>c4323bc7bb704af09f63cd86241ed7dc</td><td>2020-06-10T04:29:10.000+0000</td><td>impression</td><td>Affiliates</td><td>0</td></tr><tr><td>c4323bc7bb704af09f63cd86241ed7dc</td><td>2020-06-10T04:39:58.000+0000</td><td>impression</td><td>Google Display Network</td><td>0</td></tr><tr><td>dd2eb9abf11048c2861bbdb0468b1ca6</td><td>2020-06-06T23:08:16.000+0000</td><td>impression</td><td>Search Engine Marketing</td><td>0</td></tr><tr><td>dd2eb9abf11048c2861bbdb0468b1ca6</td><td>2020-06-08T15:44:27.000+0000</td><td>impression</td><td>Affiliates</td><td>0</td></tr><tr><td>dd2eb9abf11048c2861bbdb0468b1ca6</td><td>2020-06-09T11:29:59.000+0000</td><td>impression</td><td>Google Display Network</td><td>0</td></tr><tr><td>dd2eb9abf11048c2861bbdb0468b1ca6</td><td>2020-06-10T04:32:18.000+0000</td><td>impression</td><td>Search Engine Marketing</td><td>0</td></tr><tr><td>dd2eb9abf11048c2861bbdb0468b1ca6</td><td>2020-06-10T04:40:49.000+0000</td><td>impression</td><td>Social Network</td><td>0</td></tr><tr><td>dd2eb9abf11048c2861bbdb0468b1ca6</td><td>2020-06-10T04:46:01.000+0000</td><td>impression</td><td>Affiliates</td><td>0</td></tr><tr><td>dc3ff01712ec48c799b4ca511a9640d2</td><td>2020-05-29T15:38:13.000+0000</td><td>impression</td><td>Google Display Network</td><td>0</td></tr><tr><td>dc3ff01712ec48c799b4ca511a9640d2</td><td>2020-06-09T07:29:48.000+0000</td><td>impression</td><td>Affiliates</td><td>0</td></tr><tr><td>dc3ff01712ec48c799b4ca511a9640d2</td><td>2020-06-10T03:51:14.000+0000</td><td>impression</td><td>Affiliates</td><td>0</td></tr><tr><td>dc3ff01712ec48c799b4ca511a9640d2</td><td>2020-06-10T04:49:19.000+0000</td><td>impression</td><td>Search Engine Marketing</td><td>0</td></tr><tr><td>dc3ff01712ec48c799b4ca511a9640d2</td><td>2020-06-10T04:49:26.000+0000</td><td>impression</td><td>Affiliates</td><td>0</td></tr><tr><td>dc3ff01712ec48c799b4ca511a9640d2</td><td>2020-06-10T04:49:40.000+0000</td><td>impression</td><td>Social Network</td><td>0</td></tr><tr><td>8b1d21935e96430599a168d3db9bafe7</td><td>2020-06-09T20:53:12.000+0000</td><td>impression</td><td>Google Display Network</td><td>0</td></tr><tr><td>8b1d21935e96430599a168d3db9bafe7</td><td>2020-06-09T22:10:47.000+0000</td><td>impression</td><td>Social Network</td><td>0</td></tr><tr><td>8b1d21935e96430599a168d3db9bafe7</td><td>2020-06-10T01:09:35.000+0000</td><td>impression</td><td>Social Network</td><td>0</td></tr><tr><td>8b1d21935e96430599a168d3db9bafe7</td><td>2020-06-10T03:21:57.000+0000</td><td>impression</td><td>Affiliates</td><td>0</td></tr><tr><td>295d8d43532241b5a000e1517ccf6ff0</td><td>2020-05-21T11:38:58.000+0000</td><td>impression</td><td>Email</td><td>0</td></tr><tr><td>295d8d43532241b5a000e1517ccf6ff0</td><td>2020-06-07T04:30:48.000+0000</td><td>impression</td><td>Search Engine Marketing</td><td>0</td></tr><tr><td>295d8d43532241b5a000e1517ccf6ff0</td><td>2020-06-09T05:49:00.000+0000</td><td>impression</td><td>Affiliates</td><td>0</td></tr><tr><td>295d8d43532241b5a000e1517ccf6ff0</td><td>2020-06-09T12:00:37.000+0000</td><td>impression</td><td>Social Network</td><td>0</td></tr><tr><td>295d8d43532241b5a000e1517ccf6ff0</td><td>2020-06-09T12:32:54.000+0000</td><td>impression</td><td>Affiliates</td><td>0</td></tr><tr><td>295d8d43532241b5a000e1517ccf6ff0</td><td>2020-06-09T18:49:46.000+0000</td><td>impression</td><td>Affiliates</td><td>0</td></tr><tr><td>a5b2fade45944252b1698a31c10fc4a4</td><td>2020-06-09T03:21:17.000+0000</td><td>impression</td><td>Social Network</td><td>0</td></tr><tr><td>a5b2fade45944252b1698a31c10fc4a4</td><td>2020-06-09T18:36:25.000+0000</td><td>impression</td><td>Affiliates</td><td>0</td></tr><tr><td>a5b2fade45944252b1698a31c10fc4a4</td><td>2020-06-09T23:11:35.000+0000</td><td>impression</td><td>Search Engine Marketing</td><td>0</td></tr><tr><td>a5b2fade45944252b1698a31c10fc4a4</td><td>2020-06-10T04:48:01.000+0000</td><td>impression</td><td>Affiliates</td><td>0</td></tr><tr><td>a5b2fade45944252b1698a31c10fc4a4</td><td>2020-06-10T04:49:32.000+0000</td><td>impression</td><td>Search Engine Marketing</td><td>0</td></tr><tr><td>a5b2fade45944252b1698a31c10fc4a4</td><td>2020-06-10T04:49:55.000+0000</td><td>impression</td><td>Search Engine Marketing</td><td>0</td></tr><tr><td>a5b2fade45944252b1698a31c10fc4a4</td><td>2020-06-10T04:49:59.000+0000</td><td>impression</td><td>Search Engine Marketing</td><td>0</td></tr><tr><td>cbf81de707cc43ab9386a981c80708de</td><td>2020-05-26T22:13:33.000+0000</td><td>impression</td><td>Affiliates</td><td>0</td></tr><tr><td>cbf81de707cc43ab9386a981c80708de</td><td>2020-05-31T07:07:42.000+0000</td><td>impression</td><td>Affiliates</td><td>0</td></tr><tr><td>cbf81de707cc43ab9386a981c80708de</td><td>2020-06-02T12:35:20.000+0000</td><td>impression</td><td>Search Engine Marketing</td><td>0</td></tr><tr><td>cbf81de707cc43ab9386a981c80708de</td><td>2020-06-03T01:29:17.000+0000</td><td>impression</td><td>Affiliates</td><td>0</td></tr><tr><td>cbf81de707cc43ab9386a981c80708de</td><td>2020-06-06T22:05:00.000+0000</td><td>impression</td><td>Google Display Network</td><td>0</td></tr><tr><td>cbf81de707cc43ab9386a981c80708de</td><td>2020-06-09T13:24:33.000+0000</td><td>impression</td><td>Affiliates</td><td>0</td></tr><tr><td>cbf81de707cc43ab9386a981c80708de</td><td>2020-06-09T21:56:15.000+0000</td><td>impression</td><td>Search Engine Marketing</td><td>0</td></tr><tr><td>cbf81de707cc43ab9386a981c80708de</td><td>2020-06-10T03:37:26.000+0000</td><td>impression</td><td>Affiliates</td><td>0</td></tr><tr><td>cbf81de707cc43ab9386a981c80708de</td><td>2020-06-10T04:06:41.000+0000</td><td>impression</td><td>Affiliates</td><td>0</td></tr><tr><td>aec2b6c89b2c4d3ebf6551725f65c19d</td><td>2020-05-20T15:35:14.000+0000</td><td>impression</td><td>Affiliates</td><td>0</td></tr><tr><td>aec2b6c89b2c4d3ebf6551725f65c19d</td><td>2020-06-04T21:58:43.000+0000</td><td>impression</td><td>Search Engine Marketing</td><td>0</td></tr><tr><td>aec2b6c89b2c4d3ebf6551725f65c19d</td><td>2020-06-07T14:57:56.000+0000</td><td>impression</td><td>Affiliates</td><td>0</td></tr><tr><td>aec2b6c89b2c4d3ebf6551725f65c19d</td><td>2020-06-09T02:50:09.000+0000</td><td>impression</td><td>Search Engine Marketing</td><td>0</td></tr><tr><td>aec2b6c89b2c4d3ebf6551725f65c19d</td><td>2020-06-09T19:45:42.000+0000</td><td>impression</td><td>Google Display Network</td><td>0</td></tr><tr><td>9be55ad3839042a6ad105851c69c7c9b</td><td>2020-05-30T05:25:32.000+0000</td><td>impression</td><td>Search Engine Marketing</td><td>0</td></tr><tr><td>9be55ad3839042a6ad105851c69c7c9b</td><td>2020-05-31T04:38:39.000+0000</td><td>impression</td><td>Social Network</td><td>0</td></tr><tr><td>9be55ad3839042a6ad105851c69c7c9b</td><td>2020-06-05T09:07:09.000+0000</td><td>impression</td><td>Search Engine Marketing</td><td>0</td></tr><tr><td>9be55ad3839042a6ad105851c69c7c9b</td><td>2020-06-09T20:45:29.000+0000</td><td>impression</td><td>Search Engine Marketing</td><td>0</td></tr><tr><td>9be55ad3839042a6ad105851c69c7c9b</td><td>2020-06-10T00:13:34.000+0000</td><td>impression</td><td>Search Engine Marketing</td><td>0</td></tr><tr><td>9be55ad3839042a6ad105851c69c7c9b</td><td>2020-06-10T01:52:11.000+0000</td><td>impression</td><td>Search Engine Marketing</td><td>0</td></tr><tr><td>9be55ad3839042a6ad105851c69c7c9b</td><td>2020-06-10T03:13:12.000+0000</td><td>impression</td><td>Affiliates</td><td>0</td></tr><tr><td>9be55ad3839042a6ad105851c69c7c9b</td><td>2020-06-10T04:14:07.000+0000</td><td>impression</td><td>Search Engine Marketing</td><td>0</td></tr><tr><td>9be55ad3839042a6ad105851c69c7c9b</td><td>2020-06-10T04:34:50.000+0000</td><td>conversion</td><td>Social Network</td><td>1</td></tr><tr><td>fd77675a906a41fdbba3aaee1bddfa32</td><td>2020-05-26T20:41:28.000+0000</td><td>impression</td><td>Email</td><td>0</td></tr><tr><td>fd77675a906a41fdbba3aaee1bddfa32</td><td>2020-05-27T13:41:08.000+0000</td><td>impression</td><td>Search Engine Marketing</td><td>0</td></tr><tr><td>efcc75c626c747c4929a94ecd21c5622</td><td>2020-05-24T08:50:07.000+0000</td><td>impression</td><td>Search Engine Marketing</td><td>0</td></tr><tr><td>efcc75c626c747c4929a94ecd21c5622</td><td>2020-06-01T12:04:10.000+0000</td><td>impression</td><td>Affiliates</td><td>0</td></tr><tr><td>efcc75c626c747c4929a94ecd21c5622</td><td>2020-06-03T03:09:07.000+0000</td><td>impression</td><td>Social Network</td><td>0</td></tr><tr><td>efcc75c626c747c4929a94ecd21c5622</td><td>2020-06-05T18:01:22.000+0000</td><td>impression</td><td>Google Display Network</td><td>0</td></tr><tr><td>efcc75c626c747c4929a94ecd21c5622</td><td>2020-06-09T21:21:27.000+0000</td><td>impression</td><td>Search Engine Marketing</td><td>0</td></tr><tr><td>efcc75c626c747c4929a94ecd21c5622</td><td>2020-06-10T04:42:18.000+0000</td><td>impression</td><td>Search Engine Marketing</td><td>0</td></tr><tr><td>00168e2161e541e987809ad749d9e17d</td><td>2020-05-23T10:20:36.000+0000</td><td>impression</td><td>Affiliates</td><td>0</td></tr><tr><td>00168e2161e541e987809ad749d9e17d</td><td>2020-05-24T06:45:58.000+0000</td><td>impression</td><td>Search Engine Marketing</td><td>0</td></tr><tr><td>00168e2161e541e987809ad749d9e17d</td><td>2020-05-26T18:03:54.000+0000</td><td>impression</td><td>Search Engine Marketing</td><td>0</td></tr><tr><td>00168e2161e541e987809ad749d9e17d</td><td>2020-05-31T09:48:56.000+0000</td><td>impression</td><td>Affiliates</td><td>0</td></tr><tr><td>00168e2161e541e987809ad749d9e17d</td><td>2020-06-07T03:06:41.000+0000</td><td>impression</td><td>Social Network</td><td>0</td></tr><tr><td>00168e2161e541e987809ad749d9e17d</td><td>2020-06-07T09:42:03.000+0000</td><td>impression</td><td>Social Network</td><td>0</td></tr><tr><td>00168e2161e541e987809ad749d9e17d</td><td>2020-06-09T04:19:48.000+0000</td><td>impression</td><td>Social Network</td><td>0</td></tr><tr><td>00168e2161e541e987809ad749d9e17d</td><td>2020-06-09T16:08:11.000+0000</td><td>impression</td><td>Affiliates</td><td>0</td></tr><tr><td>20f5febaa9184a9da74d72cb64ec8e15</td><td>2020-05-23T08:28:40.000+0000</td><td>impression</td><td>Search Engine Marketing</td><td>0</td></tr><tr><td>20f5febaa9184a9da74d72cb64ec8e15</td><td>2020-06-01T18:50:56.000+0000</td><td>impression</td><td>Social Network</td><td>0</td></tr><tr><td>20f5febaa9184a9da74d72cb64ec8e15</td><td>2020-06-07T12:11:31.000+0000</td><td>impression</td><td>Google Display Network</td><td>0</td></tr><tr><td>20f5febaa9184a9da74d72cb64ec8e15</td><td>2020-06-08T04:29:08.000+0000</td><td>impression</td><td>Affiliates</td><td>0</td></tr><tr><td>20f5febaa9184a9da74d72cb64ec8e15</td><td>2020-06-08T20:16:21.000+0000</td><td>impression</td><td>Social Network</td><td>0</td></tr><tr><td>20f5febaa9184a9da74d72cb64ec8e15</td><td>2020-06-09T06:11:09.000+0000</td><td>impression</td><td>Affiliates</td><td>0</td></tr><tr><td>20f5febaa9184a9da74d72cb64ec8e15</td><td>2020-06-09T14:35:31.000+0000</td><td>impression</td><td>Google Display Network</td><td>0</td></tr><tr><td>20f5febaa9184a9da74d72cb64ec8e15</td><td>2020-06-09T20:07:58.000+0000</td><td>impression</td><td>Affiliates</td><td>0</td></tr><tr><td>20f5febaa9184a9da74d72cb64ec8e15</td><td>2020-06-10T01:01:32.000+0000</td><td>impression</td><td>Affiliates</td><td>0</td></tr><tr><td>c096151dd32d4c5dad20eddad13e9403</td><td>2020-06-08T04:42:49.000+0000</td><td>impression</td><td>Google Display Network</td><td>0</td></tr><tr><td>c096151dd32d4c5dad20eddad13e9403</td><td>2020-06-09T00:51:30.000+0000</td><td>impression</td><td>Search Engine Marketing</td><td>0</td></tr><tr><td>c096151dd32d4c5dad20eddad13e9403</td><td>2020-06-09T08:21:52.000+0000</td><td>impression</td><td>Google Display Network</td><td>0</td></tr><tr><td>c096151dd32d4c5dad20eddad13e9403</td><td>2020-06-09T12:29:23.000+0000</td><td>impression</td><td>Social Network</td><td>0</td></tr><tr><td>c096151dd32d4c5dad20eddad13e9403</td><td>2020-06-09T20:18:21.000+0000</td><td>impression</td><td>Search Engine Marketing</td><td>0</td></tr><tr><td>c096151dd32d4c5dad20eddad13e9403</td><td>2020-06-10T02:29:20.000+0000</td><td>impression</td><td>Search Engine Marketing</td><td>0</td></tr><tr><td>c096151dd32d4c5dad20eddad13e9403</td><td>2020-06-10T04:14:09.000+0000</td><td>impression</td><td>Google Display Network</td><td>0</td></tr><tr><td>c096151dd32d4c5dad20eddad13e9403</td><td>2020-06-10T04:16:22.000+0000</td><td>impression</td><td>Google Display Network</td><td>0</td></tr><tr><td>c096151dd32d4c5dad20eddad13e9403</td><td>2020-06-10T04:21:32.000+0000</td><td>impression</td><td>Search Engine Marketing</td><td>0</td></tr><tr><td>ecee845959d74ce48efa7cf15205a6d0</td><td>2020-05-19T12:11:37.000+0000</td><td>impression</td><td>Search Engine Marketing</td><td>0</td></tr><tr><td>ecee845959d74ce48efa7cf15205a6d0</td><td>2020-05-29T23:35:16.000+0000</td><td>impression</td><td>Google Display Network</td><td>0</td></tr><tr><td>ecee845959d74ce48efa7cf15205a6d0</td><td>2020-05-31T11:23:08.000+0000</td><td>impression</td><td>Social Network</td><td>0</td></tr><tr><td>ecee845959d74ce48efa7cf15205a6d0</td><td>2020-06-09T08:00:29.000+0000</td><td>impression</td><td>Social Network</td><td>0</td></tr><tr><td>ecee845959d74ce48efa7cf15205a6d0</td><td>2020-06-09T11:17:52.000+0000</td><td>impression</td><td>Affiliates</td><td>0</td></tr><tr><td>ecee845959d74ce48efa7cf15205a6d0</td><td>2020-06-09T17:19:55.000+0000</td><td>impression</td><td>Search Engine Marketing</td><td>0</td></tr><tr><td>ecee845959d74ce48efa7cf15205a6d0</td><td>2020-06-09T20:50:34.000+0000</td><td>impression</td><td>Email</td><td>0</td></tr><tr><td>ecee845959d74ce48efa7cf15205a6d0</td><td>2020-06-10T01:14:56.000+0000</td><td>impression</td><td>Social Network</td><td>0</td></tr><tr><td>689446e36ee8459aaff995503b31cc3f</td><td>2020-05-31T11:40:32.000+0000</td><td>impression</td><td>Affiliates</td><td>0</td></tr><tr><td>689446e36ee8459aaff995503b31cc3f</td><td>2020-06-02T23:48:08.000+0000</td><td>impression</td><td>Email</td><td>0</td></tr><tr><td>e0c7b14ddfc2462495a97882d13f75bd</td><td>2020-05-17T21:08:55.000+0000</td><td>impression</td><td>Google Display Network</td><td>0</td></tr><tr><td>e0c7b14ddfc2462495a97882d13f75bd</td><td>2020-06-02T04:43:13.000+0000</td><td>impression</td><td>Search Engine Marketing</td><td>0</td></tr><tr><td>e0c7b14ddfc2462495a97882d13f75bd</td><td>2020-06-03T17:33:52.000+0000</td><td>impression</td><td>Social Network</td><td>0</td></tr><tr><td>e0c7b14ddfc2462495a97882d13f75bd</td><td>2020-06-08T19:25:28.000+0000</td><td>impression</td><td>Social Network</td><td>0</td></tr><tr><td>e0c7b14ddfc2462495a97882d13f75bd</td><td>2020-06-09T20:58:06.000+0000</td><td>impression</td><td>Affiliates</td><td>0</td></tr><tr><td>e0c7b14ddfc2462495a97882d13f75bd</td><td>2020-06-09T22:57:14.000+0000</td><td>impression</td><td>Search Engine Marketing</td><td>0</td></tr><tr><td>e0c7b14ddfc2462495a97882d13f75bd</td><td>2020-06-10T03:52:49.000+0000</td><td>impression</td><td>Affiliates</td><td>0</td></tr><tr><td>e0c7b14ddfc2462495a97882d13f75bd</td><td>2020-06-10T04:06:40.000+0000</td><td>impression</td><td>Search Engine Marketing</td><td>0</td></tr><tr><td>e0c7b14ddfc2462495a97882d13f75bd</td><td>2020-06-10T04:07:33.000+0000</td><td>impression</td><td>Social Network</td><td>0</td></tr><tr><td>61fd82c27bae471cbd6cfa81d89ec199</td><td>2020-05-24T05:27:12.000+0000</td><td>impression</td><td>Affiliates</td><td>0</td></tr><tr><td>61fd82c27bae471cbd6cfa81d89ec199</td><td>2020-05-26T15:18:48.000+0000</td><td>impression</td><td>Google Display Network</td><td>0</td></tr><tr><td>61fd82c27bae471cbd6cfa81d89ec199</td><td>2020-06-04T00:38:00.000+0000</td><td>impression</td><td>Search Engine Marketing</td><td>0</td></tr><tr><td>61fd82c27bae471cbd6cfa81d89ec199</td><td>2020-06-05T09:37:35.000+0000</td><td>impression</td><td>Google Display Network</td><td>0</td></tr><tr><td>61fd82c27bae471cbd6cfa81d89ec199</td><td>2020-06-09T05:23:59.000+0000</td><td>impression</td><td>Search Engine Marketing</td><td>0</td></tr><tr><td>b0d7b04fa8b042ce95d6a269dfbe9d63</td><td>2020-05-27T03:25:07.000+0000</td><td>impression</td><td>Search Engine Marketing</td><td>0</td></tr><tr><td>b0d7b04fa8b042ce95d6a269dfbe9d63</td><td>2020-06-05T21:36:03.000+0000</td><td>impression</td><td>Google Display Network</td><td>0</td></tr><tr><td>f5fcbef1faca4e8186d6b5e7cb14c190</td><td>2020-05-28T01:06:21.000+0000</td><td>impression</td><td>Social Network</td><td>0</td></tr><tr><td>f5fcbef1faca4e8186d6b5e7cb14c190</td><td>2020-06-04T12:25:21.000+0000</td><td>impression</td><td>Social Network</td><td>0</td></tr><tr><td>f5fcbef1faca4e8186d6b5e7cb14c190</td><td>2020-06-09T17:11:09.000+0000</td><td>impression</td><td>Search Engine Marketing</td><td>0</td></tr><tr><td>f5fcbef1faca4e8186d6b5e7cb14c190</td><td>2020-06-09T22:07:26.000+0000</td><td>impression</td><td>Social Network</td><td>0</td></tr><tr><td>f5fcbef1faca4e8186d6b5e7cb14c190</td><td>2020-06-10T02:34:56.000+0000</td><td>impression</td><td>Social Network</td><td>0</td></tr><tr><td>f5fcbef1faca4e8186d6b5e7cb14c190</td><td>2020-06-10T03:12:44.000+0000</td><td>impression</td><td>Search Engine Marketing</td><td>0</td></tr><tr><td>f5fcbef1faca4e8186d6b5e7cb14c190</td><td>2020-06-10T04:20:56.000+0000</td><td>conversion</td><td>Social Network</td><td>1</td></tr><tr><td>590462001b184124b257c4926b8ead0d</td><td>2020-06-08T19:45:45.000+0000</td><td>impression</td><td>Search Engine Marketing</td><td>0</td></tr><tr><td>590462001b184124b257c4926b8ead0d</td><td>2020-06-09T07:16:35.000+0000</td><td>impression</td><td>Google Display Network</td><td>0</td></tr><tr><td>590462001b184124b257c4926b8ead0d</td><td>2020-06-10T04:47:14.000+0000</td><td>impression</td><td>Social Network</td><td>0</td></tr><tr><td>590462001b184124b257c4926b8ead0d</td><td>2020-06-10T04:48:09.000+0000</td><td>impression</td><td>Social Network</td><td>0</td></tr><tr><td>590462001b184124b257c4926b8ead0d</td><td>2020-06-10T04:48:36.000+0000</td><td>impression</td><td>Search Engine Marketing</td><td>0</td></tr><tr><td>590462001b184124b257c4926b8ead0d</td><td>2020-06-10T04:49:45.000+0000</td><td>impression</td><td>Search Engine Marketing</td><td>0</td></tr><tr><td>590462001b184124b257c4926b8ead0d</td><td>2020-06-10T04:49:50.000+0000</td><td>impression</td><td>Affiliates</td><td>0</td></tr><tr><td>1dcb6f95c20442c1b64e24fae0a67a85</td><td>2020-06-05T15:29:59.000+0000</td><td>impression</td><td>Affiliates</td><td>0</td></tr><tr><td>1dcb6f95c20442c1b64e24fae0a67a85</td><td>2020-06-10T01:53:35.000+0000</td><td>impression</td><td>Affiliates</td><td>0</td></tr><tr><td>1dcb6f95c20442c1b64e24fae0a67a85</td><td>2020-06-10T04:08:40.000+0000</td><td>impression</td><td>Search Engine Marketing</td><td>0</td></tr><tr><td>1dcb6f95c20442c1b64e24fae0a67a85</td><td>2020-06-10T04:19:13.000+0000</td><td>impression</td><td>Affiliates</td><td>0</td></tr><tr><td>ea256ed2431540338082f4a4eb170cf0</td><td>2020-06-04T11:50:35.000+0000</td><td>impression</td><td>Social Network</td><td>0</td></tr><tr><td>ea256ed2431540338082f4a4eb170cf0</td><td>2020-06-09T07:10:44.000+0000</td><td>impression</td><td>Affiliates</td><td>0</td></tr><tr><td>78ac9a33fe934e6abbb38aec6c529704</td><td>2020-06-03T01:31:45.000+0000</td><td>impression</td><td>Social Network</td><td>0</td></tr><tr><td>78ac9a33fe934e6abbb38aec6c529704</td><td>2020-06-03T20:42:54.000+0000</td><td>impression</td><td>Search Engine Marketing</td><td>0</td></tr><tr><td>14dfd2d96d404f26abc206ffb9b8cb9f</td><td>2020-06-04T21:14:25.000+0000</td><td>impression</td><td>Affiliates</td><td>0</td></tr><tr><td>14dfd2d96d404f26abc206ffb9b8cb9f</td><td>2020-06-07T04:16:42.000+0000</td><td>impression</td><td>Google Display Network</td><td>0</td></tr><tr><td>14dfd2d96d404f26abc206ffb9b8cb9f</td><td>2020-06-07T05:51:02.000+0000</td><td>impression</td><td>Affiliates</td><td>0</td></tr><tr><td>14dfd2d96d404f26abc206ffb9b8cb9f</td><td>2020-06-10T02:54:36.000+0000</td><td>impression</td><td>Social Network</td><td>0</td></tr><tr><td>14dfd2d96d404f26abc206ffb9b8cb9f</td><td>2020-06-10T03:11:34.000+0000</td><td>impression</td><td>Search Engine Marketing</td><td>0</td></tr><tr><td>14dfd2d96d404f26abc206ffb9b8cb9f</td><td>2020-06-10T03:18:57.000+0000</td><td>impression</td><td>Social Network</td><td>0</td></tr><tr><td>f04d22618f6847ac9365ec8f506db437</td><td>2020-06-09T10:14:18.000+0000</td><td>impression</td><td>Google Display Network</td><td>0</td></tr><tr><td>f04d22618f6847ac9365ec8f506db437</td><td>2020-06-09T13:25:23.000+0000</td><td>impression</td><td>Search Engine Marketing</td><td>0</td></tr><tr><td>f04d22618f6847ac9365ec8f506db437</td><td>2020-06-09T14:04:32.000+0000</td><td>impression</td><td>Search Engine Marketing</td><td>0</td></tr><tr><td>f04d22618f6847ac9365ec8f506db437</td><td>2020-06-09T22:31:15.000+0000</td><td>impression</td><td>Email</td><td>0</td></tr><tr><td>345eab3a63a74768a5b758c39f1004ff</td><td>2020-06-08T23:03:21.000+0000</td><td>impression</td><td>Search Engine Marketing</td><td>0</td></tr><tr><td>345eab3a63a74768a5b758c39f1004ff</td><td>2020-06-10T03:08:22.000+0000</td><td>impression</td><td>Search Engine Marketing</td><td>0</td></tr><tr><td>345eab3a63a74768a5b758c39f1004ff</td><td>2020-06-10T03:57:49.000+0000</td><td>impression</td><td>Social Network</td><td>0</td></tr><tr><td>345eab3a63a74768a5b758c39f1004ff</td><td>2020-06-10T04:25:31.000+0000</td><td>impression</td><td>Email</td><td>0</td></tr><tr><td>345eab3a63a74768a5b758c39f1004ff</td><td>2020-06-10T04:35:19.000+0000</td><td>impression</td><td>Search Engine Marketing</td><td>0</td></tr><tr><td>345eab3a63a74768a5b758c39f1004ff</td><td>2020-06-10T04:37:01.000+0000</td><td>impression</td><td>Social Network</td><td>0</td></tr><tr><td>345eab3a63a74768a5b758c39f1004ff</td><td>2020-06-10T04:46:26.000+0000</td><td>impression</td><td>Affiliates</td><td>0</td></tr><tr><td>345eab3a63a74768a5b758c39f1004ff</td><td>2020-06-10T04:49:30.000+0000</td><td>impression</td><td>Social Network</td><td>0</td></tr><tr><td>345eab3a63a74768a5b758c39f1004ff</td><td>2020-06-10T04:49:57.000+0000</td><td>impression</td><td>Affiliates</td><td>0</td></tr><tr><td>c18270a7ffdd4efe8e9498921690048d</td><td>2020-05-26T22:37:56.000+0000</td><td>impression</td><td>Search Engine Marketing</td><td>0</td></tr><tr><td>c18270a7ffdd4efe8e9498921690048d</td><td>2020-06-04T07:27:14.000+0000</td><td>impression</td><td>Search Engine Marketing</td><td>0</td></tr><tr><td>c18270a7ffdd4efe8e9498921690048d</td><td>2020-06-04T20:18:57.000+0000</td><td>impression</td><td>Search Engine Marketing</td><td>0</td></tr><tr><td>c18270a7ffdd4efe8e9498921690048d</td><td>2020-06-07T18:16:45.000+0000</td><td>impression</td><td>Social Network</td><td>0</td></tr><tr><td>c18270a7ffdd4efe8e9498921690048d</td><td>2020-06-08T20:29:24.000+0000</td><td>impression</td><td>Search Engine Marketing</td><td>0</td></tr><tr><td>c18270a7ffdd4efe8e9498921690048d</td><td>2020-06-10T01:53:41.000+0000</td><td>impression</td><td>Affiliates</td><td>0</td></tr><tr><td>c18270a7ffdd4efe8e9498921690048d</td><td>2020-06-10T02:04:28.000+0000</td><td>impression</td><td>Social Network</td><td>0</td></tr><tr><td>c18270a7ffdd4efe8e9498921690048d</td><td>2020-06-10T04:19:21.000+0000</td><td>impression</td><td>Social Network</td><td>0</td></tr><tr><td>c5e0520c3c984a3889968e3af2da0504</td><td>2020-06-02T02:23:59.000+0000</td><td>impression</td><td>Google Display Network</td><td>0</td></tr><tr><td>c5e0520c3c984a3889968e3af2da0504</td><td>2020-06-07T02:29:29.000+0000</td><td>impression</td><td>Search Engine Marketing</td><td>0</td></tr><tr><td>c5e0520c3c984a3889968e3af2da0504</td><td>2020-06-10T04:41:47.000+0000</td><td>impression</td><td>Affiliates</td><td>0</td></tr><tr><td>333ce1c3ec4340b2a9c3d90187d94aea</td><td>2020-05-21T13:56:09.000+0000</td><td>impression</td><td>Google Display Network</td><td>0</td></tr><tr><td>333ce1c3ec4340b2a9c3d90187d94aea</td><td>2020-05-25T05:43:00.000+0000</td><td>impression</td><td>Affiliates</td><td>0</td></tr><tr><td>333ce1c3ec4340b2a9c3d90187d94aea</td><td>2020-06-05T15:47:10.000+0000</td><td>impression</td><td>Google Display Network</td><td>0</td></tr><tr><td>333ce1c3ec4340b2a9c3d90187d94aea</td><td>2020-06-09T21:13:38.000+0000</td><td>impression</td><td>Search Engine Marketing</td><td>0</td></tr><tr><td>b969e065bd274a979638a942c0e52647</td><td>2020-05-29T14:11:48.000+0000</td><td>impression</td><td>Social Network</td><td>0</td></tr><tr><td>b969e065bd274a979638a942c0e52647</td><td>2020-06-03T08:36:52.000+0000</td><td>impression</td><td>Google Display Network</td><td>0</td></tr><tr><td>b969e065bd274a979638a942c0e52647</td><td>2020-06-06T04:06:50.000+0000</td><td>impression</td><td>Search Engine Marketing</td><td>0</td></tr><tr><td>b969e065bd274a979638a942c0e52647</td><td>2020-06-07T00:24:41.000+0000</td><td>impression</td><td>Email</td><td>0</td></tr><tr><td>b969e065bd274a979638a942c0e52647</td><td>2020-06-09T12:20:28.000+0000</td><td>impression</td><td>Search Engine Marketing</td><td>0</td></tr><tr><td>b969e065bd274a979638a942c0e52647</td><td>2020-06-09T22:52:32.000+0000</td><td>impression</td><td>Search Engine Marketing</td><td>0</td></tr><tr><td>b969e065bd274a979638a942c0e52647</td><td>2020-06-09T23:56:57.000+0000</td><td>impression</td><td>Search Engine Marketing</td><td>0</td></tr><tr><td>b969e065bd274a979638a942c0e52647</td><td>2020-06-10T01:46:13.000+0000</td><td>impression</td><td>Social Network</td><td>0</td></tr><tr><td>3b0bd41f7db645b4b0801df796c01054</td><td>2020-05-28T02:36:53.000+0000</td><td>impression</td><td>Google Display Network</td><td>0</td></tr><tr><td>3b0bd41f7db645b4b0801df796c01054</td><td>2020-06-07T22:54:56.000+0000</td><td>impression</td><td>Social Network</td><td>0</td></tr><tr><td>3b0bd41f7db645b4b0801df796c01054</td><td>2020-06-09T13:34:52.000+0000</td><td>impression</td><td>Affiliates</td><td>0</td></tr><tr><td>3b0bd41f7db645b4b0801df796c01054</td><td>2020-06-09T23:49:13.000+0000</td><td>impression</td><td>Search Engine Marketing</td><td>0</td></tr><tr><td>c6c6eeaf84f84e28acf7cf8a01c1c7f3</td><td>2020-05-30T10:24:14.000+0000</td><td>impression</td><td>Google Display Network</td><td>0</td></tr><tr><td>c6c6eeaf84f84e28acf7cf8a01c1c7f3</td><td>2020-05-31T12:39:48.000+0000</td><td>impression</td><td>Affiliates</td><td>0</td></tr><tr><td>c6c6eeaf84f84e28acf7cf8a01c1c7f3</td><td>2020-06-07T06:21:02.000+0000</td><td>impression</td><td>Search Engine Marketing</td><td>0</td></tr><tr><td>3f3c55095b984d04a658419372a780f5</td><td>2020-05-23T07:47:19.000+0000</td><td>impression</td><td>Search Engine Marketing</td><td>0</td></tr><tr><td>3f3c55095b984d04a658419372a780f5</td><td>2020-06-02T06:38:07.000+0000</td><td>impression</td><td>Search Engine Marketing</td><td>0</td></tr><tr><td>3f3c55095b984d04a658419372a780f5</td><td>2020-06-06T00:29:03.000+0000</td><td>impression</td><td>Email</td><td>0</td></tr><tr><td>3f3c55095b984d04a658419372a780f5</td><td>2020-06-08T22:16:52.000+0000</td><td>impression</td><td>Email</td><td>0</td></tr><tr><td>3f3c55095b984d04a658419372a780f5</td><td>2020-06-09T12:19:20.000+0000</td><td>impression</td><td>Search Engine Marketing</td><td>0</td></tr><tr><td>3f3c55095b984d04a658419372a780f5</td><td>2020-06-09T19:02:00.000+0000</td><td>impression</td><td>Affiliates</td><td>0</td></tr><tr><td>3f3c55095b984d04a658419372a780f5</td><td>2020-06-09T19:35:34.000+0000</td><td>impression</td><td>Search Engine Marketing</td><td>0</td></tr><tr><td>3f3c55095b984d04a658419372a780f5</td><td>2020-06-10T04:27:39.000+0000</td><td>impression</td><td>Affiliates</td><td>0</td></tr><tr><td>3f3c55095b984d04a658419372a780f5</td><td>2020-06-10T04:36:43.000+0000</td><td>conversion</td><td>Social Network</td><td>1</td></tr><tr><td>ce9165909cff446cbb6c2d5f57e3b246</td><td>2020-05-30T09:23:34.000+0000</td><td>impression</td><td>Social Network</td><td>0</td></tr><tr><td>ce9165909cff446cbb6c2d5f57e3b246</td><td>2020-06-09T09:52:45.000+0000</td><td>impression</td><td>Search Engine Marketing</td><td>0</td></tr><tr><td>ce9165909cff446cbb6c2d5f57e3b246</td><td>2020-06-09T13:29:07.000+0000</td><td>impression</td><td>Social Network</td><td>0</td></tr><tr><td>ce9165909cff446cbb6c2d5f57e3b246</td><td>2020-06-09T20:47:39.000+0000</td><td>impression</td><td>Affiliates</td><td>0</td></tr><tr><td>ce9165909cff446cbb6c2d5f57e3b246</td><td>2020-06-10T01:33:24.000+0000</td><td>impression</td><td>Social Network</td><td>0</td></tr><tr><td>b3dacecb4c324a5ca9e9d9c85ee51e39</td><td>2020-05-31T08:26:35.000+0000</td><td>impression</td><td>Affiliates</td><td>0</td></tr><tr><td>49984a28fb88400294a1fa9574295ef4</td><td>2020-05-20T21:13:18.000+0000</td><td>impression</td><td>Google Display Network</td><td>0</td></tr><tr><td>49984a28fb88400294a1fa9574295ef4</td><td>2020-05-23T17:29:46.000+0000</td><td>impression</td><td>Google Display Network</td><td>0</td></tr><tr><td>49984a28fb88400294a1fa9574295ef4</td><td>2020-06-09T20:08:47.000+0000</td><td>impression</td><td>Affiliates</td><td>0</td></tr><tr><td>49984a28fb88400294a1fa9574295ef4</td><td>2020-06-10T02:04:40.000+0000</td><td>impression</td><td>Affiliates</td><td>0</td></tr><tr><td>49984a28fb88400294a1fa9574295ef4</td><td>2020-06-10T04:01:19.000+0000</td><td>conversion</td><td>Social Network</td><td>1</td></tr><tr><td>8186cbf8143b44aaac714f775c60ad60</td><td>2020-06-03T23:05:02.000+0000</td><td>impression</td><td>Google Display Network</td><td>0</td></tr><tr><td>8186cbf8143b44aaac714f775c60ad60</td><td>2020-06-09T23:53:00.000+0000</td><td>impression</td><td>Email</td><td>0</td></tr><tr><td>8186cbf8143b44aaac714f775c60ad60</td><td>2020-06-10T01:32:21.000+0000</td><td>impression</td><td>Google Display Network</td><td>0</td></tr><tr><td>8186cbf8143b44aaac714f775c60ad60</td><td>2020-06-10T03:26:17.000+0000</td><td>impression</td><td>Google Display Network</td><td>0</td></tr><tr><td>8186cbf8143b44aaac714f775c60ad60</td><td>2020-06-10T03:49:48.000+0000</td><td>impression</td><td>Search Engine Marketing</td><td>0</td></tr><tr><td>8186cbf8143b44aaac714f775c60ad60</td><td>2020-06-10T04:44:25.000+0000</td><td>impression</td><td>Search Engine Marketing</td><td>0</td></tr><tr><td>8186cbf8143b44aaac714f775c60ad60</td><td>2020-06-10T04:47:02.000+0000</td><td>impression</td><td>Social Network</td><td>0</td></tr><tr><td>9c63d8ee8dcf48969c812fdd9b878f58</td><td>2020-06-05T06:30:47.000+0000</td><td>impression</td><td>Search Engine Marketing</td><td>0</td></tr><tr><td>7d7dead544814dea9f299dcc5443b995</td><td>2020-06-04T04:00:44.000+0000</td><td>impression</td><td>Affiliates</td><td>0</td></tr><tr><td>7d7dead544814dea9f299dcc5443b995</td><td>2020-06-09T10:35:32.000+0000</td><td>impression</td><td>Social Network</td><td>0</td></tr><tr><td>7d7dead544814dea9f299dcc5443b995</td><td>2020-06-09T12:20:24.000+0000</td><td>impression</td><td>Social Network</td><td>0</td></tr><tr><td>7d7dead544814dea9f299dcc5443b995</td><td>2020-06-10T03:32:06.000+0000</td><td>impression</td><td>Affiliates</td><td>0</td></tr><tr><td>7d7dead544814dea9f299dcc5443b995</td><td>2020-06-10T04:36:19.000+0000</td><td>impression</td><td>Search Engine Marketing</td><td>0</td></tr><tr><td>7d7dead544814dea9f299dcc5443b995</td><td>2020-06-10T04:49:10.000+0000</td><td>impression</td><td>Google Display Network</td><td>0</td></tr><tr><td>7d7dead544814dea9f299dcc5443b995</td><td>2020-06-10T04:49:54.000+0000</td><td>impression</td><td>Search Engine Marketing</td><td>0</td></tr><tr><td>7d7dead544814dea9f299dcc5443b995</td><td>2020-06-10T04:49:55.000+0000</td><td>impression</td><td>Affiliates</td><td>0</td></tr><tr><td>7d7dead544814dea9f299dcc5443b995</td><td>2020-06-10T04:49:55.000+0000</td><td>conversion</td><td>Google Display Network</td><td>1</td></tr><tr><td>a036157de7334de4adaa7ba760b9fe8e</td><td>2020-06-03T00:47:28.000+0000</td><td>impression</td><td>Social Network</td><td>0</td></tr><tr><td>72dbbb55fed74d3abcce65d5b74b44df</td><td>2020-05-22T22:00:00.000+0000</td><td>impression</td><td>Affiliates</td><td>0</td></tr><tr><td>72dbbb55fed74d3abcce65d5b74b44df</td><td>2020-05-24T10:38:59.000+0000</td><td>impression</td><td>Google Display Network</td><td>0</td></tr><tr><td>72dbbb55fed74d3abcce65d5b74b44df</td><td>2020-06-02T00:57:11.000+0000</td><td>impression</td><td>Search Engine Marketing</td><td>0</td></tr><tr><td>72dbbb55fed74d3abcce65d5b74b44df</td><td>2020-06-05T04:56:16.000+0000</td><td>impression</td><td>Search Engine Marketing</td><td>0</td></tr><tr><td>72dbbb55fed74d3abcce65d5b74b44df</td><td>2020-06-06T17:11:45.000+0000</td><td>impression</td><td>Affiliates</td><td>0</td></tr><tr><td>99be3d9ab626452b805f6d4d174bd35b</td><td>2020-05-30T17:14:53.000+0000</td><td>impression</td><td>Affiliates</td><td>0</td></tr><tr><td>99be3d9ab626452b805f6d4d174bd35b</td><td>2020-06-09T11:08:48.000+0000</td><td>impression</td><td>Search Engine Marketing</td><td>0</td></tr><tr><td>99be3d9ab626452b805f6d4d174bd35b</td><td>2020-06-10T02:10:29.000+0000</td><td>impression</td><td>Social Network</td><td>0</td></tr><tr><td>99be3d9ab626452b805f6d4d174bd35b</td><td>2020-06-10T03:19:45.000+0000</td><td>impression</td><td>Email</td><td>0</td></tr><tr><td>3760083383fb4b02bb25e9ee24e7dfee</td><td>2020-05-27T10:15:47.000+0000</td><td>impression</td><td>Search Engine Marketing</td><td>0</td></tr><tr><td>cbe474f7954442058b63380acf5759f2</td><td>2020-05-20T10:25:13.000+0000</td><td>impression</td><td>Affiliates</td><td>0</td></tr><tr><td>cbe474f7954442058b63380acf5759f2</td><td>2020-06-10T00:48:26.000+0000</td><td>impression</td><td>Search Engine Marketing</td><td>0</td></tr><tr><td>cbe474f7954442058b63380acf5759f2</td><td>2020-06-10T02:36:25.000+0000</td><td>impression</td><td>Search Engine Marketing</td><td>0</td></tr><tr><td>cbe474f7954442058b63380acf5759f2</td><td>2020-06-10T04:33:30.000+0000</td><td>impression</td><td>Social Network</td><td>0</td></tr><tr><td>cbe474f7954442058b63380acf5759f2</td><td>2020-06-10T04:37:24.000+0000</td><td>impression</td><td>Google Display Network</td><td>0</td></tr><tr><td>cbe474f7954442058b63380acf5759f2</td><td>2020-06-10T04:47:01.000+0000</td><td>impression</td><td>Google Display Network</td><td>0</td></tr><tr><td>cbe474f7954442058b63380acf5759f2</td><td>2020-06-10T04:48:06.000+0000</td><td>impression</td><td>Search Engine Marketing</td><td>0</td></tr><tr><td>38739c7e063a4a0f95e7eef3a3f88bbb</td><td>2020-06-01T17:59:07.000+0000</td><td>impression</td><td>Social Network</td><td>0</td></tr><tr><td>38739c7e063a4a0f95e7eef3a3f88bbb</td><td>2020-06-06T17:44:09.000+0000</td><td>impression</td><td>Affiliates</td><td>0</td></tr><tr><td>38739c7e063a4a0f95e7eef3a3f88bbb</td><td>2020-06-10T02:12:37.000+0000</td><td>impression</td><td>Google Display Network</td><td>0</td></tr><tr><td>38739c7e063a4a0f95e7eef3a3f88bbb</td><td>2020-06-10T04:26:22.000+0000</td><td>impression</td><td>Affiliates</td><td>0</td></tr><tr><td>38739c7e063a4a0f95e7eef3a3f88bbb</td><td>2020-06-10T04:44:21.000+0000</td><td>impression</td><td>Affiliates</td><td>0</td></tr><tr><td>38739c7e063a4a0f95e7eef3a3f88bbb</td><td>2020-06-10T04:49:08.000+0000</td><td>impression</td><td>Email</td><td>0</td></tr><tr><td>38739c7e063a4a0f95e7eef3a3f88bbb</td><td>2020-06-10T04:49:25.000+0000</td><td>impression</td><td>Email</td><td>0</td></tr><tr><td>087df45803454117ad937a82d6ed36e1</td><td>2020-06-08T02:35:42.000+0000</td><td>impression</td><td>Search Engine Marketing</td><td>0</td></tr><tr><td>087df45803454117ad937a82d6ed36e1</td><td>2020-06-09T10:30:32.000+0000</td><td>impression</td><td>Affiliates</td><td>0</td></tr><tr><td>7bbb6223c7bd4fc8a6f59e18e37d99a0</td><td>2020-06-06T16:00:00.000+0000</td><td>impression</td><td>Social Network</td><td>0</td></tr><tr><td>7bbb6223c7bd4fc8a6f59e18e37d99a0</td><td>2020-06-07T00:02:30.000+0000</td><td>impression</td><td>Social Network</td><td>0</td></tr><tr><td>ead7afa32869443bbe23f71374970d24</td><td>2020-06-03T18:45:20.000+0000</td><td>impression</td><td>Email</td><td>0</td></tr><tr><td>ead7afa32869443bbe23f71374970d24</td><td>2020-06-08T15:51:01.000+0000</td><td>impression</td><td>Search Engine Marketing</td><td>0</td></tr><tr><td>ead7afa32869443bbe23f71374970d24</td><td>2020-06-09T04:24:28.000+0000</td><td>impression</td><td>Social Network</td><td>0</td></tr><tr><td>ead7afa32869443bbe23f71374970d24</td><td>2020-06-09T10:54:27.000+0000</td><td>impression</td><td>Affiliates</td><td>0</td></tr><tr><td>ead7afa32869443bbe23f71374970d24</td><td>2020-06-09T23:19:30.000+0000</td><td>impression</td><td>Affiliates</td><td>0</td></tr><tr><td>4bdb38a8837848b7aa50f2c3f50b1bda</td><td>2020-05-27T03:48:50.000+0000</td><td>impression</td><td>Social Network</td><td>0</td></tr><tr><td>4bdb38a8837848b7aa50f2c3f50b1bda</td><td>2020-06-03T05:43:11.000+0000</td><td>impression</td><td>Google Display Network</td><td>0</td></tr><tr><td>4bdb38a8837848b7aa50f2c3f50b1bda</td><td>2020-06-06T06:21:45.000+0000</td><td>impression</td><td>Affiliates</td><td>0</td></tr><tr><td>4bdb38a8837848b7aa50f2c3f50b1bda</td><td>2020-06-07T15:36:09.000+0000</td><td>impression</td><td>Social Network</td><td>0</td></tr><tr><td>4bdb38a8837848b7aa50f2c3f50b1bda</td><td>2020-06-09T04:32:29.000+0000</td><td>impression</td><td>Google Display Network</td><td>0</td></tr><tr><td>4bdb38a8837848b7aa50f2c3f50b1bda</td><td>2020-06-09T04:40:59.000+0000</td><td>impression</td><td>Google Display Network</td><td>0</td></tr><tr><td>4b2d21dd63154b208db0cf21767c6f05</td><td>2020-06-06T20:31:01.000+0000</td><td>impression</td><td>Affiliates</td><td>0</td></tr><tr><td>4b2d21dd63154b208db0cf21767c6f05</td><td>2020-06-09T09:22:12.000+0000</td><td>impression</td><td>Search Engine Marketing</td><td>0</td></tr><tr><td>4b2d21dd63154b208db0cf21767c6f05</td><td>2020-06-09T14:44:01.000+0000</td><td>impression</td><td>Search Engine Marketing</td><td>0</td></tr><tr><td>7716630e2b3b45e3a598b045386dea2e</td><td>2020-05-24T01:35:44.000+0000</td><td>impression</td><td>Affiliates</td><td>0</td></tr><tr><td>7716630e2b3b45e3a598b045386dea2e</td><td>2020-06-02T02:43:53.000+0000</td><td>impression</td><td>Search Engine Marketing</td><td>0</td></tr><tr><td>7716630e2b3b45e3a598b045386dea2e</td><td>2020-06-06T20:54:18.000+0000</td><td>impression</td><td>Affiliates</td><td>0</td></tr><tr><td>7716630e2b3b45e3a598b045386dea2e</td><td>2020-06-07T23:25:02.000+0000</td><td>impression</td><td>Affiliates</td><td>0</td></tr><tr><td>7716630e2b3b45e3a598b045386dea2e</td><td>2020-06-09T23:35:43.000+0000</td><td>impression</td><td>Search Engine Marketing</td><td>0</td></tr><tr><td>7716630e2b3b45e3a598b045386dea2e</td><td>2020-06-10T02:19:59.000+0000</td><td>impression</td><td>Affiliates</td><td>0</td></tr><tr><td>7716630e2b3b45e3a598b045386dea2e</td><td>2020-06-10T03:57:04.000+0000</td><td>impression</td><td>Affiliates</td><td>0</td></tr><tr><td>4713143e496146c5928f5913b8f9c9c3</td><td>2020-05-17T20:33:22.000+0000</td><td>impression</td><td>Search Engine Marketing</td><td>0</td></tr><tr><td>4713143e496146c5928f5913b8f9c9c3</td><td>2020-06-07T01:46:45.000+0000</td><td>impression</td><td>Search Engine Marketing</td><td>0</td></tr><tr><td>4713143e496146c5928f5913b8f9c9c3</td><td>2020-06-07T14:43:26.000+0000</td><td>impression</td><td>Google Display Network</td><td>0</td></tr><tr><td>4713143e496146c5928f5913b8f9c9c3</td><td>2020-06-09T07:18:16.000+0000</td><td>impression</td><td>Affiliates</td><td>0</td></tr><tr><td>4713143e496146c5928f5913b8f9c9c3</td><td>2020-06-10T03:16:02.000+0000</td><td>impression</td><td>Search Engine Marketing</td><td>0</td></tr><tr><td>4713143e496146c5928f5913b8f9c9c3</td><td>2020-06-10T04:07:52.000+0000</td><td>impression</td><td>Social Network</td><td>0</td></tr><tr><td>47dad0fbd6274206b340b9b03c41702c</td><td>2020-05-29T08:00:43.000+0000</td><td>impression</td><td>Search Engine Marketing</td><td>0</td></tr><tr><td>47dad0fbd6274206b340b9b03c41702c</td><td>2020-05-31T22:16:29.000+0000</td><td>impression</td><td>Google Display Network</td><td>0</td></tr><tr><td>47dad0fbd6274206b340b9b03c41702c</td><td>2020-06-03T09:30:52.000+0000</td><td>impression</td><td>Affiliates</td><td>0</td></tr><tr><td>ceb186a386304d9b8250b8f08bbea2a8</td><td>2020-05-26T10:39:04.000+0000</td><td>impression</td><td>Search Engine Marketing</td><td>0</td></tr><tr><td>ceb186a386304d9b8250b8f08bbea2a8</td><td>2020-05-31T23:39:31.000+0000</td><td>impression</td><td>Affiliates</td><td>0</td></tr><tr><td>ceb186a386304d9b8250b8f08bbea2a8</td><td>2020-06-07T08:12:36.000+0000</td><td>impression</td><td>Affiliates</td><td>0</td></tr><tr><td>ceb186a386304d9b8250b8f08bbea2a8</td><td>2020-06-07T23:39:32.000+0000</td><td>impression</td><td>Social Network</td><td>0</td></tr><tr><td>ceb186a386304d9b8250b8f08bbea2a8</td><td>2020-06-09T12:24:15.000+0000</td><td>impression</td><td>Search Engine Marketing</td><td>0</td></tr><tr><td>ceb186a386304d9b8250b8f08bbea2a8</td><td>2020-06-09T21:12:13.000+0000</td><td>conversion</td><td>Affiliates</td><td>1</td></tr><tr><td>0229f8351a244d7abf607fc16a815791</td><td>2020-05-23T20:24:34.000+0000</td><td>impression</td><td>Affiliates</td><td>0</td></tr><tr><td>0229f8351a244d7abf607fc16a815791</td><td>2020-05-28T20:46:08.000+0000</td><td>impression</td><td>Google Display Network</td><td>0</td></tr><tr><td>0229f8351a244d7abf607fc16a815791</td><td>2020-06-05T20:03:04.000+0000</td><td>impression</td><td>Google Display Network</td><td>0</td></tr><tr><td>0229f8351a244d7abf607fc16a815791</td><td>2020-06-09T13:38:58.000+0000</td><td>impression</td><td>Affiliates</td><td>0</td></tr><tr><td>0229f8351a244d7abf607fc16a815791</td><td>2020-06-09T16:59:38.000+0000</td><td>impression</td><td>Affiliates</td><td>0</td></tr><tr><td>84c07c79a2d749ef8c5c4ea193ebf6ec</td><td>2020-06-07T00:08:31.000+0000</td><td>impression</td><td>Affiliates</td><td>0</td></tr><tr><td>dc6b3f3d92b94863afc8964eb592eae3</td><td>2020-05-21T04:59:09.000+0000</td><td>impression</td><td>Search Engine Marketing</td><td>0</td></tr><tr><td>9e9bbb8e75694af6a5c9ca46c7e8fb76</td><td>2020-05-25T12:50:18.000+0000</td><td>impression</td><td>Search Engine Marketing</td><td>0</td></tr><tr><td>9e9bbb8e75694af6a5c9ca46c7e8fb76</td><td>2020-06-08T12:44:28.000+0000</td><td>impression</td><td>Search Engine Marketing</td><td>0</td></tr><tr><td>9e9bbb8e75694af6a5c9ca46c7e8fb76</td><td>2020-06-09T23:37:51.000+0000</td><td>impression</td><td>Affiliates</td><td>0</td></tr><tr><td>9e9bbb8e75694af6a5c9ca46c7e8fb76</td><td>2020-06-10T00:45:34.000+0000</td><td>impression</td><td>Affiliates</td><td>0</td></tr><tr><td>9e9bbb8e75694af6a5c9ca46c7e8fb76</td><td>2020-06-10T03:09:20.000+0000</td><td>impression</td><td>Google Display Network</td><td>0</td></tr><tr><td>9e9bbb8e75694af6a5c9ca46c7e8fb76</td><td>2020-06-10T04:33:02.000+0000</td><td>impression</td><td>Affiliates</td><td>0</td></tr><tr><td>9e9bbb8e75694af6a5c9ca46c7e8fb76</td><td>2020-06-10T04:43:57.000+0000</td><td>impression</td><td>Affiliates</td><td>0</td></tr><tr><td>763d3ace495f4e0f9432f56c77b7384d</td><td>2020-05-23T17:31:32.000+0000</td><td>impression</td><td>Email</td><td>0</td></tr><tr><td>763d3ace495f4e0f9432f56c77b7384d</td><td>2020-05-23T20:25:02.000+0000</td><td>impression</td><td>Affiliates</td><td>0</td></tr><tr><td>763d3ace495f4e0f9432f56c77b7384d</td><td>2020-06-05T17:55:49.000+0000</td><td>impression</td><td>Search Engine Marketing</td><td>0</td></tr><tr><td>763d3ace495f4e0f9432f56c77b7384d</td><td>2020-06-07T20:45:49.000+0000</td><td>impression</td><td>Search Engine Marketing</td><td>0</td></tr><tr><td>763d3ace495f4e0f9432f56c77b7384d</td><td>2020-06-08T02:24:43.000+0000</td><td>impression</td><td>Google Display Network</td><td>0</td></tr><tr><td>763d3ace495f4e0f9432f56c77b7384d</td><td>2020-06-08T17:35:51.000+0000</td><td>impression</td><td>Social Network</td><td>0</td></tr><tr><td>763d3ace495f4e0f9432f56c77b7384d</td><td>2020-06-09T15:43:16.000+0000</td><td>impression</td><td>Search Engine Marketing</td><td>0</td></tr><tr><td>763d3ace495f4e0f9432f56c77b7384d</td><td>2020-06-09T17:59:39.000+0000</td><td>impression</td><td>Social Network</td><td>0</td></tr><tr><td>763d3ace495f4e0f9432f56c77b7384d</td><td>2020-06-09T22:46:24.000+0000</td><td>impression</td><td>Search Engine Marketing</td><td>0</td></tr><tr><td>204f748fd4ef4167a8001c7e69aa2c89</td><td>2020-05-23T15:35:09.000+0000</td><td>impression</td><td>Search Engine Marketing</td><td>0</td></tr><tr><td>204f748fd4ef4167a8001c7e69aa2c89</td><td>2020-05-27T21:36:21.000+0000</td><td>impression</td><td>Search Engine Marketing</td><td>0</td></tr><tr><td>204f748fd4ef4167a8001c7e69aa2c89</td><td>2020-06-06T01:55:28.000+0000</td><td>impression</td><td>Affiliates</td><td>0</td></tr><tr><td>204f748fd4ef4167a8001c7e69aa2c89</td><td>2020-06-07T14:00:41.000+0000</td><td>impression</td><td>Search Engine Marketing</td><td>0</td></tr><tr><td>204f748fd4ef4167a8001c7e69aa2c89</td><td>2020-06-09T08:04:46.000+0000</td><td>impression</td><td>Google Display Network</td><td>0</td></tr><tr><td>6db98b837060487696c3a3c885518c01</td><td>2020-06-06T22:31:53.000+0000</td><td>impression</td><td>Social Network</td><td>0</td></tr><tr><td>6db98b837060487696c3a3c885518c01</td><td>2020-06-07T04:22:38.000+0000</td><td>impression</td><td>Affiliates</td><td>0</td></tr><tr><td>6db98b837060487696c3a3c885518c01</td><td>2020-06-10T02:29:36.000+0000</td><td>impression</td><td>Search Engine Marketing</td><td>0</td></tr><tr><td>6db98b837060487696c3a3c885518c01</td><td>2020-06-10T02:49:25.000+0000</td><td>impression</td><td>Google Display Network</td><td>0</td></tr><tr><td>9db9ec7e668d4250bee63efd9af84853</td><td>2020-05-28T21:37:01.000+0000</td><td>impression</td><td>Google Display Network</td><td>0</td></tr><tr><td>9db9ec7e668d4250bee63efd9af84853</td><td>2020-06-06T05:31:44.000+0000</td><td>impression</td><td>Social Network</td><td>0</td></tr><tr><td>1e27587073664eca94ce8fa141cbdb44</td><td>2020-05-28T03:53:07.000+0000</td><td>impression</td><td>Search Engine Marketing</td><td>0</td></tr><tr><td>1e27587073664eca94ce8fa141cbdb44</td><td>2020-05-28T07:30:45.000+0000</td><td>impression</td><td>Social Network</td><td>0</td></tr><tr><td>1e27587073664eca94ce8fa141cbdb44</td><td>2020-05-30T20:41:50.000+0000</td><td>impression</td><td>Affiliates</td><td>0</td></tr><tr><td>1e27587073664eca94ce8fa141cbdb44</td><td>2020-06-04T13:46:21.000+0000</td><td>impression</td><td>Affiliates</td><td>0</td></tr><tr><td>1e27587073664eca94ce8fa141cbdb44</td><td>2020-06-10T03:58:51.000+0000</td><td>impression</td><td>Google Display Network</td><td>0</td></tr><tr><td>1e27587073664eca94ce8fa141cbdb44</td><td>2020-06-10T04:21:34.000+0000</td><td>impression</td><td>Affiliates</td><td>0</td></tr><tr><td>1e27587073664eca94ce8fa141cbdb44</td><td>2020-06-10T04:31:16.000+0000</td><td>impression</td><td>Search Engine Marketing</td><td>0</td></tr><tr><td>1e27587073664eca94ce8fa141cbdb44</td><td>2020-06-10T04:47:04.000+0000</td><td>impression</td><td>Social Network</td><td>0</td></tr><tr><td>289eb6b325cd48968c4845b43b12c45f</td><td>2020-05-31T13:32:17.000+0000</td><td>impression</td><td>Social Network</td><td>0</td></tr><tr><td>289eb6b325cd48968c4845b43b12c45f</td><td>2020-06-07T04:29:25.000+0000</td><td>impression</td><td>Google Display Network</td><td>0</td></tr><tr><td>289eb6b325cd48968c4845b43b12c45f</td><td>2020-06-08T00:56:41.000+0000</td><td>impression</td><td>Social Network</td><td>0</td></tr><tr><td>289eb6b325cd48968c4845b43b12c45f</td><td>2020-06-09T17:43:37.000+0000</td><td>impression</td><td>Search Engine Marketing</td><td>0</td></tr><tr><td>289eb6b325cd48968c4845b43b12c45f</td><td>2020-06-09T18:39:27.000+0000</td><td>impression</td><td>Search Engine Marketing</td><td>0</td></tr><tr><td>289eb6b325cd48968c4845b43b12c45f</td><td>2020-06-09T21:15:14.000+0000</td><td>impression</td><td>Search Engine Marketing</td><td>0</td></tr><tr><td>289eb6b325cd48968c4845b43b12c45f</td><td>2020-06-09T23:59:22.000+0000</td><td>impression</td><td>Affiliates</td><td>0</td></tr><tr><td>695bc04b480a48d3aa7b470243be5241</td><td>2020-05-28T04:25:42.000+0000</td><td>impression</td><td>Social Network</td><td>0</td></tr><tr><td>cdf9afbb6931445499f99a52ac5bfca5</td><td>2020-05-19T17:38:02.000+0000</td><td>impression</td><td>Search Engine Marketing</td><td>0</td></tr><tr><td>cdf9afbb6931445499f99a52ac5bfca5</td><td>2020-05-21T20:50:44.000+0000</td><td>impression</td><td>Search Engine Marketing</td><td>0</td></tr><tr><td>cdf9afbb6931445499f99a52ac5bfca5</td><td>2020-06-01T17:57:40.000+0000</td><td>impression</td><td>Affiliates</td><td>0</td></tr><tr><td>cdf9afbb6931445499f99a52ac5bfca5</td><td>2020-06-07T14:24:25.000+0000</td><td>impression</td><td>Affiliates</td><td>0</td></tr><tr><td>cdf9afbb6931445499f99a52ac5bfca5</td><td>2020-06-10T00:38:32.000+0000</td><td>impression</td><td>Search Engine Marketing</td><td>0</td></tr><tr><td>cdf9afbb6931445499f99a52ac5bfca5</td><td>2020-06-10T04:00:11.000+0000</td><td>impression</td><td>Social Network</td><td>0</td></tr><tr><td>cdf9afbb6931445499f99a52ac5bfca5</td><td>2020-06-10T04:08:43.000+0000</td><td>impression</td><td>Search Engine Marketing</td><td>0</td></tr><tr><td>cdf9afbb6931445499f99a52ac5bfca5</td><td>2020-06-10T04:24:48.000+0000</td><td>impression</td><td>Affiliates</td><td>0</td></tr><tr><td>cdf9afbb6931445499f99a52ac5bfca5</td><td>2020-06-10T04:38:10.000+0000</td><td>impression</td><td>Google Display Network</td><td>0</td></tr><tr><td>18bfccab238c43a7894cf66269baec33</td><td>2020-05-20T07:26:22.000+0000</td><td>impression</td><td>Social Network</td><td>0</td></tr><tr><td>7252efb74bb3449f81c72008d00fbae5</td><td>2020-05-30T08:41:32.000+0000</td><td>impression</td><td>Search Engine Marketing</td><td>0</td></tr><tr><td>7252efb74bb3449f81c72008d00fbae5</td><td>2020-06-07T13:45:05.000+0000</td><td>impression</td><td>Affiliates</td><td>0</td></tr><tr><td>7252efb74bb3449f81c72008d00fbae5</td><td>2020-06-08T00:17:01.000+0000</td><td>impression</td><td>Affiliates</td><td>0</td></tr><tr><td>7252efb74bb3449f81c72008d00fbae5</td><td>2020-06-09T06:30:35.000+0000</td><td>impression</td><td>Affiliates</td><td>0</td></tr><tr><td>7252efb74bb3449f81c72008d00fbae5</td><td>2020-06-09T15:09:32.000+0000</td><td>impression</td><td>Affiliates</td><td>0</td></tr><tr><td>45a0b01a5a04441ea39664ef14da20ee</td><td>2020-05-18T07:17:45.000+0000</td><td>impression</td><td>Affiliates</td><td>0</td></tr><tr><td>45a0b01a5a04441ea39664ef14da20ee</td><td>2020-06-04T11:42:58.000+0000</td><td>impression</td><td>Email</td><td>0</td></tr><tr><td>45a0b01a5a04441ea39664ef14da20ee</td><td>2020-06-08T12:48:08.000+0000</td><td>impression</td><td>Affiliates</td><td>0</td></tr><tr><td>45a0b01a5a04441ea39664ef14da20ee</td><td>2020-06-09T20:27:45.000+0000</td><td>impression</td><td>Social Network</td><td>0</td></tr><tr><td>45a0b01a5a04441ea39664ef14da20ee</td><td>2020-06-10T01:38:45.000+0000</td><td>impression</td><td>Affiliates</td><td>0</td></tr><tr><td>45a0b01a5a04441ea39664ef14da20ee</td><td>2020-06-10T02:22:09.000+0000</td><td>impression</td><td>Search Engine Marketing</td><td>0</td></tr><tr><td>45a0b01a5a04441ea39664ef14da20ee</td><td>2020-06-10T02:31:23.000+0000</td><td>impression</td><td>Search Engine Marketing</td><td>0</td></tr><tr><td>45a0b01a5a04441ea39664ef14da20ee</td><td>2020-06-10T02:38:01.000+0000</td><td>impression</td><td>Social Network</td><td>0</td></tr><tr><td>45a0b01a5a04441ea39664ef14da20ee</td><td>2020-06-10T04:04:12.000+0000</td><td>impression</td><td>Google Display Network</td><td>0</td></tr><tr><td>7b761ee2ca564332888ec3078e335b2f</td><td>2020-05-27T10:19:15.000+0000</td><td>conversion</td><td>Affiliates</td><td>1</td></tr><tr><td>5b5e85003c5646aea0cdbac97ee9e459</td><td>2020-05-19T11:35:26.000+0000</td><td>impression</td><td>Search Engine Marketing</td><td>0</td></tr><tr><td>5b5e85003c5646aea0cdbac97ee9e459</td><td>2020-05-28T04:05:20.000+0000</td><td>impression</td><td>Email</td><td>0</td></tr><tr><td>5b5e85003c5646aea0cdbac97ee9e459</td><td>2020-06-08T09:37:29.000+0000</td><td>impression</td><td>Affiliates</td><td>0</td></tr><tr><td>5b5e85003c5646aea0cdbac97ee9e459</td><td>2020-06-08T13:59:29.000+0000</td><td>conversion</td><td>Social Network</td><td>1</td></tr><tr><td>967ad262430d4310b364f81c8b7d83ab</td><td>2020-05-29T17:51:47.000+0000</td><td>impression</td><td>Social Network</td><td>0</td></tr><tr><td>967ad262430d4310b364f81c8b7d83ab</td><td>2020-06-06T11:41:44.000+0000</td><td>impression</td><td>Search Engine Marketing</td><td>0</td></tr><tr><td>967ad262430d4310b364f81c8b7d83ab</td><td>2020-06-09T07:08:29.000+0000</td><td>impression</td><td>Search Engine Marketing</td><td>0</td></tr><tr><td>967ad262430d4310b364f81c8b7d83ab</td><td>2020-06-10T00:21:04.000+0000</td><td>impression</td><td>Google Display Network</td><td>0</td></tr><tr><td>967ad262430d4310b364f81c8b7d83ab</td><td>2020-06-10T03:10:42.000+0000</td><td>impression</td><td>Affiliates</td><td>0</td></tr><tr><td>967ad262430d4310b364f81c8b7d83ab</td><td>2020-06-10T04:38:04.000+0000</td><td>impression</td><td>Search Engine Marketing</td><td>0</td></tr><tr><td>a2365fb796714a9a9524a1ebd8cadace</td><td>2020-05-29T09:49:43.000+0000</td><td>impression</td><td>Affiliates</td><td>0</td></tr><tr><td>a2365fb796714a9a9524a1ebd8cadace</td><td>2020-06-07T05:42:54.000+0000</td><td>impression</td><td>Search Engine Marketing</td><td>0</td></tr><tr><td>a2365fb796714a9a9524a1ebd8cadace</td><td>2020-06-07T06:38:23.000+0000</td><td>impression</td><td>Social Network</td><td>0</td></tr><tr><td>a2365fb796714a9a9524a1ebd8cadace</td><td>2020-06-07T15:50:53.000+0000</td><td>impression</td><td>Search Engine Marketing</td><td>0</td></tr><tr><td>a2365fb796714a9a9524a1ebd8cadace</td><td>2020-06-08T15:21:42.000+0000</td><td>impression</td><td>Google Display Network</td><td>0</td></tr><tr><td>a2365fb796714a9a9524a1ebd8cadace</td><td>2020-06-08T23:00:03.000+0000</td><td>impression</td><td>Affiliates</td><td>0</td></tr><tr><td>a2365fb796714a9a9524a1ebd8cadace</td><td>2020-06-09T23:34:32.000+0000</td><td>impression</td><td>Search Engine Marketing</td><td>0</td></tr><tr><td>a2365fb796714a9a9524a1ebd8cadace</td><td>2020-06-10T02:25:02.000+0000</td><td>impression</td><td>Search Engine Marketing</td><td>0</td></tr><tr><td>a2365fb796714a9a9524a1ebd8cadace</td><td>2020-06-10T03:16:44.000+0000</td><td>impression</td><td>Affiliates</td><td>0</td></tr><tr><td>33f90710d4c341bd97cb24139a8087a4</td><td>2020-05-18T14:50:32.000+0000</td><td>impression</td><td>Affiliates</td><td>0</td></tr><tr><td>33f90710d4c341bd97cb24139a8087a4</td><td>2020-05-22T11:32:32.000+0000</td><td>impression</td><td>Social Network</td><td>0</td></tr><tr><td>33f90710d4c341bd97cb24139a8087a4</td><td>2020-05-27T01:06:36.000+0000</td><td>impression</td><td>Google Display Network</td><td>0</td></tr><tr><td>33f90710d4c341bd97cb24139a8087a4</td><td>2020-05-31T05:55:45.000+0000</td><td>impression</td><td>Google Display Network</td><td>0</td></tr><tr><td>33f90710d4c341bd97cb24139a8087a4</td><td>2020-05-31T18:15:26.000+0000</td><td>impression</td><td>Google Display Network</td><td>0</td></tr><tr><td>33f90710d4c341bd97cb24139a8087a4</td><td>2020-06-03T17:38:45.000+0000</td><td>impression</td><td>Affiliates</td><td>0</td></tr><tr><td>33f90710d4c341bd97cb24139a8087a4</td><td>2020-06-05T22:29:25.000+0000</td><td>impression</td><td>Social Network</td><td>0</td></tr><tr><td>6cb35b12f39e46b49278895786e1b932</td><td>2020-05-20T05:40:17.000+0000</td><td>impression</td><td>Social Network</td><td>0</td></tr><tr><td>6cb35b12f39e46b49278895786e1b932</td><td>2020-05-31T14:00:52.000+0000</td><td>impression</td><td>Social Network</td><td>0</td></tr><tr><td>6cb35b12f39e46b49278895786e1b932</td><td>2020-06-08T08:20:12.000+0000</td><td>impression</td><td>Search Engine Marketing</td><td>0</td></tr><tr><td>6cb35b12f39e46b49278895786e1b932</td><td>2020-06-09T07:16:37.000+0000</td><td>impression</td><td>Affiliates</td><td>0</td></tr><tr><td>6cb35b12f39e46b49278895786e1b932</td><td>2020-06-10T02:27:41.000+0000</td><td>impression</td><td>Email</td><td>0</td></tr><tr><td>5513351095614bcdb8689994f303b28b</td><td>2020-05-29T05:03:30.000+0000</td><td>impression</td><td>Affiliates</td><td>0</td></tr><tr><td>5513351095614bcdb8689994f303b28b</td><td>2020-05-31T08:27:16.000+0000</td><td>impression</td><td>Search Engine Marketing</td><td>0</td></tr><tr><td>5513351095614bcdb8689994f303b28b</td><td>2020-06-01T01:11:26.000+0000</td><td>impression</td><td>Affiliates</td><td>0</td></tr><tr><td>5513351095614bcdb8689994f303b28b</td><td>2020-06-08T13:23:49.000+0000</td><td>impression</td><td>Search Engine Marketing</td><td>0</td></tr><tr><td>540626b719a04cd1aa2158dc824f74d3</td><td>2020-05-21T18:56:38.000+0000</td><td>impression</td><td>Affiliates</td><td>0</td></tr><tr><td>540626b719a04cd1aa2158dc824f74d3</td><td>2020-05-23T08:59:23.000+0000</td><td>impression</td><td>Search Engine Marketing</td><td>0</td></tr><tr><td>540626b719a04cd1aa2158dc824f74d3</td><td>2020-05-25T18:30:23.000+0000</td><td>impression</td><td>Google Display Network</td><td>0</td></tr><tr><td>540626b719a04cd1aa2158dc824f74d3</td><td>2020-05-27T21:21:48.000+0000</td><td>impression</td><td>Email</td><td>0</td></tr><tr><td>540626b719a04cd1aa2158dc824f74d3</td><td>2020-06-02T23:54:49.000+0000</td><td>impression</td><td>Social Network</td><td>0</td></tr><tr><td>540626b719a04cd1aa2158dc824f74d3</td><td>2020-06-05T15:36:26.000+0000</td><td>impression</td><td>Social Network</td><td>0</td></tr><tr><td>ec96b34468214d91a209ccb61af09f35</td><td>2020-05-29T13:20:44.000+0000</td><td>impression</td><td>Affiliates</td><td>0</td></tr><tr><td>ec96b34468214d91a209ccb61af09f35</td><td>2020-06-06T01:17:32.000+0000</td><td>impression</td><td>Affiliates</td><td>0</td></tr><tr><td>ec96b34468214d91a209ccb61af09f35</td><td>2020-06-06T13:43:11.000+0000</td><td>impression</td><td>Affiliates</td><td>0</td></tr><tr><td>ec96b34468214d91a209ccb61af09f35</td><td>2020-06-07T15:19:51.000+0000</td><td>impression</td><td>Affiliates</td><td>0</td></tr><tr><td>b29a3ff2ad874e6cbc5687b304cf8061</td><td>2020-05-28T13:27:08.000+0000</td><td>impression</td><td>Social Network</td><td>0</td></tr><tr><td>b29a3ff2ad874e6cbc5687b304cf8061</td><td>2020-06-07T08:43:00.000+0000</td><td>impression</td><td>Search Engine Marketing</td><td>0</td></tr><tr><td>b29a3ff2ad874e6cbc5687b304cf8061</td><td>2020-06-07T21:19:08.000+0000</td><td>impression</td><td>Search Engine Marketing</td><td>0</td></tr><tr><td>b29a3ff2ad874e6cbc5687b304cf8061</td><td>2020-06-08T15:13:34.000+0000</td><td>impression</td><td>Search Engine Marketing</td><td>0</td></tr><tr><td>b29a3ff2ad874e6cbc5687b304cf8061</td><td>2020-06-10T03:44:05.000+0000</td><td>impression</td><td>Affiliates</td><td>0</td></tr><tr><td>b29a3ff2ad874e6cbc5687b304cf8061</td><td>2020-06-10T03:58:11.000+0000</td><td>impression</td><td>Social Network</td><td>0</td></tr><tr><td>b29a3ff2ad874e6cbc5687b304cf8061</td><td>2020-06-10T03:59:29.000+0000</td><td>impression</td><td>Search Engine Marketing</td><td>0</td></tr><tr><td>4154968505fe4d67b976f5ed15ea9501</td><td>2020-05-30T23:40:39.000+0000</td><td>impression</td><td>Social Network</td><td>0</td></tr><tr><td>4154968505fe4d67b976f5ed15ea9501</td><td>2020-06-07T15:38:33.000+0000</td><td>impression</td><td>Affiliates</td><td>0</td></tr><tr><td>4154968505fe4d67b976f5ed15ea9501</td><td>2020-06-08T14:23:55.000+0000</td><td>impression</td><td>Search Engine Marketing</td><td>0</td></tr><tr><td>4154968505fe4d67b976f5ed15ea9501</td><td>2020-06-10T04:01:05.000+0000</td><td>impression</td><td>Affiliates</td><td>0</td></tr><tr><td>4154968505fe4d67b976f5ed15ea9501</td><td>2020-06-10T04:30:01.000+0000</td><td>impression</td><td>Social Network</td><td>0</td></tr><tr><td>4154968505fe4d67b976f5ed15ea9501</td><td>2020-06-10T04:42:42.000+0000</td><td>impression</td><td>Google Display Network</td><td>0</td></tr><tr><td>4154968505fe4d67b976f5ed15ea9501</td><td>2020-06-10T04:47:07.000+0000</td><td>impression</td><td>Affiliates</td><td>0</td></tr><tr><td>4154968505fe4d67b976f5ed15ea9501</td><td>2020-06-10T04:47:51.000+0000</td><td>conversion</td><td>Social Network</td><td>1</td></tr><tr><td>eb026e9a13d34135b720661adffebb7f</td><td>2020-06-04T18:37:11.000+0000</td><td>impression</td><td>Search Engine Marketing</td><td>0</td></tr><tr><td>eb026e9a13d34135b720661adffebb7f</td><td>2020-06-06T06:38:35.000+0000</td><td>impression</td><td>Google Display Network</td><td>0</td></tr><tr><td>eb026e9a13d34135b720661adffebb7f</td><td>2020-06-08T19:36:03.000+0000</td><td>impression</td><td>Google Display Network</td><td>0</td></tr><tr><td>0196b92951714cb491671f2809b5b774</td><td>2020-05-23T08:43:54.000+0000</td><td>impression</td><td>Search Engine Marketing</td><td>0</td></tr><tr><td>0196b92951714cb491671f2809b5b774</td><td>2020-06-09T04:54:05.000+0000</td><td>impression</td><td>Social Network</td><td>0</td></tr><tr><td>0196b92951714cb491671f2809b5b774</td><td>2020-06-09T09:03:00.000+0000</td><td>impression</td><td>Affiliates</td><td>0</td></tr><tr><td>0196b92951714cb491671f2809b5b774</td><td>2020-06-09T18:01:39.000+0000</td><td>impression</td><td>Affiliates</td><td>0</td></tr><tr><td>f42dbe8dbce9417b8f9a3ac58bcd91af</td><td>2020-06-05T01:08:00.000+0000</td><td>impression</td><td>Search Engine Marketing</td><td>0</td></tr><tr><td>f42dbe8dbce9417b8f9a3ac58bcd91af</td><td>2020-06-07T18:13:46.000+0000</td><td>impression</td><td>Social Network</td><td>0</td></tr><tr><td>f42dbe8dbce9417b8f9a3ac58bcd91af</td><td>2020-06-07T22:23:20.000+0000</td><td>impression</td><td>Email</td><td>0</td></tr><tr><td>f42dbe8dbce9417b8f9a3ac58bcd91af</td><td>2020-06-08T23:29:01.000+0000</td><td>impression</td><td>Google Display Network</td><td>0</td></tr><tr><td>f42dbe8dbce9417b8f9a3ac58bcd91af</td><td>2020-06-09T02:12:51.000+0000</td><td>impression</td><td>Affiliates</td><td>0</td></tr><tr><td>f42dbe8dbce9417b8f9a3ac58bcd91af</td><td>2020-06-09T21:54:13.000+0000</td><td>impression</td><td>Search Engine Marketing</td><td>0</td></tr><tr><td>bf8f1f6f5dd24cbd995fe616a5db87a2</td><td>2020-05-19T12:48:31.000+0000</td><td>impression</td><td>Affiliates</td><td>0</td></tr><tr><td>bf8f1f6f5dd24cbd995fe616a5db87a2</td><td>2020-05-27T12:33:28.000+0000</td><td>impression</td><td>Social Network</td><td>0</td></tr><tr><td>6ca8326c2b8a4fc6809eef4dee2372c3</td><td>2020-06-01T22:17:21.000+0000</td><td>impression</td><td>Search Engine Marketing</td><td>0</td></tr><tr><td>6ca8326c2b8a4fc6809eef4dee2372c3</td><td>2020-06-05T12:16:51.000+0000</td><td>impression</td><td>Affiliates</td><td>0</td></tr><tr><td>6ca8326c2b8a4fc6809eef4dee2372c3</td><td>2020-06-06T19:54:00.000+0000</td><td>impression</td><td>Search Engine Marketing</td><td>0</td></tr><tr><td>6ca8326c2b8a4fc6809eef4dee2372c3</td><td>2020-06-07T10:49:14.000+0000</td><td>impression</td><td>Affiliates</td><td>0</td></tr><tr><td>6ca8326c2b8a4fc6809eef4dee2372c3</td><td>2020-06-09T15:02:17.000+0000</td><td>impression</td><td>Search Engine Marketing</td><td>0</td></tr><tr><td>6ca8326c2b8a4fc6809eef4dee2372c3</td><td>2020-06-10T03:33:56.000+0000</td><td>impression</td><td>Google Display Network</td><td>0</td></tr><tr><td>6ca8326c2b8a4fc6809eef4dee2372c3</td><td>2020-06-10T03:52:24.000+0000</td><td>impression</td><td>Social Network</td><td>0</td></tr><tr><td>6ca8326c2b8a4fc6809eef4dee2372c3</td><td>2020-06-10T04:33:09.000+0000</td><td>impression</td><td>Affiliates</td><td>0</td></tr><tr><td>6ca8326c2b8a4fc6809eef4dee2372c3</td><td>2020-06-10T04:41:02.000+0000</td><td>impression</td><td>Social Network</td><td>0</td></tr><tr><td>425406f714be43699061a324aa9fc849</td><td>2020-05-23T09:55:56.000+0000</td><td>impression</td><td>Affiliates</td><td>0</td></tr><tr><td>425406f714be43699061a324aa9fc849</td><td>2020-06-08T10:14:23.000+0000</td><td>impression</td><td>Google Display Network</td><td>0</td></tr><tr><td>425406f714be43699061a324aa9fc849</td><td>2020-06-08T17:42:55.000+0000</td><td>impression</td><td>Affiliates</td><td>0</td></tr><tr><td>425406f714be43699061a324aa9fc849</td><td>2020-06-09T22:55:30.000+0000</td><td>impression</td><td>Search Engine Marketing</td><td>0</td></tr><tr><td>99cd32701a5740a89d3ef75c1113af41</td><td>2020-05-31T22:02:50.000+0000</td><td>impression</td><td>Affiliates</td><td>0</td></tr><tr><td>99cd32701a5740a89d3ef75c1113af41</td><td>2020-06-05T17:41:09.000+0000</td><td>impression</td><td>Affiliates</td><td>0</td></tr><tr><td>99cd32701a5740a89d3ef75c1113af41</td><td>2020-06-08T12:12:21.000+0000</td><td>impression</td><td>Social Network</td><td>0</td></tr><tr><td>99cd32701a5740a89d3ef75c1113af41</td><td>2020-06-09T22:34:25.000+0000</td><td>impression</td><td>Affiliates</td><td>0</td></tr><tr><td>99cd32701a5740a89d3ef75c1113af41</td><td>2020-06-10T00:44:13.000+0000</td><td>impression</td><td>Social Network</td><td>0</td></tr><tr><td>99cd32701a5740a89d3ef75c1113af41</td><td>2020-06-10T01:11:49.000+0000</td><td>impression</td><td>Search Engine Marketing</td><td>0</td></tr><tr><td>99cd32701a5740a89d3ef75c1113af41</td><td>2020-06-10T02:29:10.000+0000</td><td>impression</td><td>Email</td><td>0</td></tr><tr><td>99cd32701a5740a89d3ef75c1113af41</td><td>2020-06-10T04:21:10.000+0000</td><td>impression</td><td>Search Engine Marketing</td><td>0</td></tr><tr><td>99cd32701a5740a89d3ef75c1113af41</td><td>2020-06-10T04:24:26.000+0000</td><td>conversion</td><td>Social Network</td><td>1</td></tr><tr><td>2a3bd5e8a4c740b1a2465d5376dac703</td><td>2020-05-19T09:27:36.000+0000</td><td>impression</td><td>Search Engine Marketing</td><td>0</td></tr><tr><td>2a3bd5e8a4c740b1a2465d5376dac703</td><td>2020-06-02T07:59:39.000+0000</td><td>impression</td><td>Email</td><td>0</td></tr><tr><td>2a3bd5e8a4c740b1a2465d5376dac703</td><td>2020-06-10T04:01:22.000+0000</td><td>impression</td><td>Social Network</td><td>0</td></tr><tr><td>f8a74852f0d142d79b4ef8a5b5301b21</td><td>2020-05-23T16:44:32.000+0000</td><td>impression</td><td>Social Network</td><td>0</td></tr><tr><td>f8a74852f0d142d79b4ef8a5b5301b21</td><td>2020-06-08T17:01:11.000+0000</td><td>impression</td><td>Affiliates</td><td>0</td></tr><tr><td>f8a74852f0d142d79b4ef8a5b5301b21</td><td>2020-06-08T21:44:14.000+0000</td><td>impression</td><td>Search Engine Marketing</td><td>0</td></tr><tr><td>f8a74852f0d142d79b4ef8a5b5301b21</td><td>2020-06-09T17:30:34.000+0000</td><td>impression</td><td>Affiliates</td><td>0</td></tr><tr><td>f8a74852f0d142d79b4ef8a5b5301b21</td><td>2020-06-10T00:27:10.000+0000</td><td>impression</td><td>Social Network</td><td>0</td></tr><tr><td>f8a74852f0d142d79b4ef8a5b5301b21</td><td>2020-06-10T04:13:49.000+0000</td><td>impression</td><td>Social Network</td><td>0</td></tr><tr><td>f8a74852f0d142d79b4ef8a5b5301b21</td><td>2020-06-10T04:15:05.000+0000</td><td>impression</td><td>Email</td><td>0</td></tr><tr><td>f8a74852f0d142d79b4ef8a5b5301b21</td><td>2020-06-10T04:45:16.000+0000</td><td>impression</td><td>Google Display Network</td><td>0</td></tr><tr><td>7a50844b7978492fb80af9aa1e5c1f14</td><td>2020-05-17T23:48:40.000+0000</td><td>impression</td><td>Search Engine Marketing</td><td>0</td></tr><tr><td>7a50844b7978492fb80af9aa1e5c1f14</td><td>2020-06-07T18:02:22.000+0000</td><td>impression</td><td>Affiliates</td><td>0</td></tr><tr><td>7a50844b7978492fb80af9aa1e5c1f14</td><td>2020-06-09T06:35:07.000+0000</td><td>impression</td><td>Affiliates</td><td>0</td></tr><tr><td>7a50844b7978492fb80af9aa1e5c1f14</td><td>2020-06-10T04:12:58.000+0000</td><td>impression</td><td>Search Engine Marketing</td><td>0</td></tr><tr><td>7a50844b7978492fb80af9aa1e5c1f14</td><td>2020-06-10T04:33:24.000+0000</td><td>impression</td><td>Affiliates</td><td>0</td></tr><tr><td>7a50844b7978492fb80af9aa1e5c1f14</td><td>2020-06-10T04:46:47.000+0000</td><td>impression</td><td>Google Display Network</td><td>0</td></tr><tr><td>7a50844b7978492fb80af9aa1e5c1f14</td><td>2020-06-10T04:47:49.000+0000</td><td>conversion</td><td>Affiliates</td><td>1</td></tr><tr><td>9f0cc327b90942af9676cbacfdab79eb</td><td>2020-05-26T03:11:30.000+0000</td><td>impression</td><td>Affiliates</td><td>0</td></tr><tr><td>9f0cc327b90942af9676cbacfdab79eb</td><td>2020-06-09T11:01:58.000+0000</td><td>impression</td><td>Social Network</td><td>0</td></tr><tr><td>9f0cc327b90942af9676cbacfdab79eb</td><td>2020-06-09T12:13:15.000+0000</td><td>impression</td><td>Affiliates</td><td>0</td></tr><tr><td>9f0cc327b90942af9676cbacfdab79eb</td><td>2020-06-09T23:10:44.000+0000</td><td>impression</td><td>Affiliates</td><td>0</td></tr><tr><td>9f0cc327b90942af9676cbacfdab79eb</td><td>2020-06-10T02:58:22.000+0000</td><td>impression</td><td>Affiliates</td><td>0</td></tr><tr><td>9f0cc327b90942af9676cbacfdab79eb</td><td>2020-06-10T04:07:01.000+0000</td><td>impression</td><td>Search Engine Marketing</td><td>0</td></tr><tr><td>9f0cc327b90942af9676cbacfdab79eb</td><td>2020-06-10T04:24:52.000+0000</td><td>impression</td><td>Search Engine Marketing</td><td>0</td></tr><tr><td>9f0cc327b90942af9676cbacfdab79eb</td><td>2020-06-10T04:42:32.000+0000</td><td>impression</td><td>Affiliates</td><td>0</td></tr><tr><td>9f0cc327b90942af9676cbacfdab79eb</td><td>2020-06-10T04:49:26.000+0000</td><td>impression</td><td>Search Engine Marketing</td><td>0</td></tr><tr><td>5520a31509474f54a79d8d32c2a34e30</td><td>2020-05-25T13:11:12.000+0000</td><td>impression</td><td>Affiliates</td><td>0</td></tr><tr><td>5520a31509474f54a79d8d32c2a34e30</td><td>2020-06-08T03:30:40.000+0000</td><td>impression</td><td>Social Network</td><td>0</td></tr><tr><td>5520a31509474f54a79d8d32c2a34e30</td><td>2020-06-08T16:15:34.000+0000</td><td>impression</td><td>Affiliates</td><td>0</td></tr><tr><td>a15c65fe5c6f46f68dd77a8513cf4368</td><td>2020-06-08T01:34:55.000+0000</td><td>impression</td><td>Search Engine Marketing</td><td>0</td></tr><tr><td>a15c65fe5c6f46f68dd77a8513cf4368</td><td>2020-06-09T06:06:27.000+0000</td><td>impression</td><td>Affiliates</td><td>0</td></tr><tr><td>a15c65fe5c6f46f68dd77a8513cf4368</td><td>2020-06-09T07:21:07.000+0000</td><td>impression</td><td>Google Display Network</td><td>0</td></tr><tr><td>a15c65fe5c6f46f68dd77a8513cf4368</td><td>2020-06-09T16:05:27.000+0000</td><td>impression</td><td>Social Network</td><td>0</td></tr><tr><td>a15c65fe5c6f46f68dd77a8513cf4368</td><td>2020-06-09T22:06:59.000+0000</td><td>impression</td><td>Search Engine Marketing</td><td>0</td></tr><tr><td>a15c65fe5c6f46f68dd77a8513cf4368</td><td>2020-06-10T03:35:30.000+0000</td><td>impression</td><td>Affiliates</td><td>0</td></tr><tr><td>ee09d1ecb885481f879b94e637c71f26</td><td>2020-05-26T04:12:13.000+0000</td><td>impression</td><td>Search Engine Marketing</td><td>0</td></tr><tr><td>ee09d1ecb885481f879b94e637c71f26</td><td>2020-06-03T16:04:31.000+0000</td><td>impression</td><td>Search Engine Marketing</td><td>0</td></tr><tr><td>ee09d1ecb885481f879b94e637c71f26</td><td>2020-06-06T07:00:44.000+0000</td><td>impression</td><td>Social Network</td><td>0</td></tr><tr><td>ee09d1ecb885481f879b94e637c71f26</td><td>2020-06-07T13:20:29.000+0000</td><td>impression</td><td>Affiliates</td><td>0</td></tr><tr><td>ee09d1ecb885481f879b94e637c71f26</td><td>2020-06-08T07:25:05.000+0000</td><td>impression</td><td>Affiliates</td><td>0</td></tr><tr><td>ee09d1ecb885481f879b94e637c71f26</td><td>2020-06-09T05:51:43.000+0000</td><td>impression</td><td>Google Display Network</td><td>0</td></tr><tr><td>ee09d1ecb885481f879b94e637c71f26</td><td>2020-06-10T00:36:17.000+0000</td><td>conversion</td><td>Affiliates</td><td>1</td></tr><tr><td>cb1977f153c04965bb5dd2113411c57a</td><td>2020-05-20T18:09:02.000+0000</td><td>impression</td><td>Affiliates</td><td>0</td></tr><tr><td>cb1977f153c04965bb5dd2113411c57a</td><td>2020-06-07T16:52:21.000+0000</td><td>impression</td><td>Affiliates</td><td>0</td></tr><tr><td>cb1977f153c04965bb5dd2113411c57a</td><td>2020-06-07T23:41:01.000+0000</td><td>impression</td><td>Search Engine Marketing</td><td>0</td></tr><tr><td>cb1977f153c04965bb5dd2113411c57a</td><td>2020-06-08T20:12:51.000+0000</td><td>impression</td><td>Social Network</td><td>0</td></tr><tr><td>b58568c0b6434de3a7f5fc85899a5815</td><td>2020-05-24T08:41:45.000+0000</td><td>impression</td><td>Social Network</td><td>0</td></tr><tr><td>b58568c0b6434de3a7f5fc85899a5815</td><td>2020-06-01T11:19:17.000+0000</td><td>impression</td><td>Affiliates</td><td>0</td></tr><tr><td>b58568c0b6434de3a7f5fc85899a5815</td><td>2020-06-05T20:23:24.000+0000</td><td>impression</td><td>Social Network</td><td>0</td></tr><tr><td>b58568c0b6434de3a7f5fc85899a5815</td><td>2020-06-08T19:41:40.000+0000</td><td>impression</td><td>Social Network</td><td>0</td></tr><tr><td>b58568c0b6434de3a7f5fc85899a5815</td><td>2020-06-08T20:26:10.000+0000</td><td>impression</td><td>Social Network</td><td>0</td></tr><tr><td>b58568c0b6434de3a7f5fc85899a5815</td><td>2020-06-08T21:11:11.000+0000</td><td>impression</td><td>Social Network</td><td>0</td></tr><tr><td>f640563ce91e44a3a6a507ba08ed73a2</td><td>2020-06-06T10:01:45.000+0000</td><td>impression</td><td>Social Network</td><td>0</td></tr><tr><td>f640563ce91e44a3a6a507ba08ed73a2</td><td>2020-06-09T10:40:12.000+0000</td><td>impression</td><td>Google Display Network</td><td>0</td></tr><tr><td>f640563ce91e44a3a6a507ba08ed73a2</td><td>2020-06-10T03:08:29.000+0000</td><td>impression</td><td>Google Display Network</td><td>0</td></tr><tr><td>f640563ce91e44a3a6a507ba08ed73a2</td><td>2020-06-10T03:41:36.000+0000</td><td>impression</td><td>Social Network</td><td>0</td></tr><tr><td>f640563ce91e44a3a6a507ba08ed73a2</td><td>2020-06-10T03:49:03.000+0000</td><td>impression</td><td>Affiliates</td><td>0</td></tr><tr><td>f640563ce91e44a3a6a507ba08ed73a2</td><td>2020-06-10T04:44:57.000+0000</td><td>impression</td><td>Search Engine Marketing</td><td>0</td></tr><tr><td>f640563ce91e44a3a6a507ba08ed73a2</td><td>2020-06-10T04:48:57.000+0000</td><td>impression</td><td>Social Network</td><td>0</td></tr><tr><td>ee26e402933f40abaca42c00daa7dcf3</td><td>2020-05-26T03:04:48.000+0000</td><td>impression</td><td>Email</td><td>0</td></tr><tr><td>ee26e402933f40abaca42c00daa7dcf3</td><td>2020-06-01T02:19:10.000+0000</td><td>impression</td><td>Social Network</td><td>0</td></tr><tr><td>ee26e402933f40abaca42c00daa7dcf3</td><td>2020-06-03T19:23:47.000+0000</td><td>impression</td><td>Search Engine Marketing</td><td>0</td></tr><tr><td>ee26e402933f40abaca42c00daa7dcf3</td><td>2020-06-05T20:54:44.000+0000</td><td>impression</td><td>Search Engine Marketing</td><td>0</td></tr><tr><td>1e04a4624f4344c8ae162586c5a135b1</td><td>2020-06-04T19:46:24.000+0000</td><td>impression</td><td>Email</td><td>0</td></tr><tr><td>1e04a4624f4344c8ae162586c5a135b1</td><td>2020-06-08T14:06:56.000+0000</td><td>impression</td><td>Google Display Network</td><td>0</td></tr><tr><td>1e04a4624f4344c8ae162586c5a135b1</td><td>2020-06-09T04:47:07.000+0000</td><td>impression</td><td>Search Engine Marketing</td><td>0</td></tr><tr><td>1e04a4624f4344c8ae162586c5a135b1</td><td>2020-06-09T13:36:24.000+0000</td><td>impression</td><td>Affiliates</td><td>0</td></tr><tr><td>1e04a4624f4344c8ae162586c5a135b1</td><td>2020-06-10T00:53:09.000+0000</td><td>impression</td><td>Affiliates</td><td>0</td></tr><tr><td>1e04a4624f4344c8ae162586c5a135b1</td><td>2020-06-10T00:58:11.000+0000</td><td>impression</td><td>Affiliates</td><td>0</td></tr><tr><td>9622dfae7c9e4f9eba8026ce149dd963</td><td>2020-05-18T12:11:53.000+0000</td><td>impression</td><td>Search Engine Marketing</td><td>0</td></tr><tr><td>1571972d641c423098ce84849e8fa0b1</td><td>2020-05-21T18:47:09.000+0000</td><td>impression</td><td>Search Engine Marketing</td><td>0</td></tr><tr><td>1571972d641c423098ce84849e8fa0b1</td><td>2020-05-26T11:46:06.000+0000</td><td>impression</td><td>Social Network</td><td>0</td></tr><tr><td>138f0a14eb37438cbfe057605c84cd70</td><td>2020-06-05T14:57:55.000+0000</td><td>impression</td><td>Affiliates</td><td>0</td></tr><tr><td>138f0a14eb37438cbfe057605c84cd70</td><td>2020-06-06T21:37:32.000+0000</td><td>impression</td><td>Google Display Network</td><td>0</td></tr><tr><td>138f0a14eb37438cbfe057605c84cd70</td><td>2020-06-10T01:09:11.000+0000</td><td>impression</td><td>Social Network</td><td>0</td></tr><tr><td>138f0a14eb37438cbfe057605c84cd70</td><td>2020-06-10T01:38:37.000+0000</td><td>impression</td><td>Affiliates</td><td>0</td></tr><tr><td>138f0a14eb37438cbfe057605c84cd70</td><td>2020-06-10T04:23:36.000+0000</td><td>impression</td><td>Search Engine Marketing</td><td>0</td></tr><tr><td>138f0a14eb37438cbfe057605c84cd70</td><td>2020-06-10T04:36:42.000+0000</td><td>impression</td><td>Social Network</td><td>0</td></tr><tr><td>138f0a14eb37438cbfe057605c84cd70</td><td>2020-06-10T04:41:15.000+0000</td><td>impression</td><td>Search Engine Marketing</td><td>0</td></tr><tr><td>138f0a14eb37438cbfe057605c84cd70</td><td>2020-06-10T04:43:02.000+0000</td><td>impression</td><td>Social Network</td><td>0</td></tr><tr><td>93b64dc681964ff49136430288a8a16d</td><td>2020-05-26T18:24:53.000+0000</td><td>impression</td><td>Google Display Network</td><td>0</td></tr><tr><td>3ac2b01d70ce461b8dee7f7a758df6ba</td><td>2020-06-06T13:55:16.000+0000</td><td>impression</td><td>Affiliates</td><td>0</td></tr><tr><td>3ac2b01d70ce461b8dee7f7a758df6ba</td><td>2020-06-09T17:30:07.000+0000</td><td>impression</td><td>Search Engine Marketing</td><td>0</td></tr><tr><td>3ac2b01d70ce461b8dee7f7a758df6ba</td><td>2020-06-10T03:01:00.000+0000</td><td>impression</td><td>Search Engine Marketing</td><td>0</td></tr><tr><td>3ac2b01d70ce461b8dee7f7a758df6ba</td><td>2020-06-10T03:19:24.000+0000</td><td>impression</td><td>Affiliates</td><td>0</td></tr><tr><td>3ac2b01d70ce461b8dee7f7a758df6ba</td><td>2020-06-10T04:35:55.000+0000</td><td>impression</td><td>Affiliates</td><td>0</td></tr><tr><td>3ac2b01d70ce461b8dee7f7a758df6ba</td><td>2020-06-10T04:47:17.000+0000</td><td>impression</td><td>Social Network</td><td>0</td></tr><tr><td>3ac2b01d70ce461b8dee7f7a758df6ba</td><td>2020-06-10T04:49:51.000+0000</td><td>impression</td><td>Affiliates</td><td>0</td></tr><tr><td>3ad65aa691ed48639a5f3520bf36f989</td><td>2020-05-23T08:59:41.000+0000</td><td>impression</td><td>Affiliates</td><td>0</td></tr><tr><td>3ad65aa691ed48639a5f3520bf36f989</td><td>2020-05-27T11:06:42.000+0000</td><td>impression</td><td>Social Network</td><td>0</td></tr><tr><td>3ad65aa691ed48639a5f3520bf36f989</td><td>2020-05-28T21:16:42.000+0000</td><td>impression</td><td>Google Display Network</td><td>0</td></tr><tr><td>3ad65aa691ed48639a5f3520bf36f989</td><td>2020-05-31T14:36:14.000+0000</td><td>impression</td><td>Affiliates</td><td>0</td></tr><tr><td>3ad65aa691ed48639a5f3520bf36f989</td><td>2020-06-07T22:13:53.000+0000</td><td>impression</td><td>Social Network</td><td>0</td></tr><tr><td>3ad65aa691ed48639a5f3520bf36f989</td><td>2020-06-09T12:34:07.000+0000</td><td>impression</td><td>Affiliates</td><td>0</td></tr><tr><td>3ad65aa691ed48639a5f3520bf36f989</td><td>2020-06-09T15:03:29.000+0000</td><td>conversion</td><td>Affiliates</td><td>1</td></tr><tr><td>36a0292bd4bf41d5ac3833de063e5464</td><td>2020-06-05T06:10:12.000+0000</td><td>impression</td><td>Affiliates</td><td>0</td></tr><tr><td>36a0292bd4bf41d5ac3833de063e5464</td><td>2020-06-09T02:41:34.000+0000</td><td>impression</td><td>Social Network</td><td>0</td></tr><tr><td>36a0292bd4bf41d5ac3833de063e5464</td><td>2020-06-09T07:10:01.000+0000</td><td>impression</td><td>Affiliates</td><td>0</td></tr><tr><td>36a0292bd4bf41d5ac3833de063e5464</td><td>2020-06-09T16:51:42.000+0000</td><td>impression</td><td>Social Network</td><td>0</td></tr><tr><td>36a0292bd4bf41d5ac3833de063e5464</td><td>2020-06-10T00:39:56.000+0000</td><td>impression</td><td>Search Engine Marketing</td><td>0</td></tr><tr><td>92fa703786414be189fc8b577e464bc9</td><td>2020-06-04T23:54:01.000+0000</td><td>impression</td><td>Social Network</td><td>0</td></tr><tr><td>92fa703786414be189fc8b577e464bc9</td><td>2020-06-08T18:55:14.000+0000</td><td>impression</td><td>Google Display Network</td><td>0</td></tr><tr><td>92fa703786414be189fc8b577e464bc9</td><td>2020-06-09T23:53:45.000+0000</td><td>conversion</td><td>Google Display Network</td><td>1</td></tr><tr><td>cd3bb9efe17e4add83d00bdce7af2f29</td><td>2020-05-20T05:57:00.000+0000</td><td>impression</td><td>Social Network</td><td>0</td></tr><tr><td>cd3bb9efe17e4add83d00bdce7af2f29</td><td>2020-05-24T11:20:03.000+0000</td><td>impression</td><td>Email</td><td>0</td></tr><tr><td>cd3bb9efe17e4add83d00bdce7af2f29</td><td>2020-05-31T18:38:46.000+0000</td><td>impression</td><td>Search Engine Marketing</td><td>0</td></tr><tr><td>cd3bb9efe17e4add83d00bdce7af2f29</td><td>2020-06-03T15:17:22.000+0000</td><td>impression</td><td>Search Engine Marketing</td><td>0</td></tr><tr><td>cd3bb9efe17e4add83d00bdce7af2f29</td><td>2020-06-07T22:44:15.000+0000</td><td>impression</td><td>Social Network</td><td>0</td></tr><tr><td>cd3bb9efe17e4add83d00bdce7af2f29</td><td>2020-06-09T09:19:49.000+0000</td><td>impression</td><td>Social Network</td><td>0</td></tr><tr><td>cd3bb9efe17e4add83d00bdce7af2f29</td><td>2020-06-10T00:49:12.000+0000</td><td>impression</td><td>Affiliates</td><td>0</td></tr><tr><td>cd3bb9efe17e4add83d00bdce7af2f29</td><td>2020-06-10T02:40:31.000+0000</td><td>impression</td><td>Search Engine Marketing</td><td>0</td></tr><tr><td>75a334f6089c4e7d8f933ed34c55e0df</td><td>2020-06-05T11:09:23.000+0000</td><td>impression</td><td>Email</td><td>0</td></tr><tr><td>75a334f6089c4e7d8f933ed34c55e0df</td><td>2020-06-10T02:38:26.000+0000</td><td>impression</td><td>Google Display Network</td><td>0</td></tr><tr><td>75a334f6089c4e7d8f933ed34c55e0df</td><td>2020-06-10T03:38:56.000+0000</td><td>impression</td><td>Google Display Network</td><td>0</td></tr><tr><td>75a334f6089c4e7d8f933ed34c55e0df</td><td>2020-06-10T04:46:43.000+0000</td><td>impression</td><td>Search Engine Marketing</td><td>0</td></tr><tr><td>65ca2b45deb54b159d9dee8e3fd21b99</td><td>2020-06-03T02:31:00.000+0000</td><td>impression</td><td>Social Network</td><td>0</td></tr><tr><td>65ca2b45deb54b159d9dee8e3fd21b99</td><td>2020-06-04T07:43:15.000+0000</td><td>impression</td><td>Affiliates</td><td>0</td></tr><tr><td>65ca2b45deb54b159d9dee8e3fd21b99</td><td>2020-06-08T12:18:48.000+0000</td><td>impression</td><td>Search Engine Marketing</td><td>0</td></tr><tr><td>a29f4332a271464685136c9d556bdb74</td><td>2020-05-23T09:23:31.000+0000</td><td>impression</td><td>Google Display Network</td><td>0</td></tr><tr><td>a29f4332a271464685136c9d556bdb74</td><td>2020-05-24T14:22:46.000+0000</td><td>impression</td><td>Search Engine Marketing</td><td>0</td></tr><tr><td>a29f4332a271464685136c9d556bdb74</td><td>2020-05-25T22:47:35.000+0000</td><td>impression</td><td>Affiliates</td><td>0</td></tr><tr><td>a29f4332a271464685136c9d556bdb74</td><td>2020-06-10T02:06:04.000+0000</td><td>impression</td><td>Search Engine Marketing</td><td>0</td></tr><tr><td>977b1614293c441c8f7b8753530e5b40</td><td>2020-05-18T04:55:55.000+0000</td><td>impression</td><td>Google Display Network</td><td>0</td></tr><tr><td>977b1614293c441c8f7b8753530e5b40</td><td>2020-05-25T05:23:09.000+0000</td><td>impression</td><td>Search Engine Marketing</td><td>0</td></tr><tr><td>977b1614293c441c8f7b8753530e5b40</td><td>2020-05-27T04:15:59.000+0000</td><td>impression</td><td>Social Network</td><td>0</td></tr><tr><td>977b1614293c441c8f7b8753530e5b40</td><td>2020-06-06T18:55:57.000+0000</td><td>impression</td><td>Affiliates</td><td>0</td></tr><tr><td>977b1614293c441c8f7b8753530e5b40</td><td>2020-06-08T12:36:04.000+0000</td><td>impression</td><td>Affiliates</td><td>0</td></tr><tr><td>977b1614293c441c8f7b8753530e5b40</td><td>2020-06-08T23:35:27.000+0000</td><td>impression</td><td>Affiliates</td><td>0</td></tr><tr><td>977b1614293c441c8f7b8753530e5b40</td><td>2020-06-09T02:14:37.000+0000</td><td>impression</td><td>Search Engine Marketing</td><td>0</td></tr><tr><td>4fb3e67bac784fc9ba8589919f61e54c</td><td>2020-06-03T01:17:48.000+0000</td><td>impression</td><td>Affiliates</td><td>0</td></tr><tr><td>4fb3e67bac784fc9ba8589919f61e54c</td><td>2020-06-07T20:24:08.000+0000</td><td>impression</td><td>Search Engine Marketing</td><td>0</td></tr><tr><td>4fb3e67bac784fc9ba8589919f61e54c</td><td>2020-06-08T22:17:22.000+0000</td><td>impression</td><td>Affiliates</td><td>0</td></tr><tr><td>4fb3e67bac784fc9ba8589919f61e54c</td><td>2020-06-10T04:42:40.000+0000</td><td>conversion</td><td>Google Display Network</td><td>1</td></tr><tr><td>4cac92f2e99c4f9c8851c856f73c23f5</td><td>2020-06-04T04:24:18.000+0000</td><td>impression</td><td>Email</td><td>0</td></tr><tr><td>4cac92f2e99c4f9c8851c856f73c23f5</td><td>2020-06-05T12:35:00.000+0000</td><td>impression</td><td>Search Engine Marketing</td><td>0</td></tr><tr><td>4cac92f2e99c4f9c8851c856f73c23f5</td><td>2020-06-09T04:19:24.000+0000</td><td>impression</td><td>Google Display Network</td><td>0</td></tr><tr><td>4cac92f2e99c4f9c8851c856f73c23f5</td><td>2020-06-09T05:58:04.000+0000</td><td>impression</td><td>Search Engine Marketing</td><td>0</td></tr><tr><td>4cac92f2e99c4f9c8851c856f73c23f5</td><td>2020-06-09T09:06:04.000+0000</td><td>impression</td><td>Search Engine Marketing</td><td>0</td></tr><tr><td>4cac92f2e99c4f9c8851c856f73c23f5</td><td>2020-06-09T09:44:34.000+0000</td><td>impression</td><td>Affiliates</td><td>0</td></tr><tr><td>4cac92f2e99c4f9c8851c856f73c23f5</td><td>2020-06-10T00:00:04.000+0000</td><td>impression</td><td>Search Engine Marketing</td><td>0</td></tr><tr><td>4cac92f2e99c4f9c8851c856f73c23f5</td><td>2020-06-10T01:38:55.000+0000</td><td>impression</td><td>Social Network</td><td>0</td></tr><tr><td>4cac92f2e99c4f9c8851c856f73c23f5</td><td>2020-06-10T04:42:01.000+0000</td><td>impression</td><td>Search Engine Marketing</td><td>0</td></tr><tr><td>ca82f6026f6d4a3780dda2ae1cecad52</td><td>2020-05-30T13:56:34.000+0000</td><td>impression</td><td>Social Network</td><td>0</td></tr><tr><td>ca82f6026f6d4a3780dda2ae1cecad52</td><td>2020-06-03T22:06:37.000+0000</td><td>impression</td><td>Social Network</td><td>0</td></tr><tr><td>ca82f6026f6d4a3780dda2ae1cecad52</td><td>2020-06-08T17:27:41.000+0000</td><td>impression</td><td>Social Network</td><td>0</td></tr><tr><td>ca82f6026f6d4a3780dda2ae1cecad52</td><td>2020-06-08T20:21:26.000+0000</td><td>impression</td><td>Search Engine Marketing</td><td>0</td></tr><tr><td>be33beb624694535a1b68a2ac6adc5e9</td><td>2020-05-25T07:01:10.000+0000</td><td>impression</td><td>Social Network</td><td>0</td></tr><tr><td>048786ce2b0c408fb4843003b184cef9</td><td>2020-05-19T04:45:31.000+0000</td><td>impression</td><td>Social Network</td><td>0</td></tr><tr><td>048786ce2b0c408fb4843003b184cef9</td><td>2020-05-26T04:56:02.000+0000</td><td>impression</td><td>Search Engine Marketing</td><td>0</td></tr><tr><td>813bc6faade9478baf57cf81ce721e25</td><td>2020-05-28T00:26:07.000+0000</td><td>impression</td><td>Social Network</td><td>0</td></tr><tr><td>813bc6faade9478baf57cf81ce721e25</td><td>2020-05-28T15:52:22.000+0000</td><td>impression</td><td>Affiliates</td><td>0</td></tr><tr><td>813bc6faade9478baf57cf81ce721e25</td><td>2020-05-29T03:17:16.000+0000</td><td>impression</td><td>Affiliates</td><td>0</td></tr><tr><td>813bc6faade9478baf57cf81ce721e25</td><td>2020-06-09T17:58:34.000+0000</td><td>impression</td><td>Social Network</td><td>0</td></tr><tr><td>813bc6faade9478baf57cf81ce721e25</td><td>2020-06-10T02:13:45.000+0000</td><td>impression</td><td>Affiliates</td><td>0</td></tr><tr><td>813bc6faade9478baf57cf81ce721e25</td><td>2020-06-10T04:22:09.000+0000</td><td>impression</td><td>Affiliates</td><td>0</td></tr><tr><td>813bc6faade9478baf57cf81ce721e25</td><td>2020-06-10T04:23:38.000+0000</td><td>impression</td><td>Google Display Network</td><td>0</td></tr><tr><td>813bc6faade9478baf57cf81ce721e25</td><td>2020-06-10T04:43:06.000+0000</td><td>impression</td><td>Affiliates</td><td>0</td></tr><tr><td>5faf7503e2a34823b19bbe337aa3abff</td><td>2020-06-08T21:12:12.000+0000</td><td>impression</td><td>Social Network</td><td>0</td></tr><tr><td>5faf7503e2a34823b19bbe337aa3abff</td><td>2020-06-09T06:07:07.000+0000</td><td>impression</td><td>Affiliates</td><td>0</td></tr><tr><td>5faf7503e2a34823b19bbe337aa3abff</td><td>2020-06-09T17:59:33.000+0000</td><td>impression</td><td>Search Engine Marketing</td><td>0</td></tr><tr><td>5faf7503e2a34823b19bbe337aa3abff</td><td>2020-06-09T22:24:44.000+0000</td><td>impression</td><td>Social Network</td><td>0</td></tr><tr><td>5faf7503e2a34823b19bbe337aa3abff</td><td>2020-06-10T01:27:38.000+0000</td><td>impression</td><td>Affiliates</td><td>0</td></tr><tr><td>5faf7503e2a34823b19bbe337aa3abff</td><td>2020-06-10T03:37:32.000+0000</td><td>impression</td><td>Search Engine Marketing</td><td>0</td></tr><tr><td>5faf7503e2a34823b19bbe337aa3abff</td><td>2020-06-10T04:06:09.000+0000</td><td>impression</td><td>Search Engine Marketing</td><td>0</td></tr><tr><td>17b34a8a50b54790b7fbc1dfc89ea9fd</td><td>2020-05-19T15:56:51.000+0000</td><td>impression</td><td>Google Display Network</td><td>0</td></tr><tr><td>17b34a8a50b54790b7fbc1dfc89ea9fd</td><td>2020-05-30T13:02:47.000+0000</td><td>impression</td><td>Affiliates</td><td>0</td></tr><tr><td>17b34a8a50b54790b7fbc1dfc89ea9fd</td><td>2020-06-05T18:03:39.000+0000</td><td>impression</td><td>Google Display Network</td><td>0</td></tr><tr><td>17b34a8a50b54790b7fbc1dfc89ea9fd</td><td>2020-06-06T03:45:56.000+0000</td><td>impression</td><td>Google Display Network</td><td>0</td></tr><tr><td>17b34a8a50b54790b7fbc1dfc89ea9fd</td><td>2020-06-09T09:19:32.000+0000</td><td>impression</td><td>Affiliates</td><td>0</td></tr><tr><td>17b34a8a50b54790b7fbc1dfc89ea9fd</td><td>2020-06-09T12:22:26.000+0000</td><td>impression</td><td>Search Engine Marketing</td><td>0</td></tr><tr><td>17b34a8a50b54790b7fbc1dfc89ea9fd</td><td>2020-06-09T22:12:02.000+0000</td><td>impression</td><td>Google Display Network</td><td>0</td></tr><tr><td>17b34a8a50b54790b7fbc1dfc89ea9fd</td><td>2020-06-09T23:16:25.000+0000</td><td>impression</td><td>Google Display Network</td><td>0</td></tr><tr><td>5b9e922bafe947a18675a9defb0ab8f6</td><td>2020-05-30T17:56:16.000+0000</td><td>impression</td><td>Social Network</td><td>0</td></tr><tr><td>5b9e922bafe947a18675a9defb0ab8f6</td><td>2020-06-09T03:14:35.000+0000</td><td>impression</td><td>Google Display Network</td><td>0</td></tr><tr><td>8099904277484b6aa2714382c7b7010c</td><td>2020-06-09T10:20:13.000+0000</td><td>impression</td><td>Google Display Network</td><td>0</td></tr><tr><td>8099904277484b6aa2714382c7b7010c</td><td>2020-06-09T11:53:02.000+0000</td><td>impression</td><td>Google Display Network</td><td>0</td></tr><tr><td>8099904277484b6aa2714382c7b7010c</td><td>2020-06-09T23:20:11.000+0000</td><td>impression</td><td>Google Display Network</td><td>0</td></tr><tr><td>8099904277484b6aa2714382c7b7010c</td><td>2020-06-10T04:07:44.000+0000</td><td>impression</td><td>Social Network</td><td>0</td></tr><tr><td>ce2fc5a14022407984862466354f3a94</td><td>2020-05-19T19:52:52.000+0000</td><td>impression</td><td>Search Engine Marketing</td><td>0</td></tr><tr><td>ce2fc5a14022407984862466354f3a94</td><td>2020-05-21T03:26:16.000+0000</td><td>impression</td><td>Search Engine Marketing</td><td>0</td></tr><tr><td>ce2fc5a14022407984862466354f3a94</td><td>2020-05-25T16:43:17.000+0000</td><td>impression</td><td>Affiliates</td><td>0</td></tr><tr><td>ce2fc5a14022407984862466354f3a94</td><td>2020-06-01T21:19:41.000+0000</td><td>impression</td><td>Social Network</td><td>0</td></tr><tr><td>ce2fc5a14022407984862466354f3a94</td><td>2020-06-04T06:32:03.000+0000</td><td>impression</td><td>Social Network</td><td>0</td></tr><tr><td>ce2fc5a14022407984862466354f3a94</td><td>2020-06-08T18:50:00.000+0000</td><td>impression</td><td>Search Engine Marketing</td><td>0</td></tr><tr><td>ce2fc5a14022407984862466354f3a94</td><td>2020-06-09T16:19:49.000+0000</td><td>impression</td><td>Social Network</td><td>0</td></tr><tr><td>ce2fc5a14022407984862466354f3a94</td><td>2020-06-10T01:51:15.000+0000</td><td>impression</td><td>Email</td><td>0</td></tr><tr><td>ce2fc5a14022407984862466354f3a94</td><td>2020-06-10T03:05:02.000+0000</td><td>impression</td><td>Search Engine Marketing</td><td>0</td></tr><tr><td>359b2ccf38494916872db8967a664d67</td><td>2020-05-25T11:23:11.000+0000</td><td>impression</td><td>Social Network</td><td>0</td></tr><tr><td>359b2ccf38494916872db8967a664d67</td><td>2020-05-30T20:31:04.000+0000</td><td>impression</td><td>Search Engine Marketing</td><td>0</td></tr><tr><td>359b2ccf38494916872db8967a664d67</td><td>2020-05-31T04:48:25.000+0000</td><td>impression</td><td>Social Network</td><td>0</td></tr><tr><td>359b2ccf38494916872db8967a664d67</td><td>2020-06-02T15:56:31.000+0000</td><td>impression</td><td>Search Engine Marketing</td><td>0</td></tr><tr><td>359b2ccf38494916872db8967a664d67</td><td>2020-06-05T15:44:16.000+0000</td><td>impression</td><td>Social Network</td><td>0</td></tr><tr><td>359b2ccf38494916872db8967a664d67</td><td>2020-06-06T03:57:58.000+0000</td><td>impression</td><td>Search Engine Marketing</td><td>0</td></tr><tr><td>359b2ccf38494916872db8967a664d67</td><td>2020-06-08T15:36:56.000+0000</td><td>impression</td><td>Affiliates</td><td>0</td></tr><tr><td>359b2ccf38494916872db8967a664d67</td><td>2020-06-09T15:49:25.000+0000</td><td>impression</td><td>Google Display Network</td><td>0</td></tr><tr><td>6c9b2d2798054bdabf15634ca253ae0f</td><td>2020-05-22T11:41:46.000+0000</td><td>impression</td><td>Social Network</td><td>0</td></tr><tr><td>3760e41643c4419292c61c238c82e988</td><td>2020-06-09T22:07:06.000+0000</td><td>impression</td><td>Social Network</td><td>0</td></tr><tr><td>3760e41643c4419292c61c238c82e988</td><td>2020-06-09T23:27:26.000+0000</td><td>impression</td><td>Search Engine Marketing</td><td>0</td></tr><tr><td>3760e41643c4419292c61c238c82e988</td><td>2020-06-10T00:00:29.000+0000</td><td>impression</td><td>Search Engine Marketing</td><td>0</td></tr><tr><td>3760e41643c4419292c61c238c82e988</td><td>2020-06-10T03:56:54.000+0000</td><td>impression</td><td>Search Engine Marketing</td><td>0</td></tr><tr><td>3760e41643c4419292c61c238c82e988</td><td>2020-06-10T04:25:40.000+0000</td><td>impression</td><td>Affiliates</td><td>0</td></tr><tr><td>3760e41643c4419292c61c238c82e988</td><td>2020-06-10T04:34:46.000+0000</td><td>impression</td><td>Search Engine Marketing</td><td>0</td></tr><tr><td>567a998a63b947fd8bd5593b3f2a53a7</td><td>2020-05-19T19:39:32.000+0000</td><td>impression</td><td>Social Network</td><td>0</td></tr><tr><td>567a998a63b947fd8bd5593b3f2a53a7</td><td>2020-05-23T02:45:46.000+0000</td><td>impression</td><td>Search Engine Marketing</td><td>0</td></tr><tr><td>567a998a63b947fd8bd5593b3f2a53a7</td><td>2020-06-03T13:40:54.000+0000</td><td>impression</td><td>Affiliates</td><td>0</td></tr><tr><td>567a998a63b947fd8bd5593b3f2a53a7</td><td>2020-06-09T06:52:54.000+0000</td><td>impression</td><td>Google Display Network</td><td>0</td></tr><tr><td>567a998a63b947fd8bd5593b3f2a53a7</td><td>2020-06-09T07:31:59.000+0000</td><td>impression</td><td>Search Engine Marketing</td><td>0</td></tr><tr><td>2dc580c5216a4aa59e39626cec85b5d5</td><td>2020-05-17T17:03:35.000+0000</td><td>impression</td><td>Affiliates</td><td>0</td></tr><tr><td>2dc580c5216a4aa59e39626cec85b5d5</td><td>2020-05-24T04:02:59.000+0000</td><td>impression</td><td>Social Network</td><td>0</td></tr><tr><td>2dc580c5216a4aa59e39626cec85b5d5</td><td>2020-06-08T06:27:10.000+0000</td><td>impression</td><td>Search Engine Marketing</td><td>0</td></tr><tr><td>2dc580c5216a4aa59e39626cec85b5d5</td><td>2020-06-08T21:03:54.000+0000</td><td>impression</td><td>Affiliates</td><td>0</td></tr><tr><td>2dc580c5216a4aa59e39626cec85b5d5</td><td>2020-06-09T16:46:07.000+0000</td><td>impression</td><td>Search Engine Marketing</td><td>0</td></tr><tr><td>2dc580c5216a4aa59e39626cec85b5d5</td><td>2020-06-10T02:33:47.000+0000</td><td>impression</td><td>Search Engine Marketing</td><td>0</td></tr><tr><td>2dc580c5216a4aa59e39626cec85b5d5</td><td>2020-06-10T03:11:02.000+0000</td><td>impression</td><td>Social Network</td><td>0</td></tr><tr><td>2dc580c5216a4aa59e39626cec85b5d5</td><td>2020-06-10T03:13:13.000+0000</td><td>impression</td><td>Search Engine Marketing</td><td>0</td></tr><tr><td>fa4d571488d943d4a3d47dd4b9b4d290</td><td>2020-06-03T04:49:27.000+0000</td><td>impression</td><td>Google Display Network</td><td>0</td></tr><tr><td>fa4d571488d943d4a3d47dd4b9b4d290</td><td>2020-06-08T08:54:17.000+0000</td><td>impression</td><td>Affiliates</td><td>0</td></tr><tr><td>fa4d571488d943d4a3d47dd4b9b4d290</td><td>2020-06-09T20:18:39.000+0000</td><td>impression</td><td>Google Display Network</td><td>0</td></tr><tr><td>fa4d571488d943d4a3d47dd4b9b4d290</td><td>2020-06-10T03:27:04.000+0000</td><td>impression</td><td>Affiliates</td><td>0</td></tr><tr><td>fa4d571488d943d4a3d47dd4b9b4d290</td><td>2020-06-10T04:18:00.000+0000</td><td>impression</td><td>Affiliates</td><td>0</td></tr><tr><td>fa4d571488d943d4a3d47dd4b9b4d290</td><td>2020-06-10T04:28:36.000+0000</td><td>impression</td><td>Search Engine Marketing</td><td>0</td></tr><tr><td>fa4d571488d943d4a3d47dd4b9b4d290</td><td>2020-06-10T04:37:00.000+0000</td><td>impression</td><td>Social Network</td><td>0</td></tr><tr><td>10a3968a68c541ca93d990d9a4c04d31</td><td>2020-05-24T19:57:42.000+0000</td><td>impression</td><td>Email</td><td>0</td></tr><tr><td>10a3968a68c541ca93d990d9a4c04d31</td><td>2020-05-27T21:43:46.000+0000</td><td>conversion</td><td>Affiliates</td><td>1</td></tr><tr><td>630684d85715497d9a39252327dd7ec0</td><td>2020-05-22T02:01:28.000+0000</td><td>impression</td><td>Google Display Network</td><td>0</td></tr><tr><td>630684d85715497d9a39252327dd7ec0</td><td>2020-06-04T20:54:23.000+0000</td><td>impression</td><td>Search Engine Marketing</td><td>0</td></tr><tr><td>630684d85715497d9a39252327dd7ec0</td><td>2020-06-09T11:23:54.000+0000</td><td>impression</td><td>Google Display Network</td><td>0</td></tr><tr><td>630684d85715497d9a39252327dd7ec0</td><td>2020-06-10T00:28:19.000+0000</td><td>impression</td><td>Email</td><td>0</td></tr><tr><td>630684d85715497d9a39252327dd7ec0</td><td>2020-06-10T03:01:00.000+0000</td><td>impression</td><td>Affiliates</td><td>0</td></tr><tr><td>630684d85715497d9a39252327dd7ec0</td><td>2020-06-10T03:35:12.000+0000</td><td>impression</td><td>Affiliates</td><td>0</td></tr><tr><td>630684d85715497d9a39252327dd7ec0</td><td>2020-06-10T03:56:46.000+0000</td><td>impression</td><td>Social Network</td><td>0</td></tr><tr><td>630684d85715497d9a39252327dd7ec0</td><td>2020-06-10T04:36:50.000+0000</td><td>impression</td><td>Social Network</td><td>0</td></tr><tr><td>fab77f24609a4d4cb020c3951f425ed7</td><td>2020-06-02T04:35:24.000+0000</td><td>impression</td><td>Search Engine Marketing</td><td>0</td></tr><tr><td>fab77f24609a4d4cb020c3951f425ed7</td><td>2020-06-07T06:43:12.000+0000</td><td>impression</td><td>Email</td><td>0</td></tr><tr><td>fab77f24609a4d4cb020c3951f425ed7</td><td>2020-06-09T04:05:21.000+0000</td><td>impression</td><td>Search Engine Marketing</td><td>0</td></tr><tr><td>fab77f24609a4d4cb020c3951f425ed7</td><td>2020-06-09T09:10:04.000+0000</td><td>conversion</td><td>Affiliates</td><td>1</td></tr><tr><td>45277e1a7d64411dad8afca5ffe04121</td><td>2020-06-05T02:49:59.000+0000</td><td>impression</td><td>Affiliates</td><td>0</td></tr><tr><td>45277e1a7d64411dad8afca5ffe04121</td><td>2020-06-07T09:58:28.000+0000</td><td>impression</td><td>Search Engine Marketing</td><td>0</td></tr><tr><td>45277e1a7d64411dad8afca5ffe04121</td><td>2020-06-08T23:14:48.000+0000</td><td>impression</td><td>Search Engine Marketing</td><td>0</td></tr><tr><td>45277e1a7d64411dad8afca5ffe04121</td><td>2020-06-09T07:19:38.000+0000</td><td>impression</td><td>Search Engine Marketing</td><td>0</td></tr><tr><td>45277e1a7d64411dad8afca5ffe04121</td><td>2020-06-10T04:31:30.000+0000</td><td>impression</td><td>Affiliates</td><td>0</td></tr><tr><td>7d2b95be8850465bbd3cb32884ad2ea9</td><td>2020-05-26T05:54:25.000+0000</td><td>impression</td><td>Social Network</td><td>0</td></tr><tr><td>7d2b95be8850465bbd3cb32884ad2ea9</td><td>2020-06-07T21:32:19.000+0000</td><td>impression</td><td>Affiliates</td><td>0</td></tr><tr><td>7d2b95be8850465bbd3cb32884ad2ea9</td><td>2020-06-09T07:53:35.000+0000</td><td>impression</td><td>Search Engine Marketing</td><td>0</td></tr><tr><td>7d2b95be8850465bbd3cb32884ad2ea9</td><td>2020-06-09T10:33:31.000+0000</td><td>impression</td><td>Social Network</td><td>0</td></tr><tr><td>7d2b95be8850465bbd3cb32884ad2ea9</td><td>2020-06-09T21:20:40.000+0000</td><td>impression</td><td>Google Display Network</td><td>0</td></tr><tr><td>7d2b95be8850465bbd3cb32884ad2ea9</td><td>2020-06-10T03:25:48.000+0000</td><td>impression</td><td>Search Engine Marketing</td><td>0</td></tr><tr><td>7d2b95be8850465bbd3cb32884ad2ea9</td><td>2020-06-10T04:00:51.000+0000</td><td>impression</td><td>Affiliates</td><td>0</td></tr><tr><td>7d2b95be8850465bbd3cb32884ad2ea9</td><td>2020-06-10T04:16:18.000+0000</td><td>impression</td><td>Affiliates</td><td>0</td></tr><tr><td>7d2b95be8850465bbd3cb32884ad2ea9</td><td>2020-06-10T04:44:22.000+0000</td><td>impression</td><td>Affiliates</td><td>0</td></tr><tr><td>56019cdc63c6480d9eb4048d5cbc4601</td><td>2020-06-04T10:37:08.000+0000</td><td>impression</td><td>Google Display Network</td><td>0</td></tr><tr><td>56019cdc63c6480d9eb4048d5cbc4601</td><td>2020-06-08T06:27:39.000+0000</td><td>impression</td><td>Affiliates</td><td>0</td></tr><tr><td>dfd71bc3e81e4802834aad58d324cbae</td><td>2020-05-21T05:39:11.000+0000</td><td>impression</td><td>Social Network</td><td>0</td></tr><tr><td>dfd71bc3e81e4802834aad58d324cbae</td><td>2020-06-04T06:14:25.000+0000</td><td>impression</td><td>Affiliates</td><td>0</td></tr><tr><td>dfd71bc3e81e4802834aad58d324cbae</td><td>2020-06-05T23:07:34.000+0000</td><td>impression</td><td>Social Network</td><td>0</td></tr><tr><td>dfd71bc3e81e4802834aad58d324cbae</td><td>2020-06-08T03:31:20.000+0000</td><td>impression</td><td>Social Network</td><td>0</td></tr><tr><td>dfd71bc3e81e4802834aad58d324cbae</td><td>2020-06-08T21:07:10.000+0000</td><td>impression</td><td>Google Display Network</td><td>0</td></tr><tr><td>dfd71bc3e81e4802834aad58d324cbae</td><td>2020-06-09T04:29:11.000+0000</td><td>impression</td><td>Affiliates</td><td>0</td></tr><tr><td>bfc7e35dca3a49bfadd2d4311fbb7ed7</td><td>2020-06-06T03:06:21.000+0000</td><td>impression</td><td>Search Engine Marketing</td><td>0</td></tr><tr><td>1aa988bcc45643aa8af5e3890ca2c70b</td><td>2020-06-03T15:48:14.000+0000</td><td>impression</td><td>Search Engine Marketing</td><td>0</td></tr><tr><td>1aa988bcc45643aa8af5e3890ca2c70b</td><td>2020-06-06T01:11:36.000+0000</td><td>impression</td><td>Google Display Network</td><td>0</td></tr><tr><td>1aa988bcc45643aa8af5e3890ca2c70b</td><td>2020-06-06T10:12:47.000+0000</td><td>impression</td><td>Google Display Network</td><td>0</td></tr><tr><td>1aa988bcc45643aa8af5e3890ca2c70b</td><td>2020-06-10T03:07:42.000+0000</td><td>impression</td><td>Search Engine Marketing</td><td>0</td></tr><tr><td>1aa988bcc45643aa8af5e3890ca2c70b</td><td>2020-06-10T03:21:57.000+0000</td><td>impression</td><td>Affiliates</td><td>0</td></tr><tr><td>1aa988bcc45643aa8af5e3890ca2c70b</td><td>2020-06-10T04:48:29.000+0000</td><td>impression</td><td>Google Display Network</td><td>0</td></tr><tr><td>da42e77d71b44c08a9b9d71897cf2ce8</td><td>2020-05-27T10:50:20.000+0000</td><td>impression</td><td>Google Display Network</td><td>0</td></tr><tr><td>da42e77d71b44c08a9b9d71897cf2ce8</td><td>2020-05-29T16:47:55.000+0000</td><td>impression</td><td>Social Network</td><td>0</td></tr><tr><td>da42e77d71b44c08a9b9d71897cf2ce8</td><td>2020-06-03T04:43:25.000+0000</td><td>impression</td><td>Search Engine Marketing</td><td>0</td></tr><tr><td>b47473a797a946508a3fe942ec0de7a5</td><td>2020-05-18T15:27:40.000+0000</td><td>impression</td><td>Search Engine Marketing</td><td>0</td></tr><tr><td>b47473a797a946508a3fe942ec0de7a5</td><td>2020-06-02T02:22:20.000+0000</td><td>impression</td><td>Affiliates</td><td>0</td></tr><tr><td>b47473a797a946508a3fe942ec0de7a5</td><td>2020-06-03T18:42:36.000+0000</td><td>impression</td><td>Affiliates</td><td>0</td></tr><tr><td>b47473a797a946508a3fe942ec0de7a5</td><td>2020-06-06T06:48:41.000+0000</td><td>impression</td><td>Search Engine Marketing</td><td>0</td></tr><tr><td>b47473a797a946508a3fe942ec0de7a5</td><td>2020-06-09T23:15:39.000+0000</td><td>impression</td><td>Search Engine Marketing</td><td>0</td></tr><tr><td>b47473a797a946508a3fe942ec0de7a5</td><td>2020-06-09T23:17:36.000+0000</td><td>impression</td><td>Search Engine Marketing</td><td>0</td></tr><tr><td>b47473a797a946508a3fe942ec0de7a5</td><td>2020-06-10T00:33:28.000+0000</td><td>impression</td><td>Social Network</td><td>0</td></tr><tr><td>b47473a797a946508a3fe942ec0de7a5</td><td>2020-06-10T04:49:16.000+0000</td><td>impression</td><td>Google Display Network</td><td>0</td></tr><tr><td>b47473a797a946508a3fe942ec0de7a5</td><td>2020-06-10T04:49:28.000+0000</td><td>impression</td><td>Search Engine Marketing</td><td>0</td></tr><tr><td>9756c6424f67479e8ef524d19b9d1972</td><td>2020-05-25T02:57:42.000+0000</td><td>impression</td><td>Search Engine Marketing</td><td>0</td></tr><tr><td>9756c6424f67479e8ef524d19b9d1972</td><td>2020-05-25T04:40:22.000+0000</td><td>impression</td><td>Affiliates</td><td>0</td></tr><tr><td>9756c6424f67479e8ef524d19b9d1972</td><td>2020-06-02T01:58:23.000+0000</td><td>impression</td><td>Affiliates</td><td>0</td></tr><tr><td>3fd3e568602c43eeae7a5a428c4d959f</td><td>2020-06-04T15:33:38.000+0000</td><td>impression</td><td>Affiliates</td><td>0</td></tr><tr><td>3fd3e568602c43eeae7a5a428c4d959f</td><td>2020-06-09T12:12:14.000+0000</td><td>impression</td><td>Search Engine Marketing</td><td>0</td></tr><tr><td>3fd3e568602c43eeae7a5a428c4d959f</td><td>2020-06-09T17:59:57.000+0000</td><td>impression</td><td>Search Engine Marketing</td><td>0</td></tr><tr><td>3fd3e568602c43eeae7a5a428c4d959f</td><td>2020-06-10T03:11:19.000+0000</td><td>impression</td><td>Affiliates</td><td>0</td></tr><tr><td>3fd3e568602c43eeae7a5a428c4d959f</td><td>2020-06-10T04:23:55.000+0000</td><td>impression</td><td>Search Engine Marketing</td><td>0</td></tr><tr><td>3fd3e568602c43eeae7a5a428c4d959f</td><td>2020-06-10T04:39:13.000+0000</td><td>impression</td><td>Search Engine Marketing</td><td>0</td></tr><tr><td>88e9130079f340cbb60b9585bb52f5c4</td><td>2020-05-19T11:54:36.000+0000</td><td>impression</td><td>Email</td><td>0</td></tr><tr><td>88e9130079f340cbb60b9585bb52f5c4</td><td>2020-05-25T12:47:40.000+0000</td><td>impression</td><td>Search Engine Marketing</td><td>0</td></tr><tr><td>65998264da5a40899702bf70becab029</td><td>2020-06-01T21:49:13.000+0000</td><td>impression</td><td>Affiliates</td><td>0</td></tr><tr><td>65998264da5a40899702bf70becab029</td><td>2020-06-07T05:00:23.000+0000</td><td>impression</td><td>Social Network</td><td>0</td></tr><tr><td>65998264da5a40899702bf70becab029</td><td>2020-06-09T02:10:25.000+0000</td><td>impression</td><td>Search Engine Marketing</td><td>0</td></tr><tr><td>65998264da5a40899702bf70becab029</td><td>2020-06-09T22:18:05.000+0000</td><td>impression</td><td>Social Network</td><td>0</td></tr><tr><td>65998264da5a40899702bf70becab029</td><td>2020-06-10T00:03:37.000+0000</td><td>impression</td><td>Affiliates</td><td>0</td></tr><tr><td>65998264da5a40899702bf70becab029</td><td>2020-06-10T02:43:37.000+0000</td><td>impression</td><td>Social Network</td><td>0</td></tr><tr><td>65998264da5a40899702bf70becab029</td><td>2020-06-10T04:32:50.000+0000</td><td>impression</td><td>Affiliates</td><td>0</td></tr><tr><td>bd71418419254346ae8051ff01a19054</td><td>2020-06-09T09:14:58.000+0000</td><td>impression</td><td>Affiliates</td><td>0</td></tr><tr><td>bd71418419254346ae8051ff01a19054</td><td>2020-06-10T00:25:41.000+0000</td><td>impression</td><td>Affiliates</td><td>0</td></tr><tr><td>bd71418419254346ae8051ff01a19054</td><td>2020-06-10T01:23:12.000+0000</td><td>impression</td><td>Email</td><td>0</td></tr><tr><td>bd71418419254346ae8051ff01a19054</td><td>2020-06-10T04:25:49.000+0000</td><td>impression</td><td>Search Engine Marketing</td><td>0</td></tr><tr><td>bd71418419254346ae8051ff01a19054</td><td>2020-06-10T04:29:41.000+0000</td><td>impression</td><td>Social Network</td><td>0</td></tr><tr><td>bd71418419254346ae8051ff01a19054</td><td>2020-06-10T04:43:18.000+0000</td><td>impression</td><td>Affiliates</td><td>0</td></tr><tr><td>bd71418419254346ae8051ff01a19054</td><td>2020-06-10T04:43:37.000+0000</td><td>conversion</td><td>Affiliates</td><td>1</td></tr><tr><td>d4bec61b716e4171a50ac67c929c8298</td><td>2020-06-01T04:34:00.000+0000</td><td>impression</td><td>Google Display Network</td><td>0</td></tr><tr><td>d4bec61b716e4171a50ac67c929c8298</td><td>2020-06-08T23:06:16.000+0000</td><td>impression</td><td>Affiliates</td><td>0</td></tr><tr><td>d4bec61b716e4171a50ac67c929c8298</td><td>2020-06-09T20:59:19.000+0000</td><td>impression</td><td>Affiliates</td><td>0</td></tr><tr><td>7189fc22da00437295ad85751ba8e034</td><td>2020-05-20T18:31:07.000+0000</td><td>impression</td><td>Social Network</td><td>0</td></tr><tr><td>7189fc22da00437295ad85751ba8e034</td><td>2020-05-28T10:06:28.000+0000</td><td>impression</td><td>Social Network</td><td>0</td></tr><tr><td>7189fc22da00437295ad85751ba8e034</td><td>2020-05-30T15:12:53.000+0000</td><td>impression</td><td>Search Engine Marketing</td><td>0</td></tr><tr><td>7189fc22da00437295ad85751ba8e034</td><td>2020-05-30T17:40:18.000+0000</td><td>impression</td><td>Social Network</td><td>0</td></tr><tr><td>7189fc22da00437295ad85751ba8e034</td><td>2020-06-03T19:25:08.000+0000</td><td>impression</td><td>Google Display Network</td><td>0</td></tr><tr><td>5ab743b06ed246ca94bfeb7a159b795c</td><td>2020-05-31T03:29:55.000+0000</td><td>impression</td><td>Search Engine Marketing</td><td>0</td></tr><tr><td>5ab743b06ed246ca94bfeb7a159b795c</td><td>2020-06-10T00:49:20.000+0000</td><td>impression</td><td>Search Engine Marketing</td><td>0</td></tr><tr><td>ab6ea30b789b4211a06cb40af48ce7bb</td><td>2020-05-18T22:57:00.000+0000</td><td>impression</td><td>Social Network</td><td>0</td></tr><tr><td>ab6ea30b789b4211a06cb40af48ce7bb</td><td>2020-05-20T15:58:07.000+0000</td><td>impression</td><td>Affiliates</td><td>0</td></tr><tr><td>ab6ea30b789b4211a06cb40af48ce7bb</td><td>2020-05-23T07:12:19.000+0000</td><td>impression</td><td>Affiliates</td><td>0</td></tr><tr><td>ab6ea30b789b4211a06cb40af48ce7bb</td><td>2020-05-24T23:12:16.000+0000</td><td>impression</td><td>Social Network</td><td>0</td></tr><tr><td>ab6ea30b789b4211a06cb40af48ce7bb</td><td>2020-05-25T08:33:51.000+0000</td><td>impression</td><td>Social Network</td><td>0</td></tr><tr><td>ab6ea30b789b4211a06cb40af48ce7bb</td><td>2020-06-08T08:17:41.000+0000</td><td>impression</td><td>Social Network</td><td>0</td></tr><tr><td>6da124384acc4bee81ef96021877b847</td><td>2020-05-26T21:12:39.000+0000</td><td>impression</td><td>Affiliates</td><td>0</td></tr><tr><td>6da124384acc4bee81ef96021877b847</td><td>2020-06-02T21:09:25.000+0000</td><td>impression</td><td>Search Engine Marketing</td><td>0</td></tr><tr><td>6da124384acc4bee81ef96021877b847</td><td>2020-06-08T18:26:07.000+0000</td><td>impression</td><td>Search Engine Marketing</td><td>0</td></tr><tr><td>6da124384acc4bee81ef96021877b847</td><td>2020-06-09T05:19:22.000+0000</td><td>impression</td><td>Search Engine Marketing</td><td>0</td></tr><tr><td>6da124384acc4bee81ef96021877b847</td><td>2020-06-09T09:00:31.000+0000</td><td>conversion</td><td>Affiliates</td><td>1</td></tr><tr><td>f794bea68ae44cb2a3ba0565d3d08115</td><td>2020-06-08T00:07:20.000+0000</td><td>impression</td><td>Affiliates</td><td>0</td></tr><tr><td>f794bea68ae44cb2a3ba0565d3d08115</td><td>2020-06-08T13:36:55.000+0000</td><td>impression</td><td>Search Engine Marketing</td><td>0</td></tr><tr><td>f794bea68ae44cb2a3ba0565d3d08115</td><td>2020-06-09T06:57:12.000+0000</td><td>impression</td><td>Google Display Network</td><td>0</td></tr><tr><td>f794bea68ae44cb2a3ba0565d3d08115</td><td>2020-06-09T13:23:19.000+0000</td><td>impression</td><td>Google Display Network</td><td>0</td></tr><tr><td>f794bea68ae44cb2a3ba0565d3d08115</td><td>2020-06-09T15:02:08.000+0000</td><td>impression</td><td>Search Engine Marketing</td><td>0</td></tr><tr><td>83dd3a41b98742acb78847066733e8b5</td><td>2020-05-26T13:28:30.000+0000</td><td>impression</td><td>Google Display Network</td><td>0</td></tr><tr><td>83dd3a41b98742acb78847066733e8b5</td><td>2020-06-04T11:25:44.000+0000</td><td>impression</td><td>Affiliates</td><td>0</td></tr><tr><td>83dd3a41b98742acb78847066733e8b5</td><td>2020-06-08T06:10:04.000+0000</td><td>impression</td><td>Search Engine Marketing</td><td>0</td></tr><tr><td>83dd3a41b98742acb78847066733e8b5</td><td>2020-06-09T00:34:42.000+0000</td><td>impression</td><td>Google Display Network</td><td>0</td></tr><tr><td>83dd3a41b98742acb78847066733e8b5</td><td>2020-06-09T13:45:07.000+0000</td><td>impression</td><td>Search Engine Marketing</td><td>0</td></tr><tr><td>83dd3a41b98742acb78847066733e8b5</td><td>2020-06-10T00:10:56.000+0000</td><td>impression</td><td>Affiliates</td><td>0</td></tr><tr><td>83dd3a41b98742acb78847066733e8b5</td><td>2020-06-10T01:46:16.000+0000</td><td>impression</td><td>Affiliates</td><td>0</td></tr><tr><td>83dd3a41b98742acb78847066733e8b5</td><td>2020-06-10T02:49:51.000+0000</td><td>conversion</td><td>Social Network</td><td>1</td></tr><tr><td>931071e36d1945c1b3e04c03617701b0</td><td>2020-06-01T02:32:35.000+0000</td><td>impression</td><td>Social Network</td><td>0</td></tr><tr><td>931071e36d1945c1b3e04c03617701b0</td><td>2020-06-04T21:57:07.000+0000</td><td>impression</td><td>Affiliates</td><td>0</td></tr><tr><td>931071e36d1945c1b3e04c03617701b0</td><td>2020-06-09T10:32:08.000+0000</td><td>impression</td><td>Search Engine Marketing</td><td>0</td></tr><tr><td>931071e36d1945c1b3e04c03617701b0</td><td>2020-06-09T13:58:41.000+0000</td><td>impression</td><td>Search Engine Marketing</td><td>0</td></tr><tr><td>931071e36d1945c1b3e04c03617701b0</td><td>2020-06-10T00:24:57.000+0000</td><td>impression</td><td>Google Display Network</td><td>0</td></tr><tr><td>931071e36d1945c1b3e04c03617701b0</td><td>2020-06-10T02:50:04.000+0000</td><td>impression</td><td>Affiliates</td><td>0</td></tr><tr><td>931071e36d1945c1b3e04c03617701b0</td><td>2020-06-10T03:44:47.000+0000</td><td>impression</td><td>Google Display Network</td><td>0</td></tr><tr><td>931071e36d1945c1b3e04c03617701b0</td><td>2020-06-10T04:39:28.000+0000</td><td>conversion</td><td>Affiliates</td><td>1</td></tr><tr><td>10c1f990ce764cb6a2c68b1437929066</td><td>2020-05-19T08:37:41.000+0000</td><td>conversion</td><td>Affiliates</td><td>1</td></tr><tr><td>5a1ff5ef541a44e9a03e210b502b4e09</td><td>2020-05-27T06:34:53.000+0000</td><td>impression</td><td>Search Engine Marketing</td><td>0</td></tr><tr><td>5a1ff5ef541a44e9a03e210b502b4e09</td><td>2020-06-06T00:55:30.000+0000</td><td>impression</td><td>Social Network</td><td>0</td></tr><tr><td>5a1ff5ef541a44e9a03e210b502b4e09</td><td>2020-06-10T04:12:00.000+0000</td><td>impression</td><td>Search Engine Marketing</td><td>0</td></tr><tr><td>5a1ff5ef541a44e9a03e210b502b4e09</td><td>2020-06-10T04:14:33.000+0000</td><td>impression</td><td>Social Network</td><td>0</td></tr><tr><td>e07d8aa2acc44dbba1363a6b1cac25b8</td><td>2020-05-17T20:58:41.000+0000</td><td>impression</td><td>Affiliates</td><td>0</td></tr><tr><td>e07d8aa2acc44dbba1363a6b1cac25b8</td><td>2020-05-19T12:00:16.000+0000</td><td>impression</td><td>Search Engine Marketing</td><td>0</td></tr><tr><td>e07d8aa2acc44dbba1363a6b1cac25b8</td><td>2020-05-23T12:31:03.000+0000</td><td>impression</td><td>Affiliates</td><td>0</td></tr><tr><td>e07d8aa2acc44dbba1363a6b1cac25b8</td><td>2020-05-24T02:51:20.000+0000</td><td>impression</td><td>Google Display Network</td><td>0</td></tr><tr><td>e07d8aa2acc44dbba1363a6b1cac25b8</td><td>2020-05-27T09:32:07.000+0000</td><td>impression</td><td>Search Engine Marketing</td><td>0</td></tr><tr><td>e07d8aa2acc44dbba1363a6b1cac25b8</td><td>2020-06-07T23:42:38.000+0000</td><td>impression</td><td>Search Engine Marketing</td><td>0</td></tr><tr><td>e07d8aa2acc44dbba1363a6b1cac25b8</td><td>2020-06-09T03:10:45.000+0000</td><td>impression</td><td>Google Display Network</td><td>0</td></tr><tr><td>2c37346fff534daa83f0ea23d242e860</td><td>2020-06-03T14:17:42.000+0000</td><td>impression</td><td>Affiliates</td><td>0</td></tr><tr><td>2c37346fff534daa83f0ea23d242e860</td><td>2020-06-05T19:35:56.000+0000</td><td>impression</td><td>Affiliates</td><td>0</td></tr><tr><td>2c37346fff534daa83f0ea23d242e860</td><td>2020-06-06T16:40:33.000+0000</td><td>impression</td><td>Affiliates</td><td>0</td></tr><tr><td>2c37346fff534daa83f0ea23d242e860</td><td>2020-06-09T13:15:42.000+0000</td><td>impression</td><td>Affiliates</td><td>0</td></tr><tr><td>2c37346fff534daa83f0ea23d242e860</td><td>2020-06-09T15:14:33.000+0000</td><td>impression</td><td>Social Network</td><td>0</td></tr><tr><td>2c37346fff534daa83f0ea23d242e860</td><td>2020-06-09T17:27:46.000+0000</td><td>impression</td><td>Affiliates</td><td>0</td></tr><tr><td>2c37346fff534daa83f0ea23d242e860</td><td>2020-06-09T17:40:35.000+0000</td><td>impression</td><td>Search Engine Marketing</td><td>0</td></tr><tr><td>e762032e1ea14a139218dbcf05aa50a5</td><td>2020-05-19T15:27:09.000+0000</td><td>impression</td><td>Google Display Network</td><td>0</td></tr><tr><td>e762032e1ea14a139218dbcf05aa50a5</td><td>2020-05-26T02:13:37.000+0000</td><td>impression</td><td>Affiliates</td><td>0</td></tr><tr><td>e762032e1ea14a139218dbcf05aa50a5</td><td>2020-05-28T20:41:20.000+0000</td><td>impression</td><td>Google Display Network</td><td>0</td></tr><tr><td>e762032e1ea14a139218dbcf05aa50a5</td><td>2020-06-05T04:34:16.000+0000</td><td>impression</td><td>Affiliates</td><td>0</td></tr><tr><td>e762032e1ea14a139218dbcf05aa50a5</td><td>2020-06-08T06:18:39.000+0000</td><td>impression</td><td>Affiliates</td><td>0</td></tr><tr><td>e762032e1ea14a139218dbcf05aa50a5</td><td>2020-06-08T21:14:38.000+0000</td><td>impression</td><td>Search Engine Marketing</td><td>0</td></tr><tr><td>e762032e1ea14a139218dbcf05aa50a5</td><td>2020-06-09T08:24:22.000+0000</td><td>impression</td><td>Social Network</td><td>0</td></tr><tr><td>d2f0b44ebd79427eafa50779d6728828</td><td>2020-06-01T01:22:03.000+0000</td><td>impression</td><td>Affiliates</td><td>0</td></tr></tbody></table>Showing the first 1000 rows.</div>"
      ]
     },
     "metadata": {
      "application/vnd.databricks.v1+output": {
       "addedWidgets": {},
       "aggData": [],
       "aggError": "",
       "aggOverflow": false,
       "aggSchema": [],
       "aggSeriesLimitReached": false,
       "aggType": "",
       "arguments": {},
       "columnCustomDisplayInfos": {},
       "data": [
        [
         "177ce51f7abf4f64a2066af7bde04f56",
         "2020-06-07T22:07:01.000+0000",
         "impression",
         "Affiliates",
         0
        ],
        [
         "bf59afcf0b7b4a65b53ae99fecf57e92",
         "2020-05-28T08:53:15.000+0000",
         "impression",
         "Affiliates",
         0
        ],
        [
         "bf59afcf0b7b4a65b53ae99fecf57e92",
         "2020-06-08T04:51:37.000+0000",
         "impression",
         "Email",
         0
        ],
        [
         "96fc92cc66a84997ab682afde2c667e8",
         "2020-06-01T08:53:39.000+0000",
         "impression",
         "Google Display Network",
         0
        ],
        [
         "96fc92cc66a84997ab682afde2c667e8",
         "2020-06-05T10:21:48.000+0000",
         "impression",
         "Affiliates",
         0
        ],
        [
         "bd0b9e0e622b4d03858cf2c69304b5cf",
         "2020-05-23T00:25:59.000+0000",
         "impression",
         "Social Network",
         0
        ],
        [
         "bd0b9e0e622b4d03858cf2c69304b5cf",
         "2020-05-24T09:40:38.000+0000",
         "impression",
         "Google Display Network",
         0
        ],
        [
         "bd0b9e0e622b4d03858cf2c69304b5cf",
         "2020-05-24T10:40:54.000+0000",
         "impression",
         "Affiliates",
         0
        ],
        [
         "bd0b9e0e622b4d03858cf2c69304b5cf",
         "2020-05-30T16:55:50.000+0000",
         "impression",
         "Search Engine Marketing",
         0
        ],
        [
         "4d6bfa53b9294347a69443f9f4bf5476",
         "2020-05-30T15:36:07.000+0000",
         "impression",
         "Social Network",
         0
        ],
        [
         "4d6bfa53b9294347a69443f9f4bf5476",
         "2020-06-08T13:21:29.000+0000",
         "impression",
         "Affiliates",
         0
        ],
        [
         "4d6bfa53b9294347a69443f9f4bf5476",
         "2020-06-09T19:15:50.000+0000",
         "impression",
         "Social Network",
         0
        ],
        [
         "4d6bfa53b9294347a69443f9f4bf5476",
         "2020-06-10T04:18:25.000+0000",
         "impression",
         "Affiliates",
         0
        ],
        [
         "4d6bfa53b9294347a69443f9f4bf5476",
         "2020-06-10T04:30:09.000+0000",
         "impression",
         "Search Engine Marketing",
         0
        ],
        [
         "4d6bfa53b9294347a69443f9f4bf5476",
         "2020-06-10T04:45:50.000+0000",
         "impression",
         "Social Network",
         0
        ],
        [
         "4d6bfa53b9294347a69443f9f4bf5476",
         "2020-06-10T04:46:27.000+0000",
         "impression",
         "Search Engine Marketing",
         0
        ],
        [
         "4d6bfa53b9294347a69443f9f4bf5476",
         "2020-06-10T04:47:51.000+0000",
         "impression",
         "Affiliates",
         0
        ],
        [
         "2df7a46d7d6d47b28b565fe19d9561ac",
         "2020-06-09T07:59:33.000+0000",
         "impression",
         "Social Network",
         0
        ],
        [
         "2df7a46d7d6d47b28b565fe19d9561ac",
         "2020-06-09T18:37:31.000+0000",
         "impression",
         "Affiliates",
         0
        ],
        [
         "2df7a46d7d6d47b28b565fe19d9561ac",
         "2020-06-10T01:24:33.000+0000",
         "impression",
         "Social Network",
         0
        ],
        [
         "2df7a46d7d6d47b28b565fe19d9561ac",
         "2020-06-10T03:57:07.000+0000",
         "impression",
         "Social Network",
         0
        ],
        [
         "2df7a46d7d6d47b28b565fe19d9561ac",
         "2020-06-10T04:47:47.000+0000",
         "impression",
         "Google Display Network",
         0
        ],
        [
         "2df7a46d7d6d47b28b565fe19d9561ac",
         "2020-06-10T04:48:36.000+0000",
         "impression",
         "Search Engine Marketing",
         0
        ],
        [
         "2df7a46d7d6d47b28b565fe19d9561ac",
         "2020-06-10T04:49:40.000+0000",
         "impression",
         "Social Network",
         0
        ],
        [
         "2df7a46d7d6d47b28b565fe19d9561ac",
         "2020-06-10T04:49:50.000+0000",
         "impression",
         "Affiliates",
         0
        ],
        [
         "3845b7b898a54b73ae0e751be62299eb",
         "2020-06-03T09:36:39.000+0000",
         "conversion",
         "Affiliates",
         1
        ],
        [
         "b6892615a268490388cb864f983f9ad4",
         "2020-05-21T09:24:23.000+0000",
         "impression",
         "Social Network",
         0
        ],
        [
         "b6892615a268490388cb864f983f9ad4",
         "2020-05-24T01:04:28.000+0000",
         "impression",
         "Search Engine Marketing",
         0
        ],
        [
         "b6892615a268490388cb864f983f9ad4",
         "2020-05-29T21:54:22.000+0000",
         "impression",
         "Search Engine Marketing",
         0
        ],
        [
         "b6892615a268490388cb864f983f9ad4",
         "2020-05-30T10:04:46.000+0000",
         "impression",
         "Search Engine Marketing",
         0
        ],
        [
         "b6892615a268490388cb864f983f9ad4",
         "2020-06-04T02:34:00.000+0000",
         "impression",
         "Search Engine Marketing",
         0
        ],
        [
         "beced4ca9b4c4e29a0d9c96893f4bb7d",
         "2020-05-22T10:22:31.000+0000",
         "impression",
         "Social Network",
         0
        ],
        [
         "beced4ca9b4c4e29a0d9c96893f4bb7d",
         "2020-06-06T21:09:28.000+0000",
         "impression",
         "Google Display Network",
         0
        ],
        [
         "7e7740cc999346f991d0d062eb052170",
         "2020-06-08T02:28:48.000+0000",
         "impression",
         "Search Engine Marketing",
         0
        ],
        [
         "7e7740cc999346f991d0d062eb052170",
         "2020-06-09T19:49:05.000+0000",
         "impression",
         "Affiliates",
         0
        ],
        [
         "7e7740cc999346f991d0d062eb052170",
         "2020-06-10T02:30:51.000+0000",
         "impression",
         "Social Network",
         0
        ],
        [
         "7e7740cc999346f991d0d062eb052170",
         "2020-06-10T04:32:12.000+0000",
         "impression",
         "Affiliates",
         0
        ],
        [
         "7e7740cc999346f991d0d062eb052170",
         "2020-06-10T04:45:59.000+0000",
         "impression",
         "Affiliates",
         0
        ],
        [
         "7e7740cc999346f991d0d062eb052170",
         "2020-06-10T04:47:21.000+0000",
         "impression",
         "Affiliates",
         0
        ],
        [
         "7e7740cc999346f991d0d062eb052170",
         "2020-06-10T04:47:27.000+0000",
         "impression",
         "Search Engine Marketing",
         0
        ],
        [
         "7e7740cc999346f991d0d062eb052170",
         "2020-06-10T04:48:27.000+0000",
         "conversion",
         "Affiliates",
         1
        ],
        [
         "c90723e49b98464f9fb9af9be8adfdf6",
         "2020-05-22T12:26:55.000+0000",
         "impression",
         "Social Network",
         0
        ],
        [
         "c90723e49b98464f9fb9af9be8adfdf6",
         "2020-06-05T21:45:43.000+0000",
         "impression",
         "Social Network",
         0
        ],
        [
         "c90723e49b98464f9fb9af9be8adfdf6",
         "2020-06-07T03:10:05.000+0000",
         "impression",
         "Google Display Network",
         0
        ],
        [
         "c90723e49b98464f9fb9af9be8adfdf6",
         "2020-06-09T00:48:41.000+0000",
         "impression",
         "Search Engine Marketing",
         0
        ],
        [
         "d4499dd5ed67444586ae17b899815482",
         "2020-05-18T20:19:44.000+0000",
         "impression",
         "Search Engine Marketing",
         0
        ],
        [
         "d4499dd5ed67444586ae17b899815482",
         "2020-05-31T02:31:20.000+0000",
         "impression",
         "Social Network",
         0
        ],
        [
         "d4499dd5ed67444586ae17b899815482",
         "2020-06-05T07:01:01.000+0000",
         "impression",
         "Affiliates",
         0
        ],
        [
         "d4499dd5ed67444586ae17b899815482",
         "2020-06-08T16:30:05.000+0000",
         "impression",
         "Email",
         0
        ],
        [
         "d4499dd5ed67444586ae17b899815482",
         "2020-06-09T10:24:32.000+0000",
         "impression",
         "Email",
         0
        ],
        [
         "d4499dd5ed67444586ae17b899815482",
         "2020-06-09T17:45:28.000+0000",
         "impression",
         "Google Display Network",
         0
        ],
        [
         "d4499dd5ed67444586ae17b899815482",
         "2020-06-09T22:39:03.000+0000",
         "impression",
         "Google Display Network",
         0
        ],
        [
         "522996aeb02647cead839ed3b6cda4e3",
         "2020-05-24T02:29:04.000+0000",
         "impression",
         "Affiliates",
         0
        ],
        [
         "522996aeb02647cead839ed3b6cda4e3",
         "2020-05-28T17:16:38.000+0000",
         "impression",
         "Affiliates",
         0
        ],
        [
         "522996aeb02647cead839ed3b6cda4e3",
         "2020-05-31T06:24:02.000+0000",
         "impression",
         "Search Engine Marketing",
         0
        ],
        [
         "522996aeb02647cead839ed3b6cda4e3",
         "2020-06-02T17:36:48.000+0000",
         "impression",
         "Social Network",
         0
        ],
        [
         "522996aeb02647cead839ed3b6cda4e3",
         "2020-06-03T10:23:13.000+0000",
         "conversion",
         "Affiliates",
         1
        ],
        [
         "7d4bf42f620c4c898789ff9f54bf4aa1",
         "2020-06-07T13:01:01.000+0000",
         "impression",
         "Affiliates",
         0
        ],
        [
         "7d4bf42f620c4c898789ff9f54bf4aa1",
         "2020-06-08T23:38:55.000+0000",
         "impression",
         "Search Engine Marketing",
         0
        ],
        [
         "7d4bf42f620c4c898789ff9f54bf4aa1",
         "2020-06-09T01:44:20.000+0000",
         "impression",
         "Search Engine Marketing",
         0
        ],
        [
         "5d9dcf73a4b84d0c89939200d8fa86a1",
         "2020-06-04T10:53:26.000+0000",
         "impression",
         "Affiliates",
         0
        ],
        [
         "5d9dcf73a4b84d0c89939200d8fa86a1",
         "2020-06-06T06:20:22.000+0000",
         "impression",
         "Search Engine Marketing",
         0
        ],
        [
         "5d9dcf73a4b84d0c89939200d8fa86a1",
         "2020-06-08T09:00:31.000+0000",
         "impression",
         "Email",
         0
        ],
        [
         "5d9dcf73a4b84d0c89939200d8fa86a1",
         "2020-06-09T06:51:40.000+0000",
         "impression",
         "Affiliates",
         0
        ],
        [
         "5d9dcf73a4b84d0c89939200d8fa86a1",
         "2020-06-09T14:10:49.000+0000",
         "impression",
         "Search Engine Marketing",
         0
        ],
        [
         "5d9dcf73a4b84d0c89939200d8fa86a1",
         "2020-06-09T20:47:33.000+0000",
         "impression",
         "Affiliates",
         0
        ],
        [
         "5d9dcf73a4b84d0c89939200d8fa86a1",
         "2020-06-09T22:54:44.000+0000",
         "impression",
         "Social Network",
         0
        ],
        [
         "5d9dcf73a4b84d0c89939200d8fa86a1",
         "2020-06-10T03:00:46.000+0000",
         "impression",
         "Search Engine Marketing",
         0
        ],
        [
         "5d9dcf73a4b84d0c89939200d8fa86a1",
         "2020-06-10T04:25:33.000+0000",
         "impression",
         "Social Network",
         0
        ],
        [
         "72ace3bc66bb40cebd58a76dd3948095",
         "2020-05-18T16:47:06.000+0000",
         "impression",
         "Search Engine Marketing",
         0
        ],
        [
         "72ace3bc66bb40cebd58a76dd3948095",
         "2020-05-25T04:07:16.000+0000",
         "impression",
         "Affiliates",
         0
        ],
        [
         "72ace3bc66bb40cebd58a76dd3948095",
         "2020-05-30T18:21:18.000+0000",
         "impression",
         "Search Engine Marketing",
         0
        ],
        [
         "72ace3bc66bb40cebd58a76dd3948095",
         "2020-06-02T04:31:55.000+0000",
         "impression",
         "Search Engine Marketing",
         0
        ],
        [
         "72ace3bc66bb40cebd58a76dd3948095",
         "2020-06-07T03:39:52.000+0000",
         "impression",
         "Social Network",
         0
        ],
        [
         "72ace3bc66bb40cebd58a76dd3948095",
         "2020-06-09T19:09:28.000+0000",
         "impression",
         "Search Engine Marketing",
         0
        ],
        [
         "72ace3bc66bb40cebd58a76dd3948095",
         "2020-06-09T22:35:11.000+0000",
         "impression",
         "Social Network",
         0
        ],
        [
         "6b1aac89254741f5932635fcdb47fbed",
         "2020-05-23T05:38:29.000+0000",
         "impression",
         "Search Engine Marketing",
         0
        ],
        [
         "608ce6dac8f34267bc5150b050ca483c",
         "2020-05-28T05:12:48.000+0000",
         "impression",
         "Social Network",
         0
        ],
        [
         "608ce6dac8f34267bc5150b050ca483c",
         "2020-06-09T12:36:44.000+0000",
         "impression",
         "Google Display Network",
         0
        ],
        [
         "608ce6dac8f34267bc5150b050ca483c",
         "2020-06-09T14:23:24.000+0000",
         "impression",
         "Search Engine Marketing",
         0
        ],
        [
         "608ce6dac8f34267bc5150b050ca483c",
         "2020-06-10T01:23:09.000+0000",
         "impression",
         "Google Display Network",
         0
        ],
        [
         "608ce6dac8f34267bc5150b050ca483c",
         "2020-06-10T01:27:30.000+0000",
         "impression",
         "Google Display Network",
         0
        ],
        [
         "608ce6dac8f34267bc5150b050ca483c",
         "2020-06-10T03:31:21.000+0000",
         "impression",
         "Search Engine Marketing",
         0
        ],
        [
         "ea535a7826ec4f25861cdeed1dbce277",
         "2020-05-19T09:24:56.000+0000",
         "impression",
         "Search Engine Marketing",
         0
        ],
        [
         "ea535a7826ec4f25861cdeed1dbce277",
         "2020-05-19T23:43:31.000+0000",
         "impression",
         "Search Engine Marketing",
         0
        ],
        [
         "cb1b1323c1024c039207a136b4c97d9b",
         "2020-05-24T23:59:09.000+0000",
         "impression",
         "Search Engine Marketing",
         0
        ],
        [
         "cb1b1323c1024c039207a136b4c97d9b",
         "2020-05-31T09:25:28.000+0000",
         "impression",
         "Search Engine Marketing",
         0
        ],
        [
         "3bebcf223f3b4bdf87ea6cfa00e19ed6",
         "2020-05-21T10:11:37.000+0000",
         "impression",
         "Affiliates",
         0
        ],
        [
         "3bebcf223f3b4bdf87ea6cfa00e19ed6",
         "2020-05-21T10:24:01.000+0000",
         "impression",
         "Social Network",
         0
        ],
        [
         "3bebcf223f3b4bdf87ea6cfa00e19ed6",
         "2020-05-24T22:16:35.000+0000",
         "impression",
         "Google Display Network",
         0
        ],
        [
         "9588d610f3ae4a65bd25441f2ef136b3",
         "2020-06-07T12:33:22.000+0000",
         "impression",
         "Affiliates",
         0
        ],
        [
         "9588d610f3ae4a65bd25441f2ef136b3",
         "2020-06-07T13:20:21.000+0000",
         "impression",
         "Affiliates",
         0
        ],
        [
         "9588d610f3ae4a65bd25441f2ef136b3",
         "2020-06-09T21:02:01.000+0000",
         "impression",
         "Google Display Network",
         0
        ],
        [
         "b4a481f0a4d14ff787c28d0c8c673417",
         "2020-06-06T01:10:58.000+0000",
         "impression",
         "Search Engine Marketing",
         0
        ],
        [
         "b4a481f0a4d14ff787c28d0c8c673417",
         "2020-06-07T01:19:44.000+0000",
         "impression",
         "Search Engine Marketing",
         0
        ],
        [
         "b4a481f0a4d14ff787c28d0c8c673417",
         "2020-06-09T20:36:14.000+0000",
         "impression",
         "Social Network",
         0
        ],
        [
         "b4a481f0a4d14ff787c28d0c8c673417",
         "2020-06-10T04:04:49.000+0000",
         "impression",
         "Google Display Network",
         0
        ],
        [
         "b4a481f0a4d14ff787c28d0c8c673417",
         "2020-06-10T04:40:28.000+0000",
         "impression",
         "Affiliates",
         0
        ],
        [
         "b4a481f0a4d14ff787c28d0c8c673417",
         "2020-06-10T04:43:25.000+0000",
         "impression",
         "Social Network",
         0
        ],
        [
         "b4a481f0a4d14ff787c28d0c8c673417",
         "2020-06-10T04:48:51.000+0000",
         "impression",
         "Social Network",
         0
        ],
        [
         "b4a481f0a4d14ff787c28d0c8c673417",
         "2020-06-10T04:49:37.000+0000",
         "impression",
         "Social Network",
         0
        ],
        [
         "3fd8e2d2df914f3699bd8d5c0039bcec",
         "2020-05-28T11:14:23.000+0000",
         "impression",
         "Email",
         0
        ],
        [
         "3fd8e2d2df914f3699bd8d5c0039bcec",
         "2020-06-03T12:53:37.000+0000",
         "impression",
         "Affiliates",
         0
        ],
        [
         "3fd8e2d2df914f3699bd8d5c0039bcec",
         "2020-06-03T21:47:05.000+0000",
         "impression",
         "Google Display Network",
         0
        ],
        [
         "3fd8e2d2df914f3699bd8d5c0039bcec",
         "2020-06-04T21:43:22.000+0000",
         "impression",
         "Search Engine Marketing",
         0
        ],
        [
         "3fd8e2d2df914f3699bd8d5c0039bcec",
         "2020-06-05T12:15:00.000+0000",
         "impression",
         "Search Engine Marketing",
         0
        ],
        [
         "3fd8e2d2df914f3699bd8d5c0039bcec",
         "2020-06-08T07:23:52.000+0000",
         "impression",
         "Search Engine Marketing",
         0
        ],
        [
         "3fd8e2d2df914f3699bd8d5c0039bcec",
         "2020-06-08T21:05:12.000+0000",
         "impression",
         "Google Display Network",
         0
        ],
        [
         "3fd8e2d2df914f3699bd8d5c0039bcec",
         "2020-06-09T01:20:52.000+0000",
         "impression",
         "Email",
         0
        ],
        [
         "3fd8e2d2df914f3699bd8d5c0039bcec",
         "2020-06-09T04:43:14.000+0000",
         "impression",
         "Search Engine Marketing",
         0
        ],
        [
         "36dde8d145af4e62a82bb33f8057f850",
         "2020-05-20T23:59:06.000+0000",
         "impression",
         "Search Engine Marketing",
         0
        ],
        [
         "36dde8d145af4e62a82bb33f8057f850",
         "2020-05-28T18:06:52.000+0000",
         "impression",
         "Search Engine Marketing",
         0
        ],
        [
         "36dde8d145af4e62a82bb33f8057f850",
         "2020-05-31T22:04:28.000+0000",
         "impression",
         "Social Network",
         0
        ],
        [
         "36dde8d145af4e62a82bb33f8057f850",
         "2020-06-02T11:14:56.000+0000",
         "impression",
         "Search Engine Marketing",
         0
        ],
        [
         "36dde8d145af4e62a82bb33f8057f850",
         "2020-06-07T21:30:04.000+0000",
         "impression",
         "Google Display Network",
         0
        ],
        [
         "36dde8d145af4e62a82bb33f8057f850",
         "2020-06-08T03:42:57.000+0000",
         "impression",
         "Affiliates",
         0
        ],
        [
         "ccc2d5bfcbd74e6d8f380495ac3d5c5d",
         "2020-05-21T10:19:41.000+0000",
         "impression",
         "Social Network",
         0
        ],
        [
         "ccc2d5bfcbd74e6d8f380495ac3d5c5d",
         "2020-06-02T12:01:49.000+0000",
         "impression",
         "Search Engine Marketing",
         0
        ],
        [
         "ccc2d5bfcbd74e6d8f380495ac3d5c5d",
         "2020-06-06T01:50:33.000+0000",
         "impression",
         "Social Network",
         0
        ],
        [
         "fa154cdb17db4132b032823fe22999fd",
         "2020-05-21T11:30:56.000+0000",
         "impression",
         "Search Engine Marketing",
         0
        ],
        [
         "fa154cdb17db4132b032823fe22999fd",
         "2020-06-02T09:58:23.000+0000",
         "impression",
         "Email",
         0
        ],
        [
         "fa154cdb17db4132b032823fe22999fd",
         "2020-06-06T20:35:46.000+0000",
         "impression",
         "Affiliates",
         0
        ],
        [
         "fa154cdb17db4132b032823fe22999fd",
         "2020-06-07T04:11:12.000+0000",
         "impression",
         "Search Engine Marketing",
         0
        ],
        [
         "fa154cdb17db4132b032823fe22999fd",
         "2020-06-09T14:48:05.000+0000",
         "impression",
         "Search Engine Marketing",
         0
        ],
        [
         "fa154cdb17db4132b032823fe22999fd",
         "2020-06-09T20:09:18.000+0000",
         "impression",
         "Affiliates",
         0
        ],
        [
         "3279f1d894aa4d979d35bb7d06f6765b",
         "2020-05-30T03:35:40.000+0000",
         "impression",
         "Social Network",
         0
        ],
        [
         "3279f1d894aa4d979d35bb7d06f6765b",
         "2020-06-03T13:37:29.000+0000",
         "impression",
         "Search Engine Marketing",
         0
        ],
        [
         "552c16d87ff14ec78199d21bcf12d8c3",
         "2020-06-10T00:22:47.000+0000",
         "impression",
         "Google Display Network",
         0
        ],
        [
         "552c16d87ff14ec78199d21bcf12d8c3",
         "2020-06-10T00:25:51.000+0000",
         "conversion",
         "Search Engine Marketing",
         1
        ],
        [
         "4229d570662f4702853c12711d5bab83",
         "2020-05-17T17:17:10.000+0000",
         "impression",
         "Search Engine Marketing",
         0
        ],
        [
         "cc3acc0fa8a4476e8ebadb42f6bff214",
         "2020-05-18T16:37:14.000+0000",
         "impression",
         "Google Display Network",
         0
        ],
        [
         "cc3acc0fa8a4476e8ebadb42f6bff214",
         "2020-05-23T13:28:19.000+0000",
         "impression",
         "Affiliates",
         0
        ],
        [
         "cc3acc0fa8a4476e8ebadb42f6bff214",
         "2020-05-30T15:01:28.000+0000",
         "impression",
         "Google Display Network",
         0
        ],
        [
         "cc3acc0fa8a4476e8ebadb42f6bff214",
         "2020-06-06T12:02:29.000+0000",
         "impression",
         "Affiliates",
         0
        ],
        [
         "cc3acc0fa8a4476e8ebadb42f6bff214",
         "2020-06-07T05:33:56.000+0000",
         "impression",
         "Social Network",
         0
        ],
        [
         "cc3acc0fa8a4476e8ebadb42f6bff214",
         "2020-06-08T21:58:41.000+0000",
         "impression",
         "Search Engine Marketing",
         0
        ],
        [
         "cc3acc0fa8a4476e8ebadb42f6bff214",
         "2020-06-09T08:24:42.000+0000",
         "impression",
         "Social Network",
         0
        ],
        [
         "cc3acc0fa8a4476e8ebadb42f6bff214",
         "2020-06-10T01:11:01.000+0000",
         "impression",
         "Affiliates",
         0
        ],
        [
         "3848b1991e324f90bd4418a6323d0d48",
         "2020-06-04T21:25:42.000+0000",
         "impression",
         "Search Engine Marketing",
         0
        ],
        [
         "3848b1991e324f90bd4418a6323d0d48",
         "2020-06-07T23:01:02.000+0000",
         "impression",
         "Affiliates",
         0
        ],
        [
         "3848b1991e324f90bd4418a6323d0d48",
         "2020-06-08T21:28:52.000+0000",
         "impression",
         "Google Display Network",
         0
        ],
        [
         "3848b1991e324f90bd4418a6323d0d48",
         "2020-06-09T19:07:11.000+0000",
         "impression",
         "Affiliates",
         0
        ],
        [
         "06ac43ce1a3c4f22b65025e3b4131aa0",
         "2020-06-07T01:38:12.000+0000",
         "impression",
         "Affiliates",
         0
        ],
        [
         "06ac43ce1a3c4f22b65025e3b4131aa0",
         "2020-06-08T22:18:07.000+0000",
         "impression",
         "Affiliates",
         0
        ],
        [
         "06ac43ce1a3c4f22b65025e3b4131aa0",
         "2020-06-09T06:08:41.000+0000",
         "impression",
         "Search Engine Marketing",
         0
        ],
        [
         "06ac43ce1a3c4f22b65025e3b4131aa0",
         "2020-06-10T02:49:05.000+0000",
         "impression",
         "Affiliates",
         0
        ],
        [
         "06ac43ce1a3c4f22b65025e3b4131aa0",
         "2020-06-10T03:27:24.000+0000",
         "impression",
         "Email",
         0
        ],
        [
         "91aedaeadba74d1584145e21f29a26aa",
         "2020-05-27T17:02:25.000+0000",
         "impression",
         "Search Engine Marketing",
         0
        ],
        [
         "91aedaeadba74d1584145e21f29a26aa",
         "2020-06-02T19:41:58.000+0000",
         "impression",
         "Google Display Network",
         0
        ],
        [
         "91aedaeadba74d1584145e21f29a26aa",
         "2020-06-08T18:16:58.000+0000",
         "impression",
         "Search Engine Marketing",
         0
        ],
        [
         "91aedaeadba74d1584145e21f29a26aa",
         "2020-06-09T04:06:45.000+0000",
         "impression",
         "Google Display Network",
         0
        ],
        [
         "91aedaeadba74d1584145e21f29a26aa",
         "2020-06-10T01:52:45.000+0000",
         "impression",
         "Email",
         0
        ],
        [
         "91aedaeadba74d1584145e21f29a26aa",
         "2020-06-10T02:24:33.000+0000",
         "impression",
         "Search Engine Marketing",
         0
        ],
        [
         "91aedaeadba74d1584145e21f29a26aa",
         "2020-06-10T03:46:21.000+0000",
         "impression",
         "Search Engine Marketing",
         0
        ],
        [
         "91aedaeadba74d1584145e21f29a26aa",
         "2020-06-10T04:41:22.000+0000",
         "impression",
         "Google Display Network",
         0
        ],
        [
         "91aedaeadba74d1584145e21f29a26aa",
         "2020-06-10T04:49:58.000+0000",
         "impression",
         "Social Network",
         0
        ],
        [
         "e60b1fe9cb804fb5a1d60877b57b3e28",
         "2020-06-05T18:54:21.000+0000",
         "impression",
         "Google Display Network",
         0
        ],
        [
         "e60b1fe9cb804fb5a1d60877b57b3e28",
         "2020-06-09T12:44:47.000+0000",
         "impression",
         "Search Engine Marketing",
         0
        ],
        [
         "e60b1fe9cb804fb5a1d60877b57b3e28",
         "2020-06-09T23:25:21.000+0000",
         "conversion",
         "Affiliates",
         1
        ],
        [
         "ea47574dca66415d9d4057f6a4767008",
         "2020-05-17T15:01:19.000+0000",
         "impression",
         "Google Display Network",
         0
        ],
        [
         "ea47574dca66415d9d4057f6a4767008",
         "2020-06-06T01:22:20.000+0000",
         "impression",
         "Social Network",
         0
        ],
        [
         "ea47574dca66415d9d4057f6a4767008",
         "2020-06-08T17:23:10.000+0000",
         "impression",
         "Social Network",
         0
        ],
        [
         "ea47574dca66415d9d4057f6a4767008",
         "2020-06-08T21:19:46.000+0000",
         "impression",
         "Google Display Network",
         0
        ],
        [
         "ea47574dca66415d9d4057f6a4767008",
         "2020-06-09T15:21:28.000+0000",
         "impression",
         "Google Display Network",
         0
        ],
        [
         "ea47574dca66415d9d4057f6a4767008",
         "2020-06-09T16:39:35.000+0000",
         "impression",
         "Affiliates",
         0
        ],
        [
         "ea47574dca66415d9d4057f6a4767008",
         "2020-06-10T04:31:50.000+0000",
         "impression",
         "Search Engine Marketing",
         0
        ],
        [
         "c4323bc7bb704af09f63cd86241ed7dc",
         "2020-06-08T15:18:24.000+0000",
         "impression",
         "Affiliates",
         0
        ],
        [
         "c4323bc7bb704af09f63cd86241ed7dc",
         "2020-06-09T16:26:22.000+0000",
         "impression",
         "Social Network",
         0
        ],
        [
         "c4323bc7bb704af09f63cd86241ed7dc",
         "2020-06-10T02:06:38.000+0000",
         "impression",
         "Email",
         0
        ],
        [
         "c4323bc7bb704af09f63cd86241ed7dc",
         "2020-06-10T04:29:10.000+0000",
         "impression",
         "Affiliates",
         0
        ],
        [
         "c4323bc7bb704af09f63cd86241ed7dc",
         "2020-06-10T04:39:58.000+0000",
         "impression",
         "Google Display Network",
         0
        ],
        [
         "dd2eb9abf11048c2861bbdb0468b1ca6",
         "2020-06-06T23:08:16.000+0000",
         "impression",
         "Search Engine Marketing",
         0
        ],
        [
         "dd2eb9abf11048c2861bbdb0468b1ca6",
         "2020-06-08T15:44:27.000+0000",
         "impression",
         "Affiliates",
         0
        ],
        [
         "dd2eb9abf11048c2861bbdb0468b1ca6",
         "2020-06-09T11:29:59.000+0000",
         "impression",
         "Google Display Network",
         0
        ],
        [
         "dd2eb9abf11048c2861bbdb0468b1ca6",
         "2020-06-10T04:32:18.000+0000",
         "impression",
         "Search Engine Marketing",
         0
        ],
        [
         "dd2eb9abf11048c2861bbdb0468b1ca6",
         "2020-06-10T04:40:49.000+0000",
         "impression",
         "Social Network",
         0
        ],
        [
         "dd2eb9abf11048c2861bbdb0468b1ca6",
         "2020-06-10T04:46:01.000+0000",
         "impression",
         "Affiliates",
         0
        ],
        [
         "dc3ff01712ec48c799b4ca511a9640d2",
         "2020-05-29T15:38:13.000+0000",
         "impression",
         "Google Display Network",
         0
        ],
        [
         "dc3ff01712ec48c799b4ca511a9640d2",
         "2020-06-09T07:29:48.000+0000",
         "impression",
         "Affiliates",
         0
        ],
        [
         "dc3ff01712ec48c799b4ca511a9640d2",
         "2020-06-10T03:51:14.000+0000",
         "impression",
         "Affiliates",
         0
        ],
        [
         "dc3ff01712ec48c799b4ca511a9640d2",
         "2020-06-10T04:49:19.000+0000",
         "impression",
         "Search Engine Marketing",
         0
        ],
        [
         "dc3ff01712ec48c799b4ca511a9640d2",
         "2020-06-10T04:49:26.000+0000",
         "impression",
         "Affiliates",
         0
        ],
        [
         "dc3ff01712ec48c799b4ca511a9640d2",
         "2020-06-10T04:49:40.000+0000",
         "impression",
         "Social Network",
         0
        ],
        [
         "8b1d21935e96430599a168d3db9bafe7",
         "2020-06-09T20:53:12.000+0000",
         "impression",
         "Google Display Network",
         0
        ],
        [
         "8b1d21935e96430599a168d3db9bafe7",
         "2020-06-09T22:10:47.000+0000",
         "impression",
         "Social Network",
         0
        ],
        [
         "8b1d21935e96430599a168d3db9bafe7",
         "2020-06-10T01:09:35.000+0000",
         "impression",
         "Social Network",
         0
        ],
        [
         "8b1d21935e96430599a168d3db9bafe7",
         "2020-06-10T03:21:57.000+0000",
         "impression",
         "Affiliates",
         0
        ],
        [
         "295d8d43532241b5a000e1517ccf6ff0",
         "2020-05-21T11:38:58.000+0000",
         "impression",
         "Email",
         0
        ],
        [
         "295d8d43532241b5a000e1517ccf6ff0",
         "2020-06-07T04:30:48.000+0000",
         "impression",
         "Search Engine Marketing",
         0
        ],
        [
         "295d8d43532241b5a000e1517ccf6ff0",
         "2020-06-09T05:49:00.000+0000",
         "impression",
         "Affiliates",
         0
        ],
        [
         "295d8d43532241b5a000e1517ccf6ff0",
         "2020-06-09T12:00:37.000+0000",
         "impression",
         "Social Network",
         0
        ],
        [
         "295d8d43532241b5a000e1517ccf6ff0",
         "2020-06-09T12:32:54.000+0000",
         "impression",
         "Affiliates",
         0
        ],
        [
         "295d8d43532241b5a000e1517ccf6ff0",
         "2020-06-09T18:49:46.000+0000",
         "impression",
         "Affiliates",
         0
        ],
        [
         "a5b2fade45944252b1698a31c10fc4a4",
         "2020-06-09T03:21:17.000+0000",
         "impression",
         "Social Network",
         0
        ],
        [
         "a5b2fade45944252b1698a31c10fc4a4",
         "2020-06-09T18:36:25.000+0000",
         "impression",
         "Affiliates",
         0
        ],
        [
         "a5b2fade45944252b1698a31c10fc4a4",
         "2020-06-09T23:11:35.000+0000",
         "impression",
         "Search Engine Marketing",
         0
        ],
        [
         "a5b2fade45944252b1698a31c10fc4a4",
         "2020-06-10T04:48:01.000+0000",
         "impression",
         "Affiliates",
         0
        ],
        [
         "a5b2fade45944252b1698a31c10fc4a4",
         "2020-06-10T04:49:32.000+0000",
         "impression",
         "Search Engine Marketing",
         0
        ],
        [
         "a5b2fade45944252b1698a31c10fc4a4",
         "2020-06-10T04:49:55.000+0000",
         "impression",
         "Search Engine Marketing",
         0
        ],
        [
         "a5b2fade45944252b1698a31c10fc4a4",
         "2020-06-10T04:49:59.000+0000",
         "impression",
         "Search Engine Marketing",
         0
        ],
        [
         "cbf81de707cc43ab9386a981c80708de",
         "2020-05-26T22:13:33.000+0000",
         "impression",
         "Affiliates",
         0
        ],
        [
         "cbf81de707cc43ab9386a981c80708de",
         "2020-05-31T07:07:42.000+0000",
         "impression",
         "Affiliates",
         0
        ],
        [
         "cbf81de707cc43ab9386a981c80708de",
         "2020-06-02T12:35:20.000+0000",
         "impression",
         "Search Engine Marketing",
         0
        ],
        [
         "cbf81de707cc43ab9386a981c80708de",
         "2020-06-03T01:29:17.000+0000",
         "impression",
         "Affiliates",
         0
        ],
        [
         "cbf81de707cc43ab9386a981c80708de",
         "2020-06-06T22:05:00.000+0000",
         "impression",
         "Google Display Network",
         0
        ],
        [
         "cbf81de707cc43ab9386a981c80708de",
         "2020-06-09T13:24:33.000+0000",
         "impression",
         "Affiliates",
         0
        ],
        [
         "cbf81de707cc43ab9386a981c80708de",
         "2020-06-09T21:56:15.000+0000",
         "impression",
         "Search Engine Marketing",
         0
        ],
        [
         "cbf81de707cc43ab9386a981c80708de",
         "2020-06-10T03:37:26.000+0000",
         "impression",
         "Affiliates",
         0
        ],
        [
         "cbf81de707cc43ab9386a981c80708de",
         "2020-06-10T04:06:41.000+0000",
         "impression",
         "Affiliates",
         0
        ],
        [
         "aec2b6c89b2c4d3ebf6551725f65c19d",
         "2020-05-20T15:35:14.000+0000",
         "impression",
         "Affiliates",
         0
        ],
        [
         "aec2b6c89b2c4d3ebf6551725f65c19d",
         "2020-06-04T21:58:43.000+0000",
         "impression",
         "Search Engine Marketing",
         0
        ],
        [
         "aec2b6c89b2c4d3ebf6551725f65c19d",
         "2020-06-07T14:57:56.000+0000",
         "impression",
         "Affiliates",
         0
        ],
        [
         "aec2b6c89b2c4d3ebf6551725f65c19d",
         "2020-06-09T02:50:09.000+0000",
         "impression",
         "Search Engine Marketing",
         0
        ],
        [
         "aec2b6c89b2c4d3ebf6551725f65c19d",
         "2020-06-09T19:45:42.000+0000",
         "impression",
         "Google Display Network",
         0
        ],
        [
         "9be55ad3839042a6ad105851c69c7c9b",
         "2020-05-30T05:25:32.000+0000",
         "impression",
         "Search Engine Marketing",
         0
        ],
        [
         "9be55ad3839042a6ad105851c69c7c9b",
         "2020-05-31T04:38:39.000+0000",
         "impression",
         "Social Network",
         0
        ],
        [
         "9be55ad3839042a6ad105851c69c7c9b",
         "2020-06-05T09:07:09.000+0000",
         "impression",
         "Search Engine Marketing",
         0
        ],
        [
         "9be55ad3839042a6ad105851c69c7c9b",
         "2020-06-09T20:45:29.000+0000",
         "impression",
         "Search Engine Marketing",
         0
        ],
        [
         "9be55ad3839042a6ad105851c69c7c9b",
         "2020-06-10T00:13:34.000+0000",
         "impression",
         "Search Engine Marketing",
         0
        ],
        [
         "9be55ad3839042a6ad105851c69c7c9b",
         "2020-06-10T01:52:11.000+0000",
         "impression",
         "Search Engine Marketing",
         0
        ],
        [
         "9be55ad3839042a6ad105851c69c7c9b",
         "2020-06-10T03:13:12.000+0000",
         "impression",
         "Affiliates",
         0
        ],
        [
         "9be55ad3839042a6ad105851c69c7c9b",
         "2020-06-10T04:14:07.000+0000",
         "impression",
         "Search Engine Marketing",
         0
        ],
        [
         "9be55ad3839042a6ad105851c69c7c9b",
         "2020-06-10T04:34:50.000+0000",
         "conversion",
         "Social Network",
         1
        ],
        [
         "fd77675a906a41fdbba3aaee1bddfa32",
         "2020-05-26T20:41:28.000+0000",
         "impression",
         "Email",
         0
        ],
        [
         "fd77675a906a41fdbba3aaee1bddfa32",
         "2020-05-27T13:41:08.000+0000",
         "impression",
         "Search Engine Marketing",
         0
        ],
        [
         "efcc75c626c747c4929a94ecd21c5622",
         "2020-05-24T08:50:07.000+0000",
         "impression",
         "Search Engine Marketing",
         0
        ],
        [
         "efcc75c626c747c4929a94ecd21c5622",
         "2020-06-01T12:04:10.000+0000",
         "impression",
         "Affiliates",
         0
        ],
        [
         "efcc75c626c747c4929a94ecd21c5622",
         "2020-06-03T03:09:07.000+0000",
         "impression",
         "Social Network",
         0
        ],
        [
         "efcc75c626c747c4929a94ecd21c5622",
         "2020-06-05T18:01:22.000+0000",
         "impression",
         "Google Display Network",
         0
        ],
        [
         "efcc75c626c747c4929a94ecd21c5622",
         "2020-06-09T21:21:27.000+0000",
         "impression",
         "Search Engine Marketing",
         0
        ],
        [
         "efcc75c626c747c4929a94ecd21c5622",
         "2020-06-10T04:42:18.000+0000",
         "impression",
         "Search Engine Marketing",
         0
        ],
        [
         "00168e2161e541e987809ad749d9e17d",
         "2020-05-23T10:20:36.000+0000",
         "impression",
         "Affiliates",
         0
        ],
        [
         "00168e2161e541e987809ad749d9e17d",
         "2020-05-24T06:45:58.000+0000",
         "impression",
         "Search Engine Marketing",
         0
        ],
        [
         "00168e2161e541e987809ad749d9e17d",
         "2020-05-26T18:03:54.000+0000",
         "impression",
         "Search Engine Marketing",
         0
        ],
        [
         "00168e2161e541e987809ad749d9e17d",
         "2020-05-31T09:48:56.000+0000",
         "impression",
         "Affiliates",
         0
        ],
        [
         "00168e2161e541e987809ad749d9e17d",
         "2020-06-07T03:06:41.000+0000",
         "impression",
         "Social Network",
         0
        ],
        [
         "00168e2161e541e987809ad749d9e17d",
         "2020-06-07T09:42:03.000+0000",
         "impression",
         "Social Network",
         0
        ],
        [
         "00168e2161e541e987809ad749d9e17d",
         "2020-06-09T04:19:48.000+0000",
         "impression",
         "Social Network",
         0
        ],
        [
         "00168e2161e541e987809ad749d9e17d",
         "2020-06-09T16:08:11.000+0000",
         "impression",
         "Affiliates",
         0
        ],
        [
         "20f5febaa9184a9da74d72cb64ec8e15",
         "2020-05-23T08:28:40.000+0000",
         "impression",
         "Search Engine Marketing",
         0
        ],
        [
         "20f5febaa9184a9da74d72cb64ec8e15",
         "2020-06-01T18:50:56.000+0000",
         "impression",
         "Social Network",
         0
        ],
        [
         "20f5febaa9184a9da74d72cb64ec8e15",
         "2020-06-07T12:11:31.000+0000",
         "impression",
         "Google Display Network",
         0
        ],
        [
         "20f5febaa9184a9da74d72cb64ec8e15",
         "2020-06-08T04:29:08.000+0000",
         "impression",
         "Affiliates",
         0
        ],
        [
         "20f5febaa9184a9da74d72cb64ec8e15",
         "2020-06-08T20:16:21.000+0000",
         "impression",
         "Social Network",
         0
        ],
        [
         "20f5febaa9184a9da74d72cb64ec8e15",
         "2020-06-09T06:11:09.000+0000",
         "impression",
         "Affiliates",
         0
        ],
        [
         "20f5febaa9184a9da74d72cb64ec8e15",
         "2020-06-09T14:35:31.000+0000",
         "impression",
         "Google Display Network",
         0
        ],
        [
         "20f5febaa9184a9da74d72cb64ec8e15",
         "2020-06-09T20:07:58.000+0000",
         "impression",
         "Affiliates",
         0
        ],
        [
         "20f5febaa9184a9da74d72cb64ec8e15",
         "2020-06-10T01:01:32.000+0000",
         "impression",
         "Affiliates",
         0
        ],
        [
         "c096151dd32d4c5dad20eddad13e9403",
         "2020-06-08T04:42:49.000+0000",
         "impression",
         "Google Display Network",
         0
        ],
        [
         "c096151dd32d4c5dad20eddad13e9403",
         "2020-06-09T00:51:30.000+0000",
         "impression",
         "Search Engine Marketing",
         0
        ],
        [
         "c096151dd32d4c5dad20eddad13e9403",
         "2020-06-09T08:21:52.000+0000",
         "impression",
         "Google Display Network",
         0
        ],
        [
         "c096151dd32d4c5dad20eddad13e9403",
         "2020-06-09T12:29:23.000+0000",
         "impression",
         "Social Network",
         0
        ],
        [
         "c096151dd32d4c5dad20eddad13e9403",
         "2020-06-09T20:18:21.000+0000",
         "impression",
         "Search Engine Marketing",
         0
        ],
        [
         "c096151dd32d4c5dad20eddad13e9403",
         "2020-06-10T02:29:20.000+0000",
         "impression",
         "Search Engine Marketing",
         0
        ],
        [
         "c096151dd32d4c5dad20eddad13e9403",
         "2020-06-10T04:14:09.000+0000",
         "impression",
         "Google Display Network",
         0
        ],
        [
         "c096151dd32d4c5dad20eddad13e9403",
         "2020-06-10T04:16:22.000+0000",
         "impression",
         "Google Display Network",
         0
        ],
        [
         "c096151dd32d4c5dad20eddad13e9403",
         "2020-06-10T04:21:32.000+0000",
         "impression",
         "Search Engine Marketing",
         0
        ],
        [
         "ecee845959d74ce48efa7cf15205a6d0",
         "2020-05-19T12:11:37.000+0000",
         "impression",
         "Search Engine Marketing",
         0
        ],
        [
         "ecee845959d74ce48efa7cf15205a6d0",
         "2020-05-29T23:35:16.000+0000",
         "impression",
         "Google Display Network",
         0
        ],
        [
         "ecee845959d74ce48efa7cf15205a6d0",
         "2020-05-31T11:23:08.000+0000",
         "impression",
         "Social Network",
         0
        ],
        [
         "ecee845959d74ce48efa7cf15205a6d0",
         "2020-06-09T08:00:29.000+0000",
         "impression",
         "Social Network",
         0
        ],
        [
         "ecee845959d74ce48efa7cf15205a6d0",
         "2020-06-09T11:17:52.000+0000",
         "impression",
         "Affiliates",
         0
        ],
        [
         "ecee845959d74ce48efa7cf15205a6d0",
         "2020-06-09T17:19:55.000+0000",
         "impression",
         "Search Engine Marketing",
         0
        ],
        [
         "ecee845959d74ce48efa7cf15205a6d0",
         "2020-06-09T20:50:34.000+0000",
         "impression",
         "Email",
         0
        ],
        [
         "ecee845959d74ce48efa7cf15205a6d0",
         "2020-06-10T01:14:56.000+0000",
         "impression",
         "Social Network",
         0
        ],
        [
         "689446e36ee8459aaff995503b31cc3f",
         "2020-05-31T11:40:32.000+0000",
         "impression",
         "Affiliates",
         0
        ],
        [
         "689446e36ee8459aaff995503b31cc3f",
         "2020-06-02T23:48:08.000+0000",
         "impression",
         "Email",
         0
        ],
        [
         "e0c7b14ddfc2462495a97882d13f75bd",
         "2020-05-17T21:08:55.000+0000",
         "impression",
         "Google Display Network",
         0
        ],
        [
         "e0c7b14ddfc2462495a97882d13f75bd",
         "2020-06-02T04:43:13.000+0000",
         "impression",
         "Search Engine Marketing",
         0
        ],
        [
         "e0c7b14ddfc2462495a97882d13f75bd",
         "2020-06-03T17:33:52.000+0000",
         "impression",
         "Social Network",
         0
        ],
        [
         "e0c7b14ddfc2462495a97882d13f75bd",
         "2020-06-08T19:25:28.000+0000",
         "impression",
         "Social Network",
         0
        ],
        [
         "e0c7b14ddfc2462495a97882d13f75bd",
         "2020-06-09T20:58:06.000+0000",
         "impression",
         "Affiliates",
         0
        ],
        [
         "e0c7b14ddfc2462495a97882d13f75bd",
         "2020-06-09T22:57:14.000+0000",
         "impression",
         "Search Engine Marketing",
         0
        ],
        [
         "e0c7b14ddfc2462495a97882d13f75bd",
         "2020-06-10T03:52:49.000+0000",
         "impression",
         "Affiliates",
         0
        ],
        [
         "e0c7b14ddfc2462495a97882d13f75bd",
         "2020-06-10T04:06:40.000+0000",
         "impression",
         "Search Engine Marketing",
         0
        ],
        [
         "e0c7b14ddfc2462495a97882d13f75bd",
         "2020-06-10T04:07:33.000+0000",
         "impression",
         "Social Network",
         0
        ],
        [
         "61fd82c27bae471cbd6cfa81d89ec199",
         "2020-05-24T05:27:12.000+0000",
         "impression",
         "Affiliates",
         0
        ],
        [
         "61fd82c27bae471cbd6cfa81d89ec199",
         "2020-05-26T15:18:48.000+0000",
         "impression",
         "Google Display Network",
         0
        ],
        [
         "61fd82c27bae471cbd6cfa81d89ec199",
         "2020-06-04T00:38:00.000+0000",
         "impression",
         "Search Engine Marketing",
         0
        ],
        [
         "61fd82c27bae471cbd6cfa81d89ec199",
         "2020-06-05T09:37:35.000+0000",
         "impression",
         "Google Display Network",
         0
        ],
        [
         "61fd82c27bae471cbd6cfa81d89ec199",
         "2020-06-09T05:23:59.000+0000",
         "impression",
         "Search Engine Marketing",
         0
        ],
        [
         "b0d7b04fa8b042ce95d6a269dfbe9d63",
         "2020-05-27T03:25:07.000+0000",
         "impression",
         "Search Engine Marketing",
         0
        ],
        [
         "b0d7b04fa8b042ce95d6a269dfbe9d63",
         "2020-06-05T21:36:03.000+0000",
         "impression",
         "Google Display Network",
         0
        ],
        [
         "f5fcbef1faca4e8186d6b5e7cb14c190",
         "2020-05-28T01:06:21.000+0000",
         "impression",
         "Social Network",
         0
        ],
        [
         "f5fcbef1faca4e8186d6b5e7cb14c190",
         "2020-06-04T12:25:21.000+0000",
         "impression",
         "Social Network",
         0
        ],
        [
         "f5fcbef1faca4e8186d6b5e7cb14c190",
         "2020-06-09T17:11:09.000+0000",
         "impression",
         "Search Engine Marketing",
         0
        ],
        [
         "f5fcbef1faca4e8186d6b5e7cb14c190",
         "2020-06-09T22:07:26.000+0000",
         "impression",
         "Social Network",
         0
        ],
        [
         "f5fcbef1faca4e8186d6b5e7cb14c190",
         "2020-06-10T02:34:56.000+0000",
         "impression",
         "Social Network",
         0
        ],
        [
         "f5fcbef1faca4e8186d6b5e7cb14c190",
         "2020-06-10T03:12:44.000+0000",
         "impression",
         "Search Engine Marketing",
         0
        ],
        [
         "f5fcbef1faca4e8186d6b5e7cb14c190",
         "2020-06-10T04:20:56.000+0000",
         "conversion",
         "Social Network",
         1
        ],
        [
         "590462001b184124b257c4926b8ead0d",
         "2020-06-08T19:45:45.000+0000",
         "impression",
         "Search Engine Marketing",
         0
        ],
        [
         "590462001b184124b257c4926b8ead0d",
         "2020-06-09T07:16:35.000+0000",
         "impression",
         "Google Display Network",
         0
        ],
        [
         "590462001b184124b257c4926b8ead0d",
         "2020-06-10T04:47:14.000+0000",
         "impression",
         "Social Network",
         0
        ],
        [
         "590462001b184124b257c4926b8ead0d",
         "2020-06-10T04:48:09.000+0000",
         "impression",
         "Social Network",
         0
        ],
        [
         "590462001b184124b257c4926b8ead0d",
         "2020-06-10T04:48:36.000+0000",
         "impression",
         "Search Engine Marketing",
         0
        ],
        [
         "590462001b184124b257c4926b8ead0d",
         "2020-06-10T04:49:45.000+0000",
         "impression",
         "Search Engine Marketing",
         0
        ],
        [
         "590462001b184124b257c4926b8ead0d",
         "2020-06-10T04:49:50.000+0000",
         "impression",
         "Affiliates",
         0
        ],
        [
         "1dcb6f95c20442c1b64e24fae0a67a85",
         "2020-06-05T15:29:59.000+0000",
         "impression",
         "Affiliates",
         0
        ],
        [
         "1dcb6f95c20442c1b64e24fae0a67a85",
         "2020-06-10T01:53:35.000+0000",
         "impression",
         "Affiliates",
         0
        ],
        [
         "1dcb6f95c20442c1b64e24fae0a67a85",
         "2020-06-10T04:08:40.000+0000",
         "impression",
         "Search Engine Marketing",
         0
        ],
        [
         "1dcb6f95c20442c1b64e24fae0a67a85",
         "2020-06-10T04:19:13.000+0000",
         "impression",
         "Affiliates",
         0
        ],
        [
         "ea256ed2431540338082f4a4eb170cf0",
         "2020-06-04T11:50:35.000+0000",
         "impression",
         "Social Network",
         0
        ],
        [
         "ea256ed2431540338082f4a4eb170cf0",
         "2020-06-09T07:10:44.000+0000",
         "impression",
         "Affiliates",
         0
        ],
        [
         "78ac9a33fe934e6abbb38aec6c529704",
         "2020-06-03T01:31:45.000+0000",
         "impression",
         "Social Network",
         0
        ],
        [
         "78ac9a33fe934e6abbb38aec6c529704",
         "2020-06-03T20:42:54.000+0000",
         "impression",
         "Search Engine Marketing",
         0
        ],
        [
         "14dfd2d96d404f26abc206ffb9b8cb9f",
         "2020-06-04T21:14:25.000+0000",
         "impression",
         "Affiliates",
         0
        ],
        [
         "14dfd2d96d404f26abc206ffb9b8cb9f",
         "2020-06-07T04:16:42.000+0000",
         "impression",
         "Google Display Network",
         0
        ],
        [
         "14dfd2d96d404f26abc206ffb9b8cb9f",
         "2020-06-07T05:51:02.000+0000",
         "impression",
         "Affiliates",
         0
        ],
        [
         "14dfd2d96d404f26abc206ffb9b8cb9f",
         "2020-06-10T02:54:36.000+0000",
         "impression",
         "Social Network",
         0
        ],
        [
         "14dfd2d96d404f26abc206ffb9b8cb9f",
         "2020-06-10T03:11:34.000+0000",
         "impression",
         "Search Engine Marketing",
         0
        ],
        [
         "14dfd2d96d404f26abc206ffb9b8cb9f",
         "2020-06-10T03:18:57.000+0000",
         "impression",
         "Social Network",
         0
        ],
        [
         "f04d22618f6847ac9365ec8f506db437",
         "2020-06-09T10:14:18.000+0000",
         "impression",
         "Google Display Network",
         0
        ],
        [
         "f04d22618f6847ac9365ec8f506db437",
         "2020-06-09T13:25:23.000+0000",
         "impression",
         "Search Engine Marketing",
         0
        ],
        [
         "f04d22618f6847ac9365ec8f506db437",
         "2020-06-09T14:04:32.000+0000",
         "impression",
         "Search Engine Marketing",
         0
        ],
        [
         "f04d22618f6847ac9365ec8f506db437",
         "2020-06-09T22:31:15.000+0000",
         "impression",
         "Email",
         0
        ],
        [
         "345eab3a63a74768a5b758c39f1004ff",
         "2020-06-08T23:03:21.000+0000",
         "impression",
         "Search Engine Marketing",
         0
        ],
        [
         "345eab3a63a74768a5b758c39f1004ff",
         "2020-06-10T03:08:22.000+0000",
         "impression",
         "Search Engine Marketing",
         0
        ],
        [
         "345eab3a63a74768a5b758c39f1004ff",
         "2020-06-10T03:57:49.000+0000",
         "impression",
         "Social Network",
         0
        ],
        [
         "345eab3a63a74768a5b758c39f1004ff",
         "2020-06-10T04:25:31.000+0000",
         "impression",
         "Email",
         0
        ],
        [
         "345eab3a63a74768a5b758c39f1004ff",
         "2020-06-10T04:35:19.000+0000",
         "impression",
         "Search Engine Marketing",
         0
        ],
        [
         "345eab3a63a74768a5b758c39f1004ff",
         "2020-06-10T04:37:01.000+0000",
         "impression",
         "Social Network",
         0
        ],
        [
         "345eab3a63a74768a5b758c39f1004ff",
         "2020-06-10T04:46:26.000+0000",
         "impression",
         "Affiliates",
         0
        ],
        [
         "345eab3a63a74768a5b758c39f1004ff",
         "2020-06-10T04:49:30.000+0000",
         "impression",
         "Social Network",
         0
        ],
        [
         "345eab3a63a74768a5b758c39f1004ff",
         "2020-06-10T04:49:57.000+0000",
         "impression",
         "Affiliates",
         0
        ],
        [
         "c18270a7ffdd4efe8e9498921690048d",
         "2020-05-26T22:37:56.000+0000",
         "impression",
         "Search Engine Marketing",
         0
        ],
        [
         "c18270a7ffdd4efe8e9498921690048d",
         "2020-06-04T07:27:14.000+0000",
         "impression",
         "Search Engine Marketing",
         0
        ],
        [
         "c18270a7ffdd4efe8e9498921690048d",
         "2020-06-04T20:18:57.000+0000",
         "impression",
         "Search Engine Marketing",
         0
        ],
        [
         "c18270a7ffdd4efe8e9498921690048d",
         "2020-06-07T18:16:45.000+0000",
         "impression",
         "Social Network",
         0
        ],
        [
         "c18270a7ffdd4efe8e9498921690048d",
         "2020-06-08T20:29:24.000+0000",
         "impression",
         "Search Engine Marketing",
         0
        ],
        [
         "c18270a7ffdd4efe8e9498921690048d",
         "2020-06-10T01:53:41.000+0000",
         "impression",
         "Affiliates",
         0
        ],
        [
         "c18270a7ffdd4efe8e9498921690048d",
         "2020-06-10T02:04:28.000+0000",
         "impression",
         "Social Network",
         0
        ],
        [
         "c18270a7ffdd4efe8e9498921690048d",
         "2020-06-10T04:19:21.000+0000",
         "impression",
         "Social Network",
         0
        ],
        [
         "c5e0520c3c984a3889968e3af2da0504",
         "2020-06-02T02:23:59.000+0000",
         "impression",
         "Google Display Network",
         0
        ],
        [
         "c5e0520c3c984a3889968e3af2da0504",
         "2020-06-07T02:29:29.000+0000",
         "impression",
         "Search Engine Marketing",
         0
        ],
        [
         "c5e0520c3c984a3889968e3af2da0504",
         "2020-06-10T04:41:47.000+0000",
         "impression",
         "Affiliates",
         0
        ],
        [
         "333ce1c3ec4340b2a9c3d90187d94aea",
         "2020-05-21T13:56:09.000+0000",
         "impression",
         "Google Display Network",
         0
        ],
        [
         "333ce1c3ec4340b2a9c3d90187d94aea",
         "2020-05-25T05:43:00.000+0000",
         "impression",
         "Affiliates",
         0
        ],
        [
         "333ce1c3ec4340b2a9c3d90187d94aea",
         "2020-06-05T15:47:10.000+0000",
         "impression",
         "Google Display Network",
         0
        ],
        [
         "333ce1c3ec4340b2a9c3d90187d94aea",
         "2020-06-09T21:13:38.000+0000",
         "impression",
         "Search Engine Marketing",
         0
        ],
        [
         "b969e065bd274a979638a942c0e52647",
         "2020-05-29T14:11:48.000+0000",
         "impression",
         "Social Network",
         0
        ],
        [
         "b969e065bd274a979638a942c0e52647",
         "2020-06-03T08:36:52.000+0000",
         "impression",
         "Google Display Network",
         0
        ],
        [
         "b969e065bd274a979638a942c0e52647",
         "2020-06-06T04:06:50.000+0000",
         "impression",
         "Search Engine Marketing",
         0
        ],
        [
         "b969e065bd274a979638a942c0e52647",
         "2020-06-07T00:24:41.000+0000",
         "impression",
         "Email",
         0
        ],
        [
         "b969e065bd274a979638a942c0e52647",
         "2020-06-09T12:20:28.000+0000",
         "impression",
         "Search Engine Marketing",
         0
        ],
        [
         "b969e065bd274a979638a942c0e52647",
         "2020-06-09T22:52:32.000+0000",
         "impression",
         "Search Engine Marketing",
         0
        ],
        [
         "b969e065bd274a979638a942c0e52647",
         "2020-06-09T23:56:57.000+0000",
         "impression",
         "Search Engine Marketing",
         0
        ],
        [
         "b969e065bd274a979638a942c0e52647",
         "2020-06-10T01:46:13.000+0000",
         "impression",
         "Social Network",
         0
        ],
        [
         "3b0bd41f7db645b4b0801df796c01054",
         "2020-05-28T02:36:53.000+0000",
         "impression",
         "Google Display Network",
         0
        ],
        [
         "3b0bd41f7db645b4b0801df796c01054",
         "2020-06-07T22:54:56.000+0000",
         "impression",
         "Social Network",
         0
        ],
        [
         "3b0bd41f7db645b4b0801df796c01054",
         "2020-06-09T13:34:52.000+0000",
         "impression",
         "Affiliates",
         0
        ],
        [
         "3b0bd41f7db645b4b0801df796c01054",
         "2020-06-09T23:49:13.000+0000",
         "impression",
         "Search Engine Marketing",
         0
        ],
        [
         "c6c6eeaf84f84e28acf7cf8a01c1c7f3",
         "2020-05-30T10:24:14.000+0000",
         "impression",
         "Google Display Network",
         0
        ],
        [
         "c6c6eeaf84f84e28acf7cf8a01c1c7f3",
         "2020-05-31T12:39:48.000+0000",
         "impression",
         "Affiliates",
         0
        ],
        [
         "c6c6eeaf84f84e28acf7cf8a01c1c7f3",
         "2020-06-07T06:21:02.000+0000",
         "impression",
         "Search Engine Marketing",
         0
        ],
        [
         "3f3c55095b984d04a658419372a780f5",
         "2020-05-23T07:47:19.000+0000",
         "impression",
         "Search Engine Marketing",
         0
        ],
        [
         "3f3c55095b984d04a658419372a780f5",
         "2020-06-02T06:38:07.000+0000",
         "impression",
         "Search Engine Marketing",
         0
        ],
        [
         "3f3c55095b984d04a658419372a780f5",
         "2020-06-06T00:29:03.000+0000",
         "impression",
         "Email",
         0
        ],
        [
         "3f3c55095b984d04a658419372a780f5",
         "2020-06-08T22:16:52.000+0000",
         "impression",
         "Email",
         0
        ],
        [
         "3f3c55095b984d04a658419372a780f5",
         "2020-06-09T12:19:20.000+0000",
         "impression",
         "Search Engine Marketing",
         0
        ],
        [
         "3f3c55095b984d04a658419372a780f5",
         "2020-06-09T19:02:00.000+0000",
         "impression",
         "Affiliates",
         0
        ],
        [
         "3f3c55095b984d04a658419372a780f5",
         "2020-06-09T19:35:34.000+0000",
         "impression",
         "Search Engine Marketing",
         0
        ],
        [
         "3f3c55095b984d04a658419372a780f5",
         "2020-06-10T04:27:39.000+0000",
         "impression",
         "Affiliates",
         0
        ],
        [
         "3f3c55095b984d04a658419372a780f5",
         "2020-06-10T04:36:43.000+0000",
         "conversion",
         "Social Network",
         1
        ],
        [
         "ce9165909cff446cbb6c2d5f57e3b246",
         "2020-05-30T09:23:34.000+0000",
         "impression",
         "Social Network",
         0
        ],
        [
         "ce9165909cff446cbb6c2d5f57e3b246",
         "2020-06-09T09:52:45.000+0000",
         "impression",
         "Search Engine Marketing",
         0
        ],
        [
         "ce9165909cff446cbb6c2d5f57e3b246",
         "2020-06-09T13:29:07.000+0000",
         "impression",
         "Social Network",
         0
        ],
        [
         "ce9165909cff446cbb6c2d5f57e3b246",
         "2020-06-09T20:47:39.000+0000",
         "impression",
         "Affiliates",
         0
        ],
        [
         "ce9165909cff446cbb6c2d5f57e3b246",
         "2020-06-10T01:33:24.000+0000",
         "impression",
         "Social Network",
         0
        ],
        [
         "b3dacecb4c324a5ca9e9d9c85ee51e39",
         "2020-05-31T08:26:35.000+0000",
         "impression",
         "Affiliates",
         0
        ],
        [
         "49984a28fb88400294a1fa9574295ef4",
         "2020-05-20T21:13:18.000+0000",
         "impression",
         "Google Display Network",
         0
        ],
        [
         "49984a28fb88400294a1fa9574295ef4",
         "2020-05-23T17:29:46.000+0000",
         "impression",
         "Google Display Network",
         0
        ],
        [
         "49984a28fb88400294a1fa9574295ef4",
         "2020-06-09T20:08:47.000+0000",
         "impression",
         "Affiliates",
         0
        ],
        [
         "49984a28fb88400294a1fa9574295ef4",
         "2020-06-10T02:04:40.000+0000",
         "impression",
         "Affiliates",
         0
        ],
        [
         "49984a28fb88400294a1fa9574295ef4",
         "2020-06-10T04:01:19.000+0000",
         "conversion",
         "Social Network",
         1
        ],
        [
         "8186cbf8143b44aaac714f775c60ad60",
         "2020-06-03T23:05:02.000+0000",
         "impression",
         "Google Display Network",
         0
        ],
        [
         "8186cbf8143b44aaac714f775c60ad60",
         "2020-06-09T23:53:00.000+0000",
         "impression",
         "Email",
         0
        ],
        [
         "8186cbf8143b44aaac714f775c60ad60",
         "2020-06-10T01:32:21.000+0000",
         "impression",
         "Google Display Network",
         0
        ],
        [
         "8186cbf8143b44aaac714f775c60ad60",
         "2020-06-10T03:26:17.000+0000",
         "impression",
         "Google Display Network",
         0
        ],
        [
         "8186cbf8143b44aaac714f775c60ad60",
         "2020-06-10T03:49:48.000+0000",
         "impression",
         "Search Engine Marketing",
         0
        ],
        [
         "8186cbf8143b44aaac714f775c60ad60",
         "2020-06-10T04:44:25.000+0000",
         "impression",
         "Search Engine Marketing",
         0
        ],
        [
         "8186cbf8143b44aaac714f775c60ad60",
         "2020-06-10T04:47:02.000+0000",
         "impression",
         "Social Network",
         0
        ],
        [
         "9c63d8ee8dcf48969c812fdd9b878f58",
         "2020-06-05T06:30:47.000+0000",
         "impression",
         "Search Engine Marketing",
         0
        ],
        [
         "7d7dead544814dea9f299dcc5443b995",
         "2020-06-04T04:00:44.000+0000",
         "impression",
         "Affiliates",
         0
        ],
        [
         "7d7dead544814dea9f299dcc5443b995",
         "2020-06-09T10:35:32.000+0000",
         "impression",
         "Social Network",
         0
        ],
        [
         "7d7dead544814dea9f299dcc5443b995",
         "2020-06-09T12:20:24.000+0000",
         "impression",
         "Social Network",
         0
        ],
        [
         "7d7dead544814dea9f299dcc5443b995",
         "2020-06-10T03:32:06.000+0000",
         "impression",
         "Affiliates",
         0
        ],
        [
         "7d7dead544814dea9f299dcc5443b995",
         "2020-06-10T04:36:19.000+0000",
         "impression",
         "Search Engine Marketing",
         0
        ],
        [
         "7d7dead544814dea9f299dcc5443b995",
         "2020-06-10T04:49:10.000+0000",
         "impression",
         "Google Display Network",
         0
        ],
        [
         "7d7dead544814dea9f299dcc5443b995",
         "2020-06-10T04:49:54.000+0000",
         "impression",
         "Search Engine Marketing",
         0
        ],
        [
         "7d7dead544814dea9f299dcc5443b995",
         "2020-06-10T04:49:55.000+0000",
         "impression",
         "Affiliates",
         0
        ],
        [
         "7d7dead544814dea9f299dcc5443b995",
         "2020-06-10T04:49:55.000+0000",
         "conversion",
         "Google Display Network",
         1
        ],
        [
         "a036157de7334de4adaa7ba760b9fe8e",
         "2020-06-03T00:47:28.000+0000",
         "impression",
         "Social Network",
         0
        ],
        [
         "72dbbb55fed74d3abcce65d5b74b44df",
         "2020-05-22T22:00:00.000+0000",
         "impression",
         "Affiliates",
         0
        ],
        [
         "72dbbb55fed74d3abcce65d5b74b44df",
         "2020-05-24T10:38:59.000+0000",
         "impression",
         "Google Display Network",
         0
        ],
        [
         "72dbbb55fed74d3abcce65d5b74b44df",
         "2020-06-02T00:57:11.000+0000",
         "impression",
         "Search Engine Marketing",
         0
        ],
        [
         "72dbbb55fed74d3abcce65d5b74b44df",
         "2020-06-05T04:56:16.000+0000",
         "impression",
         "Search Engine Marketing",
         0
        ],
        [
         "72dbbb55fed74d3abcce65d5b74b44df",
         "2020-06-06T17:11:45.000+0000",
         "impression",
         "Affiliates",
         0
        ],
        [
         "99be3d9ab626452b805f6d4d174bd35b",
         "2020-05-30T17:14:53.000+0000",
         "impression",
         "Affiliates",
         0
        ],
        [
         "99be3d9ab626452b805f6d4d174bd35b",
         "2020-06-09T11:08:48.000+0000",
         "impression",
         "Search Engine Marketing",
         0
        ],
        [
         "99be3d9ab626452b805f6d4d174bd35b",
         "2020-06-10T02:10:29.000+0000",
         "impression",
         "Social Network",
         0
        ],
        [
         "99be3d9ab626452b805f6d4d174bd35b",
         "2020-06-10T03:19:45.000+0000",
         "impression",
         "Email",
         0
        ],
        [
         "3760083383fb4b02bb25e9ee24e7dfee",
         "2020-05-27T10:15:47.000+0000",
         "impression",
         "Search Engine Marketing",
         0
        ],
        [
         "cbe474f7954442058b63380acf5759f2",
         "2020-05-20T10:25:13.000+0000",
         "impression",
         "Affiliates",
         0
        ],
        [
         "cbe474f7954442058b63380acf5759f2",
         "2020-06-10T00:48:26.000+0000",
         "impression",
         "Search Engine Marketing",
         0
        ],
        [
         "cbe474f7954442058b63380acf5759f2",
         "2020-06-10T02:36:25.000+0000",
         "impression",
         "Search Engine Marketing",
         0
        ],
        [
         "cbe474f7954442058b63380acf5759f2",
         "2020-06-10T04:33:30.000+0000",
         "impression",
         "Social Network",
         0
        ],
        [
         "cbe474f7954442058b63380acf5759f2",
         "2020-06-10T04:37:24.000+0000",
         "impression",
         "Google Display Network",
         0
        ],
        [
         "cbe474f7954442058b63380acf5759f2",
         "2020-06-10T04:47:01.000+0000",
         "impression",
         "Google Display Network",
         0
        ],
        [
         "cbe474f7954442058b63380acf5759f2",
         "2020-06-10T04:48:06.000+0000",
         "impression",
         "Search Engine Marketing",
         0
        ],
        [
         "38739c7e063a4a0f95e7eef3a3f88bbb",
         "2020-06-01T17:59:07.000+0000",
         "impression",
         "Social Network",
         0
        ],
        [
         "38739c7e063a4a0f95e7eef3a3f88bbb",
         "2020-06-06T17:44:09.000+0000",
         "impression",
         "Affiliates",
         0
        ],
        [
         "38739c7e063a4a0f95e7eef3a3f88bbb",
         "2020-06-10T02:12:37.000+0000",
         "impression",
         "Google Display Network",
         0
        ],
        [
         "38739c7e063a4a0f95e7eef3a3f88bbb",
         "2020-06-10T04:26:22.000+0000",
         "impression",
         "Affiliates",
         0
        ],
        [
         "38739c7e063a4a0f95e7eef3a3f88bbb",
         "2020-06-10T04:44:21.000+0000",
         "impression",
         "Affiliates",
         0
        ],
        [
         "38739c7e063a4a0f95e7eef3a3f88bbb",
         "2020-06-10T04:49:08.000+0000",
         "impression",
         "Email",
         0
        ],
        [
         "38739c7e063a4a0f95e7eef3a3f88bbb",
         "2020-06-10T04:49:25.000+0000",
         "impression",
         "Email",
         0
        ],
        [
         "087df45803454117ad937a82d6ed36e1",
         "2020-06-08T02:35:42.000+0000",
         "impression",
         "Search Engine Marketing",
         0
        ],
        [
         "087df45803454117ad937a82d6ed36e1",
         "2020-06-09T10:30:32.000+0000",
         "impression",
         "Affiliates",
         0
        ],
        [
         "7bbb6223c7bd4fc8a6f59e18e37d99a0",
         "2020-06-06T16:00:00.000+0000",
         "impression",
         "Social Network",
         0
        ],
        [
         "7bbb6223c7bd4fc8a6f59e18e37d99a0",
         "2020-06-07T00:02:30.000+0000",
         "impression",
         "Social Network",
         0
        ],
        [
         "ead7afa32869443bbe23f71374970d24",
         "2020-06-03T18:45:20.000+0000",
         "impression",
         "Email",
         0
        ],
        [
         "ead7afa32869443bbe23f71374970d24",
         "2020-06-08T15:51:01.000+0000",
         "impression",
         "Search Engine Marketing",
         0
        ],
        [
         "ead7afa32869443bbe23f71374970d24",
         "2020-06-09T04:24:28.000+0000",
         "impression",
         "Social Network",
         0
        ],
        [
         "ead7afa32869443bbe23f71374970d24",
         "2020-06-09T10:54:27.000+0000",
         "impression",
         "Affiliates",
         0
        ],
        [
         "ead7afa32869443bbe23f71374970d24",
         "2020-06-09T23:19:30.000+0000",
         "impression",
         "Affiliates",
         0
        ],
        [
         "4bdb38a8837848b7aa50f2c3f50b1bda",
         "2020-05-27T03:48:50.000+0000",
         "impression",
         "Social Network",
         0
        ],
        [
         "4bdb38a8837848b7aa50f2c3f50b1bda",
         "2020-06-03T05:43:11.000+0000",
         "impression",
         "Google Display Network",
         0
        ],
        [
         "4bdb38a8837848b7aa50f2c3f50b1bda",
         "2020-06-06T06:21:45.000+0000",
         "impression",
         "Affiliates",
         0
        ],
        [
         "4bdb38a8837848b7aa50f2c3f50b1bda",
         "2020-06-07T15:36:09.000+0000",
         "impression",
         "Social Network",
         0
        ],
        [
         "4bdb38a8837848b7aa50f2c3f50b1bda",
         "2020-06-09T04:32:29.000+0000",
         "impression",
         "Google Display Network",
         0
        ],
        [
         "4bdb38a8837848b7aa50f2c3f50b1bda",
         "2020-06-09T04:40:59.000+0000",
         "impression",
         "Google Display Network",
         0
        ],
        [
         "4b2d21dd63154b208db0cf21767c6f05",
         "2020-06-06T20:31:01.000+0000",
         "impression",
         "Affiliates",
         0
        ],
        [
         "4b2d21dd63154b208db0cf21767c6f05",
         "2020-06-09T09:22:12.000+0000",
         "impression",
         "Search Engine Marketing",
         0
        ],
        [
         "4b2d21dd63154b208db0cf21767c6f05",
         "2020-06-09T14:44:01.000+0000",
         "impression",
         "Search Engine Marketing",
         0
        ],
        [
         "7716630e2b3b45e3a598b045386dea2e",
         "2020-05-24T01:35:44.000+0000",
         "impression",
         "Affiliates",
         0
        ],
        [
         "7716630e2b3b45e3a598b045386dea2e",
         "2020-06-02T02:43:53.000+0000",
         "impression",
         "Search Engine Marketing",
         0
        ],
        [
         "7716630e2b3b45e3a598b045386dea2e",
         "2020-06-06T20:54:18.000+0000",
         "impression",
         "Affiliates",
         0
        ],
        [
         "7716630e2b3b45e3a598b045386dea2e",
         "2020-06-07T23:25:02.000+0000",
         "impression",
         "Affiliates",
         0
        ],
        [
         "7716630e2b3b45e3a598b045386dea2e",
         "2020-06-09T23:35:43.000+0000",
         "impression",
         "Search Engine Marketing",
         0
        ],
        [
         "7716630e2b3b45e3a598b045386dea2e",
         "2020-06-10T02:19:59.000+0000",
         "impression",
         "Affiliates",
         0
        ],
        [
         "7716630e2b3b45e3a598b045386dea2e",
         "2020-06-10T03:57:04.000+0000",
         "impression",
         "Affiliates",
         0
        ],
        [
         "4713143e496146c5928f5913b8f9c9c3",
         "2020-05-17T20:33:22.000+0000",
         "impression",
         "Search Engine Marketing",
         0
        ],
        [
         "4713143e496146c5928f5913b8f9c9c3",
         "2020-06-07T01:46:45.000+0000",
         "impression",
         "Search Engine Marketing",
         0
        ],
        [
         "4713143e496146c5928f5913b8f9c9c3",
         "2020-06-07T14:43:26.000+0000",
         "impression",
         "Google Display Network",
         0
        ],
        [
         "4713143e496146c5928f5913b8f9c9c3",
         "2020-06-09T07:18:16.000+0000",
         "impression",
         "Affiliates",
         0
        ],
        [
         "4713143e496146c5928f5913b8f9c9c3",
         "2020-06-10T03:16:02.000+0000",
         "impression",
         "Search Engine Marketing",
         0
        ],
        [
         "4713143e496146c5928f5913b8f9c9c3",
         "2020-06-10T04:07:52.000+0000",
         "impression",
         "Social Network",
         0
        ],
        [
         "47dad0fbd6274206b340b9b03c41702c",
         "2020-05-29T08:00:43.000+0000",
         "impression",
         "Search Engine Marketing",
         0
        ],
        [
         "47dad0fbd6274206b340b9b03c41702c",
         "2020-05-31T22:16:29.000+0000",
         "impression",
         "Google Display Network",
         0
        ],
        [
         "47dad0fbd6274206b340b9b03c41702c",
         "2020-06-03T09:30:52.000+0000",
         "impression",
         "Affiliates",
         0
        ],
        [
         "ceb186a386304d9b8250b8f08bbea2a8",
         "2020-05-26T10:39:04.000+0000",
         "impression",
         "Search Engine Marketing",
         0
        ],
        [
         "ceb186a386304d9b8250b8f08bbea2a8",
         "2020-05-31T23:39:31.000+0000",
         "impression",
         "Affiliates",
         0
        ],
        [
         "ceb186a386304d9b8250b8f08bbea2a8",
         "2020-06-07T08:12:36.000+0000",
         "impression",
         "Affiliates",
         0
        ],
        [
         "ceb186a386304d9b8250b8f08bbea2a8",
         "2020-06-07T23:39:32.000+0000",
         "impression",
         "Social Network",
         0
        ],
        [
         "ceb186a386304d9b8250b8f08bbea2a8",
         "2020-06-09T12:24:15.000+0000",
         "impression",
         "Search Engine Marketing",
         0
        ],
        [
         "ceb186a386304d9b8250b8f08bbea2a8",
         "2020-06-09T21:12:13.000+0000",
         "conversion",
         "Affiliates",
         1
        ],
        [
         "0229f8351a244d7abf607fc16a815791",
         "2020-05-23T20:24:34.000+0000",
         "impression",
         "Affiliates",
         0
        ],
        [
         "0229f8351a244d7abf607fc16a815791",
         "2020-05-28T20:46:08.000+0000",
         "impression",
         "Google Display Network",
         0
        ],
        [
         "0229f8351a244d7abf607fc16a815791",
         "2020-06-05T20:03:04.000+0000",
         "impression",
         "Google Display Network",
         0
        ],
        [
         "0229f8351a244d7abf607fc16a815791",
         "2020-06-09T13:38:58.000+0000",
         "impression",
         "Affiliates",
         0
        ],
        [
         "0229f8351a244d7abf607fc16a815791",
         "2020-06-09T16:59:38.000+0000",
         "impression",
         "Affiliates",
         0
        ],
        [
         "84c07c79a2d749ef8c5c4ea193ebf6ec",
         "2020-06-07T00:08:31.000+0000",
         "impression",
         "Affiliates",
         0
        ],
        [
         "dc6b3f3d92b94863afc8964eb592eae3",
         "2020-05-21T04:59:09.000+0000",
         "impression",
         "Search Engine Marketing",
         0
        ],
        [
         "9e9bbb8e75694af6a5c9ca46c7e8fb76",
         "2020-05-25T12:50:18.000+0000",
         "impression",
         "Search Engine Marketing",
         0
        ],
        [
         "9e9bbb8e75694af6a5c9ca46c7e8fb76",
         "2020-06-08T12:44:28.000+0000",
         "impression",
         "Search Engine Marketing",
         0
        ],
        [
         "9e9bbb8e75694af6a5c9ca46c7e8fb76",
         "2020-06-09T23:37:51.000+0000",
         "impression",
         "Affiliates",
         0
        ],
        [
         "9e9bbb8e75694af6a5c9ca46c7e8fb76",
         "2020-06-10T00:45:34.000+0000",
         "impression",
         "Affiliates",
         0
        ],
        [
         "9e9bbb8e75694af6a5c9ca46c7e8fb76",
         "2020-06-10T03:09:20.000+0000",
         "impression",
         "Google Display Network",
         0
        ],
        [
         "9e9bbb8e75694af6a5c9ca46c7e8fb76",
         "2020-06-10T04:33:02.000+0000",
         "impression",
         "Affiliates",
         0
        ],
        [
         "9e9bbb8e75694af6a5c9ca46c7e8fb76",
         "2020-06-10T04:43:57.000+0000",
         "impression",
         "Affiliates",
         0
        ],
        [
         "763d3ace495f4e0f9432f56c77b7384d",
         "2020-05-23T17:31:32.000+0000",
         "impression",
         "Email",
         0
        ],
        [
         "763d3ace495f4e0f9432f56c77b7384d",
         "2020-05-23T20:25:02.000+0000",
         "impression",
         "Affiliates",
         0
        ],
        [
         "763d3ace495f4e0f9432f56c77b7384d",
         "2020-06-05T17:55:49.000+0000",
         "impression",
         "Search Engine Marketing",
         0
        ],
        [
         "763d3ace495f4e0f9432f56c77b7384d",
         "2020-06-07T20:45:49.000+0000",
         "impression",
         "Search Engine Marketing",
         0
        ],
        [
         "763d3ace495f4e0f9432f56c77b7384d",
         "2020-06-08T02:24:43.000+0000",
         "impression",
         "Google Display Network",
         0
        ],
        [
         "763d3ace495f4e0f9432f56c77b7384d",
         "2020-06-08T17:35:51.000+0000",
         "impression",
         "Social Network",
         0
        ],
        [
         "763d3ace495f4e0f9432f56c77b7384d",
         "2020-06-09T15:43:16.000+0000",
         "impression",
         "Search Engine Marketing",
         0
        ],
        [
         "763d3ace495f4e0f9432f56c77b7384d",
         "2020-06-09T17:59:39.000+0000",
         "impression",
         "Social Network",
         0
        ],
        [
         "763d3ace495f4e0f9432f56c77b7384d",
         "2020-06-09T22:46:24.000+0000",
         "impression",
         "Search Engine Marketing",
         0
        ],
        [
         "204f748fd4ef4167a8001c7e69aa2c89",
         "2020-05-23T15:35:09.000+0000",
         "impression",
         "Search Engine Marketing",
         0
        ],
        [
         "204f748fd4ef4167a8001c7e69aa2c89",
         "2020-05-27T21:36:21.000+0000",
         "impression",
         "Search Engine Marketing",
         0
        ],
        [
         "204f748fd4ef4167a8001c7e69aa2c89",
         "2020-06-06T01:55:28.000+0000",
         "impression",
         "Affiliates",
         0
        ],
        [
         "204f748fd4ef4167a8001c7e69aa2c89",
         "2020-06-07T14:00:41.000+0000",
         "impression",
         "Search Engine Marketing",
         0
        ],
        [
         "204f748fd4ef4167a8001c7e69aa2c89",
         "2020-06-09T08:04:46.000+0000",
         "impression",
         "Google Display Network",
         0
        ],
        [
         "6db98b837060487696c3a3c885518c01",
         "2020-06-06T22:31:53.000+0000",
         "impression",
         "Social Network",
         0
        ],
        [
         "6db98b837060487696c3a3c885518c01",
         "2020-06-07T04:22:38.000+0000",
         "impression",
         "Affiliates",
         0
        ],
        [
         "6db98b837060487696c3a3c885518c01",
         "2020-06-10T02:29:36.000+0000",
         "impression",
         "Search Engine Marketing",
         0
        ],
        [
         "6db98b837060487696c3a3c885518c01",
         "2020-06-10T02:49:25.000+0000",
         "impression",
         "Google Display Network",
         0
        ],
        [
         "9db9ec7e668d4250bee63efd9af84853",
         "2020-05-28T21:37:01.000+0000",
         "impression",
         "Google Display Network",
         0
        ],
        [
         "9db9ec7e668d4250bee63efd9af84853",
         "2020-06-06T05:31:44.000+0000",
         "impression",
         "Social Network",
         0
        ],
        [
         "1e27587073664eca94ce8fa141cbdb44",
         "2020-05-28T03:53:07.000+0000",
         "impression",
         "Search Engine Marketing",
         0
        ],
        [
         "1e27587073664eca94ce8fa141cbdb44",
         "2020-05-28T07:30:45.000+0000",
         "impression",
         "Social Network",
         0
        ],
        [
         "1e27587073664eca94ce8fa141cbdb44",
         "2020-05-30T20:41:50.000+0000",
         "impression",
         "Affiliates",
         0
        ],
        [
         "1e27587073664eca94ce8fa141cbdb44",
         "2020-06-04T13:46:21.000+0000",
         "impression",
         "Affiliates",
         0
        ],
        [
         "1e27587073664eca94ce8fa141cbdb44",
         "2020-06-10T03:58:51.000+0000",
         "impression",
         "Google Display Network",
         0
        ],
        [
         "1e27587073664eca94ce8fa141cbdb44",
         "2020-06-10T04:21:34.000+0000",
         "impression",
         "Affiliates",
         0
        ],
        [
         "1e27587073664eca94ce8fa141cbdb44",
         "2020-06-10T04:31:16.000+0000",
         "impression",
         "Search Engine Marketing",
         0
        ],
        [
         "1e27587073664eca94ce8fa141cbdb44",
         "2020-06-10T04:47:04.000+0000",
         "impression",
         "Social Network",
         0
        ],
        [
         "289eb6b325cd48968c4845b43b12c45f",
         "2020-05-31T13:32:17.000+0000",
         "impression",
         "Social Network",
         0
        ],
        [
         "289eb6b325cd48968c4845b43b12c45f",
         "2020-06-07T04:29:25.000+0000",
         "impression",
         "Google Display Network",
         0
        ],
        [
         "289eb6b325cd48968c4845b43b12c45f",
         "2020-06-08T00:56:41.000+0000",
         "impression",
         "Social Network",
         0
        ],
        [
         "289eb6b325cd48968c4845b43b12c45f",
         "2020-06-09T17:43:37.000+0000",
         "impression",
         "Search Engine Marketing",
         0
        ],
        [
         "289eb6b325cd48968c4845b43b12c45f",
         "2020-06-09T18:39:27.000+0000",
         "impression",
         "Search Engine Marketing",
         0
        ],
        [
         "289eb6b325cd48968c4845b43b12c45f",
         "2020-06-09T21:15:14.000+0000",
         "impression",
         "Search Engine Marketing",
         0
        ],
        [
         "289eb6b325cd48968c4845b43b12c45f",
         "2020-06-09T23:59:22.000+0000",
         "impression",
         "Affiliates",
         0
        ],
        [
         "695bc04b480a48d3aa7b470243be5241",
         "2020-05-28T04:25:42.000+0000",
         "impression",
         "Social Network",
         0
        ],
        [
         "cdf9afbb6931445499f99a52ac5bfca5",
         "2020-05-19T17:38:02.000+0000",
         "impression",
         "Search Engine Marketing",
         0
        ],
        [
         "cdf9afbb6931445499f99a52ac5bfca5",
         "2020-05-21T20:50:44.000+0000",
         "impression",
         "Search Engine Marketing",
         0
        ],
        [
         "cdf9afbb6931445499f99a52ac5bfca5",
         "2020-06-01T17:57:40.000+0000",
         "impression",
         "Affiliates",
         0
        ],
        [
         "cdf9afbb6931445499f99a52ac5bfca5",
         "2020-06-07T14:24:25.000+0000",
         "impression",
         "Affiliates",
         0
        ],
        [
         "cdf9afbb6931445499f99a52ac5bfca5",
         "2020-06-10T00:38:32.000+0000",
         "impression",
         "Search Engine Marketing",
         0
        ],
        [
         "cdf9afbb6931445499f99a52ac5bfca5",
         "2020-06-10T04:00:11.000+0000",
         "impression",
         "Social Network",
         0
        ],
        [
         "cdf9afbb6931445499f99a52ac5bfca5",
         "2020-06-10T04:08:43.000+0000",
         "impression",
         "Search Engine Marketing",
         0
        ],
        [
         "cdf9afbb6931445499f99a52ac5bfca5",
         "2020-06-10T04:24:48.000+0000",
         "impression",
         "Affiliates",
         0
        ],
        [
         "cdf9afbb6931445499f99a52ac5bfca5",
         "2020-06-10T04:38:10.000+0000",
         "impression",
         "Google Display Network",
         0
        ],
        [
         "18bfccab238c43a7894cf66269baec33",
         "2020-05-20T07:26:22.000+0000",
         "impression",
         "Social Network",
         0
        ],
        [
         "7252efb74bb3449f81c72008d00fbae5",
         "2020-05-30T08:41:32.000+0000",
         "impression",
         "Search Engine Marketing",
         0
        ],
        [
         "7252efb74bb3449f81c72008d00fbae5",
         "2020-06-07T13:45:05.000+0000",
         "impression",
         "Affiliates",
         0
        ],
        [
         "7252efb74bb3449f81c72008d00fbae5",
         "2020-06-08T00:17:01.000+0000",
         "impression",
         "Affiliates",
         0
        ],
        [
         "7252efb74bb3449f81c72008d00fbae5",
         "2020-06-09T06:30:35.000+0000",
         "impression",
         "Affiliates",
         0
        ],
        [
         "7252efb74bb3449f81c72008d00fbae5",
         "2020-06-09T15:09:32.000+0000",
         "impression",
         "Affiliates",
         0
        ],
        [
         "45a0b01a5a04441ea39664ef14da20ee",
         "2020-05-18T07:17:45.000+0000",
         "impression",
         "Affiliates",
         0
        ],
        [
         "45a0b01a5a04441ea39664ef14da20ee",
         "2020-06-04T11:42:58.000+0000",
         "impression",
         "Email",
         0
        ],
        [
         "45a0b01a5a04441ea39664ef14da20ee",
         "2020-06-08T12:48:08.000+0000",
         "impression",
         "Affiliates",
         0
        ],
        [
         "45a0b01a5a04441ea39664ef14da20ee",
         "2020-06-09T20:27:45.000+0000",
         "impression",
         "Social Network",
         0
        ],
        [
         "45a0b01a5a04441ea39664ef14da20ee",
         "2020-06-10T01:38:45.000+0000",
         "impression",
         "Affiliates",
         0
        ],
        [
         "45a0b01a5a04441ea39664ef14da20ee",
         "2020-06-10T02:22:09.000+0000",
         "impression",
         "Search Engine Marketing",
         0
        ],
        [
         "45a0b01a5a04441ea39664ef14da20ee",
         "2020-06-10T02:31:23.000+0000",
         "impression",
         "Search Engine Marketing",
         0
        ],
        [
         "45a0b01a5a04441ea39664ef14da20ee",
         "2020-06-10T02:38:01.000+0000",
         "impression",
         "Social Network",
         0
        ],
        [
         "45a0b01a5a04441ea39664ef14da20ee",
         "2020-06-10T04:04:12.000+0000",
         "impression",
         "Google Display Network",
         0
        ],
        [
         "7b761ee2ca564332888ec3078e335b2f",
         "2020-05-27T10:19:15.000+0000",
         "conversion",
         "Affiliates",
         1
        ],
        [
         "5b5e85003c5646aea0cdbac97ee9e459",
         "2020-05-19T11:35:26.000+0000",
         "impression",
         "Search Engine Marketing",
         0
        ],
        [
         "5b5e85003c5646aea0cdbac97ee9e459",
         "2020-05-28T04:05:20.000+0000",
         "impression",
         "Email",
         0
        ],
        [
         "5b5e85003c5646aea0cdbac97ee9e459",
         "2020-06-08T09:37:29.000+0000",
         "impression",
         "Affiliates",
         0
        ],
        [
         "5b5e85003c5646aea0cdbac97ee9e459",
         "2020-06-08T13:59:29.000+0000",
         "conversion",
         "Social Network",
         1
        ],
        [
         "967ad262430d4310b364f81c8b7d83ab",
         "2020-05-29T17:51:47.000+0000",
         "impression",
         "Social Network",
         0
        ],
        [
         "967ad262430d4310b364f81c8b7d83ab",
         "2020-06-06T11:41:44.000+0000",
         "impression",
         "Search Engine Marketing",
         0
        ],
        [
         "967ad262430d4310b364f81c8b7d83ab",
         "2020-06-09T07:08:29.000+0000",
         "impression",
         "Search Engine Marketing",
         0
        ],
        [
         "967ad262430d4310b364f81c8b7d83ab",
         "2020-06-10T00:21:04.000+0000",
         "impression",
         "Google Display Network",
         0
        ],
        [
         "967ad262430d4310b364f81c8b7d83ab",
         "2020-06-10T03:10:42.000+0000",
         "impression",
         "Affiliates",
         0
        ],
        [
         "967ad262430d4310b364f81c8b7d83ab",
         "2020-06-10T04:38:04.000+0000",
         "impression",
         "Search Engine Marketing",
         0
        ],
        [
         "a2365fb796714a9a9524a1ebd8cadace",
         "2020-05-29T09:49:43.000+0000",
         "impression",
         "Affiliates",
         0
        ],
        [
         "a2365fb796714a9a9524a1ebd8cadace",
         "2020-06-07T05:42:54.000+0000",
         "impression",
         "Search Engine Marketing",
         0
        ],
        [
         "a2365fb796714a9a9524a1ebd8cadace",
         "2020-06-07T06:38:23.000+0000",
         "impression",
         "Social Network",
         0
        ],
        [
         "a2365fb796714a9a9524a1ebd8cadace",
         "2020-06-07T15:50:53.000+0000",
         "impression",
         "Search Engine Marketing",
         0
        ],
        [
         "a2365fb796714a9a9524a1ebd8cadace",
         "2020-06-08T15:21:42.000+0000",
         "impression",
         "Google Display Network",
         0
        ],
        [
         "a2365fb796714a9a9524a1ebd8cadace",
         "2020-06-08T23:00:03.000+0000",
         "impression",
         "Affiliates",
         0
        ],
        [
         "a2365fb796714a9a9524a1ebd8cadace",
         "2020-06-09T23:34:32.000+0000",
         "impression",
         "Search Engine Marketing",
         0
        ],
        [
         "a2365fb796714a9a9524a1ebd8cadace",
         "2020-06-10T02:25:02.000+0000",
         "impression",
         "Search Engine Marketing",
         0
        ],
        [
         "a2365fb796714a9a9524a1ebd8cadace",
         "2020-06-10T03:16:44.000+0000",
         "impression",
         "Affiliates",
         0
        ],
        [
         "33f90710d4c341bd97cb24139a8087a4",
         "2020-05-18T14:50:32.000+0000",
         "impression",
         "Affiliates",
         0
        ],
        [
         "33f90710d4c341bd97cb24139a8087a4",
         "2020-05-22T11:32:32.000+0000",
         "impression",
         "Social Network",
         0
        ],
        [
         "33f90710d4c341bd97cb24139a8087a4",
         "2020-05-27T01:06:36.000+0000",
         "impression",
         "Google Display Network",
         0
        ],
        [
         "33f90710d4c341bd97cb24139a8087a4",
         "2020-05-31T05:55:45.000+0000",
         "impression",
         "Google Display Network",
         0
        ],
        [
         "33f90710d4c341bd97cb24139a8087a4",
         "2020-05-31T18:15:26.000+0000",
         "impression",
         "Google Display Network",
         0
        ],
        [
         "33f90710d4c341bd97cb24139a8087a4",
         "2020-06-03T17:38:45.000+0000",
         "impression",
         "Affiliates",
         0
        ],
        [
         "33f90710d4c341bd97cb24139a8087a4",
         "2020-06-05T22:29:25.000+0000",
         "impression",
         "Social Network",
         0
        ],
        [
         "6cb35b12f39e46b49278895786e1b932",
         "2020-05-20T05:40:17.000+0000",
         "impression",
         "Social Network",
         0
        ],
        [
         "6cb35b12f39e46b49278895786e1b932",
         "2020-05-31T14:00:52.000+0000",
         "impression",
         "Social Network",
         0
        ],
        [
         "6cb35b12f39e46b49278895786e1b932",
         "2020-06-08T08:20:12.000+0000",
         "impression",
         "Search Engine Marketing",
         0
        ],
        [
         "6cb35b12f39e46b49278895786e1b932",
         "2020-06-09T07:16:37.000+0000",
         "impression",
         "Affiliates",
         0
        ],
        [
         "6cb35b12f39e46b49278895786e1b932",
         "2020-06-10T02:27:41.000+0000",
         "impression",
         "Email",
         0
        ],
        [
         "5513351095614bcdb8689994f303b28b",
         "2020-05-29T05:03:30.000+0000",
         "impression",
         "Affiliates",
         0
        ],
        [
         "5513351095614bcdb8689994f303b28b",
         "2020-05-31T08:27:16.000+0000",
         "impression",
         "Search Engine Marketing",
         0
        ],
        [
         "5513351095614bcdb8689994f303b28b",
         "2020-06-01T01:11:26.000+0000",
         "impression",
         "Affiliates",
         0
        ],
        [
         "5513351095614bcdb8689994f303b28b",
         "2020-06-08T13:23:49.000+0000",
         "impression",
         "Search Engine Marketing",
         0
        ],
        [
         "540626b719a04cd1aa2158dc824f74d3",
         "2020-05-21T18:56:38.000+0000",
         "impression",
         "Affiliates",
         0
        ],
        [
         "540626b719a04cd1aa2158dc824f74d3",
         "2020-05-23T08:59:23.000+0000",
         "impression",
         "Search Engine Marketing",
         0
        ],
        [
         "540626b719a04cd1aa2158dc824f74d3",
         "2020-05-25T18:30:23.000+0000",
         "impression",
         "Google Display Network",
         0
        ],
        [
         "540626b719a04cd1aa2158dc824f74d3",
         "2020-05-27T21:21:48.000+0000",
         "impression",
         "Email",
         0
        ],
        [
         "540626b719a04cd1aa2158dc824f74d3",
         "2020-06-02T23:54:49.000+0000",
         "impression",
         "Social Network",
         0
        ],
        [
         "540626b719a04cd1aa2158dc824f74d3",
         "2020-06-05T15:36:26.000+0000",
         "impression",
         "Social Network",
         0
        ],
        [
         "ec96b34468214d91a209ccb61af09f35",
         "2020-05-29T13:20:44.000+0000",
         "impression",
         "Affiliates",
         0
        ],
        [
         "ec96b34468214d91a209ccb61af09f35",
         "2020-06-06T01:17:32.000+0000",
         "impression",
         "Affiliates",
         0
        ],
        [
         "ec96b34468214d91a209ccb61af09f35",
         "2020-06-06T13:43:11.000+0000",
         "impression",
         "Affiliates",
         0
        ],
        [
         "ec96b34468214d91a209ccb61af09f35",
         "2020-06-07T15:19:51.000+0000",
         "impression",
         "Affiliates",
         0
        ],
        [
         "b29a3ff2ad874e6cbc5687b304cf8061",
         "2020-05-28T13:27:08.000+0000",
         "impression",
         "Social Network",
         0
        ],
        [
         "b29a3ff2ad874e6cbc5687b304cf8061",
         "2020-06-07T08:43:00.000+0000",
         "impression",
         "Search Engine Marketing",
         0
        ],
        [
         "b29a3ff2ad874e6cbc5687b304cf8061",
         "2020-06-07T21:19:08.000+0000",
         "impression",
         "Search Engine Marketing",
         0
        ],
        [
         "b29a3ff2ad874e6cbc5687b304cf8061",
         "2020-06-08T15:13:34.000+0000",
         "impression",
         "Search Engine Marketing",
         0
        ],
        [
         "b29a3ff2ad874e6cbc5687b304cf8061",
         "2020-06-10T03:44:05.000+0000",
         "impression",
         "Affiliates",
         0
        ],
        [
         "b29a3ff2ad874e6cbc5687b304cf8061",
         "2020-06-10T03:58:11.000+0000",
         "impression",
         "Social Network",
         0
        ],
        [
         "b29a3ff2ad874e6cbc5687b304cf8061",
         "2020-06-10T03:59:29.000+0000",
         "impression",
         "Search Engine Marketing",
         0
        ],
        [
         "4154968505fe4d67b976f5ed15ea9501",
         "2020-05-30T23:40:39.000+0000",
         "impression",
         "Social Network",
         0
        ],
        [
         "4154968505fe4d67b976f5ed15ea9501",
         "2020-06-07T15:38:33.000+0000",
         "impression",
         "Affiliates",
         0
        ],
        [
         "4154968505fe4d67b976f5ed15ea9501",
         "2020-06-08T14:23:55.000+0000",
         "impression",
         "Search Engine Marketing",
         0
        ],
        [
         "4154968505fe4d67b976f5ed15ea9501",
         "2020-06-10T04:01:05.000+0000",
         "impression",
         "Affiliates",
         0
        ],
        [
         "4154968505fe4d67b976f5ed15ea9501",
         "2020-06-10T04:30:01.000+0000",
         "impression",
         "Social Network",
         0
        ],
        [
         "4154968505fe4d67b976f5ed15ea9501",
         "2020-06-10T04:42:42.000+0000",
         "impression",
         "Google Display Network",
         0
        ],
        [
         "4154968505fe4d67b976f5ed15ea9501",
         "2020-06-10T04:47:07.000+0000",
         "impression",
         "Affiliates",
         0
        ],
        [
         "4154968505fe4d67b976f5ed15ea9501",
         "2020-06-10T04:47:51.000+0000",
         "conversion",
         "Social Network",
         1
        ],
        [
         "eb026e9a13d34135b720661adffebb7f",
         "2020-06-04T18:37:11.000+0000",
         "impression",
         "Search Engine Marketing",
         0
        ],
        [
         "eb026e9a13d34135b720661adffebb7f",
         "2020-06-06T06:38:35.000+0000",
         "impression",
         "Google Display Network",
         0
        ],
        [
         "eb026e9a13d34135b720661adffebb7f",
         "2020-06-08T19:36:03.000+0000",
         "impression",
         "Google Display Network",
         0
        ],
        [
         "0196b92951714cb491671f2809b5b774",
         "2020-05-23T08:43:54.000+0000",
         "impression",
         "Search Engine Marketing",
         0
        ],
        [
         "0196b92951714cb491671f2809b5b774",
         "2020-06-09T04:54:05.000+0000",
         "impression",
         "Social Network",
         0
        ],
        [
         "0196b92951714cb491671f2809b5b774",
         "2020-06-09T09:03:00.000+0000",
         "impression",
         "Affiliates",
         0
        ],
        [
         "0196b92951714cb491671f2809b5b774",
         "2020-06-09T18:01:39.000+0000",
         "impression",
         "Affiliates",
         0
        ],
        [
         "f42dbe8dbce9417b8f9a3ac58bcd91af",
         "2020-06-05T01:08:00.000+0000",
         "impression",
         "Search Engine Marketing",
         0
        ],
        [
         "f42dbe8dbce9417b8f9a3ac58bcd91af",
         "2020-06-07T18:13:46.000+0000",
         "impression",
         "Social Network",
         0
        ],
        [
         "f42dbe8dbce9417b8f9a3ac58bcd91af",
         "2020-06-07T22:23:20.000+0000",
         "impression",
         "Email",
         0
        ],
        [
         "f42dbe8dbce9417b8f9a3ac58bcd91af",
         "2020-06-08T23:29:01.000+0000",
         "impression",
         "Google Display Network",
         0
        ],
        [
         "f42dbe8dbce9417b8f9a3ac58bcd91af",
         "2020-06-09T02:12:51.000+0000",
         "impression",
         "Affiliates",
         0
        ],
        [
         "f42dbe8dbce9417b8f9a3ac58bcd91af",
         "2020-06-09T21:54:13.000+0000",
         "impression",
         "Search Engine Marketing",
         0
        ],
        [
         "bf8f1f6f5dd24cbd995fe616a5db87a2",
         "2020-05-19T12:48:31.000+0000",
         "impression",
         "Affiliates",
         0
        ],
        [
         "bf8f1f6f5dd24cbd995fe616a5db87a2",
         "2020-05-27T12:33:28.000+0000",
         "impression",
         "Social Network",
         0
        ],
        [
         "6ca8326c2b8a4fc6809eef4dee2372c3",
         "2020-06-01T22:17:21.000+0000",
         "impression",
         "Search Engine Marketing",
         0
        ],
        [
         "6ca8326c2b8a4fc6809eef4dee2372c3",
         "2020-06-05T12:16:51.000+0000",
         "impression",
         "Affiliates",
         0
        ],
        [
         "6ca8326c2b8a4fc6809eef4dee2372c3",
         "2020-06-06T19:54:00.000+0000",
         "impression",
         "Search Engine Marketing",
         0
        ],
        [
         "6ca8326c2b8a4fc6809eef4dee2372c3",
         "2020-06-07T10:49:14.000+0000",
         "impression",
         "Affiliates",
         0
        ],
        [
         "6ca8326c2b8a4fc6809eef4dee2372c3",
         "2020-06-09T15:02:17.000+0000",
         "impression",
         "Search Engine Marketing",
         0
        ],
        [
         "6ca8326c2b8a4fc6809eef4dee2372c3",
         "2020-06-10T03:33:56.000+0000",
         "impression",
         "Google Display Network",
         0
        ],
        [
         "6ca8326c2b8a4fc6809eef4dee2372c3",
         "2020-06-10T03:52:24.000+0000",
         "impression",
         "Social Network",
         0
        ],
        [
         "6ca8326c2b8a4fc6809eef4dee2372c3",
         "2020-06-10T04:33:09.000+0000",
         "impression",
         "Affiliates",
         0
        ],
        [
         "6ca8326c2b8a4fc6809eef4dee2372c3",
         "2020-06-10T04:41:02.000+0000",
         "impression",
         "Social Network",
         0
        ],
        [
         "425406f714be43699061a324aa9fc849",
         "2020-05-23T09:55:56.000+0000",
         "impression",
         "Affiliates",
         0
        ],
        [
         "425406f714be43699061a324aa9fc849",
         "2020-06-08T10:14:23.000+0000",
         "impression",
         "Google Display Network",
         0
        ],
        [
         "425406f714be43699061a324aa9fc849",
         "2020-06-08T17:42:55.000+0000",
         "impression",
         "Affiliates",
         0
        ],
        [
         "425406f714be43699061a324aa9fc849",
         "2020-06-09T22:55:30.000+0000",
         "impression",
         "Search Engine Marketing",
         0
        ],
        [
         "99cd32701a5740a89d3ef75c1113af41",
         "2020-05-31T22:02:50.000+0000",
         "impression",
         "Affiliates",
         0
        ],
        [
         "99cd32701a5740a89d3ef75c1113af41",
         "2020-06-05T17:41:09.000+0000",
         "impression",
         "Affiliates",
         0
        ],
        [
         "99cd32701a5740a89d3ef75c1113af41",
         "2020-06-08T12:12:21.000+0000",
         "impression",
         "Social Network",
         0
        ],
        [
         "99cd32701a5740a89d3ef75c1113af41",
         "2020-06-09T22:34:25.000+0000",
         "impression",
         "Affiliates",
         0
        ],
        [
         "99cd32701a5740a89d3ef75c1113af41",
         "2020-06-10T00:44:13.000+0000",
         "impression",
         "Social Network",
         0
        ],
        [
         "99cd32701a5740a89d3ef75c1113af41",
         "2020-06-10T01:11:49.000+0000",
         "impression",
         "Search Engine Marketing",
         0
        ],
        [
         "99cd32701a5740a89d3ef75c1113af41",
         "2020-06-10T02:29:10.000+0000",
         "impression",
         "Email",
         0
        ],
        [
         "99cd32701a5740a89d3ef75c1113af41",
         "2020-06-10T04:21:10.000+0000",
         "impression",
         "Search Engine Marketing",
         0
        ],
        [
         "99cd32701a5740a89d3ef75c1113af41",
         "2020-06-10T04:24:26.000+0000",
         "conversion",
         "Social Network",
         1
        ],
        [
         "2a3bd5e8a4c740b1a2465d5376dac703",
         "2020-05-19T09:27:36.000+0000",
         "impression",
         "Search Engine Marketing",
         0
        ],
        [
         "2a3bd5e8a4c740b1a2465d5376dac703",
         "2020-06-02T07:59:39.000+0000",
         "impression",
         "Email",
         0
        ],
        [
         "2a3bd5e8a4c740b1a2465d5376dac703",
         "2020-06-10T04:01:22.000+0000",
         "impression",
         "Social Network",
         0
        ],
        [
         "f8a74852f0d142d79b4ef8a5b5301b21",
         "2020-05-23T16:44:32.000+0000",
         "impression",
         "Social Network",
         0
        ],
        [
         "f8a74852f0d142d79b4ef8a5b5301b21",
         "2020-06-08T17:01:11.000+0000",
         "impression",
         "Affiliates",
         0
        ],
        [
         "f8a74852f0d142d79b4ef8a5b5301b21",
         "2020-06-08T21:44:14.000+0000",
         "impression",
         "Search Engine Marketing",
         0
        ],
        [
         "f8a74852f0d142d79b4ef8a5b5301b21",
         "2020-06-09T17:30:34.000+0000",
         "impression",
         "Affiliates",
         0
        ],
        [
         "f8a74852f0d142d79b4ef8a5b5301b21",
         "2020-06-10T00:27:10.000+0000",
         "impression",
         "Social Network",
         0
        ],
        [
         "f8a74852f0d142d79b4ef8a5b5301b21",
         "2020-06-10T04:13:49.000+0000",
         "impression",
         "Social Network",
         0
        ],
        [
         "f8a74852f0d142d79b4ef8a5b5301b21",
         "2020-06-10T04:15:05.000+0000",
         "impression",
         "Email",
         0
        ],
        [
         "f8a74852f0d142d79b4ef8a5b5301b21",
         "2020-06-10T04:45:16.000+0000",
         "impression",
         "Google Display Network",
         0
        ],
        [
         "7a50844b7978492fb80af9aa1e5c1f14",
         "2020-05-17T23:48:40.000+0000",
         "impression",
         "Search Engine Marketing",
         0
        ],
        [
         "7a50844b7978492fb80af9aa1e5c1f14",
         "2020-06-07T18:02:22.000+0000",
         "impression",
         "Affiliates",
         0
        ],
        [
         "7a50844b7978492fb80af9aa1e5c1f14",
         "2020-06-09T06:35:07.000+0000",
         "impression",
         "Affiliates",
         0
        ],
        [
         "7a50844b7978492fb80af9aa1e5c1f14",
         "2020-06-10T04:12:58.000+0000",
         "impression",
         "Search Engine Marketing",
         0
        ],
        [
         "7a50844b7978492fb80af9aa1e5c1f14",
         "2020-06-10T04:33:24.000+0000",
         "impression",
         "Affiliates",
         0
        ],
        [
         "7a50844b7978492fb80af9aa1e5c1f14",
         "2020-06-10T04:46:47.000+0000",
         "impression",
         "Google Display Network",
         0
        ],
        [
         "7a50844b7978492fb80af9aa1e5c1f14",
         "2020-06-10T04:47:49.000+0000",
         "conversion",
         "Affiliates",
         1
        ],
        [
         "9f0cc327b90942af9676cbacfdab79eb",
         "2020-05-26T03:11:30.000+0000",
         "impression",
         "Affiliates",
         0
        ],
        [
         "9f0cc327b90942af9676cbacfdab79eb",
         "2020-06-09T11:01:58.000+0000",
         "impression",
         "Social Network",
         0
        ],
        [
         "9f0cc327b90942af9676cbacfdab79eb",
         "2020-06-09T12:13:15.000+0000",
         "impression",
         "Affiliates",
         0
        ],
        [
         "9f0cc327b90942af9676cbacfdab79eb",
         "2020-06-09T23:10:44.000+0000",
         "impression",
         "Affiliates",
         0
        ],
        [
         "9f0cc327b90942af9676cbacfdab79eb",
         "2020-06-10T02:58:22.000+0000",
         "impression",
         "Affiliates",
         0
        ],
        [
         "9f0cc327b90942af9676cbacfdab79eb",
         "2020-06-10T04:07:01.000+0000",
         "impression",
         "Search Engine Marketing",
         0
        ],
        [
         "9f0cc327b90942af9676cbacfdab79eb",
         "2020-06-10T04:24:52.000+0000",
         "impression",
         "Search Engine Marketing",
         0
        ],
        [
         "9f0cc327b90942af9676cbacfdab79eb",
         "2020-06-10T04:42:32.000+0000",
         "impression",
         "Affiliates",
         0
        ],
        [
         "9f0cc327b90942af9676cbacfdab79eb",
         "2020-06-10T04:49:26.000+0000",
         "impression",
         "Search Engine Marketing",
         0
        ],
        [
         "5520a31509474f54a79d8d32c2a34e30",
         "2020-05-25T13:11:12.000+0000",
         "impression",
         "Affiliates",
         0
        ],
        [
         "5520a31509474f54a79d8d32c2a34e30",
         "2020-06-08T03:30:40.000+0000",
         "impression",
         "Social Network",
         0
        ],
        [
         "5520a31509474f54a79d8d32c2a34e30",
         "2020-06-08T16:15:34.000+0000",
         "impression",
         "Affiliates",
         0
        ],
        [
         "a15c65fe5c6f46f68dd77a8513cf4368",
         "2020-06-08T01:34:55.000+0000",
         "impression",
         "Search Engine Marketing",
         0
        ],
        [
         "a15c65fe5c6f46f68dd77a8513cf4368",
         "2020-06-09T06:06:27.000+0000",
         "impression",
         "Affiliates",
         0
        ],
        [
         "a15c65fe5c6f46f68dd77a8513cf4368",
         "2020-06-09T07:21:07.000+0000",
         "impression",
         "Google Display Network",
         0
        ],
        [
         "a15c65fe5c6f46f68dd77a8513cf4368",
         "2020-06-09T16:05:27.000+0000",
         "impression",
         "Social Network",
         0
        ],
        [
         "a15c65fe5c6f46f68dd77a8513cf4368",
         "2020-06-09T22:06:59.000+0000",
         "impression",
         "Search Engine Marketing",
         0
        ],
        [
         "a15c65fe5c6f46f68dd77a8513cf4368",
         "2020-06-10T03:35:30.000+0000",
         "impression",
         "Affiliates",
         0
        ],
        [
         "ee09d1ecb885481f879b94e637c71f26",
         "2020-05-26T04:12:13.000+0000",
         "impression",
         "Search Engine Marketing",
         0
        ],
        [
         "ee09d1ecb885481f879b94e637c71f26",
         "2020-06-03T16:04:31.000+0000",
         "impression",
         "Search Engine Marketing",
         0
        ],
        [
         "ee09d1ecb885481f879b94e637c71f26",
         "2020-06-06T07:00:44.000+0000",
         "impression",
         "Social Network",
         0
        ],
        [
         "ee09d1ecb885481f879b94e637c71f26",
         "2020-06-07T13:20:29.000+0000",
         "impression",
         "Affiliates",
         0
        ],
        [
         "ee09d1ecb885481f879b94e637c71f26",
         "2020-06-08T07:25:05.000+0000",
         "impression",
         "Affiliates",
         0
        ],
        [
         "ee09d1ecb885481f879b94e637c71f26",
         "2020-06-09T05:51:43.000+0000",
         "impression",
         "Google Display Network",
         0
        ],
        [
         "ee09d1ecb885481f879b94e637c71f26",
         "2020-06-10T00:36:17.000+0000",
         "conversion",
         "Affiliates",
         1
        ],
        [
         "cb1977f153c04965bb5dd2113411c57a",
         "2020-05-20T18:09:02.000+0000",
         "impression",
         "Affiliates",
         0
        ],
        [
         "cb1977f153c04965bb5dd2113411c57a",
         "2020-06-07T16:52:21.000+0000",
         "impression",
         "Affiliates",
         0
        ],
        [
         "cb1977f153c04965bb5dd2113411c57a",
         "2020-06-07T23:41:01.000+0000",
         "impression",
         "Search Engine Marketing",
         0
        ],
        [
         "cb1977f153c04965bb5dd2113411c57a",
         "2020-06-08T20:12:51.000+0000",
         "impression",
         "Social Network",
         0
        ],
        [
         "b58568c0b6434de3a7f5fc85899a5815",
         "2020-05-24T08:41:45.000+0000",
         "impression",
         "Social Network",
         0
        ],
        [
         "b58568c0b6434de3a7f5fc85899a5815",
         "2020-06-01T11:19:17.000+0000",
         "impression",
         "Affiliates",
         0
        ],
        [
         "b58568c0b6434de3a7f5fc85899a5815",
         "2020-06-05T20:23:24.000+0000",
         "impression",
         "Social Network",
         0
        ],
        [
         "b58568c0b6434de3a7f5fc85899a5815",
         "2020-06-08T19:41:40.000+0000",
         "impression",
         "Social Network",
         0
        ],
        [
         "b58568c0b6434de3a7f5fc85899a5815",
         "2020-06-08T20:26:10.000+0000",
         "impression",
         "Social Network",
         0
        ],
        [
         "b58568c0b6434de3a7f5fc85899a5815",
         "2020-06-08T21:11:11.000+0000",
         "impression",
         "Social Network",
         0
        ],
        [
         "f640563ce91e44a3a6a507ba08ed73a2",
         "2020-06-06T10:01:45.000+0000",
         "impression",
         "Social Network",
         0
        ],
        [
         "f640563ce91e44a3a6a507ba08ed73a2",
         "2020-06-09T10:40:12.000+0000",
         "impression",
         "Google Display Network",
         0
        ],
        [
         "f640563ce91e44a3a6a507ba08ed73a2",
         "2020-06-10T03:08:29.000+0000",
         "impression",
         "Google Display Network",
         0
        ],
        [
         "f640563ce91e44a3a6a507ba08ed73a2",
         "2020-06-10T03:41:36.000+0000",
         "impression",
         "Social Network",
         0
        ],
        [
         "f640563ce91e44a3a6a507ba08ed73a2",
         "2020-06-10T03:49:03.000+0000",
         "impression",
         "Affiliates",
         0
        ],
        [
         "f640563ce91e44a3a6a507ba08ed73a2",
         "2020-06-10T04:44:57.000+0000",
         "impression",
         "Search Engine Marketing",
         0
        ],
        [
         "f640563ce91e44a3a6a507ba08ed73a2",
         "2020-06-10T04:48:57.000+0000",
         "impression",
         "Social Network",
         0
        ],
        [
         "ee26e402933f40abaca42c00daa7dcf3",
         "2020-05-26T03:04:48.000+0000",
         "impression",
         "Email",
         0
        ],
        [
         "ee26e402933f40abaca42c00daa7dcf3",
         "2020-06-01T02:19:10.000+0000",
         "impression",
         "Social Network",
         0
        ],
        [
         "ee26e402933f40abaca42c00daa7dcf3",
         "2020-06-03T19:23:47.000+0000",
         "impression",
         "Search Engine Marketing",
         0
        ],
        [
         "ee26e402933f40abaca42c00daa7dcf3",
         "2020-06-05T20:54:44.000+0000",
         "impression",
         "Search Engine Marketing",
         0
        ],
        [
         "1e04a4624f4344c8ae162586c5a135b1",
         "2020-06-04T19:46:24.000+0000",
         "impression",
         "Email",
         0
        ],
        [
         "1e04a4624f4344c8ae162586c5a135b1",
         "2020-06-08T14:06:56.000+0000",
         "impression",
         "Google Display Network",
         0
        ],
        [
         "1e04a4624f4344c8ae162586c5a135b1",
         "2020-06-09T04:47:07.000+0000",
         "impression",
         "Search Engine Marketing",
         0
        ],
        [
         "1e04a4624f4344c8ae162586c5a135b1",
         "2020-06-09T13:36:24.000+0000",
         "impression",
         "Affiliates",
         0
        ],
        [
         "1e04a4624f4344c8ae162586c5a135b1",
         "2020-06-10T00:53:09.000+0000",
         "impression",
         "Affiliates",
         0
        ],
        [
         "1e04a4624f4344c8ae162586c5a135b1",
         "2020-06-10T00:58:11.000+0000",
         "impression",
         "Affiliates",
         0
        ],
        [
         "9622dfae7c9e4f9eba8026ce149dd963",
         "2020-05-18T12:11:53.000+0000",
         "impression",
         "Search Engine Marketing",
         0
        ],
        [
         "1571972d641c423098ce84849e8fa0b1",
         "2020-05-21T18:47:09.000+0000",
         "impression",
         "Search Engine Marketing",
         0
        ],
        [
         "1571972d641c423098ce84849e8fa0b1",
         "2020-05-26T11:46:06.000+0000",
         "impression",
         "Social Network",
         0
        ],
        [
         "138f0a14eb37438cbfe057605c84cd70",
         "2020-06-05T14:57:55.000+0000",
         "impression",
         "Affiliates",
         0
        ],
        [
         "138f0a14eb37438cbfe057605c84cd70",
         "2020-06-06T21:37:32.000+0000",
         "impression",
         "Google Display Network",
         0
        ],
        [
         "138f0a14eb37438cbfe057605c84cd70",
         "2020-06-10T01:09:11.000+0000",
         "impression",
         "Social Network",
         0
        ],
        [
         "138f0a14eb37438cbfe057605c84cd70",
         "2020-06-10T01:38:37.000+0000",
         "impression",
         "Affiliates",
         0
        ],
        [
         "138f0a14eb37438cbfe057605c84cd70",
         "2020-06-10T04:23:36.000+0000",
         "impression",
         "Search Engine Marketing",
         0
        ],
        [
         "138f0a14eb37438cbfe057605c84cd70",
         "2020-06-10T04:36:42.000+0000",
         "impression",
         "Social Network",
         0
        ],
        [
         "138f0a14eb37438cbfe057605c84cd70",
         "2020-06-10T04:41:15.000+0000",
         "impression",
         "Search Engine Marketing",
         0
        ],
        [
         "138f0a14eb37438cbfe057605c84cd70",
         "2020-06-10T04:43:02.000+0000",
         "impression",
         "Social Network",
         0
        ],
        [
         "93b64dc681964ff49136430288a8a16d",
         "2020-05-26T18:24:53.000+0000",
         "impression",
         "Google Display Network",
         0
        ],
        [
         "3ac2b01d70ce461b8dee7f7a758df6ba",
         "2020-06-06T13:55:16.000+0000",
         "impression",
         "Affiliates",
         0
        ],
        [
         "3ac2b01d70ce461b8dee7f7a758df6ba",
         "2020-06-09T17:30:07.000+0000",
         "impression",
         "Search Engine Marketing",
         0
        ],
        [
         "3ac2b01d70ce461b8dee7f7a758df6ba",
         "2020-06-10T03:01:00.000+0000",
         "impression",
         "Search Engine Marketing",
         0
        ],
        [
         "3ac2b01d70ce461b8dee7f7a758df6ba",
         "2020-06-10T03:19:24.000+0000",
         "impression",
         "Affiliates",
         0
        ],
        [
         "3ac2b01d70ce461b8dee7f7a758df6ba",
         "2020-06-10T04:35:55.000+0000",
         "impression",
         "Affiliates",
         0
        ],
        [
         "3ac2b01d70ce461b8dee7f7a758df6ba",
         "2020-06-10T04:47:17.000+0000",
         "impression",
         "Social Network",
         0
        ],
        [
         "3ac2b01d70ce461b8dee7f7a758df6ba",
         "2020-06-10T04:49:51.000+0000",
         "impression",
         "Affiliates",
         0
        ],
        [
         "3ad65aa691ed48639a5f3520bf36f989",
         "2020-05-23T08:59:41.000+0000",
         "impression",
         "Affiliates",
         0
        ],
        [
         "3ad65aa691ed48639a5f3520bf36f989",
         "2020-05-27T11:06:42.000+0000",
         "impression",
         "Social Network",
         0
        ],
        [
         "3ad65aa691ed48639a5f3520bf36f989",
         "2020-05-28T21:16:42.000+0000",
         "impression",
         "Google Display Network",
         0
        ],
        [
         "3ad65aa691ed48639a5f3520bf36f989",
         "2020-05-31T14:36:14.000+0000",
         "impression",
         "Affiliates",
         0
        ],
        [
         "3ad65aa691ed48639a5f3520bf36f989",
         "2020-06-07T22:13:53.000+0000",
         "impression",
         "Social Network",
         0
        ],
        [
         "3ad65aa691ed48639a5f3520bf36f989",
         "2020-06-09T12:34:07.000+0000",
         "impression",
         "Affiliates",
         0
        ],
        [
         "3ad65aa691ed48639a5f3520bf36f989",
         "2020-06-09T15:03:29.000+0000",
         "conversion",
         "Affiliates",
         1
        ],
        [
         "36a0292bd4bf41d5ac3833de063e5464",
         "2020-06-05T06:10:12.000+0000",
         "impression",
         "Affiliates",
         0
        ],
        [
         "36a0292bd4bf41d5ac3833de063e5464",
         "2020-06-09T02:41:34.000+0000",
         "impression",
         "Social Network",
         0
        ],
        [
         "36a0292bd4bf41d5ac3833de063e5464",
         "2020-06-09T07:10:01.000+0000",
         "impression",
         "Affiliates",
         0
        ],
        [
         "36a0292bd4bf41d5ac3833de063e5464",
         "2020-06-09T16:51:42.000+0000",
         "impression",
         "Social Network",
         0
        ],
        [
         "36a0292bd4bf41d5ac3833de063e5464",
         "2020-06-10T00:39:56.000+0000",
         "impression",
         "Search Engine Marketing",
         0
        ],
        [
         "92fa703786414be189fc8b577e464bc9",
         "2020-06-04T23:54:01.000+0000",
         "impression",
         "Social Network",
         0
        ],
        [
         "92fa703786414be189fc8b577e464bc9",
         "2020-06-08T18:55:14.000+0000",
         "impression",
         "Google Display Network",
         0
        ],
        [
         "92fa703786414be189fc8b577e464bc9",
         "2020-06-09T23:53:45.000+0000",
         "conversion",
         "Google Display Network",
         1
        ],
        [
         "cd3bb9efe17e4add83d00bdce7af2f29",
         "2020-05-20T05:57:00.000+0000",
         "impression",
         "Social Network",
         0
        ],
        [
         "cd3bb9efe17e4add83d00bdce7af2f29",
         "2020-05-24T11:20:03.000+0000",
         "impression",
         "Email",
         0
        ],
        [
         "cd3bb9efe17e4add83d00bdce7af2f29",
         "2020-05-31T18:38:46.000+0000",
         "impression",
         "Search Engine Marketing",
         0
        ],
        [
         "cd3bb9efe17e4add83d00bdce7af2f29",
         "2020-06-03T15:17:22.000+0000",
         "impression",
         "Search Engine Marketing",
         0
        ],
        [
         "cd3bb9efe17e4add83d00bdce7af2f29",
         "2020-06-07T22:44:15.000+0000",
         "impression",
         "Social Network",
         0
        ],
        [
         "cd3bb9efe17e4add83d00bdce7af2f29",
         "2020-06-09T09:19:49.000+0000",
         "impression",
         "Social Network",
         0
        ],
        [
         "cd3bb9efe17e4add83d00bdce7af2f29",
         "2020-06-10T00:49:12.000+0000",
         "impression",
         "Affiliates",
         0
        ],
        [
         "cd3bb9efe17e4add83d00bdce7af2f29",
         "2020-06-10T02:40:31.000+0000",
         "impression",
         "Search Engine Marketing",
         0
        ],
        [
         "75a334f6089c4e7d8f933ed34c55e0df",
         "2020-06-05T11:09:23.000+0000",
         "impression",
         "Email",
         0
        ],
        [
         "75a334f6089c4e7d8f933ed34c55e0df",
         "2020-06-10T02:38:26.000+0000",
         "impression",
         "Google Display Network",
         0
        ],
        [
         "75a334f6089c4e7d8f933ed34c55e0df",
         "2020-06-10T03:38:56.000+0000",
         "impression",
         "Google Display Network",
         0
        ],
        [
         "75a334f6089c4e7d8f933ed34c55e0df",
         "2020-06-10T04:46:43.000+0000",
         "impression",
         "Search Engine Marketing",
         0
        ],
        [
         "65ca2b45deb54b159d9dee8e3fd21b99",
         "2020-06-03T02:31:00.000+0000",
         "impression",
         "Social Network",
         0
        ],
        [
         "65ca2b45deb54b159d9dee8e3fd21b99",
         "2020-06-04T07:43:15.000+0000",
         "impression",
         "Affiliates",
         0
        ],
        [
         "65ca2b45deb54b159d9dee8e3fd21b99",
         "2020-06-08T12:18:48.000+0000",
         "impression",
         "Search Engine Marketing",
         0
        ],
        [
         "a29f4332a271464685136c9d556bdb74",
         "2020-05-23T09:23:31.000+0000",
         "impression",
         "Google Display Network",
         0
        ],
        [
         "a29f4332a271464685136c9d556bdb74",
         "2020-05-24T14:22:46.000+0000",
         "impression",
         "Search Engine Marketing",
         0
        ],
        [
         "a29f4332a271464685136c9d556bdb74",
         "2020-05-25T22:47:35.000+0000",
         "impression",
         "Affiliates",
         0
        ],
        [
         "a29f4332a271464685136c9d556bdb74",
         "2020-06-10T02:06:04.000+0000",
         "impression",
         "Search Engine Marketing",
         0
        ],
        [
         "977b1614293c441c8f7b8753530e5b40",
         "2020-05-18T04:55:55.000+0000",
         "impression",
         "Google Display Network",
         0
        ],
        [
         "977b1614293c441c8f7b8753530e5b40",
         "2020-05-25T05:23:09.000+0000",
         "impression",
         "Search Engine Marketing",
         0
        ],
        [
         "977b1614293c441c8f7b8753530e5b40",
         "2020-05-27T04:15:59.000+0000",
         "impression",
         "Social Network",
         0
        ],
        [
         "977b1614293c441c8f7b8753530e5b40",
         "2020-06-06T18:55:57.000+0000",
         "impression",
         "Affiliates",
         0
        ],
        [
         "977b1614293c441c8f7b8753530e5b40",
         "2020-06-08T12:36:04.000+0000",
         "impression",
         "Affiliates",
         0
        ],
        [
         "977b1614293c441c8f7b8753530e5b40",
         "2020-06-08T23:35:27.000+0000",
         "impression",
         "Affiliates",
         0
        ],
        [
         "977b1614293c441c8f7b8753530e5b40",
         "2020-06-09T02:14:37.000+0000",
         "impression",
         "Search Engine Marketing",
         0
        ],
        [
         "4fb3e67bac784fc9ba8589919f61e54c",
         "2020-06-03T01:17:48.000+0000",
         "impression",
         "Affiliates",
         0
        ],
        [
         "4fb3e67bac784fc9ba8589919f61e54c",
         "2020-06-07T20:24:08.000+0000",
         "impression",
         "Search Engine Marketing",
         0
        ],
        [
         "4fb3e67bac784fc9ba8589919f61e54c",
         "2020-06-08T22:17:22.000+0000",
         "impression",
         "Affiliates",
         0
        ],
        [
         "4fb3e67bac784fc9ba8589919f61e54c",
         "2020-06-10T04:42:40.000+0000",
         "conversion",
         "Google Display Network",
         1
        ],
        [
         "4cac92f2e99c4f9c8851c856f73c23f5",
         "2020-06-04T04:24:18.000+0000",
         "impression",
         "Email",
         0
        ],
        [
         "4cac92f2e99c4f9c8851c856f73c23f5",
         "2020-06-05T12:35:00.000+0000",
         "impression",
         "Search Engine Marketing",
         0
        ],
        [
         "4cac92f2e99c4f9c8851c856f73c23f5",
         "2020-06-09T04:19:24.000+0000",
         "impression",
         "Google Display Network",
         0
        ],
        [
         "4cac92f2e99c4f9c8851c856f73c23f5",
         "2020-06-09T05:58:04.000+0000",
         "impression",
         "Search Engine Marketing",
         0
        ],
        [
         "4cac92f2e99c4f9c8851c856f73c23f5",
         "2020-06-09T09:06:04.000+0000",
         "impression",
         "Search Engine Marketing",
         0
        ],
        [
         "4cac92f2e99c4f9c8851c856f73c23f5",
         "2020-06-09T09:44:34.000+0000",
         "impression",
         "Affiliates",
         0
        ],
        [
         "4cac92f2e99c4f9c8851c856f73c23f5",
         "2020-06-10T00:00:04.000+0000",
         "impression",
         "Search Engine Marketing",
         0
        ],
        [
         "4cac92f2e99c4f9c8851c856f73c23f5",
         "2020-06-10T01:38:55.000+0000",
         "impression",
         "Social Network",
         0
        ],
        [
         "4cac92f2e99c4f9c8851c856f73c23f5",
         "2020-06-10T04:42:01.000+0000",
         "impression",
         "Search Engine Marketing",
         0
        ],
        [
         "ca82f6026f6d4a3780dda2ae1cecad52",
         "2020-05-30T13:56:34.000+0000",
         "impression",
         "Social Network",
         0
        ],
        [
         "ca82f6026f6d4a3780dda2ae1cecad52",
         "2020-06-03T22:06:37.000+0000",
         "impression",
         "Social Network",
         0
        ],
        [
         "ca82f6026f6d4a3780dda2ae1cecad52",
         "2020-06-08T17:27:41.000+0000",
         "impression",
         "Social Network",
         0
        ],
        [
         "ca82f6026f6d4a3780dda2ae1cecad52",
         "2020-06-08T20:21:26.000+0000",
         "impression",
         "Search Engine Marketing",
         0
        ],
        [
         "be33beb624694535a1b68a2ac6adc5e9",
         "2020-05-25T07:01:10.000+0000",
         "impression",
         "Social Network",
         0
        ],
        [
         "048786ce2b0c408fb4843003b184cef9",
         "2020-05-19T04:45:31.000+0000",
         "impression",
         "Social Network",
         0
        ],
        [
         "048786ce2b0c408fb4843003b184cef9",
         "2020-05-26T04:56:02.000+0000",
         "impression",
         "Search Engine Marketing",
         0
        ],
        [
         "813bc6faade9478baf57cf81ce721e25",
         "2020-05-28T00:26:07.000+0000",
         "impression",
         "Social Network",
         0
        ],
        [
         "813bc6faade9478baf57cf81ce721e25",
         "2020-05-28T15:52:22.000+0000",
         "impression",
         "Affiliates",
         0
        ],
        [
         "813bc6faade9478baf57cf81ce721e25",
         "2020-05-29T03:17:16.000+0000",
         "impression",
         "Affiliates",
         0
        ],
        [
         "813bc6faade9478baf57cf81ce721e25",
         "2020-06-09T17:58:34.000+0000",
         "impression",
         "Social Network",
         0
        ],
        [
         "813bc6faade9478baf57cf81ce721e25",
         "2020-06-10T02:13:45.000+0000",
         "impression",
         "Affiliates",
         0
        ],
        [
         "813bc6faade9478baf57cf81ce721e25",
         "2020-06-10T04:22:09.000+0000",
         "impression",
         "Affiliates",
         0
        ],
        [
         "813bc6faade9478baf57cf81ce721e25",
         "2020-06-10T04:23:38.000+0000",
         "impression",
         "Google Display Network",
         0
        ],
        [
         "813bc6faade9478baf57cf81ce721e25",
         "2020-06-10T04:43:06.000+0000",
         "impression",
         "Affiliates",
         0
        ],
        [
         "5faf7503e2a34823b19bbe337aa3abff",
         "2020-06-08T21:12:12.000+0000",
         "impression",
         "Social Network",
         0
        ],
        [
         "5faf7503e2a34823b19bbe337aa3abff",
         "2020-06-09T06:07:07.000+0000",
         "impression",
         "Affiliates",
         0
        ],
        [
         "5faf7503e2a34823b19bbe337aa3abff",
         "2020-06-09T17:59:33.000+0000",
         "impression",
         "Search Engine Marketing",
         0
        ],
        [
         "5faf7503e2a34823b19bbe337aa3abff",
         "2020-06-09T22:24:44.000+0000",
         "impression",
         "Social Network",
         0
        ],
        [
         "5faf7503e2a34823b19bbe337aa3abff",
         "2020-06-10T01:27:38.000+0000",
         "impression",
         "Affiliates",
         0
        ],
        [
         "5faf7503e2a34823b19bbe337aa3abff",
         "2020-06-10T03:37:32.000+0000",
         "impression",
         "Search Engine Marketing",
         0
        ],
        [
         "5faf7503e2a34823b19bbe337aa3abff",
         "2020-06-10T04:06:09.000+0000",
         "impression",
         "Search Engine Marketing",
         0
        ],
        [
         "17b34a8a50b54790b7fbc1dfc89ea9fd",
         "2020-05-19T15:56:51.000+0000",
         "impression",
         "Google Display Network",
         0
        ],
        [
         "17b34a8a50b54790b7fbc1dfc89ea9fd",
         "2020-05-30T13:02:47.000+0000",
         "impression",
         "Affiliates",
         0
        ],
        [
         "17b34a8a50b54790b7fbc1dfc89ea9fd",
         "2020-06-05T18:03:39.000+0000",
         "impression",
         "Google Display Network",
         0
        ],
        [
         "17b34a8a50b54790b7fbc1dfc89ea9fd",
         "2020-06-06T03:45:56.000+0000",
         "impression",
         "Google Display Network",
         0
        ],
        [
         "17b34a8a50b54790b7fbc1dfc89ea9fd",
         "2020-06-09T09:19:32.000+0000",
         "impression",
         "Affiliates",
         0
        ],
        [
         "17b34a8a50b54790b7fbc1dfc89ea9fd",
         "2020-06-09T12:22:26.000+0000",
         "impression",
         "Search Engine Marketing",
         0
        ],
        [
         "17b34a8a50b54790b7fbc1dfc89ea9fd",
         "2020-06-09T22:12:02.000+0000",
         "impression",
         "Google Display Network",
         0
        ],
        [
         "17b34a8a50b54790b7fbc1dfc89ea9fd",
         "2020-06-09T23:16:25.000+0000",
         "impression",
         "Google Display Network",
         0
        ],
        [
         "5b9e922bafe947a18675a9defb0ab8f6",
         "2020-05-30T17:56:16.000+0000",
         "impression",
         "Social Network",
         0
        ],
        [
         "5b9e922bafe947a18675a9defb0ab8f6",
         "2020-06-09T03:14:35.000+0000",
         "impression",
         "Google Display Network",
         0
        ],
        [
         "8099904277484b6aa2714382c7b7010c",
         "2020-06-09T10:20:13.000+0000",
         "impression",
         "Google Display Network",
         0
        ],
        [
         "8099904277484b6aa2714382c7b7010c",
         "2020-06-09T11:53:02.000+0000",
         "impression",
         "Google Display Network",
         0
        ],
        [
         "8099904277484b6aa2714382c7b7010c",
         "2020-06-09T23:20:11.000+0000",
         "impression",
         "Google Display Network",
         0
        ],
        [
         "8099904277484b6aa2714382c7b7010c",
         "2020-06-10T04:07:44.000+0000",
         "impression",
         "Social Network",
         0
        ],
        [
         "ce2fc5a14022407984862466354f3a94",
         "2020-05-19T19:52:52.000+0000",
         "impression",
         "Search Engine Marketing",
         0
        ],
        [
         "ce2fc5a14022407984862466354f3a94",
         "2020-05-21T03:26:16.000+0000",
         "impression",
         "Search Engine Marketing",
         0
        ],
        [
         "ce2fc5a14022407984862466354f3a94",
         "2020-05-25T16:43:17.000+0000",
         "impression",
         "Affiliates",
         0
        ],
        [
         "ce2fc5a14022407984862466354f3a94",
         "2020-06-01T21:19:41.000+0000",
         "impression",
         "Social Network",
         0
        ],
        [
         "ce2fc5a14022407984862466354f3a94",
         "2020-06-04T06:32:03.000+0000",
         "impression",
         "Social Network",
         0
        ],
        [
         "ce2fc5a14022407984862466354f3a94",
         "2020-06-08T18:50:00.000+0000",
         "impression",
         "Search Engine Marketing",
         0
        ],
        [
         "ce2fc5a14022407984862466354f3a94",
         "2020-06-09T16:19:49.000+0000",
         "impression",
         "Social Network",
         0
        ],
        [
         "ce2fc5a14022407984862466354f3a94",
         "2020-06-10T01:51:15.000+0000",
         "impression",
         "Email",
         0
        ],
        [
         "ce2fc5a14022407984862466354f3a94",
         "2020-06-10T03:05:02.000+0000",
         "impression",
         "Search Engine Marketing",
         0
        ],
        [
         "359b2ccf38494916872db8967a664d67",
         "2020-05-25T11:23:11.000+0000",
         "impression",
         "Social Network",
         0
        ],
        [
         "359b2ccf38494916872db8967a664d67",
         "2020-05-30T20:31:04.000+0000",
         "impression",
         "Search Engine Marketing",
         0
        ],
        [
         "359b2ccf38494916872db8967a664d67",
         "2020-05-31T04:48:25.000+0000",
         "impression",
         "Social Network",
         0
        ],
        [
         "359b2ccf38494916872db8967a664d67",
         "2020-06-02T15:56:31.000+0000",
         "impression",
         "Search Engine Marketing",
         0
        ],
        [
         "359b2ccf38494916872db8967a664d67",
         "2020-06-05T15:44:16.000+0000",
         "impression",
         "Social Network",
         0
        ],
        [
         "359b2ccf38494916872db8967a664d67",
         "2020-06-06T03:57:58.000+0000",
         "impression",
         "Search Engine Marketing",
         0
        ],
        [
         "359b2ccf38494916872db8967a664d67",
         "2020-06-08T15:36:56.000+0000",
         "impression",
         "Affiliates",
         0
        ],
        [
         "359b2ccf38494916872db8967a664d67",
         "2020-06-09T15:49:25.000+0000",
         "impression",
         "Google Display Network",
         0
        ],
        [
         "6c9b2d2798054bdabf15634ca253ae0f",
         "2020-05-22T11:41:46.000+0000",
         "impression",
         "Social Network",
         0
        ],
        [
         "3760e41643c4419292c61c238c82e988",
         "2020-06-09T22:07:06.000+0000",
         "impression",
         "Social Network",
         0
        ],
        [
         "3760e41643c4419292c61c238c82e988",
         "2020-06-09T23:27:26.000+0000",
         "impression",
         "Search Engine Marketing",
         0
        ],
        [
         "3760e41643c4419292c61c238c82e988",
         "2020-06-10T00:00:29.000+0000",
         "impression",
         "Search Engine Marketing",
         0
        ],
        [
         "3760e41643c4419292c61c238c82e988",
         "2020-06-10T03:56:54.000+0000",
         "impression",
         "Search Engine Marketing",
         0
        ],
        [
         "3760e41643c4419292c61c238c82e988",
         "2020-06-10T04:25:40.000+0000",
         "impression",
         "Affiliates",
         0
        ],
        [
         "3760e41643c4419292c61c238c82e988",
         "2020-06-10T04:34:46.000+0000",
         "impression",
         "Search Engine Marketing",
         0
        ],
        [
         "567a998a63b947fd8bd5593b3f2a53a7",
         "2020-05-19T19:39:32.000+0000",
         "impression",
         "Social Network",
         0
        ],
        [
         "567a998a63b947fd8bd5593b3f2a53a7",
         "2020-05-23T02:45:46.000+0000",
         "impression",
         "Search Engine Marketing",
         0
        ],
        [
         "567a998a63b947fd8bd5593b3f2a53a7",
         "2020-06-03T13:40:54.000+0000",
         "impression",
         "Affiliates",
         0
        ],
        [
         "567a998a63b947fd8bd5593b3f2a53a7",
         "2020-06-09T06:52:54.000+0000",
         "impression",
         "Google Display Network",
         0
        ],
        [
         "567a998a63b947fd8bd5593b3f2a53a7",
         "2020-06-09T07:31:59.000+0000",
         "impression",
         "Search Engine Marketing",
         0
        ],
        [
         "2dc580c5216a4aa59e39626cec85b5d5",
         "2020-05-17T17:03:35.000+0000",
         "impression",
         "Affiliates",
         0
        ],
        [
         "2dc580c5216a4aa59e39626cec85b5d5",
         "2020-05-24T04:02:59.000+0000",
         "impression",
         "Social Network",
         0
        ],
        [
         "2dc580c5216a4aa59e39626cec85b5d5",
         "2020-06-08T06:27:10.000+0000",
         "impression",
         "Search Engine Marketing",
         0
        ],
        [
         "2dc580c5216a4aa59e39626cec85b5d5",
         "2020-06-08T21:03:54.000+0000",
         "impression",
         "Affiliates",
         0
        ],
        [
         "2dc580c5216a4aa59e39626cec85b5d5",
         "2020-06-09T16:46:07.000+0000",
         "impression",
         "Search Engine Marketing",
         0
        ],
        [
         "2dc580c5216a4aa59e39626cec85b5d5",
         "2020-06-10T02:33:47.000+0000",
         "impression",
         "Search Engine Marketing",
         0
        ],
        [
         "2dc580c5216a4aa59e39626cec85b5d5",
         "2020-06-10T03:11:02.000+0000",
         "impression",
         "Social Network",
         0
        ],
        [
         "2dc580c5216a4aa59e39626cec85b5d5",
         "2020-06-10T03:13:13.000+0000",
         "impression",
         "Search Engine Marketing",
         0
        ],
        [
         "fa4d571488d943d4a3d47dd4b9b4d290",
         "2020-06-03T04:49:27.000+0000",
         "impression",
         "Google Display Network",
         0
        ],
        [
         "fa4d571488d943d4a3d47dd4b9b4d290",
         "2020-06-08T08:54:17.000+0000",
         "impression",
         "Affiliates",
         0
        ],
        [
         "fa4d571488d943d4a3d47dd4b9b4d290",
         "2020-06-09T20:18:39.000+0000",
         "impression",
         "Google Display Network",
         0
        ],
        [
         "fa4d571488d943d4a3d47dd4b9b4d290",
         "2020-06-10T03:27:04.000+0000",
         "impression",
         "Affiliates",
         0
        ],
        [
         "fa4d571488d943d4a3d47dd4b9b4d290",
         "2020-06-10T04:18:00.000+0000",
         "impression",
         "Affiliates",
         0
        ],
        [
         "fa4d571488d943d4a3d47dd4b9b4d290",
         "2020-06-10T04:28:36.000+0000",
         "impression",
         "Search Engine Marketing",
         0
        ],
        [
         "fa4d571488d943d4a3d47dd4b9b4d290",
         "2020-06-10T04:37:00.000+0000",
         "impression",
         "Social Network",
         0
        ],
        [
         "10a3968a68c541ca93d990d9a4c04d31",
         "2020-05-24T19:57:42.000+0000",
         "impression",
         "Email",
         0
        ],
        [
         "10a3968a68c541ca93d990d9a4c04d31",
         "2020-05-27T21:43:46.000+0000",
         "conversion",
         "Affiliates",
         1
        ],
        [
         "630684d85715497d9a39252327dd7ec0",
         "2020-05-22T02:01:28.000+0000",
         "impression",
         "Google Display Network",
         0
        ],
        [
         "630684d85715497d9a39252327dd7ec0",
         "2020-06-04T20:54:23.000+0000",
         "impression",
         "Search Engine Marketing",
         0
        ],
        [
         "630684d85715497d9a39252327dd7ec0",
         "2020-06-09T11:23:54.000+0000",
         "impression",
         "Google Display Network",
         0
        ],
        [
         "630684d85715497d9a39252327dd7ec0",
         "2020-06-10T00:28:19.000+0000",
         "impression",
         "Email",
         0
        ],
        [
         "630684d85715497d9a39252327dd7ec0",
         "2020-06-10T03:01:00.000+0000",
         "impression",
         "Affiliates",
         0
        ],
        [
         "630684d85715497d9a39252327dd7ec0",
         "2020-06-10T03:35:12.000+0000",
         "impression",
         "Affiliates",
         0
        ],
        [
         "630684d85715497d9a39252327dd7ec0",
         "2020-06-10T03:56:46.000+0000",
         "impression",
         "Social Network",
         0
        ],
        [
         "630684d85715497d9a39252327dd7ec0",
         "2020-06-10T04:36:50.000+0000",
         "impression",
         "Social Network",
         0
        ],
        [
         "fab77f24609a4d4cb020c3951f425ed7",
         "2020-06-02T04:35:24.000+0000",
         "impression",
         "Search Engine Marketing",
         0
        ],
        [
         "fab77f24609a4d4cb020c3951f425ed7",
         "2020-06-07T06:43:12.000+0000",
         "impression",
         "Email",
         0
        ],
        [
         "fab77f24609a4d4cb020c3951f425ed7",
         "2020-06-09T04:05:21.000+0000",
         "impression",
         "Search Engine Marketing",
         0
        ],
        [
         "fab77f24609a4d4cb020c3951f425ed7",
         "2020-06-09T09:10:04.000+0000",
         "conversion",
         "Affiliates",
         1
        ],
        [
         "45277e1a7d64411dad8afca5ffe04121",
         "2020-06-05T02:49:59.000+0000",
         "impression",
         "Affiliates",
         0
        ],
        [
         "45277e1a7d64411dad8afca5ffe04121",
         "2020-06-07T09:58:28.000+0000",
         "impression",
         "Search Engine Marketing",
         0
        ],
        [
         "45277e1a7d64411dad8afca5ffe04121",
         "2020-06-08T23:14:48.000+0000",
         "impression",
         "Search Engine Marketing",
         0
        ],
        [
         "45277e1a7d64411dad8afca5ffe04121",
         "2020-06-09T07:19:38.000+0000",
         "impression",
         "Search Engine Marketing",
         0
        ],
        [
         "45277e1a7d64411dad8afca5ffe04121",
         "2020-06-10T04:31:30.000+0000",
         "impression",
         "Affiliates",
         0
        ],
        [
         "7d2b95be8850465bbd3cb32884ad2ea9",
         "2020-05-26T05:54:25.000+0000",
         "impression",
         "Social Network",
         0
        ],
        [
         "7d2b95be8850465bbd3cb32884ad2ea9",
         "2020-06-07T21:32:19.000+0000",
         "impression",
         "Affiliates",
         0
        ],
        [
         "7d2b95be8850465bbd3cb32884ad2ea9",
         "2020-06-09T07:53:35.000+0000",
         "impression",
         "Search Engine Marketing",
         0
        ],
        [
         "7d2b95be8850465bbd3cb32884ad2ea9",
         "2020-06-09T10:33:31.000+0000",
         "impression",
         "Social Network",
         0
        ],
        [
         "7d2b95be8850465bbd3cb32884ad2ea9",
         "2020-06-09T21:20:40.000+0000",
         "impression",
         "Google Display Network",
         0
        ],
        [
         "7d2b95be8850465bbd3cb32884ad2ea9",
         "2020-06-10T03:25:48.000+0000",
         "impression",
         "Search Engine Marketing",
         0
        ],
        [
         "7d2b95be8850465bbd3cb32884ad2ea9",
         "2020-06-10T04:00:51.000+0000",
         "impression",
         "Affiliates",
         0
        ],
        [
         "7d2b95be8850465bbd3cb32884ad2ea9",
         "2020-06-10T04:16:18.000+0000",
         "impression",
         "Affiliates",
         0
        ],
        [
         "7d2b95be8850465bbd3cb32884ad2ea9",
         "2020-06-10T04:44:22.000+0000",
         "impression",
         "Affiliates",
         0
        ],
        [
         "56019cdc63c6480d9eb4048d5cbc4601",
         "2020-06-04T10:37:08.000+0000",
         "impression",
         "Google Display Network",
         0
        ],
        [
         "56019cdc63c6480d9eb4048d5cbc4601",
         "2020-06-08T06:27:39.000+0000",
         "impression",
         "Affiliates",
         0
        ],
        [
         "dfd71bc3e81e4802834aad58d324cbae",
         "2020-05-21T05:39:11.000+0000",
         "impression",
         "Social Network",
         0
        ],
        [
         "dfd71bc3e81e4802834aad58d324cbae",
         "2020-06-04T06:14:25.000+0000",
         "impression",
         "Affiliates",
         0
        ],
        [
         "dfd71bc3e81e4802834aad58d324cbae",
         "2020-06-05T23:07:34.000+0000",
         "impression",
         "Social Network",
         0
        ],
        [
         "dfd71bc3e81e4802834aad58d324cbae",
         "2020-06-08T03:31:20.000+0000",
         "impression",
         "Social Network",
         0
        ],
        [
         "dfd71bc3e81e4802834aad58d324cbae",
         "2020-06-08T21:07:10.000+0000",
         "impression",
         "Google Display Network",
         0
        ],
        [
         "dfd71bc3e81e4802834aad58d324cbae",
         "2020-06-09T04:29:11.000+0000",
         "impression",
         "Affiliates",
         0
        ],
        [
         "bfc7e35dca3a49bfadd2d4311fbb7ed7",
         "2020-06-06T03:06:21.000+0000",
         "impression",
         "Search Engine Marketing",
         0
        ],
        [
         "1aa988bcc45643aa8af5e3890ca2c70b",
         "2020-06-03T15:48:14.000+0000",
         "impression",
         "Search Engine Marketing",
         0
        ],
        [
         "1aa988bcc45643aa8af5e3890ca2c70b",
         "2020-06-06T01:11:36.000+0000",
         "impression",
         "Google Display Network",
         0
        ],
        [
         "1aa988bcc45643aa8af5e3890ca2c70b",
         "2020-06-06T10:12:47.000+0000",
         "impression",
         "Google Display Network",
         0
        ],
        [
         "1aa988bcc45643aa8af5e3890ca2c70b",
         "2020-06-10T03:07:42.000+0000",
         "impression",
         "Search Engine Marketing",
         0
        ],
        [
         "1aa988bcc45643aa8af5e3890ca2c70b",
         "2020-06-10T03:21:57.000+0000",
         "impression",
         "Affiliates",
         0
        ],
        [
         "1aa988bcc45643aa8af5e3890ca2c70b",
         "2020-06-10T04:48:29.000+0000",
         "impression",
         "Google Display Network",
         0
        ],
        [
         "da42e77d71b44c08a9b9d71897cf2ce8",
         "2020-05-27T10:50:20.000+0000",
         "impression",
         "Google Display Network",
         0
        ],
        [
         "da42e77d71b44c08a9b9d71897cf2ce8",
         "2020-05-29T16:47:55.000+0000",
         "impression",
         "Social Network",
         0
        ],
        [
         "da42e77d71b44c08a9b9d71897cf2ce8",
         "2020-06-03T04:43:25.000+0000",
         "impression",
         "Search Engine Marketing",
         0
        ],
        [
         "b47473a797a946508a3fe942ec0de7a5",
         "2020-05-18T15:27:40.000+0000",
         "impression",
         "Search Engine Marketing",
         0
        ],
        [
         "b47473a797a946508a3fe942ec0de7a5",
         "2020-06-02T02:22:20.000+0000",
         "impression",
         "Affiliates",
         0
        ],
        [
         "b47473a797a946508a3fe942ec0de7a5",
         "2020-06-03T18:42:36.000+0000",
         "impression",
         "Affiliates",
         0
        ],
        [
         "b47473a797a946508a3fe942ec0de7a5",
         "2020-06-06T06:48:41.000+0000",
         "impression",
         "Search Engine Marketing",
         0
        ],
        [
         "b47473a797a946508a3fe942ec0de7a5",
         "2020-06-09T23:15:39.000+0000",
         "impression",
         "Search Engine Marketing",
         0
        ],
        [
         "b47473a797a946508a3fe942ec0de7a5",
         "2020-06-09T23:17:36.000+0000",
         "impression",
         "Search Engine Marketing",
         0
        ],
        [
         "b47473a797a946508a3fe942ec0de7a5",
         "2020-06-10T00:33:28.000+0000",
         "impression",
         "Social Network",
         0
        ],
        [
         "b47473a797a946508a3fe942ec0de7a5",
         "2020-06-10T04:49:16.000+0000",
         "impression",
         "Google Display Network",
         0
        ],
        [
         "b47473a797a946508a3fe942ec0de7a5",
         "2020-06-10T04:49:28.000+0000",
         "impression",
         "Search Engine Marketing",
         0
        ],
        [
         "9756c6424f67479e8ef524d19b9d1972",
         "2020-05-25T02:57:42.000+0000",
         "impression",
         "Search Engine Marketing",
         0
        ],
        [
         "9756c6424f67479e8ef524d19b9d1972",
         "2020-05-25T04:40:22.000+0000",
         "impression",
         "Affiliates",
         0
        ],
        [
         "9756c6424f67479e8ef524d19b9d1972",
         "2020-06-02T01:58:23.000+0000",
         "impression",
         "Affiliates",
         0
        ],
        [
         "3fd3e568602c43eeae7a5a428c4d959f",
         "2020-06-04T15:33:38.000+0000",
         "impression",
         "Affiliates",
         0
        ],
        [
         "3fd3e568602c43eeae7a5a428c4d959f",
         "2020-06-09T12:12:14.000+0000",
         "impression",
         "Search Engine Marketing",
         0
        ],
        [
         "3fd3e568602c43eeae7a5a428c4d959f",
         "2020-06-09T17:59:57.000+0000",
         "impression",
         "Search Engine Marketing",
         0
        ],
        [
         "3fd3e568602c43eeae7a5a428c4d959f",
         "2020-06-10T03:11:19.000+0000",
         "impression",
         "Affiliates",
         0
        ],
        [
         "3fd3e568602c43eeae7a5a428c4d959f",
         "2020-06-10T04:23:55.000+0000",
         "impression",
         "Search Engine Marketing",
         0
        ],
        [
         "3fd3e568602c43eeae7a5a428c4d959f",
         "2020-06-10T04:39:13.000+0000",
         "impression",
         "Search Engine Marketing",
         0
        ],
        [
         "88e9130079f340cbb60b9585bb52f5c4",
         "2020-05-19T11:54:36.000+0000",
         "impression",
         "Email",
         0
        ],
        [
         "88e9130079f340cbb60b9585bb52f5c4",
         "2020-05-25T12:47:40.000+0000",
         "impression",
         "Search Engine Marketing",
         0
        ],
        [
         "65998264da5a40899702bf70becab029",
         "2020-06-01T21:49:13.000+0000",
         "impression",
         "Affiliates",
         0
        ],
        [
         "65998264da5a40899702bf70becab029",
         "2020-06-07T05:00:23.000+0000",
         "impression",
         "Social Network",
         0
        ],
        [
         "65998264da5a40899702bf70becab029",
         "2020-06-09T02:10:25.000+0000",
         "impression",
         "Search Engine Marketing",
         0
        ],
        [
         "65998264da5a40899702bf70becab029",
         "2020-06-09T22:18:05.000+0000",
         "impression",
         "Social Network",
         0
        ],
        [
         "65998264da5a40899702bf70becab029",
         "2020-06-10T00:03:37.000+0000",
         "impression",
         "Affiliates",
         0
        ],
        [
         "65998264da5a40899702bf70becab029",
         "2020-06-10T02:43:37.000+0000",
         "impression",
         "Social Network",
         0
        ],
        [
         "65998264da5a40899702bf70becab029",
         "2020-06-10T04:32:50.000+0000",
         "impression",
         "Affiliates",
         0
        ],
        [
         "bd71418419254346ae8051ff01a19054",
         "2020-06-09T09:14:58.000+0000",
         "impression",
         "Affiliates",
         0
        ],
        [
         "bd71418419254346ae8051ff01a19054",
         "2020-06-10T00:25:41.000+0000",
         "impression",
         "Affiliates",
         0
        ],
        [
         "bd71418419254346ae8051ff01a19054",
         "2020-06-10T01:23:12.000+0000",
         "impression",
         "Email",
         0
        ],
        [
         "bd71418419254346ae8051ff01a19054",
         "2020-06-10T04:25:49.000+0000",
         "impression",
         "Search Engine Marketing",
         0
        ],
        [
         "bd71418419254346ae8051ff01a19054",
         "2020-06-10T04:29:41.000+0000",
         "impression",
         "Social Network",
         0
        ],
        [
         "bd71418419254346ae8051ff01a19054",
         "2020-06-10T04:43:18.000+0000",
         "impression",
         "Affiliates",
         0
        ],
        [
         "bd71418419254346ae8051ff01a19054",
         "2020-06-10T04:43:37.000+0000",
         "conversion",
         "Affiliates",
         1
        ],
        [
         "d4bec61b716e4171a50ac67c929c8298",
         "2020-06-01T04:34:00.000+0000",
         "impression",
         "Google Display Network",
         0
        ],
        [
         "d4bec61b716e4171a50ac67c929c8298",
         "2020-06-08T23:06:16.000+0000",
         "impression",
         "Affiliates",
         0
        ],
        [
         "d4bec61b716e4171a50ac67c929c8298",
         "2020-06-09T20:59:19.000+0000",
         "impression",
         "Affiliates",
         0
        ],
        [
         "7189fc22da00437295ad85751ba8e034",
         "2020-05-20T18:31:07.000+0000",
         "impression",
         "Social Network",
         0
        ],
        [
         "7189fc22da00437295ad85751ba8e034",
         "2020-05-28T10:06:28.000+0000",
         "impression",
         "Social Network",
         0
        ],
        [
         "7189fc22da00437295ad85751ba8e034",
         "2020-05-30T15:12:53.000+0000",
         "impression",
         "Search Engine Marketing",
         0
        ],
        [
         "7189fc22da00437295ad85751ba8e034",
         "2020-05-30T17:40:18.000+0000",
         "impression",
         "Social Network",
         0
        ],
        [
         "7189fc22da00437295ad85751ba8e034",
         "2020-06-03T19:25:08.000+0000",
         "impression",
         "Google Display Network",
         0
        ],
        [
         "5ab743b06ed246ca94bfeb7a159b795c",
         "2020-05-31T03:29:55.000+0000",
         "impression",
         "Search Engine Marketing",
         0
        ],
        [
         "5ab743b06ed246ca94bfeb7a159b795c",
         "2020-06-10T00:49:20.000+0000",
         "impression",
         "Search Engine Marketing",
         0
        ],
        [
         "ab6ea30b789b4211a06cb40af48ce7bb",
         "2020-05-18T22:57:00.000+0000",
         "impression",
         "Social Network",
         0
        ],
        [
         "ab6ea30b789b4211a06cb40af48ce7bb",
         "2020-05-20T15:58:07.000+0000",
         "impression",
         "Affiliates",
         0
        ],
        [
         "ab6ea30b789b4211a06cb40af48ce7bb",
         "2020-05-23T07:12:19.000+0000",
         "impression",
         "Affiliates",
         0
        ],
        [
         "ab6ea30b789b4211a06cb40af48ce7bb",
         "2020-05-24T23:12:16.000+0000",
         "impression",
         "Social Network",
         0
        ],
        [
         "ab6ea30b789b4211a06cb40af48ce7bb",
         "2020-05-25T08:33:51.000+0000",
         "impression",
         "Social Network",
         0
        ],
        [
         "ab6ea30b789b4211a06cb40af48ce7bb",
         "2020-06-08T08:17:41.000+0000",
         "impression",
         "Social Network",
         0
        ],
        [
         "6da124384acc4bee81ef96021877b847",
         "2020-05-26T21:12:39.000+0000",
         "impression",
         "Affiliates",
         0
        ],
        [
         "6da124384acc4bee81ef96021877b847",
         "2020-06-02T21:09:25.000+0000",
         "impression",
         "Search Engine Marketing",
         0
        ],
        [
         "6da124384acc4bee81ef96021877b847",
         "2020-06-08T18:26:07.000+0000",
         "impression",
         "Search Engine Marketing",
         0
        ],
        [
         "6da124384acc4bee81ef96021877b847",
         "2020-06-09T05:19:22.000+0000",
         "impression",
         "Search Engine Marketing",
         0
        ],
        [
         "6da124384acc4bee81ef96021877b847",
         "2020-06-09T09:00:31.000+0000",
         "conversion",
         "Affiliates",
         1
        ],
        [
         "f794bea68ae44cb2a3ba0565d3d08115",
         "2020-06-08T00:07:20.000+0000",
         "impression",
         "Affiliates",
         0
        ],
        [
         "f794bea68ae44cb2a3ba0565d3d08115",
         "2020-06-08T13:36:55.000+0000",
         "impression",
         "Search Engine Marketing",
         0
        ],
        [
         "f794bea68ae44cb2a3ba0565d3d08115",
         "2020-06-09T06:57:12.000+0000",
         "impression",
         "Google Display Network",
         0
        ],
        [
         "f794bea68ae44cb2a3ba0565d3d08115",
         "2020-06-09T13:23:19.000+0000",
         "impression",
         "Google Display Network",
         0
        ],
        [
         "f794bea68ae44cb2a3ba0565d3d08115",
         "2020-06-09T15:02:08.000+0000",
         "impression",
         "Search Engine Marketing",
         0
        ],
        [
         "83dd3a41b98742acb78847066733e8b5",
         "2020-05-26T13:28:30.000+0000",
         "impression",
         "Google Display Network",
         0
        ],
        [
         "83dd3a41b98742acb78847066733e8b5",
         "2020-06-04T11:25:44.000+0000",
         "impression",
         "Affiliates",
         0
        ],
        [
         "83dd3a41b98742acb78847066733e8b5",
         "2020-06-08T06:10:04.000+0000",
         "impression",
         "Search Engine Marketing",
         0
        ],
        [
         "83dd3a41b98742acb78847066733e8b5",
         "2020-06-09T00:34:42.000+0000",
         "impression",
         "Google Display Network",
         0
        ],
        [
         "83dd3a41b98742acb78847066733e8b5",
         "2020-06-09T13:45:07.000+0000",
         "impression",
         "Search Engine Marketing",
         0
        ],
        [
         "83dd3a41b98742acb78847066733e8b5",
         "2020-06-10T00:10:56.000+0000",
         "impression",
         "Affiliates",
         0
        ],
        [
         "83dd3a41b98742acb78847066733e8b5",
         "2020-06-10T01:46:16.000+0000",
         "impression",
         "Affiliates",
         0
        ],
        [
         "83dd3a41b98742acb78847066733e8b5",
         "2020-06-10T02:49:51.000+0000",
         "conversion",
         "Social Network",
         1
        ],
        [
         "931071e36d1945c1b3e04c03617701b0",
         "2020-06-01T02:32:35.000+0000",
         "impression",
         "Social Network",
         0
        ],
        [
         "931071e36d1945c1b3e04c03617701b0",
         "2020-06-04T21:57:07.000+0000",
         "impression",
         "Affiliates",
         0
        ],
        [
         "931071e36d1945c1b3e04c03617701b0",
         "2020-06-09T10:32:08.000+0000",
         "impression",
         "Search Engine Marketing",
         0
        ],
        [
         "931071e36d1945c1b3e04c03617701b0",
         "2020-06-09T13:58:41.000+0000",
         "impression",
         "Search Engine Marketing",
         0
        ],
        [
         "931071e36d1945c1b3e04c03617701b0",
         "2020-06-10T00:24:57.000+0000",
         "impression",
         "Google Display Network",
         0
        ],
        [
         "931071e36d1945c1b3e04c03617701b0",
         "2020-06-10T02:50:04.000+0000",
         "impression",
         "Affiliates",
         0
        ],
        [
         "931071e36d1945c1b3e04c03617701b0",
         "2020-06-10T03:44:47.000+0000",
         "impression",
         "Google Display Network",
         0
        ],
        [
         "931071e36d1945c1b3e04c03617701b0",
         "2020-06-10T04:39:28.000+0000",
         "conversion",
         "Affiliates",
         1
        ],
        [
         "10c1f990ce764cb6a2c68b1437929066",
         "2020-05-19T08:37:41.000+0000",
         "conversion",
         "Affiliates",
         1
        ],
        [
         "5a1ff5ef541a44e9a03e210b502b4e09",
         "2020-05-27T06:34:53.000+0000",
         "impression",
         "Search Engine Marketing",
         0
        ],
        [
         "5a1ff5ef541a44e9a03e210b502b4e09",
         "2020-06-06T00:55:30.000+0000",
         "impression",
         "Social Network",
         0
        ],
        [
         "5a1ff5ef541a44e9a03e210b502b4e09",
         "2020-06-10T04:12:00.000+0000",
         "impression",
         "Search Engine Marketing",
         0
        ],
        [
         "5a1ff5ef541a44e9a03e210b502b4e09",
         "2020-06-10T04:14:33.000+0000",
         "impression",
         "Social Network",
         0
        ],
        [
         "e07d8aa2acc44dbba1363a6b1cac25b8",
         "2020-05-17T20:58:41.000+0000",
         "impression",
         "Affiliates",
         0
        ],
        [
         "e07d8aa2acc44dbba1363a6b1cac25b8",
         "2020-05-19T12:00:16.000+0000",
         "impression",
         "Search Engine Marketing",
         0
        ],
        [
         "e07d8aa2acc44dbba1363a6b1cac25b8",
         "2020-05-23T12:31:03.000+0000",
         "impression",
         "Affiliates",
         0
        ],
        [
         "e07d8aa2acc44dbba1363a6b1cac25b8",
         "2020-05-24T02:51:20.000+0000",
         "impression",
         "Google Display Network",
         0
        ],
        [
         "e07d8aa2acc44dbba1363a6b1cac25b8",
         "2020-05-27T09:32:07.000+0000",
         "impression",
         "Search Engine Marketing",
         0
        ],
        [
         "e07d8aa2acc44dbba1363a6b1cac25b8",
         "2020-06-07T23:42:38.000+0000",
         "impression",
         "Search Engine Marketing",
         0
        ],
        [
         "e07d8aa2acc44dbba1363a6b1cac25b8",
         "2020-06-09T03:10:45.000+0000",
         "impression",
         "Google Display Network",
         0
        ],
        [
         "2c37346fff534daa83f0ea23d242e860",
         "2020-06-03T14:17:42.000+0000",
         "impression",
         "Affiliates",
         0
        ],
        [
         "2c37346fff534daa83f0ea23d242e860",
         "2020-06-05T19:35:56.000+0000",
         "impression",
         "Affiliates",
         0
        ],
        [
         "2c37346fff534daa83f0ea23d242e860",
         "2020-06-06T16:40:33.000+0000",
         "impression",
         "Affiliates",
         0
        ],
        [
         "2c37346fff534daa83f0ea23d242e860",
         "2020-06-09T13:15:42.000+0000",
         "impression",
         "Affiliates",
         0
        ],
        [
         "2c37346fff534daa83f0ea23d242e860",
         "2020-06-09T15:14:33.000+0000",
         "impression",
         "Social Network",
         0
        ],
        [
         "2c37346fff534daa83f0ea23d242e860",
         "2020-06-09T17:27:46.000+0000",
         "impression",
         "Affiliates",
         0
        ],
        [
         "2c37346fff534daa83f0ea23d242e860",
         "2020-06-09T17:40:35.000+0000",
         "impression",
         "Search Engine Marketing",
         0
        ],
        [
         "e762032e1ea14a139218dbcf05aa50a5",
         "2020-05-19T15:27:09.000+0000",
         "impression",
         "Google Display Network",
         0
        ],
        [
         "e762032e1ea14a139218dbcf05aa50a5",
         "2020-05-26T02:13:37.000+0000",
         "impression",
         "Affiliates",
         0
        ],
        [
         "e762032e1ea14a139218dbcf05aa50a5",
         "2020-05-28T20:41:20.000+0000",
         "impression",
         "Google Display Network",
         0
        ],
        [
         "e762032e1ea14a139218dbcf05aa50a5",
         "2020-06-05T04:34:16.000+0000",
         "impression",
         "Affiliates",
         0
        ],
        [
         "e762032e1ea14a139218dbcf05aa50a5",
         "2020-06-08T06:18:39.000+0000",
         "impression",
         "Affiliates",
         0
        ],
        [
         "e762032e1ea14a139218dbcf05aa50a5",
         "2020-06-08T21:14:38.000+0000",
         "impression",
         "Search Engine Marketing",
         0
        ],
        [
         "e762032e1ea14a139218dbcf05aa50a5",
         "2020-06-09T08:24:22.000+0000",
         "impression",
         "Social Network",
         0
        ],
        [
         "d2f0b44ebd79427eafa50779d6728828",
         "2020-06-01T01:22:03.000+0000",
         "impression",
         "Affiliates",
         0
        ]
       ],
       "datasetInfos": [],
       "dbfsResultPath": null,
       "isJsonSchema": true,
       "metadata": {},
       "overflow": true,
       "plotOptions": {
        "customPlotOptions": {},
        "displayType": "table",
        "pivotAggregation": null,
        "pivotColumns": null,
        "xColumns": null,
        "yColumns": null
       },
       "removedWidgets": [],
       "schema": [
        {
         "metadata": "{}",
         "name": "uid",
         "type": "\"string\""
        },
        {
         "metadata": "{}",
         "name": "time",
         "type": "\"timestamp\""
        },
        {
         "metadata": "{}",
         "name": "interaction",
         "type": "\"string\""
        },
        {
         "metadata": "{}",
         "name": "channel",
         "type": "\"string\""
        },
        {
         "metadata": "{}",
         "name": "conversion",
         "type": "\"integer\""
        }
       ],
       "type": "table"
      }
     },
     "output_type": "display_data"
    }
   ],
   "source": [
    "%sql\n",
    "\n",
    "select * from MultiTouch.bronze"
   ]
  }
 ],
 "metadata": {
  "application/vnd.databricks.v1+notebook": {
   "dashboards": [],
   "language": "python",
   "notebookMetadata": {
    "pythonIndentUnit": 2
   },
   "notebookName": "02_load_data",
   "widgets": {}
  }
 },
 "nbformat": 4,
 "nbformat_minor": 0
}
