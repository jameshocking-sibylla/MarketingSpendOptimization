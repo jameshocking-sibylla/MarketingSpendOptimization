{
 "cells": [
  {
   "cell_type": "markdown",
   "metadata": {
    "application/vnd.databricks.v1+cell": {
     "cellMetadata": {},
     "inputWidgets": {},
     "nuid": "5eae5a04-fd34-4c55-96eb-a8dca92529d4",
     "showTitle": false,
     "title": ""
    }
   },
   "source": [
    "# Experiment: Multi-Touch Customer Analysis\n",
    "## Overview\n",
    "\n",
    "Behind the growth of every consumer-facing product is the acquisition and retention of an engaged user base. When it comes to acquisition, the goal is to attract high quality users as cost effectively as possible. With marketing dollars dispersed across a wide array of campaigns, channels, and creatives, however, measuring effectiveness is a challenge. In other words, it's difficult to know how to assign credit where credit is due. Enter multi-touch attribution. With multi-touch attribution, credit can be assigned in a variety of ways, but at a high-level, it's typically done using one of two methods: `heuristic` or `data-driven`.\n",
    "\n",
    "* Broadly speaking, heuristic methods are rule-based and consist of both `single-touch` and `multi-touch` approaches. Single-touch methods, such as `first-touch` and `last-touch`, assign credit to the first channel, or the last channel, associated with a conversion. Multi-touch methods, such as `linear` and `time-decay`, assign credit to multiple channels associated with a conversion. In the case of linear, credit is assigned uniformly across all channels, whereas for time-decay, an increasing amount of credit is assigned to the channels that appear closer in time to the conversion event.\n",
    "\n",
    "* In contrast to heuristic methods, data-driven methods determine assignment using probabilites and statistics. Examples of data-driven methods include `Markov Chains` and `SHAP`. In this series of notebooks, we cover the use of Markov Chains and include a comparison to a few heuristic methods."
   ]
  },
  {
   "cell_type": "markdown",
   "metadata": {
    "application/vnd.databricks.v1+cell": {
     "cellMetadata": {},
     "inputWidgets": {},
     "nuid": "137adcfa-d004-4e68-a2d5-e49098e9b09e",
     "showTitle": false,
     "title": ""
    }
   },
   "source": [
    "## Now\n",
    "\n",
    "We are currently working with the marketing organisation to obtain real-data.  This notebook is currently experimenting on the process of multi-touch analysis using fabricated data.  As soon as we have the real-time, we'll switch and re-run the experiment"
   ]
  },
  {
   "cell_type": "markdown",
   "metadata": {
    "application/vnd.databricks.v1+cell": {
     "cellMetadata": {},
     "inputWidgets": {},
     "nuid": "bfde26db-16d8-49e0-b586-a151d8a8fe2b",
     "showTitle": false,
     "title": ""
    }
   },
   "source": [
    "## About the Data\n",
    "* The data is designed to reflect what is used in practice. This data includes the following columns:\n",
    "<table>\n",
    "   <thead>\n",
    "      <tr>\n",
    "         <th>Column Name</th>\n",
    "         <th>Description</th>\n",
    "         <th>Data Type</th>\n",
    "      </tr>\n",
    "   </thead>\n",
    "   <tbody>\n",
    "      <tr>\n",
    "         <td>uid</td>\n",
    "         <td>A unique identifier for each individual customer.</td>\n",
    "         <td>String</td>\n",
    "      </tr>\n",
    "      <tr>\n",
    "         <td>time</td>\n",
    "         <td>The date and time of when a customer interacted with an impression.</td>\n",
    "         <td>Timestamp</td>\n",
    "      </tr>\n",
    "       <tr>\n",
    "         <td>interaction</td>\n",
    "         <td>Denotes whether the interaction was an impression or conversion.</td>\n",
    "         <td>String</td>\n",
    "      </tr>\n",
    "      <tr>\n",
    "         <td>channel</td>\n",
    "         <td>Ad Channel</td>\n",
    "         <td>String</td>\n",
    "      </tr>\n",
    "     <tr>\n",
    "         <td>conversion</td>\n",
    "         <td>Conversion value</td>\n",
    "         <td>Int</td>\n",
    "      </tr>\n",
    "   </tbody>\n",
    "</table>\n",
    "\n",
    "* The notebook starts by generating the dataset before transforming it ready for use with Markov Chains."
   ]
  },
  {
   "cell_type": "markdown",
   "metadata": {
    "application/vnd.databricks.v1+cell": {
     "cellMetadata": {},
     "inputWidgets": {},
     "nuid": "b954a25b-25c7-4feb-8e2d-acb3d008d833",
     "showTitle": false,
     "title": ""
    }
   },
   "source": [
    "## Runtime Dependencies"
   ]
  },
  {
   "cell_type": "code",
   "execution_count": 0,
   "metadata": {
    "application/vnd.databricks.v1+cell": {
     "cellMetadata": {},
     "inputWidgets": {},
     "nuid": "32e6c105-001e-4857-9151-734d405ef956",
     "showTitle": false,
     "title": ""
    }
   },
   "outputs": [
    {
     "output_type": "display_data",
     "data": {
      "text/html": [
       "<style scoped>\n",
       "  .ansiout {\n",
       "    display: block;\n",
       "    unicode-bidi: embed;\n",
       "    white-space: pre-wrap;\n",
       "    word-wrap: break-word;\n",
       "    word-break: break-all;\n",
       "    font-family: \"Menlo\", \"Monaco\", \"Consolas\", \"Ubuntu Mono\", \"Source Code Pro\", monospace;\n",
       "    font-size: 13px;\n",
       "    color: #555;\n",
       "    margin-left: 4px;\n",
       "    line-height: 19px;\n",
       "  }\n",
       "</style>\n",
       "<div class=\"ansiout\"></div>"
      ]
     },
     "metadata": {
      "application/vnd.databricks.v1+output": {
       "addedWidgets": {},
       "arguments": {},
       "data": "<div class=\"ansiout\"></div>",
       "datasetInfos": [],
       "metadata": {},
       "removedWidgets": [],
       "type": "html"
      }
     },
     "output_type": "display_data"
    },
    {
     "output_type": "display_data",
     "data": {
      "text/html": [
       "<style scoped>\n",
       "  .ansiout {\n",
       "    display: block;\n",
       "    unicode-bidi: embed;\n",
       "    white-space: pre-wrap;\n",
       "    word-wrap: break-word;\n",
       "    word-break: break-all;\n",
       "    font-family: \"Menlo\", \"Monaco\", \"Consolas\", \"Ubuntu Mono\", \"Source Code Pro\", monospace;\n",
       "    font-size: 13px;\n",
       "    color: #555;\n",
       "    margin-left: 4px;\n",
       "    line-height: 19px;\n",
       "  }\n",
       "</style>\n",
       "<div class=\"ansiout\"></div>"
      ]
     },
     "metadata": {
      "application/vnd.databricks.v1+output": {
       "addedWidgets": {},
       "arguments": {},
       "data": "<div class=\"ansiout\"></div>",
       "datasetInfos": [],
       "metadata": {},
       "removedWidgets": [],
       "type": "html"
      }
     },
     "output_type": "display_data"
    },
    {
     "output_type": "display_data",
     "data": {
      "text/html": [
       "<style scoped>\n",
       "  .ansiout {\n",
       "    display: block;\n",
       "    unicode-bidi: embed;\n",
       "    white-space: pre-wrap;\n",
       "    word-wrap: break-word;\n",
       "    word-break: break-all;\n",
       "    font-family: \"Menlo\", \"Monaco\", \"Consolas\", \"Ubuntu Mono\", \"Source Code Pro\", monospace;\n",
       "    font-size: 13px;\n",
       "    color: #555;\n",
       "    margin-left: 4px;\n",
       "    line-height: 19px;\n",
       "  }\n",
       "</style>\n",
       "<div class=\"ansiout\"></div>"
      ]
     },
     "metadata": {
      "application/vnd.databricks.v1+output": {
       "addedWidgets": {},
       "arguments": {},
       "data": "<div class=\"ansiout\"></div>",
       "datasetInfos": [],
       "metadata": {},
       "removedWidgets": [],
       "type": "html"
      }
     },
     "output_type": "display_data"
    },
    {
     "output_type": "display_data",
     "data": {
      "text/html": [
       "<style scoped>\n",
       "  .ansiout {\n",
       "    display: block;\n",
       "    unicode-bidi: embed;\n",
       "    white-space: pre-wrap;\n",
       "    word-wrap: break-word;\n",
       "    word-break: break-all;\n",
       "    font-family: \"Menlo\", \"Monaco\", \"Consolas\", \"Ubuntu Mono\", \"Source Code Pro\", monospace;\n",
       "    font-size: 13px;\n",
       "    color: #555;\n",
       "    margin-left: 4px;\n",
       "    line-height: 19px;\n",
       "  }\n",
       "</style>\n",
       "<div class=\"ansiout\"></div>"
      ]
     },
     "metadata": {
      "application/vnd.databricks.v1+output": {
       "addedWidgets": {},
       "arguments": {},
       "data": "<div class=\"ansiout\"></div>",
       "datasetInfos": [],
       "metadata": {},
       "removedWidgets": [],
       "type": "html"
      }
     },
     "output_type": "display_data"
    }
   ],
   "source": [
    "from pyspark.sql import Row\n",
    "import json\n",
    "import pandas as pd\n",
    "import uuid\n",
    "import random\n",
    "from random import randrange\n",
    "from datetime import datetime, timedelta "
   ]
  },
  {
   "cell_type": "markdown",
   "metadata": {
    "application/vnd.databricks.v1+cell": {
     "cellMetadata": {},
     "inputWidgets": {},
     "nuid": "977583a4-eb49-49ce-a2a2-502014a588b2",
     "showTitle": false,
     "title": ""
    }
   },
   "source": [
    "## Generate the Data (Future: import data)"
   ]
  },
  {
   "cell_type": "code",
   "execution_count": 0,
   "metadata": {
    "application/vnd.databricks.v1+cell": {
     "cellMetadata": {},
     "inputWidgets": {},
     "nuid": "9a10ed66-12cb-47ef-80cf-673874c1a178",
     "showTitle": false,
     "title": ""
    }
   },
   "outputs": [
    {
     "output_type": "display_data",
     "data": {
      "text/html": [
       "<style scoped>\n",
       "  .ansiout {\n",
       "    display: block;\n",
       "    unicode-bidi: embed;\n",
       "    white-space: pre-wrap;\n",
       "    word-wrap: break-word;\n",
       "    word-break: break-all;\n",
       "    font-family: \"Menlo\", \"Monaco\", \"Consolas\", \"Ubuntu Mono\", \"Source Code Pro\", monospace;\n",
       "    font-size: 13px;\n",
       "    color: #555;\n",
       "    margin-left: 4px;\n",
       "    line-height: 19px;\n",
       "  }\n",
       "</style>\n",
       "<div class=\"ansiout\"></div>"
      ]
     },
     "metadata": {
      "application/vnd.databricks.v1+output": {
       "addedWidgets": {},
       "arguments": {},
       "data": "<div class=\"ansiout\"></div>",
       "datasetInfos": [],
       "metadata": {},
       "removedWidgets": [],
       "type": "html"
      }
     },
     "output_type": "display_data"
    }
   ],
   "source": [
    "def _get_random_datetime(start, end):\n",
    "    \"\"\"\n",
    "    This function will return a random datetime between two datetime \n",
    "    objects.\n",
    "    \"\"\"\n",
    "    delta = end - start\n",
    "    int_delta = (delta.days * 24 * 60 * 60) + delta.seconds\n",
    "    random_second = randrange(int_delta)\n",
    "    return start + timedelta(seconds=random_second)\n",
    "\n",
    "def data_gen_to_df():\n",
    "  \"\"\"\n",
    "  This function will generate and write synthetic data for multi-touch \n",
    "  attribution modeling\n",
    "  \"\"\"\n",
    "  \n",
    "  \n",
    "  DataRow = Row(\"uid\", \"time\", \"interaction\", \"channel\", \"conversion\")\n",
    "  \n",
    "  # Specify the number of unique user IDs that data will be generated for\n",
    "  unique_id_count = 500000\n",
    "  \n",
    "  # Specify the desired conversion rate for the full data set\n",
    "  total_conversion_rate_for_campaign = .14\n",
    "  \n",
    "  # Specify the desired channels and channel-level conversion rates\n",
    "  base_conversion_rate_per_channel = {'Social Network':.3, \n",
    "                                      'Search Engine Marketing':.2, \n",
    "                                      'Google Display Network':.1, \n",
    "                                      'Affiliates':.39, \n",
    "                                      'Email':0.01}\n",
    "  \n",
    "  \n",
    "  channel_list = list(base_conversion_rate_per_channel.keys())\n",
    "  \n",
    "  base_conversion_weight = tuple(base_conversion_rate_per_channel.values())\n",
    "  intermediate_channel_weight = (20, 30, 15, 30, 5)\n",
    "  channel_probability_weights = (20, 20, 20, 20, 20)\n",
    "  \n",
    "  # Generate list of random user IDs\n",
    "  uid_list = []\n",
    "  \n",
    "  for _ in range(unique_id_count):\n",
    "    uid_list.append(str(uuid.uuid4()).replace('-',''))\n",
    "  \n",
    "  rows = []\n",
    "  \n",
    "  # Generate data / user journey for each unique user ID\n",
    "  for uid in uid_list:\n",
    "      user_journey_end = random.choices(['impression', 'conversion'], \n",
    "                                        (1-total_conversion_rate_for_campaign, total_conversion_rate_for_campaign), k=1)[0]\n",
    "      \n",
    "      steps_in_customer_journey = random.choice(range(1,10))\n",
    "      \n",
    "      d1 = datetime.strptime('5/17/2020 1:30 PM', '%m/%d/%Y %I:%M %p')\n",
    "      d2 = datetime.strptime('6/10/2020 4:50 AM', '%m/%d/%Y %I:%M %p')\n",
    "\n",
    "      final_channel = random.choices(channel_list, base_conversion_weight , k=1)[0]\n",
    "      \n",
    "      for i in range(steps_in_customer_journey):\n",
    "        next_step_in_user_journey = random.choices(channel_list, weights=intermediate_channel_weight, k=1)[0] \n",
    "        time = str(_get_random_datetime(d1, d2))\n",
    "        d1 = datetime.strptime(time, '%Y-%m-%d %H:%M:%S')\n",
    "        \n",
    "        if user_journey_end == 'conversion' and i == (steps_in_customer_journey-1):\n",
    "          rows.append(DataRow(uid,time,\"conversion\",final_channel,1))\n",
    "          #my_file.write(uid+','+time+',conversion,'+final_channel+',1\\n')\n",
    "        else:\n",
    "          rows.append(DataRow(uid,time,\"impression\",next_step_in_user_journey,0))\n",
    "          #my_file.write(uid+','+time+',impression,'+next_step_in_user_journey+',0\\n')\n",
    "  \n",
    "  # output the dataframe \n",
    "  return spark.createDataFrame(rows)"
   ]
  },
  {
   "cell_type": "code",
   "execution_count": 0,
   "metadata": {
    "application/vnd.databricks.v1+cell": {
     "cellMetadata": {},
     "inputWidgets": {},
     "nuid": "cb57b0b1-3f10-4b48-a292-23ec106817b2",
     "showTitle": false,
     "title": ""
    }
   },
   "outputs": [
    {
     "output_type": "display_data",
     "data": {
      "text/html": [
       "<style scoped>\n",
       "  .table-result-container {\n",
       "    max-height: 300px;\n",
       "    overflow: auto;\n",
       "  }\n",
       "  table, th, td {\n",
       "    border: 1px solid black;\n",
       "    border-collapse: collapse;\n",
       "  }\n",
       "  th, td {\n",
       "    padding: 5px;\n",
       "  }\n",
       "  th {\n",
       "    text-align: left;\n",
       "  }\n",
       "</style><div class='table-result-container'><table class='table-result'><thead style='background-color: white'><tr><th>uid</th><th>time</th><th>interaction</th><th>channel</th><th>conversion</th></tr></thead><tbody><tr><td>07c335c8ab2148dfab0d45d4e2d54152</td><td>2020-05-18 13:09:38</td><td>impression</td><td>Search Engine Marketing</td><td>0</td></tr><tr><td>a6e632c369ec4d7da0e35bc7b20b4a3c</td><td>2020-06-04 10:03:56</td><td>impression</td><td>Affiliates</td><td>0</td></tr><tr><td>a6e632c369ec4d7da0e35bc7b20b4a3c</td><td>2020-06-06 18:48:09</td><td>impression</td><td>Search Engine Marketing</td><td>0</td></tr><tr><td>a6e632c369ec4d7da0e35bc7b20b4a3c</td><td>2020-06-09 18:11:30</td><td>impression</td><td>Affiliates</td><td>0</td></tr><tr><td>a6e632c369ec4d7da0e35bc7b20b4a3c</td><td>2020-06-10 00:52:57</td><td>impression</td><td>Google Display Network</td><td>0</td></tr><tr><td>a6e632c369ec4d7da0e35bc7b20b4a3c</td><td>2020-06-10 03:15:08</td><td>impression</td><td>Search Engine Marketing</td><td>0</td></tr><tr><td>a6e632c369ec4d7da0e35bc7b20b4a3c</td><td>2020-06-10 04:15:02</td><td>impression</td><td>Affiliates</td><td>0</td></tr><tr><td>a6e632c369ec4d7da0e35bc7b20b4a3c</td><td>2020-06-10 04:33:32</td><td>impression</td><td>Affiliates</td><td>0</td></tr><tr><td>90f326ae3dea4cb3911df88a2d8f39eb</td><td>2020-06-01 08:13:34</td><td>impression</td><td>Affiliates</td><td>0</td></tr><tr><td>90f326ae3dea4cb3911df88a2d8f39eb</td><td>2020-06-05 06:27:02</td><td>impression</td><td>Search Engine Marketing</td><td>0</td></tr><tr><td>90f326ae3dea4cb3911df88a2d8f39eb</td><td>2020-06-06 13:44:33</td><td>impression</td><td>Google Display Network</td><td>0</td></tr><tr><td>90f326ae3dea4cb3911df88a2d8f39eb</td><td>2020-06-08 18:18:14</td><td>impression</td><td>Search Engine Marketing</td><td>0</td></tr><tr><td>90f326ae3dea4cb3911df88a2d8f39eb</td><td>2020-06-09 15:11:20</td><td>impression</td><td>Search Engine Marketing</td><td>0</td></tr><tr><td>90f326ae3dea4cb3911df88a2d8f39eb</td><td>2020-06-09 20:39:08</td><td>impression</td><td>Affiliates</td><td>0</td></tr><tr><td>8903426ecaf94ba5a8d3f9c57f3a89d8</td><td>2020-06-05 06:47:57</td><td>impression</td><td>Social Network</td><td>0</td></tr><tr><td>8903426ecaf94ba5a8d3f9c57f3a89d8</td><td>2020-06-07 09:50:11</td><td>impression</td><td>Search Engine Marketing</td><td>0</td></tr><tr><td>8903426ecaf94ba5a8d3f9c57f3a89d8</td><td>2020-06-07 16:49:49</td><td>impression</td><td>Social Network</td><td>0</td></tr><tr><td>8903426ecaf94ba5a8d3f9c57f3a89d8</td><td>2020-06-08 19:12:28</td><td>impression</td><td>Affiliates</td><td>0</td></tr><tr><td>8903426ecaf94ba5a8d3f9c57f3a89d8</td><td>2020-06-09 06:10:23</td><td>impression</td><td>Search Engine Marketing</td><td>0</td></tr><tr><td>8903426ecaf94ba5a8d3f9c57f3a89d8</td><td>2020-06-09 11:03:24</td><td>impression</td><td>Affiliates</td><td>0</td></tr><tr><td>8903426ecaf94ba5a8d3f9c57f3a89d8</td><td>2020-06-10 01:57:32</td><td>impression</td><td>Search Engine Marketing</td><td>0</td></tr><tr><td>5f9686fbac32467e8a45ef1732eff18a</td><td>2020-06-06 12:30:46</td><td>impression</td><td>Search Engine Marketing</td><td>0</td></tr><tr><td>5f9686fbac32467e8a45ef1732eff18a</td><td>2020-06-09 14:47:24</td><td>impression</td><td>Google Display Network</td><td>0</td></tr><tr><td>5f9686fbac32467e8a45ef1732eff18a</td><td>2020-06-10 01:54:09</td><td>impression</td><td>Social Network</td><td>0</td></tr><tr><td>5f9686fbac32467e8a45ef1732eff18a</td><td>2020-06-10 04:32:19</td><td>impression</td><td>Social Network</td><td>0</td></tr><tr><td>dd8bb8cd8e1e435e9f2c959588ce865b</td><td>2020-05-21 16:56:52</td><td>impression</td><td>Affiliates</td><td>0</td></tr><tr><td>dd8bb8cd8e1e435e9f2c959588ce865b</td><td>2020-06-05 13:08:55</td><td>impression</td><td>Search Engine Marketing</td><td>0</td></tr><tr><td>dd8bb8cd8e1e435e9f2c959588ce865b</td><td>2020-06-09 03:17:00</td><td>impression</td><td>Affiliates</td><td>0</td></tr><tr><td>dd8bb8cd8e1e435e9f2c959588ce865b</td><td>2020-06-09 11:13:59</td><td>impression</td><td>Affiliates</td><td>0</td></tr><tr><td>dd8bb8cd8e1e435e9f2c959588ce865b</td><td>2020-06-10 03:49:40</td><td>impression</td><td>Social Network</td><td>0</td></tr><tr><td>dd8bb8cd8e1e435e9f2c959588ce865b</td><td>2020-06-10 04:09:29</td><td>impression</td><td>Search Engine Marketing</td><td>0</td></tr><tr><td>dd8bb8cd8e1e435e9f2c959588ce865b</td><td>2020-06-10 04:47:27</td><td>impression</td><td>Social Network</td><td>0</td></tr><tr><td>dd8bb8cd8e1e435e9f2c959588ce865b</td><td>2020-06-10 04:49:59</td><td>impression</td><td>Search Engine Marketing</td><td>0</td></tr><tr><td>922317dd266c4d86abcdacb120ba17cd</td><td>2020-05-29 17:48:23</td><td>impression</td><td>Search Engine Marketing</td><td>0</td></tr><tr><td>922317dd266c4d86abcdacb120ba17cd</td><td>2020-05-30 20:31:44</td><td>impression</td><td>Affiliates</td><td>0</td></tr><tr><td>922317dd266c4d86abcdacb120ba17cd</td><td>2020-06-07 17:16:39</td><td>impression</td><td>Search Engine Marketing</td><td>0</td></tr><tr><td>922317dd266c4d86abcdacb120ba17cd</td><td>2020-06-09 02:56:54</td><td>impression</td><td>Social Network</td><td>0</td></tr><tr><td>922317dd266c4d86abcdacb120ba17cd</td><td>2020-06-09 14:54:18</td><td>impression</td><td>Search Engine Marketing</td><td>0</td></tr><tr><td>80ed78be643a452299979a5981c7420f</td><td>2020-06-05 06:23:43</td><td>impression</td><td>Affiliates</td><td>0</td></tr><tr><td>80ed78be643a452299979a5981c7420f</td><td>2020-06-09 02:00:37</td><td>impression</td><td>Affiliates</td><td>0</td></tr><tr><td>80ed78be643a452299979a5981c7420f</td><td>2020-06-09 04:29:48</td><td>impression</td><td>Affiliates</td><td>0</td></tr><tr><td>80ed78be643a452299979a5981c7420f</td><td>2020-06-09 06:49:15</td><td>impression</td><td>Google Display Network</td><td>0</td></tr><tr><td>80ed78be643a452299979a5981c7420f</td><td>2020-06-09 15:39:30</td><td>impression</td><td>Affiliates</td><td>0</td></tr><tr><td>80ed78be643a452299979a5981c7420f</td><td>2020-06-10 02:39:17</td><td>impression</td><td>Affiliates</td><td>0</td></tr><tr><td>80ed78be643a452299979a5981c7420f</td><td>2020-06-10 03:05:45</td><td>impression</td><td>Affiliates</td><td>0</td></tr><tr><td>0b7b6af6eb694edab66d76539787c821</td><td>2020-06-01 14:58:38</td><td>impression</td><td>Search Engine Marketing</td><td>0</td></tr><tr><td>0b7b6af6eb694edab66d76539787c821</td><td>2020-06-08 19:49:20</td><td>impression</td><td>Social Network</td><td>0</td></tr><tr><td>0b7b6af6eb694edab66d76539787c821</td><td>2020-06-09 10:28:08</td><td>impression</td><td>Social Network</td><td>0</td></tr><tr><td>0b7b6af6eb694edab66d76539787c821</td><td>2020-06-09 22:05:29</td><td>impression</td><td>Google Display Network</td><td>0</td></tr><tr><td>0b7b6af6eb694edab66d76539787c821</td><td>2020-06-09 22:53:30</td><td>impression</td><td>Search Engine Marketing</td><td>0</td></tr><tr><td>0b7b6af6eb694edab66d76539787c821</td><td>2020-06-10 02:51:33</td><td>impression</td><td>Search Engine Marketing</td><td>0</td></tr><tr><td>0b7b6af6eb694edab66d76539787c821</td><td>2020-06-10 04:23:57</td><td>impression</td><td>Affiliates</td><td>0</td></tr><tr><td>0b7b6af6eb694edab66d76539787c821</td><td>2020-06-10 04:27:51</td><td>impression</td><td>Social Network</td><td>0</td></tr><tr><td>b769664da19e4dad9e391663d655c659</td><td>2020-05-28 18:44:18</td><td>impression</td><td>Search Engine Marketing</td><td>0</td></tr><tr><td>b769664da19e4dad9e391663d655c659</td><td>2020-06-02 03:35:10</td><td>impression</td><td>Affiliates</td><td>0</td></tr><tr><td>b769664da19e4dad9e391663d655c659</td><td>2020-06-04 23:24:53</td><td>impression</td><td>Affiliates</td><td>0</td></tr><tr><td>b769664da19e4dad9e391663d655c659</td><td>2020-06-06 13:18:16</td><td>impression</td><td>Search Engine Marketing</td><td>0</td></tr><tr><td>b769664da19e4dad9e391663d655c659</td><td>2020-06-09 19:23:10</td><td>impression</td><td>Search Engine Marketing</td><td>0</td></tr><tr><td>b769664da19e4dad9e391663d655c659</td><td>2020-06-10 00:40:51</td><td>impression</td><td>Search Engine Marketing</td><td>0</td></tr><tr><td>b769664da19e4dad9e391663d655c659</td><td>2020-06-10 02:31:35</td><td>impression</td><td>Email</td><td>0</td></tr><tr><td>a79a9ef77855468d870e5fe9d97825d4</td><td>2020-05-31 02:40:31</td><td>impression</td><td>Search Engine Marketing</td><td>0</td></tr><tr><td>1ab7fe9771564bd5b329addef6575620</td><td>2020-05-19 15:16:10</td><td>impression</td><td>Affiliates</td><td>0</td></tr><tr><td>a5c3eed712bf415192f892e497200c6a</td><td>2020-06-07 07:12:32</td><td>impression</td><td>Affiliates</td><td>0</td></tr><tr><td>a5c3eed712bf415192f892e497200c6a</td><td>2020-06-09 03:19:02</td><td>impression</td><td>Search Engine Marketing</td><td>0</td></tr><tr><td>a5c3eed712bf415192f892e497200c6a</td><td>2020-06-09 22:56:22</td><td>impression</td><td>Social Network</td><td>0</td></tr><tr><td>a5c3eed712bf415192f892e497200c6a</td><td>2020-06-10 02:39:58</td><td>impression</td><td>Search Engine Marketing</td><td>0</td></tr><tr><td>a5c3eed712bf415192f892e497200c6a</td><td>2020-06-10 03:56:07</td><td>impression</td><td>Google Display Network</td><td>0</td></tr><tr><td>a5c3eed712bf415192f892e497200c6a</td><td>2020-06-10 04:17:56</td><td>impression</td><td>Affiliates</td><td>0</td></tr><tr><td>a5c3eed712bf415192f892e497200c6a</td><td>2020-06-10 04:33:33</td><td>impression</td><td>Affiliates</td><td>0</td></tr><tr><td>a5c3eed712bf415192f892e497200c6a</td><td>2020-06-10 04:35:30</td><td>impression</td><td>Affiliates</td><td>0</td></tr><tr><td>a5c3eed712bf415192f892e497200c6a</td><td>2020-06-10 04:43:13</td><td>impression</td><td>Affiliates</td><td>0</td></tr><tr><td>fc6fc293c390428b9cdd8a1c8bb5108a</td><td>2020-06-03 01:10:06</td><td>impression</td><td>Affiliates</td><td>0</td></tr><tr><td>fc6fc293c390428b9cdd8a1c8bb5108a</td><td>2020-06-09 09:47:28</td><td>impression</td><td>Google Display Network</td><td>0</td></tr><tr><td>fc6fc293c390428b9cdd8a1c8bb5108a</td><td>2020-06-10 02:08:18</td><td>impression</td><td>Affiliates</td><td>0</td></tr><tr><td>fc6fc293c390428b9cdd8a1c8bb5108a</td><td>2020-06-10 03:14:04</td><td>impression</td><td>Affiliates</td><td>0</td></tr><tr><td>fc6fc293c390428b9cdd8a1c8bb5108a</td><td>2020-06-10 03:26:52</td><td>impression</td><td>Affiliates</td><td>0</td></tr><tr><td>fc6fc293c390428b9cdd8a1c8bb5108a</td><td>2020-06-10 04:17:47</td><td>impression</td><td>Social Network</td><td>0</td></tr><tr><td>fc6fc293c390428b9cdd8a1c8bb5108a</td><td>2020-06-10 04:21:51</td><td>impression</td><td>Social Network</td><td>0</td></tr><tr><td>a311015e5971415a9159689de0bea9f4</td><td>2020-06-01 04:46:14</td><td>impression</td><td>Search Engine Marketing</td><td>0</td></tr><tr><td>a311015e5971415a9159689de0bea9f4</td><td>2020-06-02 08:01:11</td><td>impression</td><td>Social Network</td><td>0</td></tr><tr><td>a311015e5971415a9159689de0bea9f4</td><td>2020-06-07 20:03:02</td><td>impression</td><td>Search Engine Marketing</td><td>0</td></tr><tr><td>a311015e5971415a9159689de0bea9f4</td><td>2020-06-07 20:19:09</td><td>impression</td><td>Social Network</td><td>0</td></tr><tr><td>a311015e5971415a9159689de0bea9f4</td><td>2020-06-08 00:41:55</td><td>impression</td><td>Affiliates</td><td>0</td></tr><tr><td>a311015e5971415a9159689de0bea9f4</td><td>2020-06-09 22:13:04</td><td>impression</td><td>Social Network</td><td>0</td></tr><tr><td>a311015e5971415a9159689de0bea9f4</td><td>2020-06-10 00:50:48</td><td>impression</td><td>Search Engine Marketing</td><td>0</td></tr><tr><td>a311015e5971415a9159689de0bea9f4</td><td>2020-06-10 02:49:52</td><td>conversion</td><td>Affiliates</td><td>1</td></tr><tr><td>27f99f117a1b4e48bb74db10d9fc1663</td><td>2020-06-04 14:44:41</td><td>impression</td><td>Affiliates</td><td>0</td></tr><tr><td>27f99f117a1b4e48bb74db10d9fc1663</td><td>2020-06-04 18:50:55</td><td>impression</td><td>Social Network</td><td>0</td></tr><tr><td>1dcf781040944060935df4235d7de3cb</td><td>2020-06-06 16:29:57</td><td>impression</td><td>Affiliates</td><td>0</td></tr><tr><td>1dcf781040944060935df4235d7de3cb</td><td>2020-06-06 23:50:21</td><td>impression</td><td>Email</td><td>0</td></tr><tr><td>1dcf781040944060935df4235d7de3cb</td><td>2020-06-09 00:47:18</td><td>impression</td><td>Affiliates</td><td>0</td></tr><tr><td>3541378e1d4049f7b77696b107816ae2</td><td>2020-05-24 22:46:44</td><td>impression</td><td>Search Engine Marketing</td><td>0</td></tr><tr><td>3541378e1d4049f7b77696b107816ae2</td><td>2020-06-05 14:45:02</td><td>impression</td><td>Social Network</td><td>0</td></tr><tr><td>3541378e1d4049f7b77696b107816ae2</td><td>2020-06-05 17:23:46</td><td>impression</td><td>Affiliates</td><td>0</td></tr><tr><td>3541378e1d4049f7b77696b107816ae2</td><td>2020-06-09 08:48:04</td><td>impression</td><td>Affiliates</td><td>0</td></tr><tr><td>3541378e1d4049f7b77696b107816ae2</td><td>2020-06-09 20:55:23</td><td>impression</td><td>Social Network</td><td>0</td></tr><tr><td>3541378e1d4049f7b77696b107816ae2</td><td>2020-06-09 21:55:46</td><td>impression</td><td>Google Display Network</td><td>0</td></tr><tr><td>3541378e1d4049f7b77696b107816ae2</td><td>2020-06-10 00:27:39</td><td>impression</td><td>Search Engine Marketing</td><td>0</td></tr><tr><td>ca683af825584fdc888cedc6bde5881d</td><td>2020-05-28 21:41:59</td><td>impression</td><td>Affiliates</td><td>0</td></tr><tr><td>ca683af825584fdc888cedc6bde5881d</td><td>2020-05-31 23:16:57</td><td>impression</td><td>Affiliates</td><td>0</td></tr></tbody></table></div>"
      ]
     },
     "metadata": {
      "application/vnd.databricks.v1+output": {
       "addedWidgets": {},
       "aggData": [],
       "aggError": "",
       "aggOverflow": false,
       "aggSchema": [],
       "aggSeriesLimitReached": false,
       "aggType": "",
       "arguments": {},
       "columnCustomDisplayInfos": {},
       "data": [
        [
         "07c335c8ab2148dfab0d45d4e2d54152",
         "2020-05-18 13:09:38",
         "impression",
         "Search Engine Marketing",
         0
        ],
        [
         "a6e632c369ec4d7da0e35bc7b20b4a3c",
         "2020-06-04 10:03:56",
         "impression",
         "Affiliates",
         0
        ],
        [
         "a6e632c369ec4d7da0e35bc7b20b4a3c",
         "2020-06-06 18:48:09",
         "impression",
         "Search Engine Marketing",
         0
        ],
        [
         "a6e632c369ec4d7da0e35bc7b20b4a3c",
         "2020-06-09 18:11:30",
         "impression",
         "Affiliates",
         0
        ],
        [
         "a6e632c369ec4d7da0e35bc7b20b4a3c",
         "2020-06-10 00:52:57",
         "impression",
         "Google Display Network",
         0
        ],
        [
         "a6e632c369ec4d7da0e35bc7b20b4a3c",
         "2020-06-10 03:15:08",
         "impression",
         "Search Engine Marketing",
         0
        ],
        [
         "a6e632c369ec4d7da0e35bc7b20b4a3c",
         "2020-06-10 04:15:02",
         "impression",
         "Affiliates",
         0
        ],
        [
         "a6e632c369ec4d7da0e35bc7b20b4a3c",
         "2020-06-10 04:33:32",
         "impression",
         "Affiliates",
         0
        ],
        [
         "90f326ae3dea4cb3911df88a2d8f39eb",
         "2020-06-01 08:13:34",
         "impression",
         "Affiliates",
         0
        ],
        [
         "90f326ae3dea4cb3911df88a2d8f39eb",
         "2020-06-05 06:27:02",
         "impression",
         "Search Engine Marketing",
         0
        ],
        [
         "90f326ae3dea4cb3911df88a2d8f39eb",
         "2020-06-06 13:44:33",
         "impression",
         "Google Display Network",
         0
        ],
        [
         "90f326ae3dea4cb3911df88a2d8f39eb",
         "2020-06-08 18:18:14",
         "impression",
         "Search Engine Marketing",
         0
        ],
        [
         "90f326ae3dea4cb3911df88a2d8f39eb",
         "2020-06-09 15:11:20",
         "impression",
         "Search Engine Marketing",
         0
        ],
        [
         "90f326ae3dea4cb3911df88a2d8f39eb",
         "2020-06-09 20:39:08",
         "impression",
         "Affiliates",
         0
        ],
        [
         "8903426ecaf94ba5a8d3f9c57f3a89d8",
         "2020-06-05 06:47:57",
         "impression",
         "Social Network",
         0
        ],
        [
         "8903426ecaf94ba5a8d3f9c57f3a89d8",
         "2020-06-07 09:50:11",
         "impression",
         "Search Engine Marketing",
         0
        ],
        [
         "8903426ecaf94ba5a8d3f9c57f3a89d8",
         "2020-06-07 16:49:49",
         "impression",
         "Social Network",
         0
        ],
        [
         "8903426ecaf94ba5a8d3f9c57f3a89d8",
         "2020-06-08 19:12:28",
         "impression",
         "Affiliates",
         0
        ],
        [
         "8903426ecaf94ba5a8d3f9c57f3a89d8",
         "2020-06-09 06:10:23",
         "impression",
         "Search Engine Marketing",
         0
        ],
        [
         "8903426ecaf94ba5a8d3f9c57f3a89d8",
         "2020-06-09 11:03:24",
         "impression",
         "Affiliates",
         0
        ],
        [
         "8903426ecaf94ba5a8d3f9c57f3a89d8",
         "2020-06-10 01:57:32",
         "impression",
         "Search Engine Marketing",
         0
        ],
        [
         "5f9686fbac32467e8a45ef1732eff18a",
         "2020-06-06 12:30:46",
         "impression",
         "Search Engine Marketing",
         0
        ],
        [
         "5f9686fbac32467e8a45ef1732eff18a",
         "2020-06-09 14:47:24",
         "impression",
         "Google Display Network",
         0
        ],
        [
         "5f9686fbac32467e8a45ef1732eff18a",
         "2020-06-10 01:54:09",
         "impression",
         "Social Network",
         0
        ],
        [
         "5f9686fbac32467e8a45ef1732eff18a",
         "2020-06-10 04:32:19",
         "impression",
         "Social Network",
         0
        ],
        [
         "dd8bb8cd8e1e435e9f2c959588ce865b",
         "2020-05-21 16:56:52",
         "impression",
         "Affiliates",
         0
        ],
        [
         "dd8bb8cd8e1e435e9f2c959588ce865b",
         "2020-06-05 13:08:55",
         "impression",
         "Search Engine Marketing",
         0
        ],
        [
         "dd8bb8cd8e1e435e9f2c959588ce865b",
         "2020-06-09 03:17:00",
         "impression",
         "Affiliates",
         0
        ],
        [
         "dd8bb8cd8e1e435e9f2c959588ce865b",
         "2020-06-09 11:13:59",
         "impression",
         "Affiliates",
         0
        ],
        [
         "dd8bb8cd8e1e435e9f2c959588ce865b",
         "2020-06-10 03:49:40",
         "impression",
         "Social Network",
         0
        ],
        [
         "dd8bb8cd8e1e435e9f2c959588ce865b",
         "2020-06-10 04:09:29",
         "impression",
         "Search Engine Marketing",
         0
        ],
        [
         "dd8bb8cd8e1e435e9f2c959588ce865b",
         "2020-06-10 04:47:27",
         "impression",
         "Social Network",
         0
        ],
        [
         "dd8bb8cd8e1e435e9f2c959588ce865b",
         "2020-06-10 04:49:59",
         "impression",
         "Search Engine Marketing",
         0
        ],
        [
         "922317dd266c4d86abcdacb120ba17cd",
         "2020-05-29 17:48:23",
         "impression",
         "Search Engine Marketing",
         0
        ],
        [
         "922317dd266c4d86abcdacb120ba17cd",
         "2020-05-30 20:31:44",
         "impression",
         "Affiliates",
         0
        ],
        [
         "922317dd266c4d86abcdacb120ba17cd",
         "2020-06-07 17:16:39",
         "impression",
         "Search Engine Marketing",
         0
        ],
        [
         "922317dd266c4d86abcdacb120ba17cd",
         "2020-06-09 02:56:54",
         "impression",
         "Social Network",
         0
        ],
        [
         "922317dd266c4d86abcdacb120ba17cd",
         "2020-06-09 14:54:18",
         "impression",
         "Search Engine Marketing",
         0
        ],
        [
         "80ed78be643a452299979a5981c7420f",
         "2020-06-05 06:23:43",
         "impression",
         "Affiliates",
         0
        ],
        [
         "80ed78be643a452299979a5981c7420f",
         "2020-06-09 02:00:37",
         "impression",
         "Affiliates",
         0
        ],
        [
         "80ed78be643a452299979a5981c7420f",
         "2020-06-09 04:29:48",
         "impression",
         "Affiliates",
         0
        ],
        [
         "80ed78be643a452299979a5981c7420f",
         "2020-06-09 06:49:15",
         "impression",
         "Google Display Network",
         0
        ],
        [
         "80ed78be643a452299979a5981c7420f",
         "2020-06-09 15:39:30",
         "impression",
         "Affiliates",
         0
        ],
        [
         "80ed78be643a452299979a5981c7420f",
         "2020-06-10 02:39:17",
         "impression",
         "Affiliates",
         0
        ],
        [
         "80ed78be643a452299979a5981c7420f",
         "2020-06-10 03:05:45",
         "impression",
         "Affiliates",
         0
        ],
        [
         "0b7b6af6eb694edab66d76539787c821",
         "2020-06-01 14:58:38",
         "impression",
         "Search Engine Marketing",
         0
        ],
        [
         "0b7b6af6eb694edab66d76539787c821",
         "2020-06-08 19:49:20",
         "impression",
         "Social Network",
         0
        ],
        [
         "0b7b6af6eb694edab66d76539787c821",
         "2020-06-09 10:28:08",
         "impression",
         "Social Network",
         0
        ],
        [
         "0b7b6af6eb694edab66d76539787c821",
         "2020-06-09 22:05:29",
         "impression",
         "Google Display Network",
         0
        ],
        [
         "0b7b6af6eb694edab66d76539787c821",
         "2020-06-09 22:53:30",
         "impression",
         "Search Engine Marketing",
         0
        ],
        [
         "0b7b6af6eb694edab66d76539787c821",
         "2020-06-10 02:51:33",
         "impression",
         "Search Engine Marketing",
         0
        ],
        [
         "0b7b6af6eb694edab66d76539787c821",
         "2020-06-10 04:23:57",
         "impression",
         "Affiliates",
         0
        ],
        [
         "0b7b6af6eb694edab66d76539787c821",
         "2020-06-10 04:27:51",
         "impression",
         "Social Network",
         0
        ],
        [
         "b769664da19e4dad9e391663d655c659",
         "2020-05-28 18:44:18",
         "impression",
         "Search Engine Marketing",
         0
        ],
        [
         "b769664da19e4dad9e391663d655c659",
         "2020-06-02 03:35:10",
         "impression",
         "Affiliates",
         0
        ],
        [
         "b769664da19e4dad9e391663d655c659",
         "2020-06-04 23:24:53",
         "impression",
         "Affiliates",
         0
        ],
        [
         "b769664da19e4dad9e391663d655c659",
         "2020-06-06 13:18:16",
         "impression",
         "Search Engine Marketing",
         0
        ],
        [
         "b769664da19e4dad9e391663d655c659",
         "2020-06-09 19:23:10",
         "impression",
         "Search Engine Marketing",
         0
        ],
        [
         "b769664da19e4dad9e391663d655c659",
         "2020-06-10 00:40:51",
         "impression",
         "Search Engine Marketing",
         0
        ],
        [
         "b769664da19e4dad9e391663d655c659",
         "2020-06-10 02:31:35",
         "impression",
         "Email",
         0
        ],
        [
         "a79a9ef77855468d870e5fe9d97825d4",
         "2020-05-31 02:40:31",
         "impression",
         "Search Engine Marketing",
         0
        ],
        [
         "1ab7fe9771564bd5b329addef6575620",
         "2020-05-19 15:16:10",
         "impression",
         "Affiliates",
         0
        ],
        [
         "a5c3eed712bf415192f892e497200c6a",
         "2020-06-07 07:12:32",
         "impression",
         "Affiliates",
         0
        ],
        [
         "a5c3eed712bf415192f892e497200c6a",
         "2020-06-09 03:19:02",
         "impression",
         "Search Engine Marketing",
         0
        ],
        [
         "a5c3eed712bf415192f892e497200c6a",
         "2020-06-09 22:56:22",
         "impression",
         "Social Network",
         0
        ],
        [
         "a5c3eed712bf415192f892e497200c6a",
         "2020-06-10 02:39:58",
         "impression",
         "Search Engine Marketing",
         0
        ],
        [
         "a5c3eed712bf415192f892e497200c6a",
         "2020-06-10 03:56:07",
         "impression",
         "Google Display Network",
         0
        ],
        [
         "a5c3eed712bf415192f892e497200c6a",
         "2020-06-10 04:17:56",
         "impression",
         "Affiliates",
         0
        ],
        [
         "a5c3eed712bf415192f892e497200c6a",
         "2020-06-10 04:33:33",
         "impression",
         "Affiliates",
         0
        ],
        [
         "a5c3eed712bf415192f892e497200c6a",
         "2020-06-10 04:35:30",
         "impression",
         "Affiliates",
         0
        ],
        [
         "a5c3eed712bf415192f892e497200c6a",
         "2020-06-10 04:43:13",
         "impression",
         "Affiliates",
         0
        ],
        [
         "fc6fc293c390428b9cdd8a1c8bb5108a",
         "2020-06-03 01:10:06",
         "impression",
         "Affiliates",
         0
        ],
        [
         "fc6fc293c390428b9cdd8a1c8bb5108a",
         "2020-06-09 09:47:28",
         "impression",
         "Google Display Network",
         0
        ],
        [
         "fc6fc293c390428b9cdd8a1c8bb5108a",
         "2020-06-10 02:08:18",
         "impression",
         "Affiliates",
         0
        ],
        [
         "fc6fc293c390428b9cdd8a1c8bb5108a",
         "2020-06-10 03:14:04",
         "impression",
         "Affiliates",
         0
        ],
        [
         "fc6fc293c390428b9cdd8a1c8bb5108a",
         "2020-06-10 03:26:52",
         "impression",
         "Affiliates",
         0
        ],
        [
         "fc6fc293c390428b9cdd8a1c8bb5108a",
         "2020-06-10 04:17:47",
         "impression",
         "Social Network",
         0
        ],
        [
         "fc6fc293c390428b9cdd8a1c8bb5108a",
         "2020-06-10 04:21:51",
         "impression",
         "Social Network",
         0
        ],
        [
         "a311015e5971415a9159689de0bea9f4",
         "2020-06-01 04:46:14",
         "impression",
         "Search Engine Marketing",
         0
        ],
        [
         "a311015e5971415a9159689de0bea9f4",
         "2020-06-02 08:01:11",
         "impression",
         "Social Network",
         0
        ],
        [
         "a311015e5971415a9159689de0bea9f4",
         "2020-06-07 20:03:02",
         "impression",
         "Search Engine Marketing",
         0
        ],
        [
         "a311015e5971415a9159689de0bea9f4",
         "2020-06-07 20:19:09",
         "impression",
         "Social Network",
         0
        ],
        [
         "a311015e5971415a9159689de0bea9f4",
         "2020-06-08 00:41:55",
         "impression",
         "Affiliates",
         0
        ],
        [
         "a311015e5971415a9159689de0bea9f4",
         "2020-06-09 22:13:04",
         "impression",
         "Social Network",
         0
        ],
        [
         "a311015e5971415a9159689de0bea9f4",
         "2020-06-10 00:50:48",
         "impression",
         "Search Engine Marketing",
         0
        ],
        [
         "a311015e5971415a9159689de0bea9f4",
         "2020-06-10 02:49:52",
         "conversion",
         "Affiliates",
         1
        ],
        [
         "27f99f117a1b4e48bb74db10d9fc1663",
         "2020-06-04 14:44:41",
         "impression",
         "Affiliates",
         0
        ],
        [
         "27f99f117a1b4e48bb74db10d9fc1663",
         "2020-06-04 18:50:55",
         "impression",
         "Social Network",
         0
        ],
        [
         "1dcf781040944060935df4235d7de3cb",
         "2020-06-06 16:29:57",
         "impression",
         "Affiliates",
         0
        ],
        [
         "1dcf781040944060935df4235d7de3cb",
         "2020-06-06 23:50:21",
         "impression",
         "Email",
         0
        ],
        [
         "1dcf781040944060935df4235d7de3cb",
         "2020-06-09 00:47:18",
         "impression",
         "Affiliates",
         0
        ],
        [
         "3541378e1d4049f7b77696b107816ae2",
         "2020-05-24 22:46:44",
         "impression",
         "Search Engine Marketing",
         0
        ],
        [
         "3541378e1d4049f7b77696b107816ae2",
         "2020-06-05 14:45:02",
         "impression",
         "Social Network",
         0
        ],
        [
         "3541378e1d4049f7b77696b107816ae2",
         "2020-06-05 17:23:46",
         "impression",
         "Affiliates",
         0
        ],
        [
         "3541378e1d4049f7b77696b107816ae2",
         "2020-06-09 08:48:04",
         "impression",
         "Affiliates",
         0
        ],
        [
         "3541378e1d4049f7b77696b107816ae2",
         "2020-06-09 20:55:23",
         "impression",
         "Social Network",
         0
        ],
        [
         "3541378e1d4049f7b77696b107816ae2",
         "2020-06-09 21:55:46",
         "impression",
         "Google Display Network",
         0
        ],
        [
         "3541378e1d4049f7b77696b107816ae2",
         "2020-06-10 00:27:39",
         "impression",
         "Search Engine Marketing",
         0
        ],
        [
         "ca683af825584fdc888cedc6bde5881d",
         "2020-05-28 21:41:59",
         "impression",
         "Affiliates",
         0
        ],
        [
         "ca683af825584fdc888cedc6bde5881d",
         "2020-05-31 23:16:57",
         "impression",
         "Affiliates",
         0
        ]
       ],
       "datasetInfos": [
        {
         "name": "source_events_df",
         "schema": {
          "fields": [
           {
            "metadata": {},
            "name": "uid",
            "nullable": true,
            "type": "string"
           },
           {
            "metadata": {},
            "name": "time",
            "nullable": true,
            "type": "string"
           },
           {
            "metadata": {},
            "name": "interaction",
            "nullable": true,
            "type": "string"
           },
           {
            "metadata": {},
            "name": "channel",
            "nullable": true,
            "type": "string"
           },
           {
            "metadata": {},
            "name": "conversion",
            "nullable": true,
            "type": "long"
           }
          ],
          "type": "struct"
         },
         "tableIdentifier": null,
         "typeStr": "pyspark.sql.dataframe.DataFrame"
        }
       ],
       "dbfsResultPath": null,
       "isJsonSchema": true,
       "metadata": {},
       "overflow": false,
       "plotOptions": {
        "customPlotOptions": {},
        "displayType": "table",
        "pivotAggregation": null,
        "pivotColumns": null,
        "xColumns": null,
        "yColumns": null
       },
       "removedWidgets": [],
       "schema": [
        {
         "metadata": "{}",
         "name": "uid",
         "type": "\"string\""
        },
        {
         "metadata": "{}",
         "name": "time",
         "type": "\"string\""
        },
        {
         "metadata": "{}",
         "name": "interaction",
         "type": "\"string\""
        },
        {
         "metadata": "{}",
         "name": "channel",
         "type": "\"string\""
        },
        {
         "metadata": "{}",
         "name": "conversion",
         "type": "\"long\""
        }
       ],
       "type": "table"
      }
     },
     "output_type": "display_data"
    }
   ],
   "source": [
    "source_events_df = data_gen_to_df()\n",
    "display(source_events_df.limit(100))"
   ]
  },
  {
   "cell_type": "markdown",
   "metadata": {
    "application/vnd.databricks.v1+cell": {
     "cellMetadata": {},
     "inputWidgets": {},
     "nuid": "1d2a7a72-f5ba-4cda-bfad-153d4e4d6e5c",
     "showTitle": false,
     "title": ""
    }
   },
   "source": [
    "## Save the generated data to the lake"
   ]
  },
  {
   "cell_type": "code",
   "execution_count": 0,
   "metadata": {
    "application/vnd.databricks.v1+cell": {
     "cellMetadata": {},
     "inputWidgets": {},
     "nuid": "f217feca-115a-45cd-a8f8-2a64c62402a2",
     "showTitle": false,
     "title": ""
    }
   },
   "outputs": [
    {
     "output_type": "display_data",
     "data": {
      "text/html": [
       "<style scoped>\n",
       "  .ansiout {\n",
       "    display: block;\n",
       "    unicode-bidi: embed;\n",
       "    white-space: pre-wrap;\n",
       "    word-wrap: break-word;\n",
       "    word-break: break-all;\n",
       "    font-family: \"Menlo\", \"Monaco\", \"Consolas\", \"Ubuntu Mono\", \"Source Code Pro\", monospace;\n",
       "    font-size: 13px;\n",
       "    color: #555;\n",
       "    margin-left: 4px;\n",
       "    line-height: 19px;\n",
       "  }\n",
       "</style>\n",
       "<div class=\"ansiout\"></div>"
      ]
     },
     "metadata": {
      "application/vnd.databricks.v1+output": {
       "addedWidgets": {},
       "arguments": {},
       "data": "<div class=\"ansiout\"></div>",
       "datasetInfos": [],
       "metadata": {},
       "removedWidgets": [],
       "type": "html"
      }
     },
     "output_type": "display_data"
    }
   ],
   "source": [
    "source_events_df.write.format(\"delta\").save(\"/mnt/da-global-raw-box/POC/MultiTouch\")"
   ]
  }
 ],
 "metadata": {
  "application/vnd.databricks.v1+notebook": {
   "dashboards": [],
   "language": "python",
   "notebookMetadata": {
    "pythonIndentUnit": 2
   },
   "notebookName": "01_GenerateTestData",
   "widgets": {}
  }
 },
 "nbformat": 4,
 "nbformat_minor": 0
}
